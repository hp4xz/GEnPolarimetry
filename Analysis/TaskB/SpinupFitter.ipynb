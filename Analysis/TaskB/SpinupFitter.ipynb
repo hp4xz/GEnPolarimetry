{
 "cells": [
  {
   "cell_type": "code",
   "execution_count": 1,
   "id": "7dd779db",
   "metadata": {},
   "outputs": [],
   "source": [
    "import sys\n",
    "import os\n",
    "sys.path.append(sys.path[0]+'/../../')\n",
    "from functions import *\n",
    "import numpy as np\n",
    "import pandas as pd\n",
    "import os\n",
    "import matplotlib.pyplot as plt\n",
    "from scipy.optimize import curve_fit\n",
    "from math import *\n",
    "from datetime import datetime\n",
    "import datetime as dt\n",
    "from brokenaxes import brokenaxes\n",
    "from matplotlib.dates import DateFormatter, DayLocator\n",
    "errors=np.load(sys.path[0]+'/../NMRDataFits/FitsInRangeErrors.npy')\n",
    "\n",
    "Hsorted_dates21p2=np.load('H2SortedDatesCorrected1p2.npy',allow_pickle=True)\n",
    "H21p2=np.load('H2CorrectedDSNMR1p2.npy',allow_pickle=True)\n",
    "\n",
    "Hsorted_dates25=np.load('H2SortedDatesCorrected5.npy',allow_pickle=True)\n",
    "H25=np.load('H2CorrectedDSNMR5.npy',allow_pickle=True)\n",
    "\n",
    "Wsorted_dates=np.load('WSortedDatesCorrected.npy',allow_pickle=True)\n",
    "W=np.load('WCorrectedDSNMR.npy',allow_pickle=True)\n",
    "\n",
    "Hsorted_dates=np.load('H3SortedDatesCorrected.npy',allow_pickle=True)\n",
    "H=np.load('H3CorrectedDSNMR.npy',allow_pickle=True)\n",
    "\n",
    "Fsorted_dates=np.load('FSortedDatesCorrected.npy',allow_pickle=True)\n",
    "F=np.load('FCorrectedDSNMR.npy',allow_pickle=True)\n",
    "\n",
    "Dsorted_dates=np.load('DSortedDatesCorrected.npy',allow_pickle=True)\n",
    "D=np.load('DCorrectedDSNMR.npy',allow_pickle=True)\n",
    "\n",
    "Csorted_dates=np.load('CSortedDatesCorrected.npy',allow_pickle=True)\n",
    "C=np.load('CCorrectedDSNMR.npy',allow_pickle=True)"
   ]
  },
  {
   "cell_type": "code",
   "execution_count": 2,
   "id": "eeb406c3",
   "metadata": {},
   "outputs": [],
   "source": [
    "def Spinup(t, P_0, P_inf, g_sc):\n",
    "    import numpy as np\n",
    "    return ((P_0 - P_inf)*np.exp(-1.0*g_sc*t) + P_inf)\n",
    "\n",
    "def Fit(test,time):\n",
    "    import matplotlib.pyplot as plt\n",
    "    import numpy as np\n",
    "    from scipy.optimize import curve_fit\n",
    "    timeFit=np.linspace(time[0],time[len(time)-1],len(time)*200)\n",
    "    init_vals = [test[0], test[ len(test)-1 ], 3.0] # [P_0, P_inf, g_sc]\n",
    "    best_vals, covar = curve_fit(Spinup, time, test, p0=init_vals)\n",
    "    yFit = Spinup(time, best_vals[0], best_vals[1], best_vals[2])\n",
    "    yFitLine = Spinup(timeFit, best_vals[0], best_vals[1], best_vals[2])\n",
    "    P_0 = str(np.round(best_vals[0], 3)) + \" +/- \" + str(np.round(np.sqrt(abs(covar[0][0])), 3)) \n",
    "    P_inf = str(np.round(best_vals[1], 3)) + \" +/- \" + str(np.round(np.sqrt(abs(covar[1][1])), 3)) \n",
    "    T_sc = str(np.round(1.0/best_vals[2], 3)) + \" +/- \" + str(np.round(np.sqrt(abs(covar[2][2]))/( best_vals[2]*best_vals[2],3)) ) \n",
    "    print(\"P_0 = \", P_0, '\\n', \"P_inf = \", P_inf, '\\n',\"T_sc = \", T_sc)\n",
    "    return P_0,P_inf,T_sc,yFitLine,timeFit,time,test, yFit"
   ]
  },
  {
   "cell_type": "markdown",
   "id": "235e4eee",
   "metadata": {},
   "source": [
    "# Demonstrate the need for spinup fit"
   ]
  },
  {
   "cell_type": "code",
   "execution_count": null,
   "id": "6b4d5af2",
   "metadata": {},
   "outputs": [],
   "source": []
  }
 ],
 "metadata": {
  "kernelspec": {
   "display_name": "Python 3 (ipykernel)",
   "language": "python",
   "name": "python3"
  },
  "language_info": {
   "codemirror_mode": {
    "name": "ipython",
    "version": 3
   },
   "file_extension": ".py",
   "mimetype": "text/x-python",
   "name": "python",
   "nbconvert_exporter": "python",
   "pygments_lexer": "ipython3",
   "version": "3.8.10"
  }
 },
 "nbformat": 4,
 "nbformat_minor": 5
}
