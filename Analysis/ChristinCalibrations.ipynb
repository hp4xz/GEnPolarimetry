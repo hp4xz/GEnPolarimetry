{
 "cells": [
  {
   "cell_type": "code",
   "execution_count": 42,
   "id": "9a88bfc7",
   "metadata": {},
   "outputs": [],
   "source": [
    "from functions import *\n",
    "import numpy as np\n",
    "import os\n",
    "import matplotlib.pyplot as plt\n",
    "from scipy.optimize import curve_fit\n",
    "from math import *"
   ]
  },
  {
   "cell_type": "code",
   "execution_count": 43,
   "id": "d2c0346a",
   "metadata": {},
   "outputs": [
    {
     "name": "stdout",
     "output_type": "stream",
     "text": [
      "Format: tc1,tc2,tc3,tc4,pc1,pc2,tt1,tt2\n"
     ]
    }
   ],
   "source": [
    "tempData=LoadEpics()\n",
    "tc1,tc2,tc3,tc4,pc1,pc2,tt1,tt2=tempData\n",
    "tempData=\"none\""
   ]
  },
  {
   "cell_type": "markdown",
   "id": "9b28fa26",
   "metadata": {},
   "source": [
    "# First Calibration \n"
   ]
  },
  {
   "cell_type": "code",
   "execution_count": 44,
   "id": "cf4d121c",
   "metadata": {},
   "outputs": [
    {
     "name": "stdout",
     "output_type": "stream",
     "text": [
      " Front shift is:  18.26 kHz \n",
      " Back shift is:  17.53 kHz\n",
      " Format of output is: EPR date, pc_const, us_const, ds_const\n"
     ]
    },
    {
     "data": {
      "text/plain": [
       "(10111901, 1.6937, 5.6949, 0.9329, 0, 0)"
      ]
     },
     "execution_count": 44,
     "metadata": {},
     "output_type": "execute_result"
    }
   ],
   "source": [
    "#1 10111901.dat\n",
    "#NMR Before: 20231011190027\n",
    "#NMR After: 20231011190216\n",
    "christin_calibration1=Calibrate('EPRData/10111901.dat',20231011190027,20231011190216,.680,tempData)\n",
    "christin_calibration1"
   ]
  },
  {
   "cell_type": "code",
   "execution_count": 45,
   "id": "926ef33b",
   "metadata": {},
   "outputs": [
    {
     "data": {
      "text/plain": [
       "0.83961"
      ]
     },
     "execution_count": 45,
     "metadata": {},
     "output_type": "execute_result"
    }
   ],
   "source": [
    ".9329*.9\n"
   ]
  },
  {
   "cell_type": "code",
   "execution_count": 46,
   "id": "fa64e348",
   "metadata": {},
   "outputs": [
    {
     "data": {
      "text/plain": [
       "1.52433"
      ]
     },
     "execution_count": 46,
     "metadata": {},
     "output_type": "execute_result"
    }
   ],
   "source": [
    "1.6937*.9"
   ]
  },
  {
   "cell_type": "markdown",
   "id": "863a3741",
   "metadata": {},
   "source": [
    "# Second Calibration "
   ]
  },
  {
   "cell_type": "code",
   "execution_count": 47,
   "id": "fcbd4d07",
   "metadata": {},
   "outputs": [
    {
     "name": "stdout",
     "output_type": "stream",
     "text": [
      " Front shift is:  44.25 kHz \n",
      " Back shift is:  42.66 kHz\n",
      " Format of output is: EPR date, pc_const, us_const, ds_const\n"
     ]
    },
    {
     "data": {
      "text/plain": [
       "(10121025, 1.6638, 5.4256, 0.8667, 0, 0)"
      ]
     },
     "execution_count": 47,
     "metadata": {},
     "output_type": "execute_result"
    }
   ],
   "source": [
    "#2 10121025.dat\n",
    "#NMR Before: 20231012102413\n",
    "#NMR After: 20231012102725\n",
    "christin_calibration2=Calibrate('EPRData/10121025.dat',20231012102413,20231012102725,.680,tempData)\n",
    "christin_calibration2"
   ]
  },
  {
   "cell_type": "code",
   "execution_count": 48,
   "id": "b4aba582",
   "metadata": {},
   "outputs": [
    {
     "data": {
      "text/plain": [
       "0.78003"
      ]
     },
     "execution_count": 48,
     "metadata": {},
     "output_type": "execute_result"
    }
   ],
   "source": [
    ".8667*.9"
   ]
  },
  {
   "cell_type": "markdown",
   "id": "4cc932bc",
   "metadata": {},
   "source": [
    "# Third "
   ]
  },
  {
   "cell_type": "code",
   "execution_count": 49,
   "id": "c95272f5",
   "metadata": {},
   "outputs": [
    {
     "name": "stdout",
     "output_type": "stream",
     "text": [
      " Front shift is:  40.89 kHz \n",
      " Back shift is:  39.36 kHz\n",
      " Format of output is: EPR date, pc_const, us_const, ds_const\n"
     ]
    },
    {
     "data": {
      "text/plain": [
       "(10121044, 1.6472, 5.3949, 0.8901, 0, 0)"
      ]
     },
     "execution_count": 49,
     "metadata": {},
     "output_type": "execute_result"
    }
   ],
   "source": [
    "#3 10121044.dat\n",
    "#NMR Before: 20231012104144\n",
    "#NMR After: 20231012104536\n",
    "christin_calibration3=Calibrate('EPRData/10121044.dat',20231012104144,20231012104536,.680,tempData)\n",
    "christin_calibration3"
   ]
  },
  {
   "cell_type": "code",
   "execution_count": 50,
   "id": "c70a70c7",
   "metadata": {},
   "outputs": [
    {
     "data": {
      "text/plain": [
       "0.80109"
      ]
     },
     "execution_count": 50,
     "metadata": {},
     "output_type": "execute_result"
    }
   ],
   "source": [
    ".8901*.9"
   ]
  },
  {
   "cell_type": "code",
   "execution_count": null,
   "id": "dd7e4f40",
   "metadata": {},
   "outputs": [],
   "source": []
  },
  {
   "cell_type": "markdown",
   "id": "42972d23",
   "metadata": {},
   "source": [
    "# Maintenance Day Calibrations Convection -> 18V"
   ]
  },
  {
   "cell_type": "code",
   "execution_count": 51,
   "id": "8ec61d04",
   "metadata": {},
   "outputs": [
    {
     "name": "stdout",
     "output_type": "stream",
     "text": [
      " Front shift is:  49.5 kHz \n",
      " Back shift is:  47.17 kHz\n",
      " Format of output is: EPR date, pc_const, us_const, ds_const\n"
     ]
    },
    {
     "data": {
      "text/plain": [
       "(10180725, 1.68, 5.576, 0.8152, 0, 0)"
      ]
     },
     "execution_count": 51,
     "metadata": {},
     "output_type": "execute_result"
    }
   ],
   "source": [
    "#This one had convection on for 45 minutes before calibration. was taken shortly after turning beam off\n",
    "\n",
    "#4 10180725.dat\n",
    "#NMR Before: 20231018072420\n",
    "#NMR After: 20231018072619\n",
    "christin_calibration4=Calibrate('EPRData/10180725.dat',20231018072420,20231018072619,.680,tempData)\n",
    "christin_calibration4"
   ]
  },
  {
   "cell_type": "code",
   "execution_count": 52,
   "id": "cfe5e772",
   "metadata": {},
   "outputs": [
    {
     "name": "stdout",
     "output_type": "stream",
     "text": [
      " Front shift is:  46.19 kHz \n",
      " Back shift is:  44.05 kHz\n",
      " Format of output is: EPR date, pc_const, us_const, ds_const\n"
     ]
    },
    {
     "data": {
      "text/plain": [
       "(10180804, 1.6879, 5.6349, 0.92, 0, 0)"
      ]
     },
     "execution_count": 52,
     "metadata": {},
     "output_type": "execute_result"
    }
   ],
   "source": [
    "#5 10180804.dat\n",
    "#NMR Before: 20231018080339\n",
    "#NMR After: 20231018080527\n",
    "christin_calibration5=Calibrate('EPRData/10180804.dat',20231018080339,20231018080527,.680,tempData)\n",
    "christin_calibration5"
   ]
  },
  {
   "cell_type": "code",
   "execution_count": 53,
   "id": "809ca0b1",
   "metadata": {},
   "outputs": [
    {
     "name": "stdout",
     "output_type": "stream",
     "text": [
      " Front shift is:  43.43 kHz \n",
      " Back shift is:  41.73 kHz\n",
      " Format of output is: EPR date, pc_const, us_const, ds_const\n"
     ]
    },
    {
     "data": {
      "text/plain": [
       "(10180834, 1.7034, 5.646, 0.9317, 0, 0)"
      ]
     },
     "execution_count": 53,
     "metadata": {},
     "output_type": "execute_result"
    }
   ],
   "source": [
    "#6 10180834.dat\n",
    "#NMR Before: 20231018083355\n",
    "#NMR After: 20231018083538\n",
    "christin_calibration6=Calibrate('EPRData/10180834.dat',20231018083355,20231018083538,.680,tempData)\n",
    "christin_calibration6"
   ]
  },
  {
   "cell_type": "code",
   "execution_count": 54,
   "id": "76dc3973",
   "metadata": {},
   "outputs": [
    {
     "name": "stdout",
     "output_type": "stream",
     "text": [
      " Front shift is:  41.18 kHz \n",
      " Back shift is:  39.72 kHz\n",
      " Format of output is: EPR date, pc_const, us_const, ds_const\n"
     ]
    },
    {
     "data": {
      "text/plain": [
       "(10180907, 1.7041, 5.6562, 0.9403, 0, 0)"
      ]
     },
     "execution_count": 54,
     "metadata": {},
     "output_type": "execute_result"
    }
   ],
   "source": [
    "#7 10180907.dat\n",
    "#NMR Before: 20231018090642\n",
    "#NMR After: 20231018090828\n",
    "christin_calibration7=Calibrate('EPRData/10180907.dat',20231018090642,20231018090828,.680,tempData)\n",
    "christin_calibration7"
   ]
  },
  {
   "cell_type": "code",
   "execution_count": 57,
   "id": "2e2097c8",
   "metadata": {},
   "outputs": [],
   "source": [
    "a=christin_calibration1\n",
    "b=christin_calibration2\n",
    "c=christin_calibration3\n",
    "d=christin_calibration4\n",
    "e=christin_calibration5\n",
    "f=christin_calibration6\n",
    "g=christin_calibration7\n",
    "Cals=[a,b,c,d,e,f,g]\n",
    "\n",
    "ChristinCals=np.transpose(np.array(Cals))\n",
    "\n",
    "np.save('EPRArray/ChristinCals.npy',ChristinCals)\n",
    "\n",
    "#np.std([a[3],b[3],c[3]])/np.mean([a[3],b[3],c[3]])*100\n"
   ]
  },
  {
   "cell_type": "markdown",
   "id": "01559cd0",
   "metadata": {},
   "source": [
    "# Convection set to 0V"
   ]
  },
  {
   "cell_type": "code",
   "execution_count": null,
   "id": "2e1c86b4",
   "metadata": {},
   "outputs": [],
   "source": []
  },
  {
   "cell_type": "code",
   "execution_count": null,
   "id": "2d73d8f6",
   "metadata": {},
   "outputs": [],
   "source": []
  },
  {
   "cell_type": "code",
   "execution_count": null,
   "id": "e03f9cb9",
   "metadata": {},
   "outputs": [],
   "source": []
  },
  {
   "cell_type": "code",
   "execution_count": null,
   "id": "373cc620",
   "metadata": {},
   "outputs": [],
   "source": []
  },
  {
   "cell_type": "code",
   "execution_count": null,
   "id": "1b92c5c1",
   "metadata": {},
   "outputs": [],
   "source": []
  },
  {
   "cell_type": "code",
   "execution_count": null,
   "id": "27309ba5",
   "metadata": {},
   "outputs": [],
   "source": []
  }
 ],
 "metadata": {
  "kernelspec": {
   "display_name": "Python 3 (ipykernel)",
   "language": "python",
   "name": "python3"
  },
  "language_info": {
   "codemirror_mode": {
    "name": "ipython",
    "version": 3
   },
   "file_extension": ".py",
   "mimetype": "text/x-python",
   "name": "python",
   "nbconvert_exporter": "python",
   "pygments_lexer": "ipython3",
   "version": "3.8.10"
  }
 },
 "nbformat": 4,
 "nbformat_minor": 5
}
