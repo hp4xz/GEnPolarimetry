{
 "cells": [
  {
   "cell_type": "code",
   "execution_count": 3,
   "id": "98439373",
   "metadata": {},
   "outputs": [],
   "source": [
    "from functions import *\n",
    "import numpy as np\n",
    "import os\n",
    "import matplotlib.pyplot as plt\n",
    "from scipy.optimize import curve_fit\n",
    "from math import *"
   ]
  },
  {
   "cell_type": "code",
   "execution_count": 4,
   "id": "749644d2",
   "metadata": {},
   "outputs": [
    {
     "name": "stdout",
     "output_type": "stream",
     "text": [
      "Format: tc1,tc2,tc3,tc4,pc1,pc2,tt1,tt2\n"
     ]
    }
   ],
   "source": [
    "tempData=LoadEpics()\n",
    "tc1,tc2,tc3,tc4,pc1,pc2,tt1,tt2=tempData\n",
    "tempData=\"none\""
   ]
  },
  {
   "cell_type": "code",
   "execution_count": 5,
   "id": "28ee566f",
   "metadata": {},
   "outputs": [
    {
     "name": "stdout",
     "output_type": "stream",
     "text": [
      " Front shift is:  38.37 kHz \n",
      " Back shift is:  36.29 kHz\n",
      " Format of output is: EPR date, pc_const, us_const, ds_const\n"
     ]
    },
    {
     "name": "stderr",
     "output_type": "stream",
     "text": [
      "/home/research/.local/lib/python3.8/site-packages/numpy/lib/function_base.py:5071: VisibleDeprecationWarning: Creating an ndarray from ragged nested sequences (which is a list-or-tuple of lists-or-tuples-or ndarrays with different lengths or shapes) is deprecated. If you meant to do this, you must specify 'dtype=object' when creating the ndarray.\n",
      "  arr = asarray(arr)\n"
     ]
    }
   ],
   "source": [
    "#Fringe Calibration 1 with new settings CONVECTION 9V -------USELESS\n",
    "fringe_calibration1=Calibrate('EPRData/01200824.dat',20230125083654,20230125083905,.61886,tempData)"
   ]
  },
  {
   "cell_type": "code",
   "execution_count": 6,
   "id": "53c90418",
   "metadata": {},
   "outputs": [
    {
     "name": "stdout",
     "output_type": "stream",
     "text": [
      "23.7457 %\n",
      "22.4584 %\n",
      "Front:  1.6315\n",
      "Back:  1.6637\n",
      "Average:  1.6476\n"
     ]
    }
   ],
   "source": [
    "print(np.round(.61886* 38.37,4),\"%\")\n",
    "print(np.round(.61886*36.29,4),\"%\")\n",
    "print(\"Front: \",np.round((.61886* 38.37)/((14.692+14.4175)/2),4))\n",
    "print(\"Back: \",np.round((.61886*36.29)/((13.6966+13.3019)/2),4))\n",
    "print(\"Average: \",np.round(((.61886* 38.37)/((14.692+14.4175)/2)+(.61886*36.29)/((13.6966+13.3019)/2))/2,4))"
   ]
  },
  {
   "cell_type": "code",
   "execution_count": 7,
   "id": "80707c03",
   "metadata": {},
   "outputs": [
    {
     "data": {
      "text/plain": [
       "1.0445859872611465"
      ]
     },
     "execution_count": 7,
     "metadata": {},
     "output_type": "execute_result"
    }
   ],
   "source": [
    "1.64/1.57"
   ]
  },
  {
   "cell_type": "code",
   "execution_count": 8,
   "id": "0b4441c5",
   "metadata": {},
   "outputs": [
    {
     "name": "stdout",
     "output_type": "stream",
     "text": [
      " Front shift is:  63.81 kHz \n",
      " Back shift is:  60.58 kHz\n",
      " Format of output is: EPR date, pc_const, us_const, ds_const\n"
     ]
    }
   ],
   "source": [
    "#Fringe Calibration 2 with new settings CONVECTION 9V -------USELESS\n",
    "fringe_calibration2=Calibrate('EPRData/01250837.dat',20230125083654,20230125083905,.61886,tempData)"
   ]
  },
  {
   "cell_type": "code",
   "execution_count": 9,
   "id": "8715b46e",
   "metadata": {},
   "outputs": [
    {
     "name": "stdout",
     "output_type": "stream",
     "text": [
      "39.4895 %\n",
      "37.4905 %\n",
      "Front:  1.5378\n",
      "Back:  1.6068\n",
      "Average:  1.5723\n"
     ]
    }
   ],
   "source": [
    "print(np.round(.61886* 63.81,4),\"%\")\n",
    "print(np.round(.61886*60.58,4),\"%\")\n",
    "print(\"Front: \",np.round((.61886* 63.81)/((26.2042+25.1558)/2),4))\n",
    "print(\"Back: \",np.round((.61886*60.58)/((23.7498+22.9137)/2),4))\n",
    "print(\"Average: \",np.round(((.61886* 63.81)/((26.2042+25.1558)/2)+(.61886*60.58)/((23.7498+22.9137)/2))/2,4))"
   ]
  },
  {
   "cell_type": "code",
   "execution_count": 10,
   "id": "83aab3d3",
   "metadata": {},
   "outputs": [
    {
     "data": {
      "text/plain": [
       "(1250837, 5.2675, 0.7289, 1.7751, 0, 0)"
      ]
     },
     "execution_count": 10,
     "metadata": {},
     "output_type": "execute_result"
    }
   ],
   "source": [
    "fringe_calibration2"
   ]
  },
  {
   "cell_type": "markdown",
   "id": "17dfc653",
   "metadata": {},
   "source": [
    "# 25V Convection Calibrations Group 2 - February 1st\n"
   ]
  },
  {
   "cell_type": "markdown",
   "id": "ecf959fc",
   "metadata": {},
   "source": [
    "### 5 total"
   ]
  },
  {
   "cell_type": "code",
   "execution_count": 11,
   "id": "665a241d",
   "metadata": {},
   "outputs": [
    {
     "name": "stdout",
     "output_type": "stream",
     "text": [
      " Front shift is:  66.1 kHz \n",
      " Back shift is:  62.14 kHz\n",
      " Format of output is: EPR date, pc_const, us_const, ds_const\n"
     ]
    },
    {
     "data": {
      "text/plain": [
       "(2010843, 5.4287, 0.7322, 1.933, 0, 0)"
      ]
     },
     "execution_count": 11,
     "metadata": {},
     "output_type": "execute_result"
    }
   ],
   "source": [
    "#1 02010843\n",
    "#NMR Before: 20230201084234\n",
    "#NMR After: 20230201084431\n",
    "fringe_calibration3=Calibrate('EPRData/02010843.dat',20230201084234,20230201084431,.61886,tempData)\n",
    "fringe_calibration3"
   ]
  },
  {
   "cell_type": "code",
   "execution_count": 12,
   "id": "69744eed",
   "metadata": {},
   "outputs": [
    {
     "name": "stdout",
     "output_type": "stream",
     "text": [
      " Front shift is:  59.78 kHz \n",
      " Back shift is:  56.75 kHz\n",
      " Format of output is: EPR date, pc_const, us_const, ds_const\n"
     ]
    },
    {
     "data": {
      "text/plain": [
       "(2010924, 1.0617, 0.679, 1.9407, 0, 0)"
      ]
     },
     "execution_count": 12,
     "metadata": {},
     "output_type": "execute_result"
    }
   ],
   "source": [
    "#2 02010924\n",
    "#NMR Before: 20230201092413\n",
    "#NMR After: 20230201092557\n",
    "fringe_calibration4=Calibrate('EPRData/02010924.dat',20230201092413,20230201092557,.61886,tempData)\n",
    "fringe_calibration4"
   ]
  },
  {
   "cell_type": "code",
   "execution_count": 13,
   "id": "f5cb0a74",
   "metadata": {},
   "outputs": [
    {
     "name": "stdout",
     "output_type": "stream",
     "text": [
      " Front shift is:  55.02 kHz \n",
      " Back shift is:  51.58 kHz\n",
      " Format of output is: EPR date, pc_const, us_const, ds_const\n"
     ]
    },
    {
     "data": {
      "text/plain": [
       "(2010954, 0.9776, 0.634, 1.9484, 0, 0)"
      ]
     },
     "execution_count": 13,
     "metadata": {},
     "output_type": "execute_result"
    }
   ],
   "source": [
    "#3 02010954\n",
    "#NMR Before: 20230201095412\n",
    "#NMR After: 20230201095557\n",
    "fringe_calibration5=Calibrate('EPRData/02010954.dat',20230201095412,20230201095557,.61886,tempData)\n",
    "fringe_calibration5"
   ]
  },
  {
   "cell_type": "code",
   "execution_count": 14,
   "id": "7d0d1605",
   "metadata": {},
   "outputs": [
    {
     "name": "stdout",
     "output_type": "stream",
     "text": [
      " Front shift is:  48.08 kHz \n",
      " Back shift is:  45.16 kHz\n",
      " Format of output is: EPR date, pc_const, us_const, ds_const\n"
     ]
    },
    {
     "data": {
      "text/plain": [
       "(2011042, 5.3564, 0.5667, 1.9485, 0, 0)"
      ]
     },
     "execution_count": 14,
     "metadata": {},
     "output_type": "execute_result"
    }
   ],
   "source": [
    "#4 02011042\n",
    "#NMR Before: 20230201104141\n",
    "#NMR After: 20230201104415\n",
    "fringe_calibration6=Calibrate('EPRData/02011042.dat',20230201104141,20230201104415,.61886,tempData)\n",
    "fringe_calibration6"
   ]
  },
  {
   "cell_type": "code",
   "execution_count": 15,
   "id": "d8a2ddbd",
   "metadata": {},
   "outputs": [
    {
     "name": "stdout",
     "output_type": "stream",
     "text": [
      " Front shift is:  23.48 kHz \n",
      " Back shift is:  21.72 kHz\n",
      " Format of output is: EPR date, pc_const, us_const, ds_const\n"
     ]
    },
    {
     "data": {
      "text/plain": [
       "(2011216, 5.4457, 0.2907, 1.9796, 0, 0)"
      ]
     },
     "execution_count": 15,
     "metadata": {},
     "output_type": "execute_result"
    }
   ],
   "source": [
    "#5 02011216\n",
    "#NMR Before: 20230201121558\n",
    "#NMR After: 20230201121811\n",
    "fringe_calibration7=Calibrate('EPRData/02011216.dat',20230201121558,20230201121811,.61886,tempData)\n",
    "fringe_calibration7"
   ]
  },
  {
   "cell_type": "code",
   "execution_count": 16,
   "id": "91d8f00c",
   "metadata": {},
   "outputs": [
    {
     "name": "stdout",
     "output_type": "stream",
     "text": [
      "[1.933  1.9407 1.9484 1.9485 1.9796]\n",
      "1.95 +/ 0.8129 %\n"
     ]
    }
   ],
   "source": [
    "CalGroup2=np.array([fringe_calibration3[3],fringe_calibration4[3],fringe_calibration5[3],fringe_calibration6[3],fringe_calibration7[3]])\n",
    "print(CalGroup2)\n",
    "print(np.round(np.mean(CalGroup2),4),'+/',np.round(100*np.std(CalGroup2)/np.mean(CalGroup2),4),\"%\")"
   ]
  },
  {
   "cell_type": "code",
   "execution_count": 17,
   "id": "128fe147",
   "metadata": {},
   "outputs": [
    {
     "data": {
      "text/plain": [
       "1.7550360000000003"
      ]
     },
     "execution_count": 17,
     "metadata": {},
     "output_type": "execute_result"
    }
   ],
   "source": [
    "np.mean(CalGroup2)*.9"
   ]
  },
  {
   "cell_type": "markdown",
   "id": "fdd0bd4d",
   "metadata": {},
   "source": [
    "# 25V Convection Group 3 - February 6th"
   ]
  },
  {
   "cell_type": "markdown",
   "id": "93807a38",
   "metadata": {},
   "source": [
    "### 3 total "
   ]
  },
  {
   "cell_type": "code",
   "execution_count": 18,
   "id": "8983762e",
   "metadata": {},
   "outputs": [
    {
     "name": "stdout",
     "output_type": "stream",
     "text": [
      " Front shift is:  66.8 kHz \n",
      " Back shift is:  63.17 kHz\n",
      " Format of output is: EPR date, pc_const, us_const, ds_const\n"
     ]
    },
    {
     "data": {
      "text/plain": [
       "(2061128, 5.3411, 0.7189, 1.9183, 0, 0)"
      ]
     },
     "execution_count": 18,
     "metadata": {},
     "output_type": "execute_result"
    }
   ],
   "source": [
    "#1 02061128\n",
    "#NMR Before: 20230206112738\n",
    "#NMR After: 20230206112928\n",
    "fringe_calibration8=Calibrate('EPRData/02061128.dat',20230206112738,20230206112928,.61886,tempData)\n",
    "fringe_calibration8"
   ]
  },
  {
   "cell_type": "code",
   "execution_count": 19,
   "id": "614bb2a5",
   "metadata": {},
   "outputs": [
    {
     "name": "stdout",
     "output_type": "stream",
     "text": [
      " Front shift is:  59.68 kHz \n",
      " Back shift is:  55.97 kHz\n",
      " Format of output is: EPR date, pc_const, us_const, ds_const\n"
     ]
    },
    {
     "data": {
      "text/plain": [
       "(2061148, 5.1904, 0.6556, 1.8981, 0, 0)"
      ]
     },
     "execution_count": 19,
     "metadata": {},
     "output_type": "execute_result"
    }
   ],
   "source": [
    "#2 02061148\n",
    "#NMR Before: 20230206114748\n",
    "#NMR After: 20230206115014\n",
    "fringe_calibration9=Calibrate('EPRData/02061148.dat',20230206114748,20230206115014,.61886,tempData)\n",
    "fringe_calibration9"
   ]
  },
  {
   "cell_type": "code",
   "execution_count": 20,
   "id": "f76dd50c",
   "metadata": {},
   "outputs": [
    {
     "name": "stdout",
     "output_type": "stream",
     "text": [
      " Front shift is:  55.37 kHz \n",
      " Back shift is:  52.42 kHz\n",
      " Format of output is: EPR date, pc_const, us_const, ds_const\n"
     ]
    },
    {
     "data": {
      "text/plain": [
       "(2061219, 5.2021, 0.6212, 1.9047, 0, 0)"
      ]
     },
     "execution_count": 20,
     "metadata": {},
     "output_type": "execute_result"
    }
   ],
   "source": [
    "#3 02061219\n",
    "#NMR Before: 20230206121907\n",
    "#NMR After: 20230206122120\n",
    "fringe_calibration10=Calibrate('EPRData/02061219.dat',20230206121907,20230206122120,.61886,tempData)\n",
    "fringe_calibration10"
   ]
  },
  {
   "cell_type": "code",
   "execution_count": 21,
   "id": "4aaa8063",
   "metadata": {},
   "outputs": [
    {
     "name": "stdout",
     "output_type": "stream",
     "text": [
      "[1.9183 1.8981 1.9047]\n",
      "1.907 +/ 0.441 %\n"
     ]
    }
   ],
   "source": [
    "CalGroup3=np.array([fringe_calibration8[3],fringe_calibration9[3],fringe_calibration10[3]])\n",
    "print(CalGroup3)\n",
    "print(np.round(np.mean(CalGroup3),4),'+/',np.round(100*np.std(CalGroup3)/np.mean(CalGroup3),4),\"%\")"
   ]
  },
  {
   "cell_type": "code",
   "execution_count": 22,
   "id": "aceee4a3",
   "metadata": {},
   "outputs": [
    {
     "data": {
      "text/plain": [
       "1.7163000000000002"
      ]
     },
     "execution_count": 22,
     "metadata": {},
     "output_type": "execute_result"
    }
   ],
   "source": [
    "1.907*.9"
   ]
  },
  {
   "cell_type": "markdown",
   "id": "35cc0b5b",
   "metadata": {},
   "source": [
    "# 25V Convection Group 4"
   ]
  },
  {
   "cell_type": "code",
   "execution_count": 23,
   "id": "b7b2a31e",
   "metadata": {},
   "outputs": [
    {
     "name": "stdout",
     "output_type": "stream",
     "text": [
      " Front shift is:  71.45 kHz \n",
      " Back shift is:  67.8 kHz\n",
      " Format of output is: EPR date, pc_const, us_const, ds_const\n"
     ]
    },
    {
     "data": {
      "text/plain": [
       "(2270844, 3.1577, 0.7612, 1.8015, 0, 0)"
      ]
     },
     "execution_count": 23,
     "metadata": {},
     "output_type": "execute_result"
    }
   ],
   "source": [
    "#1 02270844\n",
    "#NMR Before: 20230227084349\n",
    "#NMR After: 20230227084600\n",
    "\n",
    "fringe_calibration11=Calibrate('EPRData/02270844.dat',20230227084349,20230227084600,.61886,tempData)\n",
    "fringe_calibration11"
   ]
  },
  {
   "cell_type": "code",
   "execution_count": 24,
   "id": "b546db3f",
   "metadata": {},
   "outputs": [
    {
     "name": "stdout",
     "output_type": "stream",
     "text": [
      " Front shift is:  63.43 kHz \n",
      " Back shift is:  59.6 kHz\n",
      " Format of output is: EPR date, pc_const, us_const, ds_const\n"
     ]
    },
    {
     "data": {
      "text/plain": [
       "(2270910, 5.1756, 0.6857, 1.8967, 0, 0)"
      ]
     },
     "execution_count": 24,
     "metadata": {},
     "output_type": "execute_result"
    }
   ],
   "source": [
    "#2 02270910\n",
    "#NMR Before: 20230227090927\n",
    "#NMR After: 20230227091141\n",
    "\n",
    "fringe_calibration12=Calibrate('EPRData/02270910.dat',20230227090927,20230227091141,.61886,tempData)\n",
    "fringe_calibration12"
   ]
  },
  {
   "cell_type": "code",
   "execution_count": 25,
   "id": "b4747306",
   "metadata": {},
   "outputs": [
    {
     "name": "stdout",
     "output_type": "stream",
     "text": [
      " Front shift is:  57.76 kHz \n",
      " Back shift is:  54.4 kHz\n",
      " Format of output is: EPR date, pc_const, us_const, ds_const\n"
     ]
    },
    {
     "data": {
      "text/plain": [
       "(2270954, 5.2191, 0.6345, 1.9269, 0, 0)"
      ]
     },
     "execution_count": 25,
     "metadata": {},
     "output_type": "execute_result"
    }
   ],
   "source": [
    "#3 02270954\n",
    "#NMR Before: 20230227095356\n",
    "#NMR After: 20230227095619\n",
    "\n",
    "fringe_calibration13=Calibrate('EPRData/02270954.dat',20230227095356,20230227095619,.61886,tempData)\n",
    "fringe_calibration13"
   ]
  },
  {
   "cell_type": "code",
   "execution_count": 26,
   "id": "c2b712f5",
   "metadata": {},
   "outputs": [
    {
     "name": "stdout",
     "output_type": "stream",
     "text": [
      " Front shift is:  53.44 kHz \n",
      " Back shift is:  50.57 kHz\n",
      " Format of output is: EPR date, pc_const, us_const, ds_const\n"
     ]
    },
    {
     "data": {
      "text/plain": [
       "(2271040, 5.2504, 0.5944, 1.9302, 0, 0)"
      ]
     },
     "execution_count": 26,
     "metadata": {},
     "output_type": "execute_result"
    }
   ],
   "source": [
    "#4 02271040\n",
    "#NMR Before: 20230227103941\n",
    "#NMR After: 20230227104206\n",
    "\n",
    "fringe_calibration14=Calibrate('EPRData/02271040.dat',20230227103941,20230227104206,.61886,tempData)\n",
    "fringe_calibration14"
   ]
  },
  {
   "cell_type": "code",
   "execution_count": 27,
   "id": "010770f8",
   "metadata": {},
   "outputs": [
    {
     "name": "stdout",
     "output_type": "stream",
     "text": [
      "[1.8015 1.8967 1.9269 1.9302]\n",
      "1.8888 +/ 2.7309 %\n"
     ]
    }
   ],
   "source": [
    "CalGroup4=np.array([fringe_calibration11[3],fringe_calibration12[3],fringe_calibration13[3],fringe_calibration14[3]])\n",
    "print(CalGroup4)\n",
    "print(np.round(np.mean(CalGroup4),4),'+/',np.round(100*np.std(CalGroup4)/np.mean(CalGroup3),4),\"%\")"
   ]
  },
  {
   "cell_type": "markdown",
   "id": "adfad950",
   "metadata": {},
   "source": [
    "# All Groups\n"
   ]
  },
  {
   "cell_type": "code",
   "execution_count": 28,
   "id": "182ecea8",
   "metadata": {},
   "outputs": [],
   "source": [
    "AllCals=np.append(np.append(CalGroup2,CalGroup3),CalGroup4)"
   ]
  },
  {
   "cell_type": "code",
   "execution_count": 29,
   "id": "ac3acfd8",
   "metadata": {},
   "outputs": [
    {
     "name": "stdout",
     "output_type": "stream",
     "text": [
      "Total Calibrations:  12\n",
      "[1.933  1.9407 1.9484 1.9485 1.9796 1.9183 1.8981 1.9047 1.8015 1.8967\n",
      " 1.9269 1.9302]\n",
      "1.9189 +/ 0.042       Percent Error:  2.2044 %\n"
     ]
    }
   ],
   "source": [
    "print(\"Total Calibrations: \",len(AllCals))\n",
    "print(AllCals)\n",
    "print(np.round(np.mean(AllCals),4),'+/',np.round(np.std(AllCals),4),\"      Percent Error: \",np.round(100*np.std(AllCals)/np.mean(CalGroup3),4),\"%\")"
   ]
  },
  {
   "cell_type": "code",
   "execution_count": 30,
   "id": "3254b260",
   "metadata": {},
   "outputs": [
    {
     "data": {
      "text/plain": [
       "(array([1., 0., 0., 0., 0., 3., 1., 4., 2., 1.]),\n",
       " array([1.8015 , 1.81931, 1.83712, 1.85493, 1.87274, 1.89055, 1.90836,\n",
       "        1.92617, 1.94398, 1.96179, 1.9796 ]),\n",
       " <BarContainer object of 10 artists>)"
      ]
     },
     "execution_count": 30,
     "metadata": {},
     "output_type": "execute_result"
    },
    {
     "data": {
      "image/png": "[encoded data removed]",
      "text/plain": [
       "<Figure size 640x480 with 1 Axes>"
      ]
     },
     "metadata": {},
     "output_type": "display_data"
    }
   ],
   "source": [
    "plt.hist(AllCals)"
   ]
  },
  {
   "cell_type": "code",
   "execution_count": 31,
   "id": "c77172e2",
   "metadata": {},
   "outputs": [],
   "source": [
    "a=fringe_calibration1\n",
    "b=fringe_calibration2\n",
    "c=fringe_calibration3\n",
    "d=fringe_calibration4\n",
    "e=fringe_calibration5\n",
    "f=fringe_calibration6\n",
    "g=fringe_calibration7\n",
    "h=fringe_calibration8\n",
    "i=fringe_calibration9\n",
    "j=fringe_calibration10\n",
    "k=fringe_calibration11\n",
    "l=fringe_calibration12\n",
    "m=fringe_calibration13\n",
    "n=fringe_calibration14\n",
    "Cals=[c,d,e,f,g,h,i,j,k,l,m,n]\n",
    "\n",
    "FringeCals=np.transpose(np.array(Cals))\n"
   ]
  },
  {
   "cell_type": "code",
   "execution_count": 33,
   "id": "0cd99f34",
   "metadata": {},
   "outputs": [
    {
     "data": {
      "text/plain": [
       "array([2010843., 2010924., 2010954., 2011042., 2011216., 2061128.,\n",
       "       2061148., 2061219., 2270844., 2270910., 2270954., 2271040.])"
      ]
     },
     "execution_count": 33,
     "metadata": {},
     "output_type": "execute_result"
    }
   ],
   "source": [
    "FringeCals[0]"
   ]
  },
  {
   "cell_type": "code",
   "execution_count": 34,
   "id": "30dd2054",
   "metadata": {},
   "outputs": [
    {
     "data": {
      "text/plain": [
       "(2010843, 5.4287, 0.7322, 1.933, 0, 0)"
      ]
     },
     "execution_count": 34,
     "metadata": {},
     "output_type": "execute_result"
    }
   ],
   "source": [
    "Cals[0]"
   ]
  },
  {
   "cell_type": "code",
   "execution_count": 35,
   "id": "b9e4bc7a",
   "metadata": {},
   "outputs": [],
   "source": [
    "np.save('EPRArray/FringeCals.npy',FringeCals)"
   ]
  },
  {
   "cell_type": "code",
   "execution_count": null,
   "id": "de2ae2fe",
   "metadata": {},
   "outputs": [],
   "source": []
  }
 ],
 "metadata": {
  "kernelspec": {
   "display_name": "Python 3 (ipykernel)",
   "language": "python",
   "name": "python3"
  },
  "language_info": {
   "codemirror_mode": {
    "name": "ipython",
    "version": 3
   },
   "file_extension": ".py",
   "mimetype": "text/x-python",
   "name": "python",
   "nbconvert_exporter": "python",
   "pygments_lexer": "ipython3",
   "version": "3.8.10"
  }
 },
 "nbformat": 4,
 "nbformat_minor": 5
}
