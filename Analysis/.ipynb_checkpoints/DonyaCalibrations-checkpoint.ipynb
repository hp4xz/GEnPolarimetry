{
 "cells": [
  {
   "cell_type": "code",
   "execution_count": 19,
   "id": "9a88bfc7",
   "metadata": {},
   "outputs": [],
   "source": [
    "from functions import *\n",
    "import numpy as np\n",
    "import os\n",
    "import matplotlib.pyplot as plt\n",
    "from scipy.optimize import curve_fit\n",
    "from math import *"
   ]
  },
  {
   "cell_type": "code",
   "execution_count": 20,
   "id": "d2c0346a",
   "metadata": {},
   "outputs": [
    {
     "name": "stdout",
     "output_type": "stream",
     "text": [
      "Format: tc1,tc2,tc3,tc4,pc1,pc2,tt1,tt2\n"
     ]
    }
   ],
   "source": [
    "tempData=LoadEpics()\n",
    "tc1,tc2,tc3,tc4,pc1,pc2,tt1,tt2=tempData\n",
    "tempData=\"none\""
   ]
  },
  {
   "cell_type": "markdown",
   "id": "9b28fa26",
   "metadata": {},
   "source": [
    "# First Calibration 09/13 (Before swapping function generator and passing signal through attenuator)\n"
   ]
  },
  {
   "cell_type": "code",
   "execution_count": 21,
   "id": "cf4d121c",
   "metadata": {},
   "outputs": [
    {
     "name": "stdout",
     "output_type": "stream",
     "text": [
      " Front shift is:  29.64 kHz \n",
      " Back shift is:  26.02 kHz\n",
      " Format of output is: EPR date, pc_const, us_const, ds_const\n"
     ]
    },
    {
     "data": {
      "text/plain": [
       "(9131431, 0.7204, 2.022, 1.2758, 0, 0)"
      ]
     },
     "execution_count": 21,
     "metadata": {},
     "output_type": "execute_result"
    }
   ],
   "source": [
    "#1 09131431.dat\n",
    "#NMR Before: 20230913143239\n",
    "#NMR After: 20230913143033\n",
    "donya_calibration1=Calibrate('EPRData/09131431.dat',20230913143239,20230913143033,.7059,tempData)\n",
    "donya_calibration1"
   ]
  },
  {
   "cell_type": "code",
   "execution_count": 22,
   "id": "926ef33b",
   "metadata": {},
   "outputs": [
    {
     "data": {
      "text/plain": [
       "1.14822"
      ]
     },
     "execution_count": 22,
     "metadata": {},
     "output_type": "execute_result"
    }
   ],
   "source": [
    "1.2758*.9\n"
   ]
  },
  {
   "cell_type": "markdown",
   "id": "863a3741",
   "metadata": {},
   "source": [
    "# Second Calibration (Bill's measurment, after signal passed through attenuator) 09/22"
   ]
  },
  {
   "cell_type": "code",
   "execution_count": 23,
   "id": "fcbd4d07",
   "metadata": {},
   "outputs": [
    {
     "name": "stdout",
     "output_type": "stream",
     "text": [
      " Front shift is:  43.5 kHz \n",
      " Back shift is:  41.17 kHz\n",
      " Format of output is: EPR date, pc_const, us_const, ds_const\n"
     ]
    },
    {
     "data": {
      "text/plain": [
       "(9221110, 2.1981, 1.5086, 1.2802, 0, 0)"
      ]
     },
     "execution_count": 23,
     "metadata": {},
     "output_type": "execute_result"
    }
   ],
   "source": [
    "#1 09221110.dat\n",
    "#NMR Before: 20230922111153\n",
    "#NMR After: 20230922111413\n",
    "donya_calibration2=Calibrate('EPRData/09221110.dat',20230922111153,20230922111413,.7059,tempData)\n",
    "donya_calibration2"
   ]
  },
  {
   "cell_type": "markdown",
   "id": "4cc932bc",
   "metadata": {},
   "source": [
    "# Third and Fourth Calibrations 09/29"
   ]
  },
  {
   "cell_type": "code",
   "execution_count": 24,
   "id": "c95272f5",
   "metadata": {},
   "outputs": [
    {
     "name": "stdout",
     "output_type": "stream",
     "text": [
      " Front shift is:  51.67 kHz \n",
      " Back shift is:  48.46 kHz\n",
      " Format of output is: EPR date, pc_const, us_const, ds_const\n"
     ]
    },
    {
     "data": {
      "text/plain": [
       "(9290411, 2.3982, 1.611, 1.3499, 0, 0)"
      ]
     },
     "execution_count": 24,
     "metadata": {},
     "output_type": "execute_result"
    }
   ],
   "source": [
    "#1 09290411.dat\n",
    "#NMR Before: 20230929045106\n",
    "#NMR After: 20230929041256\n",
    "donya_calibration3=Calibrate('EPRData/09290411.dat',20230929045106,20230929041256,.7059,tempData)\n",
    "donya_calibration3"
   ]
  },
  {
   "cell_type": "code",
   "execution_count": 25,
   "id": "7c0e59c7",
   "metadata": {},
   "outputs": [
    {
     "name": "stdout",
     "output_type": "stream",
     "text": [
      " Front shift is:  46.35 kHz \n",
      " Back shift is:  43.65 kHz\n",
      " Format of output is: EPR date, pc_const, us_const, ds_const\n"
     ]
    },
    {
     "data": {
      "text/plain": [
       "(9290449, 2.1564, 1.4581, 1.2495, 0, 0)"
      ]
     },
     "execution_count": 25,
     "metadata": {},
     "output_type": "execute_result"
    }
   ],
   "source": [
    "#1 09290449.dat\n",
    "#NMR Before: 20230929044904\n",
    "#NMR After: 20230929045106\n",
    "donya_calibration4=Calibrate('EPRData/09290449.dat',20230929044904,20230929045106,.7059,tempData)\n",
    "donya_calibration4"
   ]
  },
  {
   "cell_type": "code",
   "execution_count": 26,
   "id": "dd7e4f40",
   "metadata": {},
   "outputs": [],
   "source": [
    "a=donya_calibration1\n",
    "b=donya_calibration2\n",
    "c=donya_calibration3\n",
    "d=donya_calibration4\n",
    "\n",
    "\n",
    "Cals=[b,c,d]\n",
    "\n",
    "DonyaCals=np.transpose(np.array(Cals))"
   ]
  },
  {
   "cell_type": "code",
   "execution_count": 27,
   "id": "eda17149",
   "metadata": {},
   "outputs": [
    {
     "data": {
      "text/plain": [
       "2.8824563257250535"
      ]
     },
     "execution_count": 27,
     "metadata": {},
     "output_type": "execute_result"
    }
   ],
   "source": [
    "np.std([a[3],b[3],c[3],d[3]])/np.mean([a[3],b[3],c[3],d[3]])*100"
   ]
  },
  {
   "cell_type": "code",
   "execution_count": 28,
   "id": "2f29c63b",
   "metadata": {},
   "outputs": [],
   "source": [
    "np.save('EPRArray/DonyaCals.npy',DonyaCals)"
   ]
  },
  {
   "cell_type": "code",
   "execution_count": null,
   "id": "b4eee54d",
   "metadata": {},
   "outputs": [],
   "source": []
  }
 ],
 "metadata": {
  "kernelspec": {
   "display_name": "Python 3 (ipykernel)",
   "language": "python",
   "name": "python3"
  },
  "language_info": {
   "codemirror_mode": {
    "name": "ipython",
    "version": 3
   },
   "file_extension": ".py",
   "mimetype": "text/x-python",
   "name": "python",
   "nbconvert_exporter": "python",
   "pygments_lexer": "ipython3",
   "version": "3.8.10"
  }
 },
 "nbformat": 4,
 "nbformat_minor": 5
}
