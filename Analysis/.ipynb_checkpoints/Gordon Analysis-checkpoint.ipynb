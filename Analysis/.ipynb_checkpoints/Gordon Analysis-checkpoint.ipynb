{
 "cells": [
  {
   "cell_type": "code",
   "execution_count": 5,
   "id": "5ea2c204",
   "metadata": {},
   "outputs": [],
   "source": [
    "from functions import *\n",
    "import numpy as np\n",
    "import os\n",
    "import matplotlib.pyplot as plt\n",
    "from scipy.optimize import curve_fit\n",
    "from math import *\n",
    "from datetime import datetime"
   ]
  },
  {
   "cell_type": "code",
   "execution_count": 6,
   "id": "9cf404e3",
   "metadata": {},
   "outputs": [
    {
     "name": "stdout",
     "output_type": "stream",
     "text": [
      "41 41\n",
      "41 41\n"
     ]
    },
    {
     "data": {
      "image/png": "[encoded data removed]",
      "text/plain": [
       "<Figure size 640x480 with 1 Axes>"
      ]
     },
     "metadata": {},
     "output_type": "display_data"
    }
   ],
   "source": [
    "newCalibrations=np.load('EPRArray/EPRCalibrationsV3.npy',allow_pickle=True)\n",
    "fits=np.load('NMRDataFits/FitsInRange.npy')\n",
    "settings=np.load('NMRDataSettings/SettingsInRange.npy')\n",
    "indicesInRange,datesInRange = DatesInRange('20211214_150000','20221216_120200')\n",
    "\n",
    "pc=np.empty(0)\n",
    "us=np.empty(0)\n",
    "ds=np.empty(0)\n",
    "\n",
    "for i in range(0,len(newCalibrations)):\n",
    "    pc=np.append(pc,newCalibrations[i][1]*.9)\n",
    "    us=np.append(us,newCalibrations[i][2]*.9)\n",
    "    ds=np.append(ds,newCalibrations[i][3]*.9)\n",
    "\n",
    "#using the correct %/khz value for each cell\n",
    "us=us*.6401/.6604\n",
    "us[32:38]*=.6604/.6401\n",
    "ds=ds*.6401/.6604\n",
    "ds[32:38]*=.6604/.6401\n",
    "pc=pc*.6401/.6604\n",
    "pc[32:38]*=.6604/.6401\n",
    "print(len(ds),len(us))\n",
    "x=np.where(us!=0)\n",
    "# us=us[np.where(us!=0)]\n",
    "# ds=ds[np.where(ds!=0)]\n",
    "# pc=pc[np.where(pc!=0)]\n",
    "\n",
    "# print(len(ds),len(us))\n",
    "\n",
    "\n",
    "# u, i = np.unique(pc, return_index=True)\n",
    "# si = np.sort(i)\n",
    "# pc = pc[si]\n",
    "\n",
    "# u, i = np.unique(ds, return_index=True)\n",
    "# si = np.sort(i)\n",
    "# ds = ds[si]\n",
    "\n",
    "# u, i = np.unique(us, return_index=True)\n",
    "# si = np.sort(i)\n",
    "# us = us[si]\n",
    "print(len(ds),len(us))\n",
    "\n",
    "#newCalibrations=newCalibrations[x]\n",
    "#newCalibrations=newCalibrations[si]\n",
    "binN=35\n",
    "x1,y,z=plt.hist(pc,range=(1,8),bins=binN,label='pc',alpha=.5,color='orange')\n",
    "x2,y,z=plt.hist(us,range=(1,8),bins=binN,label='us',alpha=.5,color='magenta')\n",
    "x3,y,z=plt.hist(ds,range=(1,8),bins=binN+15,label='ds',alpha=.5,color='blue')\n",
    "plt.legend(loc='upper right')\n",
    "plt.title('All Calibrations Uncorrected')\n",
    "plt.xlabel('Bins (Calibration Values)')\n",
    "\n",
    "\n",
    "hunterKin2DS=ds[:21]\n",
    "hunterKin2US=us[:21]\n",
    "hunterKin2PC=pc[:21]\n",
    "hunterKin2Calibrations=newCalibrations[:21]\n",
    "\n",
    "windmillKin3DS=ds[21:28]\n",
    "windmillKin3US=us[21:28]\n",
    "windmillKin3PC=pc[21:28]\n",
    "windmillKin3Calibrations=newCalibrations[21:28]\n",
    "\n",
    "hunterKin3DS=ds[28:]\n",
    "hunterKin3US=us[28:]\n",
    "hunterKin3PC=pc[28:]\n",
    "hunterKin3Calibrations=newCalibrations[28:]"
   ]
  },
  {
   "cell_type": "code",
   "execution_count": 7,
   "id": "1fa40c6d",
   "metadata": {},
   "outputs": [
    {
     "data": {
      "text/plain": [
       "13"
      ]
     },
     "execution_count": 7,
     "metadata": {},
     "output_type": "execute_result"
    }
   ],
   "source": [
    "len(hunterKin3DS)"
   ]
  },
  {
   "cell_type": "code",
   "execution_count": 8,
   "id": "78b79d04",
   "metadata": {},
   "outputs": [
    {
     "data": {
      "text/plain": [
       "41"
      ]
     },
     "execution_count": 8,
     "metadata": {},
     "output_type": "execute_result"
    }
   ],
   "source": [
    "len(ds)"
   ]
  },
  {
   "cell_type": "code",
   "execution_count": 9,
   "id": "cf89b61f",
   "metadata": {},
   "outputs": [
    {
     "data": {
      "text/plain": [
       "41"
      ]
     },
     "execution_count": 9,
     "metadata": {},
     "output_type": "execute_result"
    }
   ],
   "source": [
    "len(us)"
   ]
  },
  {
   "cell_type": "code",
   "execution_count": 10,
   "id": "aa3decf6",
   "metadata": {},
   "outputs": [
    {
     "data": {
      "text/plain": [
       "41"
      ]
     },
     "execution_count": 10,
     "metadata": {},
     "output_type": "execute_result"
    }
   ],
   "source": [
    "len(newCalibrations)"
   ]
  },
  {
   "cell_type": "code",
   "execution_count": 11,
   "id": "fee999d9",
   "metadata": {},
   "outputs": [
    {
     "data": {
      "text/plain": [
       "array([11030356, 6.3205, 2.0307, 1.6408,\n",
       "       array([ 16.9189,  16.9482,  33.7549,  32.1094, 249.7537, 239.562 ,\n",
       "               38.0371,  65.3516])                                       ,\n",
       "       array([ 16.9189,  16.9482,  34.2871,  32.417 , 254.0164, 241.038 ,\n",
       "               38.4961,  50.0293])                                       ],\n",
       "      dtype=object)"
      ]
     },
     "execution_count": 11,
     "metadata": {},
     "output_type": "execute_result"
    }
   ],
   "source": [
    "newCalibrations[20]"
   ]
  },
  {
   "cell_type": "code",
   "execution_count": 12,
   "id": "c0caeac2",
   "metadata": {},
   "outputs": [
    {
     "data": {
      "text/plain": [
       "array([[11030356, 6.3205, 2.0307, 1.6408,\n",
       "        array([ 16.9189,  16.9482,  33.7549,  32.1094, 249.7537, 239.562 ,\n",
       "                38.0371,  65.3516])                                       ,\n",
       "        array([ 16.9189,  16.9482,  34.2871,  32.417 , 254.0164, 241.038 ,\n",
       "                38.4961,  50.0293])                                       ]],\n",
       "      dtype=object)"
      ]
     },
     "execution_count": 12,
     "metadata": {},
     "output_type": "execute_result"
    }
   ],
   "source": [
    "newCalibrations[:21][-1:]"
   ]
  },
  {
   "cell_type": "code",
   "execution_count": 13,
   "id": "6e781a80",
   "metadata": {},
   "outputs": [
    {
     "data": {
      "text/plain": [
       "array([2.79897392, 5.17242284, 5.29611994, 6.41558738, 7.23697797,\n",
       "       6.95050317, 5.89445448, 5.95464559, 5.71876622, 5.74406394,\n",
       "       5.76020213, 7.02212187, 5.90692887, 0.        , 6.60462236,\n",
       "       0.        , 6.99289865, 6.74663849, 6.48144867, 6.7148855 ,\n",
       "       5.51359304, 5.51359304, 5.47006353, 5.45471043, 4.71226616,\n",
       "       4.81607402, 4.74899146, 4.79138694, 4.78056998, 4.74960209,\n",
       "       4.76321052, 6.6784219 , 6.86925   , 6.93459   , 6.86691   ,\n",
       "       6.83127   , 6.88878   , 6.78492   , 6.57522467, 6.62224353,\n",
       "       6.49121882])"
      ]
     },
     "execution_count": 13,
     "metadata": {},
     "output_type": "execute_result"
    }
   ],
   "source": [
    "pc"
   ]
  },
  {
   "cell_type": "code",
   "execution_count": 14,
   "id": "7618e589",
   "metadata": {},
   "outputs": [
    {
     "data": {
      "text/plain": [
       "(array([ 0, 13, 15]),)"
      ]
     },
     "execution_count": 14,
     "metadata": {},
     "output_type": "execute_result"
    }
   ],
   "source": [
    "np.where(pc<4)"
   ]
  },
  {
   "cell_type": "code",
   "execution_count": 15,
   "id": "9cb1d4cc",
   "metadata": {},
   "outputs": [
    {
     "data": {
      "text/plain": [
       "array([10201910, 3.2086, 1.4316, 1.4996,\n",
       "       array([ 32.4316,  43.6719,  43.1006,  29.4531, 251.2505, 203.511 ,\n",
       "               32.1582,  33.54  ])                                       ,\n",
       "       array([ 21.792 ,  43.6719,  43.1006,  30.0195, 248.143 , 239.684 ,\n",
       "               31.2695,  33.7305])                                       ],\n",
       "      dtype=object)"
      ]
     },
     "execution_count": 15,
     "metadata": {},
     "output_type": "execute_result"
    }
   ],
   "source": [
    "newCalibrations[0]"
   ]
  },
  {
   "cell_type": "markdown",
   "id": "878ee8d6",
   "metadata": {},
   "source": [
    "### Dates for Each Group\n"
   ]
  },
  {
   "cell_type": "raw",
   "id": "0022b5b4",
   "metadata": {},
   "source": [
    "Kin 2\n",
    "-------------------------\n",
    "Hunter - 10/20 - 11/08\n",
    "\n",
    "Kin 3\n",
    "-------------------------\n",
    "Windmill - 11/08 - 11/22\n",
    "Hunter - 11/22 - 12/14"
   ]
  },
  {
   "cell_type": "code",
   "execution_count": 16,
   "id": "ae547ea7",
   "metadata": {},
   "outputs": [],
   "source": [
    "HunterKin2Fits=np.transpose(np.load('NMRDataFits/HunterKin2.npy'))\n",
    "WindmillKin3Fits=np.transpose(np.load('NMRDataFits/Windmill.npy'))\n",
    "HunterKin3Fits=np.transpose(np.load('NMRDataFits/HunterKin3.npy'))\n"
   ]
  },
  {
   "cell_type": "code",
   "execution_count": 17,
   "id": "39c05547",
   "metadata": {},
   "outputs": [],
   "source": [
    "mySettings=settings\n",
    "dates=mySettings[:,0].astype(int).astype(str)\n",
    "date_objects = [datetime.strptime(date, \"%Y%m%d%H%M%S\") for date in dates]\n",
    "dates_array = np.array(date_objects)\n",
    "sorted_dates = np.sort(dates_array)\n",
    "index_array = [date_objects.index(date) for date in sorted_dates]\n",
    "mySettingsOrdered = np.transpose(np.take(mySettings, index_array, axis=0))"
   ]
  },
  {
   "cell_type": "code",
   "execution_count": 18,
   "id": "57450712",
   "metadata": {},
   "outputs": [],
   "source": [
    "#mySettingsOrdered[0].astype(int).astype(str)"
   ]
  },
  {
   "cell_type": "code",
   "execution_count": 19,
   "id": "a04978b4",
   "metadata": {},
   "outputs": [
    {
     "name": "stderr",
     "output_type": "stream",
     "text": [
      "/tmp/ipykernel_11887/2953280810.py:12: RuntimeWarning: invalid value encountered in divide\n",
      "  ratio3=pc/ds\n",
      "/tmp/ipykernel_11887/2953280810.py:44: RuntimeWarning: invalid value encountered in divide\n",
      "  ratio3=pc/ds\n"
     ]
    }
   ],
   "source": [
    "myFits=HunterKin2Fits\n",
    "dates=myFits[:,0].astype(int).astype(str)\n",
    "date_objects = [datetime.strptime(date, \"%Y%m%d%H%M%S\") for date in dates]\n",
    "dates_array = np.array(date_objects)\n",
    "sorted_dates = np.sort(dates_array)\n",
    "index_array = [date_objects.index(date) for date in sorted_dates]\n",
    "HunterKin2FitsOrdered = np.transpose(np.take(myFits, index_array, axis=0))\n",
    "\n",
    "pc=HunterKin2FitsOrdered[1]\n",
    "ds=HunterKin2FitsOrdered[3]\n",
    "\n",
    "ratio3=pc/ds\n",
    "indices=np.empty(0)\n",
    "junk = np.logical_or(np.isnan(ratio3), np.isinf(ratio3))\n",
    "filteredRatio3=ratio3[~junk]\n",
    "\n",
    "myFits=HunterKin3Fits\n",
    "dates=myFits[:,0].astype(int).astype(str)\n",
    "date_objects = [datetime.strptime(date, \"%Y%m%d%H%M%S\") for date in dates]\n",
    "dates_array = np.array(date_objects)\n",
    "sorted_dates = np.sort(dates_array)\n",
    "index_array = [date_objects.index(date) for date in sorted_dates]\n",
    "HunterKin3FitsOrdered = np.transpose(np.take(myFits, index_array, axis=0))\n",
    "\n",
    "pc=HunterKin3FitsOrdered[1]\n",
    "ds=HunterKin3FitsOrdered[3]\n",
    "\n",
    "ratio3=pc/ds\n",
    "indices=np.empty(0)\n",
    "junk = np.logical_or(np.isnan(ratio3), np.isinf(ratio3))\n",
    "filteredRatio3=ratio3[~junk]\n",
    "\n",
    "myFits=WindmillKin3Fits\n",
    "dates=myFits[:,0].astype(int).astype(str)\n",
    "date_objects = [datetime.strptime(date, \"%Y%m%d%H%M%S\") for date in dates]\n",
    "dates_array = np.array(date_objects)\n",
    "sorted_dates = np.sort(dates_array)\n",
    "index_array = [date_objects.index(date) for date in sorted_dates]\n",
    "WindmillKin3FitsOrdered = np.transpose(np.take(myFits, index_array, axis=0))\n",
    "\n",
    "pc=WindmillKin3FitsOrdered[1]\n",
    "ds=WindmillKin3FitsOrdered[3]\n",
    "\n",
    "ratio3=pc/ds\n",
    "indices=np.empty(0)\n",
    "junk = np.logical_or(np.isnan(ratio3), np.isinf(ratio3))\n",
    "filteredRatio3=ratio3[~junk]"
   ]
  },
  {
   "cell_type": "code",
   "execution_count": 20,
   "id": "a0823c80",
   "metadata": {},
   "outputs": [],
   "source": [
    "HunterKin2Calibrations=newCalibrations[:21]\n",
    "WindmillKin3Calibrations=newCalibrations[21:28]\n",
    "HunterKin3Calibrations=newCalibrations[28:]"
   ]
  },
  {
   "cell_type": "code",
   "execution_count": 21,
   "id": "edf303e2",
   "metadata": {},
   "outputs": [
    {
     "data": {
      "text/plain": [
       "13"
      ]
     },
     "execution_count": 21,
     "metadata": {},
     "output_type": "execute_result"
    }
   ],
   "source": [
    "len(HunterKin3Calibrations)"
   ]
  },
  {
   "cell_type": "code",
   "execution_count": 22,
   "id": "98252b87",
   "metadata": {},
   "outputs": [
    {
     "name": "stderr",
     "output_type": "stream",
     "text": [
      "/tmp/ipykernel_11887/35411361.py:24: RuntimeWarning: invalid value encountered in divide\n",
      "  WindmillKin3RatioB=np.append(WindmillKin3RatioB,WindmillKin3FitsOrdered[1][b]/WindmillKin3FitsOrdered[3][b])\n"
     ]
    }
   ],
   "source": [
    "dateList=np.empty(0)\n",
    "settingsList=np.empty(0)\n",
    "HunterKin2RatioB=np.empty(0)\n",
    "HunterKin2RatioA=np.empty(0)\n",
    "\n",
    "for i in range(0,len(HunterKin2FitsOrdered[0])):\n",
    "    dateList=np.append(dateList,str(int(HunterKin2FitsOrdered[0][i]))[:8]+'_'+str(int(HunterKin2FitsOrdered[0][i]))[8:])\n",
    "    #settingsList=np.append(settingsList,str(int(mySettingsOrdered[0][i]))[:8]+'_'+str(int(mySettingsOrdered[0][i]))[8:])\n",
    "for i in range(0,len(HunterKin2Calibrations)):\n",
    "    b,a=FindNMRsB4andAft('2022'+str(HunterKin2Calibrations[i][0]),dateList)\n",
    "    #print(i)\n",
    "    HunterKin2RatioB=np.append(HunterKin2RatioB,HunterKin2FitsOrdered[1][b]/HunterKin2FitsOrdered[3][b])\n",
    "    #print(HunterKin2FitsOrdered[1][b]/HunterKin2FitsOrdered[3][b])\n",
    "    HunterKin2RatioA=np.append(HunterKin2RatioA,HunterKin2FitsOrdered[1][a]/HunterKin2FitsOrdered[3][a])\n",
    "    #print(HunterKin2FitsOrdered[1][a]/HunterKin2FitsOrdered[3][a])\n",
    "dateList=np.empty(0)\n",
    "WindmillKin3RatioB=np.empty(0)\n",
    "WindmillKin3RatioA=np.empty(0)\n",
    "\n",
    "for i in range(0,len(WindmillKin3FitsOrdered[0])):\n",
    "    dateList=np.append(dateList,str(int(WindmillKin3FitsOrdered[0][i]))[:8]+'_'+str(int(WindmillKin3FitsOrdered[0][i]))[8:])\n",
    "for i in range(0,len(WindmillKin3Calibrations)):\n",
    "    b,a=FindNMRsB4andAft('2022'+str(WindmillKin3Calibrations[i][0]),dateList)\n",
    "    WindmillKin3RatioB=np.append(WindmillKin3RatioB,WindmillKin3FitsOrdered[1][b]/WindmillKin3FitsOrdered[3][b])\n",
    "    #print(WindmillKin3FitsOrdered[1][b]/WindmillKin3FitsOrdered[3][b])\n",
    "    WindmillKin3RatioA=np.append(WindmillKin3RatioA,WindmillKin3FitsOrdered[1][a]/WindmillKin3FitsOrdered[3][a])\n",
    "    \n",
    "dateList=np.empty(0)\n",
    "HunterKin3RatioB=np.empty(0)\n",
    "HunterKin3RatioA=np.empty(0)\n",
    "\n",
    "for i in range(0,len(HunterKin3FitsOrdered[0])):\n",
    "    dateList=np.append(dateList,str(int(HunterKin3FitsOrdered[0][i]))[:8]+'_'+str(int(HunterKin3FitsOrdered[0][i]))[8:])\n",
    "for i in range(0,len(HunterKin3Calibrations)):\n",
    "    b,a=FindNMRsB4andAft('2022'+str(HunterKin3Calibrations[i][0]),dateList)\n",
    "    HunterKin3RatioB=np.append(HunterKin3RatioB,HunterKin3FitsOrdered[1][b]/HunterKin3FitsOrdered[3][b])\n",
    "    #print(HunterKin3FitsOrdered[1][b]/HunterKin3FitsOrdered[3][b])\n",
    "    HunterKin3RatioA=np.append(HunterKin3RatioA,HunterKin3FitsOrdered[1][a]/HunterKin3FitsOrdered[3][a])\n",
    "\n",
    "\n",
    "\n",
    "\n"
   ]
  },
  {
   "cell_type": "code",
   "execution_count": 23,
   "id": "d899ab7c",
   "metadata": {},
   "outputs": [
    {
     "data": {
      "text/plain": [
       "13"
      ]
     },
     "execution_count": 23,
     "metadata": {},
     "output_type": "execute_result"
    }
   ],
   "source": [
    "len(HunterKin3RatioB)"
   ]
  },
  {
   "cell_type": "markdown",
   "id": "c38c9c1a",
   "metadata": {},
   "source": [
    "# Histograms"
   ]
  },
  {
   "cell_type": "code",
   "execution_count": 24,
   "id": "ac7f0dfe",
   "metadata": {},
   "outputs": [
    {
     "data": {
      "text/plain": [
       "<matplotlib.legend.Legend at 0x7f4101e80eb0>"
      ]
     },
     "execution_count": 24,
     "metadata": {},
     "output_type": "execute_result"
    },
    {
     "data": {
      "image/png": "[encoded data removed]",
      "text/plain": [
       "<Figure size 640x480 with 1 Axes>"
      ]
     },
     "metadata": {},
     "output_type": "display_data"
    }
   ],
   "source": [
    "plt.hist(WindmillKin3RatioB,alpha=.5,color='red',label='Before')\n",
    "plt.hist(WindmillKin3RatioA,alpha=.5,color='teal',label='After')\n",
    "plt.title('PC/TC Ratios for Before and After Calibrations - Windmill')\n",
    "plt.legend(loc='upper right')"
   ]
  },
  {
   "cell_type": "code",
   "execution_count": null,
   "id": "7eb277bc",
   "metadata": {},
   "outputs": [],
   "source": []
  },
  {
   "cell_type": "code",
   "execution_count": 25,
   "id": "56dd4f79",
   "metadata": {
    "scrolled": true
   },
   "outputs": [
    {
     "data": {
      "text/plain": [
       "array([2.25983346, 0.32592303, 0.30026841, 0.22608617, 0.23567023,\n",
       "       0.23580663, 0.32286248, 0.24994524, 0.23989407, 0.24231441,\n",
       "       0.24604902, 0.22593353, 0.24786205, 0.22223196, 0.23670091,\n",
       "       0.23634748, 0.21214241, 0.22435708, 0.22864086, 0.22597485,\n",
       "       0.25836611])"
      ]
     },
     "execution_count": 25,
     "metadata": {},
     "output_type": "execute_result"
    }
   ],
   "source": [
    "HunterKin2RatioA"
   ]
  },
  {
   "cell_type": "code",
   "execution_count": 26,
   "id": "cf893427",
   "metadata": {},
   "outputs": [
    {
     "data": {
      "text/plain": [
       "<matplotlib.legend.Legend at 0x7f4101e66a30>"
      ]
     },
     "execution_count": 26,
     "metadata": {},
     "output_type": "execute_result"
    },
    {
     "data": {
      "image/png": "[encoded data removed]",
      "text/plain": [
       "<Figure size 640x480 with 1 Axes>"
      ]
     },
     "metadata": {},
     "output_type": "display_data"
    }
   ],
   "source": [
    "plt.hist(HunterKin2RatioB,alpha=.5,color='red',label='Before')\n",
    "plt.hist(HunterKin2RatioA[1:],alpha=.5,color='teal',label='After')\n",
    "plt.title('PC/TC Ratios for Before and After Calibrations - HunterKin2')\n",
    "plt.legend(loc='upper right')"
   ]
  },
  {
   "cell_type": "code",
   "execution_count": 27,
   "id": "7b6c1a95",
   "metadata": {},
   "outputs": [
    {
     "data": {
      "text/plain": [
       "<matplotlib.legend.Legend at 0x7f4104f983d0>"
      ]
     },
     "execution_count": 27,
     "metadata": {},
     "output_type": "execute_result"
    },
    {
     "data": {
      "image/png": "[encoded data removed]",
      "text/plain": [
       "<Figure size 640x480 with 1 Axes>"
      ]
     },
     "metadata": {},
     "output_type": "display_data"
    }
   ],
   "source": [
    "plt.hist(HunterKin3RatioB,alpha=.5,color='red',label='Before')\n",
    "plt.hist(HunterKin3RatioA,alpha=.5,color='teal',label='After')\n",
    "plt.title('PC/TC Ratios for Before and After Calibrations - HunterKin3')\n",
    "plt.legend(loc='upper right')"
   ]
  },
  {
   "cell_type": "markdown",
   "id": "03d239fb",
   "metadata": {},
   "source": [
    "# Mimic Spreadsheet"
   ]
  },
  {
   "cell_type": "markdown",
   "id": "edd82286",
   "metadata": {},
   "source": [
    "## Hunter Kin2"
   ]
  },
  {
   "cell_type": "raw",
   "id": "33e241bd",
   "metadata": {},
   "source": [
    "V_pc\t306.1659\t\tfill density: 7.38659\n",
    "V_tt\t44.8700\t\t  \n",
    "V_tc\t160.9000        fill pressure: 6285.2 torr"
   ]
  },
  {
   "cell_type": "code",
   "execution_count": 28,
   "id": "4a311fcd",
   "metadata": {},
   "outputs": [],
   "source": [
    "C2=306.1659 #V_PC\n",
    "C3=44.8700 #V_TT\n",
    "C4=160.9000 #V_TC\n",
    "C6=878.7170 #kHz/Gauss\n",
    "C7=4.8376 #cbar/(kHz/G)\n",
    "F2=7.38658534932298 #Fill Density\n",
    "F3=265 #ref. T_pc\n",
    "F4=31.5 #ref. T_tc\n",
    "F5=.3153 #ref_ratio"
   ]
  },
  {
   "cell_type": "code",
   "execution_count": 29,
   "id": "7e7ddc27",
   "metadata": {},
   "outputs": [
    {
     "name": "stdout",
     "output_type": "stream",
     "text": [
      "This better be 1.0 -->  1.0\n"
     ]
    }
   ],
   "source": [
    "I2=C2*(F4+273.15)/(C2*(F4+273.15)+(C4+C3)*(F3+273.15)) #f_pc\n",
    "I3=(C4+C3)*(F3+273.15)/(C2*(F4+273.15)+(C4+C3)*(F3+273.15)) #f_tc\n",
    "print('This better be 1.0 --> ',I2+I3)"
   ]
  },
  {
   "cell_type": "code",
   "execution_count": 30,
   "id": "296dd70f",
   "metadata": {},
   "outputs": [],
   "source": [
    " #T_pc\n",
    "N=np.empty(0)\n",
    "O=np.empty(0)\n",
    "for i in range(0,len(HunterKin2RatioB)):\n",
    "    N=np.append(N,(F5/HunterKin2RatioB[i])*F3)\n",
    "    O=np.append(O,F4)\n",
    "    \n",
    "#N=np.empty(0)\n",
    "#O=np.empty(0)\n",
    "#for i in range(0,len(HunterKin3RatioB)):\n",
    "#    N=np.append(N,(F5/HunterKin3RatioB[i])*F3)\n",
    "#    O=np.append(O,F4)\n",
    "    \n",
    "# N=np.empty(0)\n",
    "# O=np.empty(0)\n",
    "# for i in range(0,len(WindmillKin3RatioB)):\n",
    "#     N=np.append(N,(F5/WindmillKin3RatioB[i])*F3)\n",
    "#     O=np.append(O,F4)"
   ]
  },
  {
   "cell_type": "code",
   "execution_count": 31,
   "id": "a482d689",
   "metadata": {},
   "outputs": [],
   "source": [
    "# #alpha\n",
    "R=np.empty(0)\n",
    "for i in range(0,len(HunterKin2RatioB)):\n",
    "    R=np.append(R,1/((F5/HunterKin2RatioB[i])*(1-I2)+I2))\n",
    "    \n",
    "#R=np.empty(0)\n",
    "#for i in range(0,len(HunterKin3RatioB)):\n",
    "#    R=np.append(R,1/((F5/HunterKin3RatioB[i])*(1-I2)+I2))\n",
    "    \n",
    "# R=np.empty(0)\n",
    "# for i in range(0,len(WindmillKin3RatioB)):\n",
    "#     R=np.append(R,1/((F5/WindmillKin3RatioB[i])*(1-I2)+I2))"
   ]
  },
  {
   "cell_type": "code",
   "execution_count": 32,
   "id": "ebddcc07",
   "metadata": {},
   "outputs": [],
   "source": [
    "# #beta\n",
    "S=np.empty(0)\n",
    "for i in range(0,len(HunterKin2RatioB)):\n",
    "    S=np.append(S,(F5/HunterKin2RatioB[i])/((F5/HunterKin2RatioB[i])*I3+1-I3))\n",
    "    \n",
    "#S=np.empty(0)\n",
    "#for i in range(0,len(HunterKin3RatioB)):\n",
    "#    S=np.append(S,(F5/HunterKin3RatioB[i])/((F5/HunterKin3RatioB[i])*I3+1-I3))\n",
    "    \n",
    "# S=np.empty(0)\n",
    "# for i in range(0,len(WindmillKin3RatioB)):\n",
    "#     S=np.append(S,(F5/WindmillKin3RatioB[i])/((F5/WindmillKin3RatioB[i])*I3+1-I3))"
   ]
  },
  {
   "cell_type": "code",
   "execution_count": 33,
   "id": "f6ac5935",
   "metadata": {},
   "outputs": [
    {
     "data": {
      "text/plain": [
       "21"
      ]
     },
     "execution_count": 33,
     "metadata": {},
     "output_type": "execute_result"
    }
   ],
   "source": [
    "len(S)"
   ]
  },
  {
   "cell_type": "code",
   "execution_count": 34,
   "id": "2e57d88d",
   "metadata": {},
   "outputs": [
    {
     "data": {
      "text/plain": [
       "442"
      ]
     },
     "execution_count": 34,
     "metadata": {},
     "output_type": "execute_result"
    }
   ],
   "source": [
    "len(WindmillKin3RatioB)"
   ]
  },
  {
   "cell_type": "code",
   "execution_count": 35,
   "id": "79102e25",
   "metadata": {},
   "outputs": [],
   "source": [
    "# #f_pc\n",
    "T=np.empty(0)\n",
    "for i in range(0,len(HunterKin2RatioB)):\n",
    "    T=np.append(T,R[i]*I2)\n",
    "    \n",
    "#T=np.empty(0)\n",
    "#for i in range(0,len(HunterKin3RatioB)):\n",
    "#    T=np.append(T,R[i]*I2)\n",
    "    \n",
    "# T=np.empty(0)\n",
    "# for i in range(0,len(WindmillKin3RatioB)):\n",
    "#     T=np.append(T,R[i]*I2)"
   ]
  },
  {
   "cell_type": "code",
   "execution_count": 36,
   "id": "46815a9f",
   "metadata": {},
   "outputs": [],
   "source": [
    "# #f_tc\n",
    "U=np.empty(0)\n",
    "for i in range(0,len(HunterKin2RatioB)):\n",
    "    U=np.append(U,S[i]*I3)\n",
    "    \n",
    "#U=np.empty(0)\n",
    "#for i in range(0,len(HunterKin3RatioB)):\n",
    "#    U=np.append(U,S[i]*I3)\n",
    "    \n",
    "# U=np.empty(0)\n",
    "# for i in range(0,len(WindmillKin3RatioB)):\n",
    "#     U=np.append(U,S[i]*I3)"
   ]
  },
  {
   "cell_type": "code",
   "execution_count": 37,
   "id": "d73bb599",
   "metadata": {},
   "outputs": [
    {
     "data": {
      "text/plain": [
       "7"
      ]
     },
     "execution_count": 37,
     "metadata": {},
     "output_type": "execute_result"
    }
   ],
   "source": [
    "len(windmillKin3DS)"
   ]
  },
  {
   "cell_type": "code",
   "execution_count": 38,
   "id": "34cea135",
   "metadata": {},
   "outputs": [
    {
     "data": {
      "text/plain": [
       "13"
      ]
     },
     "execution_count": 38,
     "metadata": {},
     "output_type": "execute_result"
    }
   ],
   "source": [
    "len(hunterKin3DS)"
   ]
  },
  {
   "cell_type": "code",
   "execution_count": 39,
   "id": "914a4293",
   "metadata": {},
   "outputs": [],
   "source": [
    "adjDS=hunterKin2DS*S\n",
    "adjUS=hunterKin2US*S\n",
    "adjPC=hunterKin2PC*R\n",
    "\n",
    "#adjDS=hunterKin3DS*S\n",
    "#adjUS=hunterKin3US*S\n",
    "#adjPC=hunterKin3PC*R\n",
    "\n",
    "# adjDS=windmillKin3DS*S\n",
    "# adjUS=windmillKin3US*S\n",
    "# adjPC=windmillKin3PC*R"
   ]
  },
  {
   "cell_type": "code",
   "execution_count": 58,
   "id": "d2f6262b",
   "metadata": {},
   "outputs": [
    {
     "data": {
      "text/plain": [
       "array([1.44399329, 1.60708903, 1.59922041, 1.66673852, 1.92685974,\n",
       "       1.85058792, 1.89757145, 1.64831024, 1.55297868, 1.56573247,\n",
       "       1.58409563, 1.82888009, 1.62747429, 1.76163428, 1.76147595,\n",
       "       1.75199821, 1.69985222, 1.74756429, 1.55383885])"
      ]
     },
     "execution_count": 58,
     "metadata": {},
     "output_type": "execute_result"
    }
   ],
   "source": [
    "adjDS"
   ]
  },
  {
   "cell_type": "code",
   "execution_count": 41,
   "id": "b1fa7514",
   "metadata": {},
   "outputs": [
    {
     "name": "stdout",
     "output_type": "stream",
     "text": [
      "DS, US, PC, std:  46.241 , 33.39751 , 35.995\n"
     ]
    },
    {
     "data": {
      "image/png": "[encoded data removed]",
      "text/plain": [
       "<Figure size 1000x300 with 3 Axes>"
      ]
     },
     "metadata": {},
     "output_type": "display_data"
    }
   ],
   "source": [
    "usSig=np.std(adjUS)/np.mean(adjUS)\n",
    "dsSig=np.std(adjDS)/np.mean(adjDS)\n",
    "pcSig=np.std(adjPC)/np.mean(adjPC)\n",
    "fig, (ax1, ax2, ax3) = plt.subplots(nrows=1, ncols=3, figsize=(10, 3))\n",
    "ax1.hist(adjUS,bins=12,color='magenta',alpha=.5,label='us')\n",
    "ax2.hist(adjDS,bins=12,color='blue',alpha=.5,label='ds')\n",
    "ax3.hist(adjPC,bins=12,color='orange',alpha=.5,label='pc')\n",
    "\n",
    "# Set the titles for the histograms\n",
    "plt.suptitle('Hunter Kin2 Calibrations Gordon Correction', fontsize=16,y=1.10)\n",
    "\n",
    "ax1.set_title(\"Upstream\")\n",
    "ax2.set_title(\"Downstream\")\n",
    "ax3.set_title(\"Pumping Chamber\")\n",
    "print('DS, US, PC, std: ',np.round(usSig*100,3),',',np.round(100*dsSig,5),',',np.round(100*pcSig,3))"
   ]
  },
  {
   "cell_type": "code",
   "execution_count": 42,
   "id": "10301ee1",
   "metadata": {
    "scrolled": true
   },
   "outputs": [
    {
     "data": {
      "text/plain": [
       "0.3339751222172616"
      ]
     },
     "execution_count": 42,
     "metadata": {},
     "output_type": "execute_result"
    },
    {
     "data": {
      "image/png": "[encoded data removed]",
      "text/plain": [
       "<Figure size 640x480 with 1 Axes>"
      ]
     },
     "metadata": {},
     "output_type": "display_data"
    }
   ],
   "source": [
    "plt.hist(adjDS,alpha=.5)\n",
    "np.std(adjDS)/np.mean(adjDS)\n"
   ]
  },
  {
   "cell_type": "code",
   "execution_count": 43,
   "id": "c90f20c0",
   "metadata": {},
   "outputs": [
    {
     "data": {
      "text/plain": [
       "0.3319876142280385"
      ]
     },
     "execution_count": 43,
     "metadata": {},
     "output_type": "execute_result"
    },
    {
     "data": {
      "image/png": "[encoded data removed]",
      "text/plain": [
       "<Figure size 640x480 with 1 Axes>"
      ]
     },
     "metadata": {},
     "output_type": "display_data"
    }
   ],
   "source": [
    "plt.hist(hunterKin2DS,alpha=.5)\n",
    "np.std(hunterKin2DS)/np.mean(hunterKin2DS)"
   ]
  },
  {
   "cell_type": "code",
   "execution_count": 45,
   "id": "1bc12c9c",
   "metadata": {},
   "outputs": [
    {
     "data": {
      "text/plain": [
       "1.369815107726919"
      ]
     },
     "execution_count": 45,
     "metadata": {},
     "output_type": "execute_result"
    }
   ],
   "source": [
    "np.mean(hunterKin2DS)"
   ]
  },
  {
   "cell_type": "code",
   "execution_count": 47,
   "id": "d15b9e5e",
   "metadata": {},
   "outputs": [],
   "source": [
    "hunterKin2DS=hunterKin2DS[hunterKin2DS!=0]"
   ]
  },
  {
   "cell_type": "code",
   "execution_count": 51,
   "id": "0dfb34ec",
   "metadata": {},
   "outputs": [],
   "source": [
    "mean=np.mean(hunterKin2DS)"
   ]
  },
  {
   "cell_type": "code",
   "execution_count": 52,
   "id": "6f31e8f1",
   "metadata": {},
   "outputs": [],
   "source": [
    "std=np.std(hunterKin2DS)"
   ]
  },
  {
   "cell_type": "code",
   "execution_count": 53,
   "id": "dffd6cd7",
   "metadata": {},
   "outputs": [
    {
     "data": {
      "text/plain": [
       "6.693982515082139"
      ]
     },
     "execution_count": 53,
     "metadata": {},
     "output_type": "execute_result"
    }
   ],
   "source": [
    "100*std/mean"
   ]
  },
  {
   "cell_type": "code",
   "execution_count": 55,
   "id": "cc4781dc",
   "metadata": {},
   "outputs": [],
   "source": [
    "adjDS=adjDS[adjDS!=0]"
   ]
  },
  {
   "cell_type": "code",
   "execution_count": 56,
   "id": "da303125",
   "metadata": {},
   "outputs": [],
   "source": [
    "mean=np.mean(adjDS)\n",
    "std=np.std(adjDS)"
   ]
  },
  {
   "cell_type": "code",
   "execution_count": 59,
   "id": "b038daa0",
   "metadata": {},
   "outputs": [
    {
     "data": {
      "text/plain": [
       "1.688205029892168"
      ]
     },
     "execution_count": 59,
     "metadata": {},
     "output_type": "execute_result"
    }
   ],
   "source": [
    "mean"
   ]
  },
  {
   "cell_type": "code",
   "execution_count": 57,
   "id": "85fb83ef",
   "metadata": {},
   "outputs": [
    {
     "data": {
      "text/plain": [
       "7.535574770022579"
      ]
     },
     "execution_count": 57,
     "metadata": {},
     "output_type": "execute_result"
    }
   ],
   "source": [
    "100*std/mean"
   ]
  },
  {
   "cell_type": "code",
   "execution_count": null,
   "id": "42eafb01",
   "metadata": {},
   "outputs": [],
   "source": []
  }
 ],
 "metadata": {
  "kernelspec": {
   "display_name": "Python 3 (ipykernel)",
   "language": "python",
   "name": "python3"
  },
  "language_info": {
   "codemirror_mode": {
    "name": "ipython",
    "version": 3
   },
   "file_extension": ".py",
   "mimetype": "text/x-python",
   "name": "python",
   "nbconvert_exporter": "python",
   "pygments_lexer": "ipython3",
   "version": "3.8.10"
  }
 },
 "nbformat": 4,
 "nbformat_minor": 5
}
