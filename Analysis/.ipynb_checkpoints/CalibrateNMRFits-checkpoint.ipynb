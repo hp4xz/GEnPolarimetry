{
 "cells": [
  {
   "cell_type": "code",
   "execution_count": 1,
   "id": "48c3b04d",
   "metadata": {},
   "outputs": [],
   "source": [
    "from functions import *\n",
    "import numpy as np\n",
    "import os\n",
    "import matplotlib.pyplot as plt\n",
    "from scipy.optimize import curve_fit\n",
    "from math import *"
   ]
  },
  {
   "cell_type": "code",
   "execution_count": 2,
   "id": "fa0b3d95",
   "metadata": {},
   "outputs": [],
   "source": [
    "def Calibrate(afpDate,firstNMRDate,secondNMRDate,percent_per_khz,epicsData):\n",
    "    import re\n",
    "    import numpy as np\n",
    "    \n",
    "    trash, fShift, bShift=FindEPRShifts(afpDate)\n",
    "    fit=np.load('NMRDataFits/Fringe.npy')\n",
    "   \n",
    "    firstNMR=np.where(fit[0].astype(int)==firstNMRDate)[0][0]\n",
    "    secondNMR=np.where(fit[0].astype(int)==secondNMRDate)[0][0]\n",
    "    #Get percent by multiplying front and back shift by %/khz\n",
    "    fPer=fShift*percent_per_khz   \n",
    "    bPer=bShift*percent_per_khz \n",
    "    \n",
    "    f_pc_const=fPer/fit[1][firstNMR]\n",
    "    b_pc_const=bPer/fit[1][secondNMR]\n",
    "    \n",
    "    f_us_const=fPer/fit[2][firstNMR]\n",
    "    b_us_const=bPer/fit[2][secondNMR]\n",
    "    \n",
    "    f_ds_const=fPer/fit[3][firstNMR]\n",
    "    b_ds_const=bPer/fit[3][secondNMR]\n",
    "    \n",
    "    pc_const=np.round((f_pc_const+b_pc_const)/2,4)\n",
    "    us_const=np.round((f_us_const+b_us_const)/2,4)\n",
    "    ds_const=np.round((f_ds_const+b_ds_const)/2,4)\n",
    "    print(' Format of output is: EPR date, pc_const, us_const, ds_const')\n",
    "    \n",
    "    try:\n",
    "        epicsFirst1=str(firstNMRDate)[:8]\n",
    "        epicsFirst2=str(firstNMRDate)[8:]\n",
    "        epicsFirst=epicsFirst1+'_'+epicsFirst2\n",
    "\n",
    "        print(epicsFirst)\n",
    "        epicsSecond1=str(secondNMRDate)[:8]\n",
    "        epicsSecond2=str(secondNMRDate)[8:]\n",
    "        epicsSecond=epicsSecond1+'_'+epicsSecond2\n",
    "\n",
    "        firstTemp=np.empty(0)\n",
    "        secondTemp=np.empty(0)\n",
    "        for i in epicsData:   \n",
    "            #print(i)\n",
    "            firstTemp=np.append(firstTemp,np.round(GrabClosest(epicsFirst,i),4))\n",
    "            secondTemp=np.append(secondTemp,np.round(GrabClosest(epicsSecond,i),4))\n",
    "    except:\n",
    "         yay=0\n",
    "    return int(re.search(r'\\d+', afpDate).group()), pc_const,us_const,ds_const,firstTemp,secondTemp\n",
    "    \n",
    "    \n",
    "\n",
    "def FindEPRShifts(afpDate):\n",
    "    file=np.loadtxt(afpDate)\n",
    "    data=np.transpose(file)\n",
    "    first=list(ordered_cluster(data[1], 10))\n",
    "    second=Refine(first)\n",
    "    return second\n",
    "\n",
    "\n",
    "def GrabClosest(date,data):\n",
    "    from datetime import datetime, timedelta\n",
    "    import os\n",
    "    import numpy as np\n",
    "    goUp=False\n",
    "    goDown=False\n",
    "    found=False\n",
    "   \n",
    "    #get an initial index guess\n",
    "    end=datetime.strptime(data[0][-1:][0],\"%Y%m%d_%H%M%S\")-datetime.strptime(data[0][0],\"%Y%m%d_%H%M%S\")\n",
    "   \n",
    "    \n",
    "    valueNorm=datetime.strptime(date,\"%Y%m%d_%H%M%S\")-datetime.strptime(data[0][0],\"%Y%m%d_%H%M%S\")\n",
    "  \n",
    "    ratio=valueNorm.total_seconds()/end.total_seconds()\n",
    "\n",
    "    index=int(ratio*len(data[0])-1)\n",
    "    \n",
    "    \n",
    "    while found==False:\n",
    "        baseline=abs(datetime.strptime(date,\"%Y%m%d_%H%M%S\")-datetime.strptime(data[0][index],\"%Y%m%d_%H%M%S\")).total_seconds()\n",
    "        below=abs(datetime.strptime(date,\"%Y%m%d_%H%M%S\")-datetime.strptime(data[0][index-1],\"%Y%m%d_%H%M%S\")).total_seconds()\n",
    "        above=abs(datetime.strptime(date,\"%Y%m%d_%H%M%S\")-datetime.strptime(data[0][index+1],\"%Y%m%d_%H%M%S\")).total_seconds()\n",
    "        \n",
    "        goDown=False\n",
    "        goUp=False\n",
    "        if below<baseline:\n",
    "            goDown=True\n",
    "            index=index-1\n",
    "            \n",
    "        if above<baseline:\n",
    "            goUp=True\n",
    "            index=index+1\n",
    "            \n",
    "        if goDown ==False and goUp==False:\n",
    "            found=True\n",
    "    \n",
    "    ydat=data[1].astype(float)\n",
    "   \n",
    "    return(ydat[index])     "
   ]
  },
  {
   "cell_type": "code",
   "execution_count": 3,
   "id": "5634cca1",
   "metadata": {},
   "outputs": [
    {
     "name": "stdout",
     "output_type": "stream",
     "text": [
      "Format: tc1,tc2,tc3,tc4,pc1,pc2,tt1,tt2\n"
     ]
    }
   ],
   "source": [
    "tempData=LoadEpics()\n",
    "tc1,tc2,tc3,tc4,pc1,pc2,tt1,tt2=tempData"
   ]
  },
  {
   "cell_type": "code",
   "execution_count": 6,
   "id": "fb6b2bfd",
   "metadata": {},
   "outputs": [
    {
     "name": "stdout",
     "output_type": "stream",
     "text": [
      " Front shift is:  63.81 kHz \n",
      " Back shift is:  60.58 kHz\n",
      " Format of output is: EPR date, pc_const, us_const, ds_const\n",
      "20230125_083654\n"
     ]
    }
   ],
   "source": [
    "#Fringe Calibration 1 with new settings\n",
    "fringe_calibration1=Calibrate('EPRData/01250837.dat',20230125083654,20230125083905,.61886,tempData)"
   ]
  },
  {
   "cell_type": "code",
   "execution_count": 8,
   "id": "a5516afe",
   "metadata": {},
   "outputs": [
    {
     "data": {
      "text/plain": [
       "39.4894566"
      ]
     },
     "execution_count": 8,
     "metadata": {},
     "output_type": "execute_result"
    }
   ],
   "source": [
    ".61886* 63.81"
   ]
  },
  {
   "cell_type": "code",
   "execution_count": 9,
   "id": "59cad234",
   "metadata": {},
   "outputs": [
    {
     "data": {
      "text/plain": [
       "37.490538799999996"
      ]
     },
     "execution_count": 9,
     "metadata": {},
     "output_type": "execute_result"
    }
   ],
   "source": [
    ".61886*60.58"
   ]
  },
  {
   "cell_type": "code",
   "execution_count": 10,
   "id": "fc0b2615",
   "metadata": {},
   "outputs": [
    {
     "data": {
      "text/plain": [
       "1.5377514252336448"
      ]
     },
     "execution_count": 10,
     "metadata": {},
     "output_type": "execute_result"
    }
   ],
   "source": [
    "(.61886* 63.81)/((26.2042+25.1558)/2)"
   ]
  },
  {
   "cell_type": "code",
   "execution_count": 11,
   "id": "ba090fb1",
   "metadata": {},
   "outputs": [
    {
     "data": {
      "text/plain": [
       "1.6068464131494635"
      ]
     },
     "execution_count": 11,
     "metadata": {},
     "output_type": "execute_result"
    }
   ],
   "source": [
    "(.61886*60.58)/((23.7498+22.9137)/2)"
   ]
  },
  {
   "cell_type": "code",
   "execution_count": 19,
   "id": "3d86b00d",
   "metadata": {
    "scrolled": true
   },
   "outputs": [
    {
     "data": {
      "text/plain": [
       "(11150831,\n",
       " 3.8056,\n",
       " 0.5265,\n",
       " 1.2824,\n",
       " array([], dtype=float64),\n",
       " array([], dtype=float64))"
      ]
     },
     "execution_count": 19,
     "metadata": {},
     "output_type": "execute_result"
    }
   ],
   "source": [
    "fringe_calibration1"
   ]
  },
  {
   "cell_type": "code",
   "execution_count": 20,
   "id": "efc14bbd",
   "metadata": {},
   "outputs": [
    {
     "data": {
      "text/plain": [
       "1.4248888888888889"
      ]
     },
     "execution_count": 20,
     "metadata": {},
     "output_type": "execute_result"
    }
   ],
   "source": [
    "1.2824/.9"
   ]
  },
  {
   "cell_type": "code",
   "execution_count": 13,
   "id": "71d93146",
   "metadata": {
    "scrolled": true
   },
   "outputs": [
    {
     "name": "stdout",
     "output_type": "stream",
     "text": [
      "Incorrect Grouping\n"
     ]
    },
    {
     "ename": "IndexError",
     "evalue": "index 0 is out of bounds for axis 0 with size 0",
     "output_type": "error",
     "traceback": [
      "\u001b[0;31m---------------------------------------------------------------------------\u001b[0m",
      "\u001b[0;31mIndexError\u001b[0m                                Traceback (most recent call last)",
      "Cell \u001b[0;32mIn [13], line 1\u001b[0m\n\u001b[0;32m----> 1\u001b[0m calibration1\u001b[38;5;241m=\u001b[39m\u001b[43mCalibrate\u001b[49m\u001b[43m(\u001b[49m\u001b[38;5;124;43m'\u001b[39;49m\u001b[38;5;124;43mEPRData/01250837.dat\u001b[39;49m\u001b[38;5;124;43m'\u001b[39;49m\u001b[43m,\u001b[49m\u001b[38;5;241;43m20221115083050\u001b[39;49m\u001b[43m,\u001b[49m\u001b[38;5;241;43m20221115083305\u001b[39;49m\u001b[43m,\u001b[49m\u001b[38;5;241;43m.6604\u001b[39;49m\u001b[43m,\u001b[49m\u001b[43mtempData\u001b[49m\u001b[43m)\u001b[49m\n",
      "Cell \u001b[0;32mIn [10], line 8\u001b[0m, in \u001b[0;36mCalibrate\u001b[0;34m(afpDate, firstNMRDate, secondNMRDate, percent_per_khz, epicsData)\u001b[0m\n\u001b[1;32m      5\u001b[0m trash, fShift, bShift\u001b[38;5;241m=\u001b[39mFindEPRShifts(afpDate)\n\u001b[1;32m      6\u001b[0m fit\u001b[38;5;241m=\u001b[39mnp\u001b[38;5;241m.\u001b[39mload(\u001b[38;5;124m'\u001b[39m\u001b[38;5;124mNMRDataFits/Fringe.npy\u001b[39m\u001b[38;5;124m'\u001b[39m)\n\u001b[0;32m----> 8\u001b[0m firstNMR\u001b[38;5;241m=\u001b[39m\u001b[43mnp\u001b[49m\u001b[38;5;241;43m.\u001b[39;49m\u001b[43mwhere\u001b[49m\u001b[43m(\u001b[49m\u001b[43mfit\u001b[49m\u001b[43m[\u001b[49m\u001b[38;5;241;43m0\u001b[39;49m\u001b[43m]\u001b[49m\u001b[38;5;241;43m.\u001b[39;49m\u001b[43mastype\u001b[49m\u001b[43m(\u001b[49m\u001b[38;5;28;43mint\u001b[39;49m\u001b[43m)\u001b[49m\u001b[38;5;241;43m==\u001b[39;49m\u001b[43mfirstNMRDate\u001b[49m\u001b[43m)\u001b[49m\u001b[43m[\u001b[49m\u001b[38;5;241;43m0\u001b[39;49m\u001b[43m]\u001b[49m\u001b[43m[\u001b[49m\u001b[38;5;241;43m0\u001b[39;49m\u001b[43m]\u001b[49m\n\u001b[1;32m      9\u001b[0m secondNMR\u001b[38;5;241m=\u001b[39mnp\u001b[38;5;241m.\u001b[39mwhere(fit[\u001b[38;5;241m0\u001b[39m]\u001b[38;5;241m.\u001b[39mastype(\u001b[38;5;28mint\u001b[39m)\u001b[38;5;241m==\u001b[39msecondNMRDate)[\u001b[38;5;241m0\u001b[39m][\u001b[38;5;241m0\u001b[39m]\n\u001b[1;32m     10\u001b[0m \u001b[38;5;66;03m#Get percent by multiplying front and back shift by %/khz\u001b[39;00m\n",
      "\u001b[0;31mIndexError\u001b[0m: index 0 is out of bounds for axis 0 with size 0"
     ]
    }
   ],
   "source": [
    "calibration1=Calibrate('EPRData/01250837.dat',20221115083050,20221115083305,.6604,tempData)"
   ]
  },
  {
   "cell_type": "code",
   "execution_count": 26,
   "id": "2d127091",
   "metadata": {},
   "outputs": [
    {
     "name": "stdout",
     "output_type": "stream",
     "text": [
      " Front shift is:  45.93 kHz \n",
      " Back shift is:  43.92 kHz\n",
      " Format of output is: EPR date, pc_const, us_const, ds_const\n",
      "20221115_083050\n",
      "CPU times: user 4.39 s, sys: 0 ns, total: 4.39 s\n",
      "Wall time: 4.39 s\n"
     ]
    }
   ],
   "source": [
    "%%time\n",
    "calibration1=Calibrate('EPRData/11150831.dat',20221115083050,20221115083305,.6604,tempData)"
   ]
  },
  {
   "cell_type": "code",
   "execution_count": null,
   "id": "2791ab10",
   "metadata": {},
   "outputs": [],
   "source": [
    "calibration1[1]"
   ]
  },
  {
   "cell_type": "code",
   "execution_count": 51,
   "id": "38e1f74e",
   "metadata": {},
   "outputs": [
    {
     "data": {
      "text/plain": [
       "1.1544"
      ]
     },
     "execution_count": 51,
     "metadata": {},
     "output_type": "execute_result"
    }
   ],
   "source": [
    "calibration1[2]"
   ]
  },
  {
   "cell_type": "code",
   "execution_count": 52,
   "id": "d08d5931",
   "metadata": {},
   "outputs": [
    {
     "data": {
      "text/plain": [
       "1.8525"
      ]
     },
     "execution_count": 52,
     "metadata": {},
     "output_type": "execute_result"
    }
   ],
   "source": [
    "calibration1[3]"
   ]
  },
  {
   "cell_type": "code",
   "execution_count": 22,
   "id": "67b805a6",
   "metadata": {
    "scrolled": true
   },
   "outputs": [
    {
     "data": {
      "text/plain": [
       "array([ 29.1371,  31.2116,  32.2249,  32.1285, 245.8489, 248.1074,\n",
       "        31.1396,  62.4342])"
      ]
     },
     "execution_count": 22,
     "metadata": {},
     "output_type": "execute_result"
    }
   ],
   "source": [
    "calibration1[4]"
   ]
  },
  {
   "cell_type": "code",
   "execution_count": 53,
   "id": "a82cfd6c",
   "metadata": {},
   "outputs": [
    {
     "data": {
      "text/plain": [
       "array([ 30.1074,  32.8613,  22.0117,  33.2764,  17.5635,  33.0811,\n",
       "        31.1572,  30.2051,  32.8809,  23.5107,  33.8525,  31.2402,\n",
       "        32.8711,  33.8477,  33.7256,  25.1318,  27.3682,  33.7646,\n",
       "        34.4922,  25.    ,  33.1641,  33.7891,  32.2705,  25.5762,\n",
       "        34.7217,  34.5752,  29.3164,  35.127 ,  26.0693,  35.0342,\n",
       "        34.8828,  30.    ,  35.0537,  29.9658,  34.1943,  34.1748,\n",
       "        29.3213,  28.418 ,  34.1406,  34.0527,  26.6748,  34.0381,\n",
       "        34.1211,  29.7168,  34.5605, 242.0092, 243.6525, 243.8314,\n",
       "       245.5561, 245.2305, 248.2407, 246.5647, 247.5736, 247.6549,\n",
       "       248.1754, 245.588 , 246.044 , 246.16  , 246.755 , 246.904 ,\n",
       "       247.043 , 247.459 , 247.567 , 247.674 , 248.133 , 248.326 ,\n",
       "       248.481 , 248.86  , 249.019 , 249.482 , 249.605 , 249.764 ,\n",
       "       250.509 , 250.667 ,  30.7031,  31.5039,  30.8594,  31.2891,\n",
       "        30.9082,  32.1484,  31.0254,  31.1719,  30.9277,  30.8594,\n",
       "        68.999 ,  66.3672,  67.4072,  62.7881,  62.2705,  50.6445,\n",
       "        68.8086,  68.3203,  50.0439,  53.8428,  67.876 ,  69.2236,\n",
       "        51.333 ,  66.0254,  62.5635])"
      ]
     },
     "execution_count": 53,
     "metadata": {},
     "output_type": "execute_result"
    }
   ],
   "source": [
    "calibration1[4]"
   ]
  },
  {
   "cell_type": "code",
   "execution_count": 23,
   "id": "0ae714e4",
   "metadata": {},
   "outputs": [
    {
     "data": {
      "text/plain": [
       "array([ 30.9195,  31.8483,  32.591 ,  32.2153, 248.4484, 250.7431,\n",
       "        31.2378,  63.4292])"
      ]
     },
     "execution_count": 23,
     "metadata": {},
     "output_type": "execute_result"
    }
   ],
   "source": [
    "calibration1[5]"
   ]
  },
  {
   "cell_type": "markdown",
   "id": "e67e1f25",
   "metadata": {},
   "source": [
    "NMR_He_20221214_151106\n",
    "12141512.dat\n",
    "NMR_He_20221214_151329"
   ]
  },
  {
   "cell_type": "code",
   "execution_count": 8,
   "id": "0168f71e",
   "metadata": {},
   "outputs": [],
   "source": [
    "s=.9"
   ]
  },
  {
   "cell_type": "code",
   "execution_count": 9,
   "id": "9da882e7",
   "metadata": {},
   "outputs": [
    {
     "name": "stdout",
     "output_type": "stream",
     "text": [
      " Front shift is:  54.67 kHz \n",
      " Back shift is:  52.44 kHz\n",
      " Format of output is: EPR date, pc_const, us_const, ds_const\n"
     ]
    }
   ],
   "source": [
    "calibration2=Calibrate('EPRData/12141512.dat',20221214151106,20221214151329,.6604)"
   ]
  },
  {
   "cell_type": "code",
   "execution_count": 10,
   "id": "0b1bdd49",
   "metadata": {},
   "outputs": [
    {
     "data": {
      "text/plain": [
       "6.697080000000001"
      ]
     },
     "execution_count": 10,
     "metadata": {},
     "output_type": "execute_result"
    }
   ],
   "source": [
    "calibration2[1]*s"
   ]
  },
  {
   "cell_type": "code",
   "execution_count": 11,
   "id": "43ea4975",
   "metadata": {},
   "outputs": [
    {
     "data": {
      "text/plain": [
       "2.18628"
      ]
     },
     "execution_count": 11,
     "metadata": {},
     "output_type": "execute_result"
    }
   ],
   "source": [
    "calibration2[2]*s"
   ]
  },
  {
   "cell_type": "code",
   "execution_count": 13,
   "id": "029ecaa1",
   "metadata": {},
   "outputs": [
    {
     "data": {
      "text/plain": [
       "2.00475"
      ]
     },
     "execution_count": 13,
     "metadata": {},
     "output_type": "execute_result"
    }
   ],
   "source": [
    "calibration2[3]*s"
   ]
  },
  {
   "cell_type": "code",
   "execution_count": null,
   "id": "944fbdef",
   "metadata": {},
   "outputs": [],
   "source": []
  }
 ],
 "metadata": {
  "kernelspec": {
   "display_name": "Python 3 (ipykernel)",
   "language": "python",
   "name": "python3"
  },
  "language_info": {
   "codemirror_mode": {
    "name": "ipython",
    "version": 3
   },
   "file_extension": ".py",
   "mimetype": "text/x-python",
   "name": "python",
   "nbconvert_exporter": "python",
   "pygments_lexer": "ipython3",
   "version": "3.8.10"
  }
 },
 "nbformat": 4,
 "nbformat_minor": 5
}
