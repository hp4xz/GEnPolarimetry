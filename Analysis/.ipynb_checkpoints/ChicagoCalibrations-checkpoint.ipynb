{
 "cells": [
  {
   "cell_type": "code",
   "execution_count": 12,
   "id": "425d9b59",
   "metadata": {},
   "outputs": [],
   "source": [
    "from functions import *\n",
    "import numpy as np\n",
    "import os\n",
    "import matplotlib.pyplot as plt\n",
    "from scipy.optimize import curve_fit\n",
    "from math import *"
   ]
  },
  {
   "cell_type": "code",
   "execution_count": 13,
   "id": "620cea8e",
   "metadata": {},
   "outputs": [
    {
     "name": "stdout",
     "output_type": "stream",
     "text": [
      "Format: tc1,tc2,tc3,tc4,pc1,pc2,tt1,tt2\n"
     ]
    }
   ],
   "source": [
    "tempData=LoadEpics()\n",
    "tc1,tc2,tc3,tc4,pc1,pc2,tt1,tt2=tempData\n",
    "tempData=\"none\""
   ]
  },
  {
   "cell_type": "markdown",
   "id": "21d21570",
   "metadata": {},
   "source": [
    "# Group 1 Calibrations 03/02/2023"
   ]
  },
  {
   "cell_type": "code",
   "execution_count": 14,
   "id": "6c80360e",
   "metadata": {},
   "outputs": [
    {
     "name": "stdout",
     "output_type": "stream",
     "text": [
      " Front shift is:  52.5 kHz \n",
      " Back shift is:  49.66 kHz\n",
      " Format of output is: EPR date, pc_const, us_const, ds_const\n"
     ]
    },
    {
     "data": {
      "text/plain": [
       "(3020948, 5.6092, 0.4387, 1.7362, 0, 0)"
      ]
     },
     "execution_count": 14,
     "metadata": {},
     "output_type": "execute_result"
    }
   ],
   "source": [
    "#1 03020948.dat\n",
    "#NMR Before: 20230302094738\n",
    "#NMR After: 20230302094929\n",
    "chicago_calibration1=Calibrate('EPRData/03020948.dat',20230302094738,20230302094929,.623,tempData)\n",
    "chicago_calibration1"
   ]
  },
  {
   "cell_type": "code",
   "execution_count": 15,
   "id": "74f5f75d",
   "metadata": {},
   "outputs": [
    {
     "name": "stdout",
     "output_type": "stream",
     "text": [
      " Front shift is:  46.72 kHz \n",
      " Back shift is:  43.24 kHz\n",
      " Format of output is: EPR date, pc_const, us_const, ds_const\n"
     ]
    },
    {
     "data": {
      "text/plain": [
       "(3021008, 5.5463, 0.3915, 1.7627, 0, 0)"
      ]
     },
     "execution_count": 15,
     "metadata": {},
     "output_type": "execute_result"
    }
   ],
   "source": [
    "#2 03021008\n",
    "#NMR Before: 20230302100748\n",
    "#NMR After: 20230302100944\n",
    "chicago_calibration2=Calibrate('EPRData/03021008.dat',20230302100748,20230302100944,.623,tempData)\n",
    "chicago_calibration2"
   ]
  },
  {
   "cell_type": "code",
   "execution_count": 16,
   "id": "8040cc6c",
   "metadata": {},
   "outputs": [
    {
     "name": "stdout",
     "output_type": "stream",
     "text": [
      "[1.7362, 1.7627]\n",
      "1.7494 +/ 0.0132       Percent Error:  0.7574 %\n"
     ]
    }
   ],
   "source": [
    "CalGroup1=[chicago_calibration1[3],chicago_calibration2[3]]\n",
    "print(CalGroup1)\n",
    "print(np.round(np.mean(CalGroup1),4),'+/',np.round(np.std(CalGroup1),4),\"      Percent Error: \",np.round(100*np.std(CalGroup1)/np.mean(CalGroup1),4),\"%\")"
   ]
  },
  {
   "cell_type": "code",
   "execution_count": 17,
   "id": "ec6ba789",
   "metadata": {},
   "outputs": [
    {
     "data": {
      "text/plain": [
       "1.574505"
      ]
     },
     "execution_count": 17,
     "metadata": {},
     "output_type": "execute_result"
    }
   ],
   "source": [
    "np.mean(CalGroup1)*.9"
   ]
  },
  {
   "cell_type": "markdown",
   "id": "20458917",
   "metadata": {},
   "source": [
    "# Group 2 Calibrations 03/05/2023"
   ]
  },
  {
   "cell_type": "code",
   "execution_count": 29,
   "id": "972ca3f0",
   "metadata": {},
   "outputs": [
    {
     "name": "stdout",
     "output_type": "stream",
     "text": [
      " Front shift is:  56.84 kHz \n",
      " Back shift is:  53.69 kHz\n",
      " Format of output is: EPR date, pc_const, us_const, ds_const\n"
     ]
    },
    {
     "data": {
      "text/plain": [
       "(3051135, 5.7942, 0.4687, 1.8072, 0, 0)"
      ]
     },
     "execution_count": 29,
     "metadata": {},
     "output_type": "execute_result"
    }
   ],
   "source": [
    "#3 03051135.dat\n",
    "#NMR Before: 20230305113425\n",
    "#NMR After: 20230305113625\n",
    "chicago_calibration3=Calibrate('EPRData/03051135.dat',20230305113425,20230305113625,.623,tempData)\n",
    "chicago_calibration3"
   ]
  },
  {
   "cell_type": "code",
   "execution_count": 31,
   "id": "e356393f",
   "metadata": {},
   "outputs": [
    {
     "name": "stdout",
     "output_type": "stream",
     "text": [
      " Front shift is:  49.06 kHz \n",
      " Back shift is:  46.37 kHz\n",
      " Format of output is: EPR date, pc_const, us_const, ds_const\n"
     ]
    },
    {
     "data": {
      "text/plain": [
       "(3051155, 5.7874, 0.4293, 1.8479, 0, 0)"
      ]
     },
     "execution_count": 31,
     "metadata": {},
     "output_type": "execute_result"
    }
   ],
   "source": [
    "#4 03051155.dat\n",
    "#NMR Before: 20230305115506\n",
    "#NMR After: 20230305115713\n",
    "chicago_calibration4=Calibrate('EPRData/03051155.dat',20230305115506,20230305115713,.623,tempData)\n",
    "chicago_calibration4"
   ]
  },
  {
   "cell_type": "code",
   "execution_count": 34,
   "id": "466b0ca7",
   "metadata": {},
   "outputs": [
    {
     "name": "stdout",
     "output_type": "stream",
     "text": [
      " Front shift is:  43.21 kHz \n",
      " Back shift is:  40.77 kHz\n",
      " Format of output is: EPR date, pc_const, us_const, ds_const\n"
     ]
    },
    {
     "data": {
      "text/plain": [
       "(3051217, 3.2902, 0.3816, 1.8699, 0, 0)"
      ]
     },
     "execution_count": 34,
     "metadata": {},
     "output_type": "execute_result"
    }
   ],
   "source": [
    "#5 03051217.dat\n",
    "#NMR Before: 20230305121550\n",
    "#NMR After: 20230305121829\n",
    "chicago_calibration4=Calibrate('EPRData/03051217.dat',20230305121550,20230305121829,.623,tempData)\n",
    "chicago_calibration4"
   ]
  },
  {
   "cell_type": "code",
   "execution_count": 35,
   "id": "44a63b5d",
   "metadata": {},
   "outputs": [
    {
     "name": "stdout",
     "output_type": "stream",
     "text": [
      " Front shift is:  38.26 kHz \n",
      " Back shift is:  35.73 kHz\n",
      " Format of output is: EPR date, pc_const, us_const, ds_const\n"
     ]
    },
    {
     "data": {
      "text/plain": [
       "(3051310, 5.7466, 0.3397, 1.8711, 0, 0)"
      ]
     },
     "execution_count": 35,
     "metadata": {},
     "output_type": "execute_result"
    }
   ],
   "source": [
    "#6 03051310.dat\n",
    "#NMR Before: 20230305130938\n",
    "#NMR After: 20230305131159\n",
    "chicago_calibration5=Calibrate('EPRData/03051310.dat',20230305130938,20230305131159,.623,tempData)\n",
    "chicago_calibration5"
   ]
  },
  {
   "cell_type": "code",
   "execution_count": null,
   "id": "9ff952a8",
   "metadata": {},
   "outputs": [],
   "source": []
  }
 ],
 "metadata": {
  "kernelspec": {
   "display_name": "Python 3 (ipykernel)",
   "language": "python",
   "name": "python3"
  },
  "language_info": {
   "codemirror_mode": {
    "name": "ipython",
    "version": 3
   },
   "file_extension": ".py",
   "mimetype": "text/x-python",
   "name": "python",
   "nbconvert_exporter": "python",
   "pygments_lexer": "ipython3",
   "version": "3.8.10"
  }
 },
 "nbformat": 4,
 "nbformat_minor": 5
}
