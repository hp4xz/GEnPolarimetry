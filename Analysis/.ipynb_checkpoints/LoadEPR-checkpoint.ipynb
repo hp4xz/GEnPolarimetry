{
 "cells": [
  {
   "cell_type": "code",
   "execution_count": 28,
   "id": "15d2fa7f",
   "metadata": {},
   "outputs": [],
   "source": [
    "from functions import *\n",
    "import numpy as np\n",
    "import os\n",
    "import matplotlib.pyplot as plt\n",
    "from scipy.optimize import curve_fit\n",
    "from math import *\n",
    "from datetime import datetime,timedelta"
   ]
  },
  {
   "cell_type": "code",
   "execution_count": 29,
   "id": "ffeda913",
   "metadata": {},
   "outputs": [],
   "source": [
    "#Loading in all the EPR and NMR sweep data"
   ]
  },
  {
   "cell_type": "code",
   "execution_count": 30,
   "id": "4edd4e83",
   "metadata": {},
   "outputs": [],
   "source": [
    "EPRfiles=os.listdir('EPRData')\n",
    "EPRdates=np.empty(0)\n",
    "\n",
    "for i in range(0,len(EPRfiles)):\n",
    "    EPRdates=np.append(EPRdates,'2022' + EPRfiles[i].replace('.dat',''))\n",
    "    \n",
    "#Put in order chronologically\n",
    "\n",
    "date_objects = [datetime.strptime(date, \"%Y%m%d%H%M\") for date in EPRdates]\n",
    "dates_array = np.array(date_objects)\n",
    "sorted_dates = np.sort(dates_array)\n",
    "index_array = [date_objects.index(date) for date in sorted_dates]\n",
    "\n",
    "newEPRdates=[date.strftime(\"%Y%m%d%H%M\")for date in sorted_dates]\n",
    "\n",
    "indices,NMRdates = DatesInRange('19990101_150000','20221216_120200')\n",
    "\n",
    "date_objects = [datetime.strptime(date, \"%Y%m%d_%H%M%S\") for date in NMRdates]\n",
    "dates_array = np.array(date_objects)\n",
    "sorted_dates = np.sort(dates_array)\n",
    "index_array = [date_objects.index(date) for date in sorted_dates]\n",
    "\n",
    "newNMRdates=[date.strftime(\"%Y%m%d_%H%M%S\")for date in sorted_dates]"
   ]
  },
  {
   "cell_type": "code",
   "execution_count": 31,
   "id": "4b2c4de7",
   "metadata": {},
   "outputs": [],
   "source": [
    "def Calibrate(afpDate,firstNMRDate,secondNMRDate,percent_per_khz,epicsData):\n",
    "    import re\n",
    "    import numpy as np\n",
    "    \n",
    "    trash, fShift, bShift=FindEPRShifts(afpDate)\n",
    "    fit=np.load('NMRDataFits/FitsInRange.npy')\n",
    "   \n",
    "    firstNMR=np.where(fit[0].astype(int)==firstNMRDate)[0][0]\n",
    "    secondNMR=np.where(fit[0].astype(int)==secondNMRDate)[0][0]\n",
    "    #Get percent by multiplying front and back shift by %/khz\n",
    "    fPer=fShift*percent_per_khz   \n",
    "    bPer=bShift*percent_per_khz \n",
    "    \n",
    "    f_pc_const=fPer/fit[1][firstNMR]\n",
    "    b_pc_const=bPer/fit[1][secondNMR]\n",
    "    \n",
    "    f_us_const=fPer/fit[2][firstNMR]\n",
    "    b_us_const=bPer/fit[2][secondNMR]\n",
    "    \n",
    "    f_ds_const=fPer/fit[3][firstNMR]\n",
    "    b_ds_const=bPer/fit[3][secondNMR]\n",
    "    \n",
    "    pc_const=np.round((f_pc_const+b_pc_const)/2,4)\n",
    "    us_const=np.round((f_us_const+b_us_const)/2,4)\n",
    "    ds_const=np.round((f_ds_const+b_ds_const)/2,4)\n",
    "    print(' Format of output is: EPR date, pc_const, us_const, ds_const')\n",
    "    \n",
    "    epicsFirst1=str(firstNMRDate)[:8]\n",
    "    epicsFirst2=str(firstNMRDate)[8:]\n",
    "    epicsFirst=epicsFirst1+'_'+epicsFirst2\n",
    "    \n",
    "    #print(epicsFirst)\n",
    "    epicsSecond1=str(secondNMRDate)[:8]\n",
    "    epicsSecond2=str(secondNMRDate)[8:]\n",
    "    epicsSecond=epicsSecond1+'_'+epicsSecond2\n",
    "    \n",
    "    firstTemp=np.empty(0)\n",
    "    secondTemp=np.empty(0)\n",
    "    for i in epicsData:   \n",
    "        firstTemp=np.append(firstTemp,np.round(GrabClosest(epicsFirst,i),4))\n",
    "        secondTemp=np.append(secondTemp,np.round(GrabClosest(epicsSecond,i),4))\n",
    "    \n",
    "    return int(re.search(r'\\d+', afpDate).group()), pc_const,us_const,ds_const,firstTemp,secondTemp"
   ]
  },
  {
   "cell_type": "code",
   "execution_count": 32,
   "id": "f983ac10",
   "metadata": {},
   "outputs": [],
   "source": [
    "def GrabClosest(date,data):\n",
    "    from datetime import datetime, timedelta\n",
    "    import os\n",
    "    import numpy as np\n",
    "    goUp=False\n",
    "    goDown=False\n",
    "    found=False\n",
    "   \n",
    "    #get an initial index guess\n",
    "    end=datetime.strptime(data[0][-1:][0],\"%Y%m%d_%H%M%S\")-datetime.strptime(data[0][0],\"%Y%m%d_%H%M%S\")\n",
    "   \n",
    "    \n",
    "    valueNorm=datetime.strptime(date,\"%Y%m%d_%H%M%S\")-datetime.strptime(data[0][0],\"%Y%m%d_%H%M%S\")\n",
    "  \n",
    "    ratio=valueNorm.total_seconds()/end.total_seconds()\n",
    "\n",
    "    index=int(ratio*(len(data[0])-1))\n",
    "    #print(index)\n",
    "    #try:\n",
    "      # fake=datetime.strptime(data[0][index+1],\"%Y%m%d_%H%M%S\")\n",
    "    #except:\n",
    "     #   print('failure')\n",
    "      #  index=int(index/2)\n",
    "    #print(datetime.strptime(date,\"%Y%m%d_%H%M%S\"))\n",
    "    #print(datetime.strptime(data[0][index],\"%Y%m%d_%H%M%S\"))\n",
    "    while found==False:\n",
    "        #print(found)\n",
    "        baseline=abs(datetime.strptime(date,\"%Y%m%d_%H%M%S\")-datetime.strptime(data[0][index],\"%Y%m%d_%H%M%S\")).total_seconds()\n",
    "        below=abs(datetime.strptime(date,\"%Y%m%d_%H%M%S\")-datetime.strptime(data[0][index-1],\"%Y%m%d_%H%M%S\")).total_seconds()\n",
    "        above=abs(datetime.strptime(date,\"%Y%m%d_%H%M%S\")-datetime.strptime(data[0][index+1],\"%Y%m%d_%H%M%S\")).total_seconds()\n",
    "        \n",
    "        goDown=False\n",
    "        goUp=False\n",
    "        if below<baseline:\n",
    "            goDown=True\n",
    "            index=index-1\n",
    "            \n",
    "        if above<baseline:\n",
    "            goUp=True\n",
    "            #print('goingup')\n",
    "            index=index+1\n",
    "            \n",
    "        if goDown ==False and goUp==False:\n",
    "            #print('found')\n",
    "            found=True\n",
    "        #print(baseline,below,above)\n",
    "    #print('found and broke')\n",
    "    ydat=data[1].astype(float)\n",
    "   \n",
    "    return(ydat[index])  "
   ]
  },
  {
   "cell_type": "code",
   "execution_count": 33,
   "id": "bd9d36a3",
   "metadata": {},
   "outputs": [],
   "source": [
    "def FindNMRsB4andAft(date, date_array):\n",
    "    # Convert the input date to a datetime object\n",
    "    date = datetime.strptime(date, \"%Y%m%d%H%M\")\n",
    "    #date = datetime.strptime(date, \"%Y%m%d_%H%M%S\")\n",
    "    # Initialize variables to store the indices\n",
    "    before_index = None\n",
    "    after_index = None\n",
    "\n",
    "    # Iterate through the date array\n",
    "    for i, d in enumerate(date_array):\n",
    "        sameMin=0\n",
    "        found=0\n",
    "        # Convert the current date in the array to a datetime object\n",
    "        current_date = datetime.strptime(d, \"%Y%m%d_%H%M%S\")\n",
    "        # If the current date is before the input date\n",
    "        \n",
    "        #if current_date.second >= 30:\n",
    "         #   rounded_date = current_date.replace(second=0)\n",
    "         #   rounded_date=rounded_date+timedelta(minutes=1)\n",
    "         #   current_date=rounded_date\n",
    "        \n",
    "        rounded_date = current_date.replace(second=0)\n",
    "        current_date=rounded_date\n",
    "        if current_date < date and current_date!= date:\n",
    "            # Update the before index\n",
    "            before_index = i\n",
    "            after_index=i+1\n",
    "            found=1\n",
    "            #print(current_date,' ',date)\n",
    "        elif current_date==date:\n",
    "            before_index=i\n",
    "            after_index=i+1\n",
    "            #print('weirdo')\n",
    "            break\n",
    "        # If the current date is after the input date\n",
    "        elif current_date > date:\n",
    "            # Update the after index\n",
    "            after_index = i\n",
    "            # Break out of the loop\n",
    "            break\n",
    "\n",
    "    return before_index, after_index\n"
   ]
  },
  {
   "cell_type": "code",
   "execution_count": 34,
   "id": "2321d112",
   "metadata": {},
   "outputs": [
    {
     "data": {
      "text/plain": [
       "'20221006_014745'"
      ]
     },
     "execution_count": 34,
     "metadata": {},
     "output_type": "execute_result"
    }
   ],
   "source": [
    "newNMRdates[20]"
   ]
  },
  {
   "cell_type": "markdown",
   "id": "f97a3a56",
   "metadata": {},
   "source": [
    "202211101832"
   ]
  },
  {
   "cell_type": "code",
   "execution_count": 35,
   "id": "4496b1c6",
   "metadata": {},
   "outputs": [],
   "source": [
    "#newNMRdates"
   ]
  },
  {
   "cell_type": "code",
   "execution_count": 36,
   "id": "eae667ea",
   "metadata": {},
   "outputs": [],
   "source": [
    "x,y=FindNMRsB4andAft('202211101832',newNMRdates)"
   ]
  },
  {
   "cell_type": "code",
   "execution_count": 37,
   "id": "08a8c4f8",
   "metadata": {},
   "outputs": [
    {
     "data": {
      "text/plain": [
       "'20221110_183625'"
      ]
     },
     "execution_count": 37,
     "metadata": {},
     "output_type": "execute_result"
    }
   ],
   "source": [
    "newNMRdates[y]"
   ]
  },
  {
   "cell_type": "code",
   "execution_count": 38,
   "id": "12a4b523",
   "metadata": {},
   "outputs": [
    {
     "data": {
      "text/plain": [
       "413"
      ]
     },
     "execution_count": 38,
     "metadata": {},
     "output_type": "execute_result"
    }
   ],
   "source": [
    "x"
   ]
  },
  {
   "cell_type": "code",
   "execution_count": 39,
   "id": "2a368be2",
   "metadata": {},
   "outputs": [
    {
     "data": {
      "text/plain": [
       "414"
      ]
     },
     "execution_count": 39,
     "metadata": {},
     "output_type": "execute_result"
    }
   ],
   "source": [
    "y"
   ]
  },
  {
   "cell_type": "code",
   "execution_count": 40,
   "id": "50b3fbb6",
   "metadata": {
    "scrolled": true
   },
   "outputs": [
    {
     "data": {
      "text/plain": [
       "'20221110_183254'"
      ]
     },
     "execution_count": 40,
     "metadata": {},
     "output_type": "execute_result"
    }
   ],
   "source": [
    "newNMRdates[x]"
   ]
  },
  {
   "cell_type": "code",
   "execution_count": 41,
   "id": "9fdc74d8",
   "metadata": {},
   "outputs": [
    {
     "data": {
      "text/plain": [
       "'20221110_183625'"
      ]
     },
     "execution_count": 41,
     "metadata": {},
     "output_type": "execute_result"
    }
   ],
   "source": [
    "newNMRdates[y]"
   ]
  },
  {
   "cell_type": "code",
   "execution_count": 42,
   "id": "4ebf84e0",
   "metadata": {},
   "outputs": [
    {
     "name": "stdout",
     "output_type": "stream",
     "text": [
      "Format: tc1,tc2,tc3,tc4,pc1,pc2,tt1,tt2\n"
     ]
    }
   ],
   "source": [
    "tempData=LoadEpics()\n",
    "tc1,tc2,tc3,tc4,pc1,pc2,tt1,tt2=tempData"
   ]
  },
  {
   "cell_type": "code",
   "execution_count": 43,
   "id": "4cb296c5",
   "metadata": {},
   "outputs": [
    {
     "data": {
      "text/plain": [
       "226274"
      ]
     },
     "execution_count": 43,
     "metadata": {},
     "output_type": "execute_result"
    }
   ],
   "source": [
    "len(tt2[0])"
   ]
  },
  {
   "cell_type": "code",
   "execution_count": 44,
   "id": "9db41929",
   "metadata": {},
   "outputs": [
    {
     "data": {
      "text/plain": [
       "'20221001_032210'"
      ]
     },
     "execution_count": 44,
     "metadata": {},
     "output_type": "execute_result"
    }
   ],
   "source": [
    "pc1[0][0]"
   ]
  },
  {
   "cell_type": "code",
   "execution_count": 45,
   "id": "7cadb234",
   "metadata": {},
   "outputs": [
    {
     "data": {
      "text/plain": [
       "array(['20221216_032710'], dtype='<U18')"
      ]
     },
     "execution_count": 45,
     "metadata": {},
     "output_type": "execute_result"
    }
   ],
   "source": [
    "tt1[0][-1:]"
   ]
  },
  {
   "cell_type": "code",
   "execution_count": null,
   "id": "6e8284e1",
   "metadata": {},
   "outputs": [],
   "source": []
  },
  {
   "cell_type": "code",
   "execution_count": 46,
   "id": "881e1587",
   "metadata": {},
   "outputs": [
    {
     "name": "stdout",
     "output_type": "stream",
     "text": [
      "24\n",
      "30\n"
     ]
    }
   ],
   "source": [
    "for i,j in enumerate(newEPRdates):\n",
    "    if j =='202211150831' or j=='202211211637':\n",
    "        print(i)"
   ]
  },
  {
   "cell_type": "code",
   "execution_count": 47,
   "id": "5fabbf94",
   "metadata": {},
   "outputs": [
    {
     "data": {
      "text/plain": [
       "(array([], dtype=int64),)"
      ]
     },
     "execution_count": 47,
     "metadata": {},
     "output_type": "execute_result"
    }
   ],
   "source": [
    "np.where(newEPRdates=='202212071255')"
   ]
  },
  {
   "cell_type": "code",
   "execution_count": 48,
   "id": "6077d198",
   "metadata": {},
   "outputs": [],
   "source": [
    "before,after=FindNMRsB4andAft(newEPRdates[-1:][0],newNMRdates)"
   ]
  },
  {
   "cell_type": "code",
   "execution_count": null,
   "id": "e5690bb9",
   "metadata": {},
   "outputs": [],
   "source": []
  },
  {
   "cell_type": "code",
   "execution_count": 49,
   "id": "66d8aa40",
   "metadata": {},
   "outputs": [
    {
     "name": "stdout",
     "output_type": "stream",
     "text": [
      " Front shift is:  54.67 kHz \n",
      " Back shift is:  52.44 kHz\n",
      " Format of output is: EPR date, pc_const, us_const, ds_const\n"
     ]
    },
    {
     "data": {
      "text/plain": [
       "(12141512,\n",
       " 7.4412,\n",
       " 2.4292,\n",
       " 2.2275,\n",
       " array([ 33.6816,  33.96  ,  30.9375,  29.9121, 259.4338, 258.293 ,\n",
       "         32.6172,  38.3838]),\n",
       " array([ 33.9111,  34.7119,  31.2451,  29.668 , 257.1238, 217.505 ,\n",
       "         32.8027,  36.5527]))"
      ]
     },
     "execution_count": 49,
     "metadata": {},
     "output_type": "execute_result"
    }
   ],
   "source": [
    "Calibrate('EPRData/'+newEPRdates[i][4:]+'.dat',int(newNMRdates[before].replace('_','')),int(newNMRdates[after].replace('_','')),.6604,tempData)"
   ]
  },
  {
   "cell_type": "code",
   "execution_count": 50,
   "id": "beaa0622",
   "metadata": {
    "scrolled": true
   },
   "outputs": [
    {
     "name": "stdout",
     "output_type": "stream",
     "text": [
      "Total Number of Calibrations:  41\n",
      " Before:  20221020_190243\n",
      " EPR:     20221020_1910\n",
      " After:   20221020_191244\n",
      " Front shift is:  40.4 kHz \n",
      " Back shift is:  38.28 kHz\n",
      " Format of output is: EPR date, pc_const, us_const, ds_const\n",
      " Calibration  1  complete.\n",
      " Before:  20221021_182655\n",
      " EPR:     20221021_1829\n",
      " After:   20221021_183150\n",
      " Front shift is:  38.38 kHz \n",
      " Back shift is:  37.95 kHz\n",
      " Format of output is: EPR date, pc_const, us_const, ds_const\n",
      " Calibration  2  complete.\n",
      " Before:  20221021_183641\n",
      " EPR:     20221021_1838\n",
      " After:   20221021_184046\n",
      " Front shift is:  32.85 kHz \n",
      " Back shift is:  31.67 kHz\n",
      " Format of output is: EPR date, pc_const, us_const, ds_const\n",
      " Calibration  3  complete.\n",
      " Before:  20221029_000457\n",
      " EPR:     20221029_0005\n",
      " After:   20221029_000824\n",
      " Front shift is:  31.47 kHz \n",
      " Back shift is:  29.3 kHz\n",
      " Format of output is: EPR date, pc_const, us_const, ds_const\n",
      " Calibration  4  complete.\n",
      " Before:  20221031_133110\n",
      " EPR:     20221031_1332\n",
      " After:   20221031_133409\n",
      " Front shift is:  38.98 kHz \n",
      " Back shift is:  36.49 kHz\n",
      " Format of output is: EPR date, pc_const, us_const, ds_const\n",
      " Calibration  5  complete.\n",
      " Before:  20221031_153259\n",
      " EPR:     20221031_1533\n",
      " After:   20221031_153558\n",
      " Front shift is:  32.33 kHz \n",
      " Back shift is:  29.99 kHz\n",
      " Format of output is: EPR date, pc_const, us_const, ds_const\n",
      " Calibration  6  complete.\n",
      " Before:  20221101_133757\n",
      " EPR:     20221101_1339\n",
      " After:   20221101_134048\n",
      " Front shift is:  12.88 kHz \n",
      " Back shift is:  7.38 kHz\n",
      " Format of output is: EPR date, pc_const, us_const, ds_const\n",
      " Calibration  7  complete.\n",
      " Before:  20221101_181717\n",
      " EPR:     20221101_1818\n",
      " After:   20221101_182155\n",
      " Front shift is:  18.41 kHz \n",
      " Back shift is:  17.45 kHz\n",
      " Format of output is: EPR date, pc_const, us_const, ds_const\n",
      " Calibration  8  complete.\n",
      " Before:  20221101_203142\n",
      " EPR:     20221101_2033\n",
      " After:   20221101_203527\n",
      " Front shift is:  25.0 kHz \n",
      " Back shift is:  24.05 kHz\n",
      " Format of output is: EPR date, pc_const, us_const, ds_const\n",
      " Calibration  9  complete.\n",
      " Before:  20221101_223714\n",
      " EPR:     20221101_2239\n",
      " After:   20221101_224052\n",
      " Front shift is:  30.34 kHz \n",
      " Back shift is:  28.1 kHz\n",
      " Format of output is: EPR date, pc_const, us_const, ds_const\n",
      " Calibration  10  complete.\n",
      " Before:  20221102_001144\n",
      " EPR:     20221102_0013\n",
      " After:   20221102_001453\n",
      " Front shift is:  31.15 kHz \n",
      " Back shift is:  29.59 kHz\n",
      " Format of output is: EPR date, pc_const, us_const, ds_const\n",
      " Calibration  11  complete.\n",
      " Before:  20221102_023752\n",
      " EPR:     20221102_0239\n",
      " After:   20221102_024126\n",
      " Front shift is:  34.64 kHz \n",
      " Back shift is:  32.82 kHz\n",
      " Format of output is: EPR date, pc_const, us_const, ds_const\n",
      " Calibration  12  complete.\n",
      " Before:  20221102_031532\n",
      " EPR:     20221102_0316\n",
      " After:   20221102_031827\n",
      " Front shift is:  29.82 kHz \n",
      " Back shift is:  28.12 kHz\n",
      " Format of output is: EPR date, pc_const, us_const, ds_const\n",
      " Calibration  13  complete.\n",
      " Before:  20221102_034042\n",
      " EPR:     20221102_0341\n",
      " After:   20221102_034320\n",
      "Incorrect Grouping\n",
      " Format of output is: EPR date, pc_const, us_const, ds_const\n",
      " Calibration  14  complete.\n",
      " Before:  20221102_215536\n",
      " EPR:     20221102_2156\n",
      " After:   20221102_215732\n",
      " Front shift is:  33.99 kHz \n",
      " Back shift is:  31.83 kHz\n",
      " Format of output is: EPR date, pc_const, us_const, ds_const\n",
      " Calibration  15  complete.\n",
      " Before:  20221102_230052\n",
      " EPR:     20221102_2302\n",
      " After:   20221102_230435\n",
      "Incorrect Grouping\n",
      " Format of output is: EPR date, pc_const, us_const, ds_const\n",
      " Calibration  16  complete.\n",
      " Before:  20221103_000233\n",
      " EPR:     20221103_0002\n",
      " After:   20221103_000459\n",
      " Front shift is:  28.68 kHz \n",
      " Back shift is:  27.05 kHz\n",
      " Format of output is: EPR date, pc_const, us_const, ds_const\n",
      " Calibration  17  complete.\n",
      " Before:  20221103_005507\n",
      " EPR:     20221103_0055\n",
      " After:   20221103_005750\n",
      " Front shift is:  25.3 kHz \n",
      " Back shift is:  23.26 kHz\n",
      " Format of output is: EPR date, pc_const, us_const, ds_const\n",
      " Calibration  18  complete.\n",
      " Before:  20221103_021127\n",
      " EPR:     20221103_0212\n",
      " After:   20221103_021346\n",
      " Front shift is:  22.29 kHz \n",
      " Back shift is:  21.16 kHz\n",
      " Format of output is: EPR date, pc_const, us_const, ds_const\n",
      " Calibration  19  complete.\n",
      " Before:  20221103_031504\n",
      " EPR:     20221103_0315\n",
      " After:   20221103_031640\n",
      " Front shift is:  21.6 kHz \n",
      " Back shift is:  20.14 kHz\n",
      " Format of output is: EPR date, pc_const, us_const, ds_const\n",
      " Calibration  20  complete.\n",
      " Before:  20221103_035654\n",
      " EPR:     20221103_0356\n",
      " After:   20221103_040050\n",
      " Front shift is:  18.92 kHz \n",
      " Back shift is:  18.37 kHz\n",
      " Format of output is: EPR date, pc_const, us_const, ds_const\n",
      " Calibration  21  complete.\n",
      " Before:  20221103_035654\n",
      " EPR:     20221103_0358\n",
      " After:   20221103_040050\n",
      " Front shift is:  18.92 kHz \n",
      " Back shift is:  18.37 kHz\n",
      " Format of output is: EPR date, pc_const, us_const, ds_const\n",
      " Calibration  22  complete.\n",
      " Before:  20221103_042631\n",
      " EPR:     20221103_0426\n",
      " After:   20221103_042858\n",
      " Front shift is:  16.3 kHz \n",
      " Back shift is:  15.59 kHz\n",
      " Format of output is: EPR date, pc_const, us_const, ds_const\n",
      " Calibration  23  complete.\n",
      " Before:  20221103_045440\n",
      " EPR:     20221103_0454\n",
      " After:   20221103_045752\n",
      " Front shift is:  14.14 kHz \n",
      " Back shift is:  13.82 kHz\n",
      " Format of output is: EPR date, pc_const, us_const, ds_const\n",
      " Calibration  24  complete.\n",
      " Before:  20221115_083050\n",
      " EPR:     20221115_0831\n",
      " After:   20221115_083305\n",
      " Front shift is:  45.93 kHz \n",
      " Back shift is:  43.92 kHz\n",
      " Format of output is: EPR date, pc_const, us_const, ds_const\n",
      " Calibration  25  complete.\n",
      " Before:  20221121_134827\n",
      " EPR:     20221121_1349\n",
      " After:   20221121_135035\n",
      " Front shift is:  57.33 kHz \n",
      " Back shift is:  54.22 kHz\n",
      " Format of output is: EPR date, pc_const, us_const, ds_const\n",
      " Calibration  26  complete.\n",
      " Before:  20221121_144131\n",
      " EPR:     20221121_1442\n",
      " After:   20221121_144321\n",
      " Front shift is:  51.0 kHz \n",
      " Back shift is:  49.0 kHz\n",
      " Format of output is: EPR date, pc_const, us_const, ds_const\n",
      " Calibration  27  complete.\n",
      " Before:  20221121_151012\n",
      " EPR:     20221121_1511\n",
      " After:   20221121_151215\n",
      " Front shift is:  46.15 kHz \n",
      " Back shift is:  44.09 kHz\n",
      " Format of output is: EPR date, pc_const, us_const, ds_const\n",
      " Calibration  28  complete.\n",
      " Before:  20221121_153853\n",
      " EPR:     20221121_1540\n",
      " After:   20221121_154204\n",
      " Front shift is:  40.63 kHz \n",
      " Back shift is:  38.45 kHz\n",
      " Format of output is: EPR date, pc_const, us_const, ds_const\n",
      " Calibration  29  complete.\n",
      " Before:  20221121_160559\n",
      " EPR:     20221121_1606\n",
      " After:   20221121_160802\n",
      " Front shift is:  36.93 kHz \n",
      " Back shift is:  35.32 kHz\n",
      " Format of output is: EPR date, pc_const, us_const, ds_const\n",
      " Calibration  30  complete.\n",
      " Before:  20221121_163705\n",
      " EPR:     20221121_1637\n",
      " After:   20221121_163908\n",
      " Front shift is:  35.11 kHz \n",
      " Back shift is:  33.08 kHz\n",
      " Format of output is: EPR date, pc_const, us_const, ds_const\n",
      " Calibration  31  complete.\n",
      " Before:  20221201_104621\n",
      " EPR:     20221201_1047\n",
      " After:   20221201_104835\n",
      " Front shift is:  55.22 kHz \n",
      " Back shift is:  52.22 kHz\n",
      " Format of output is: EPR date, pc_const, us_const, ds_const\n",
      " Calibration  32  complete.\n",
      " Before:  20221201_110114\n",
      " EPR:     20221201_1101\n",
      " After:   20221201_110315\n",
      " Front shift is:  47.1 kHz \n",
      " Back shift is:  44.47 kHz\n",
      " Format of output is: EPR date, pc_const, us_const, ds_const\n",
      " Calibration  33  complete.\n",
      " Before:  20221202_131506\n",
      " EPR:     20221202_1315\n",
      " After:   20221202_131710\n",
      " Front shift is:  58.67 kHz \n",
      " Back shift is:  55.16 kHz\n",
      " Format of output is: EPR date, pc_const, us_const, ds_const\n",
      " Calibration  34  complete.\n",
      " Before:  20221202_133619\n",
      " EPR:     20221202_1336\n",
      " After:   20221202_133806\n",
      " Front shift is:  49.5 kHz \n",
      " Back shift is:  46.98 kHz\n",
      " Format of output is: EPR date, pc_const, us_const, ds_const\n",
      " Calibration  35  complete.\n",
      " Before:  20221202_150921\n",
      " EPR:     20221202_1510\n",
      " After:   20221202_151115\n",
      " Front shift is:  41.58 kHz \n",
      " Back shift is:  39.91 kHz\n",
      " Format of output is: EPR date, pc_const, us_const, ds_const\n",
      " Calibration  36  complete.\n",
      " Before:  20221202_152642\n",
      " EPR:     20221202_1527\n",
      " After:   20221202_152831\n",
      " Front shift is:  36.37 kHz \n",
      " Back shift is:  34.15 kHz\n",
      " Format of output is: EPR date, pc_const, us_const, ds_const\n",
      " Calibration  37  complete.\n",
      " Before:  20221207_125442\n",
      " EPR:     20221207_1255\n",
      " After:   20221207_125628\n",
      " Front shift is:  62.77 kHz \n",
      " Back shift is:  59.3 kHz\n",
      " Format of output is: EPR date, pc_const, us_const, ds_const\n"
     ]
    },
    {
     "name": "stdout",
     "output_type": "stream",
     "text": [
      " Calibration  38  complete.\n",
      " Before:  20221207_132729\n",
      " EPR:     20221207_1328\n",
      " After:   20221207_132919\n",
      " Front shift is:  52.93 kHz \n",
      " Back shift is:  49.48 kHz\n",
      " Format of output is: EPR date, pc_const, us_const, ds_const\n",
      " Calibration  39  complete.\n",
      " Before:  20221207_140113\n",
      " EPR:     20221207_1401\n",
      " After:   20221207_140255\n",
      " Front shift is:  44.51 kHz \n",
      " Back shift is:  42.21 kHz\n",
      " Format of output is: EPR date, pc_const, us_const, ds_const\n",
      " Calibration  40  complete.\n",
      " Before:  20221214_151106\n",
      " EPR:     20221214_1512\n",
      " After:   20221214_151329\n",
      " Front shift is:  54.67 kHz \n",
      " Back shift is:  52.44 kHz\n",
      " Format of output is: EPR date, pc_const, us_const, ds_const\n",
      " Calibration  41  complete.\n"
     ]
    }
   ],
   "source": [
    "calibrations=np.empty(0)\n",
    "print(\"Total Number of Calibrations: \", len(newEPRdates))\n",
    "for i in range(0,len(newEPRdates)):\n",
    "    before,after=FindNMRsB4andAft(newEPRdates[i],newNMRdates)\n",
    "    print(' Before: ', newNMRdates[before])\n",
    "    print(' EPR:    ',newEPRdates[i][:8]+'_'+newEPRdates[i][8:])\n",
    "    print(' After:  ', newNMRdates[after])\n",
    "    cal=Calibrate('EPRData/'+newEPRdates[i][4:]+'.dat',int(newNMRdates[before].replace('_','')),int(newNMRdates[after].replace('_','')),.6604,tempData)\n",
    "    print(' Calibration ',i+1,' complete.')\n",
    "    calibrations=np.append(calibrations,cal,axis=0)"
   ]
  },
  {
   "cell_type": "code",
   "execution_count": null,
   "id": "ff5ee1e0",
   "metadata": {},
   "outputs": [],
   "source": []
  },
  {
   "cell_type": "code",
   "execution_count": 51,
   "id": "cd987374",
   "metadata": {},
   "outputs": [
    {
     "data": {
      "text/plain": [
       "41.0"
      ]
     },
     "execution_count": 51,
     "metadata": {},
     "output_type": "execute_result"
    }
   ],
   "source": [
    "len(calibrations)/6"
   ]
  },
  {
   "cell_type": "code",
   "execution_count": 52,
   "id": "c2bec0e7",
   "metadata": {
    "scrolled": true
   },
   "outputs": [],
   "source": [
    "newCalibrations=calibrations.reshape(int(len(calibrations)/6),6)\n",
    "np.save('EPRArray/EPRCalibrationsV3.npy',newCalibrations)"
   ]
  },
  {
   "cell_type": "code",
   "execution_count": null,
   "id": "faeda37f",
   "metadata": {},
   "outputs": [],
   "source": [
    "newCalibrations[0]"
   ]
  },
  {
   "cell_type": "code",
   "execution_count": null,
   "id": "5f63c05e",
   "metadata": {},
   "outputs": [],
   "source": [
    "newCalibrations[0]"
   ]
  },
  {
   "cell_type": "code",
   "execution_count": null,
   "id": "a0957dd6",
   "metadata": {},
   "outputs": [],
   "source": [
    "newCalibrations[31]*.9*(.6401/.6604)"
   ]
  },
  {
   "cell_type": "code",
   "execution_count": null,
   "id": "31ac2be8",
   "metadata": {},
   "outputs": [],
   "source": [
    "pc=np.empty(0)\n",
    "us=np.empty(0)\n",
    "ds=np.empty(0)\n",
    "\n",
    "for i in range(0,len(newCalibrations)):\n",
    "    pc=np.append(pc,newCalibrations[i][1]*.9)\n",
    "    us=np.append(us,newCalibrations[i][2]*.9)\n",
    "    ds=np.append(ds,newCalibrations[i][3]*.9)\n",
    "\n",
    "us=us*.6401/.6604\n",
    "us[32:38]*=.6604/.6401\n",
    "ds=ds*.6401/.6604\n",
    "ds[32:38]*=.6604/.6401\n",
    "pc=pc*.6401/.6604\n",
    "pc[32:38]*=.6604/.6401\n",
    "ds=ds[np.where(ds!=0)]\n",
    "us=us[np.where(us!=0)]\n",
    "pc=pc[np.where(pc!=0)]\n",
    "np.argwhere(np.round(pc,4)==6.253)\n",
    "\n",
    "u, i = np.unique(pc, return_index=True)\n",
    "si = np.sort(i)\n",
    "pc = pc[si]\n",
    "\n",
    "u, i = np.unique(ds, return_index=True)\n",
    "si = np.sort(i)\n",
    "ds = ds[si]\n",
    "\n",
    "u, i = np.unique(us, return_index=True)\n",
    "si = np.sort(i)\n",
    "us = us[si]"
   ]
  },
  {
   "cell_type": "code",
   "execution_count": null,
   "id": "19903bff",
   "metadata": {
    "scrolled": true
   },
   "outputs": [],
   "source": [
    "pc[20]"
   ]
  },
  {
   "cell_type": "code",
   "execution_count": null,
   "id": "a12328c7",
   "metadata": {},
   "outputs": [],
   "source": [
    "# Use the mask to remove the duplicate elements from the original array\n",
    "\n",
    "u, i = np.unique(pc, return_index=True)\n",
    "\n",
    "si = np.sort(i)\n",
    "\n",
    "# Use the sorted indices to create a new array with only the unique elements, in the original order\n",
    "pc = pc[si]\n",
    "#5.454710433070867"
   ]
  },
  {
   "cell_type": "code",
   "execution_count": null,
   "id": "492277c0",
   "metadata": {},
   "outputs": [],
   "source": [
    "pc"
   ]
  },
  {
   "cell_type": "code",
   "execution_count": null,
   "id": "1f05c8f8",
   "metadata": {
    "scrolled": true
   },
   "outputs": [],
   "source": [
    "pc[20:]"
   ]
  },
  {
   "cell_type": "code",
   "execution_count": null,
   "id": "10dc2bd2",
   "metadata": {},
   "outputs": [],
   "source": [
    "pc[len(pc)-17:len(pc)-10]"
   ]
  },
  {
   "cell_type": "code",
   "execution_count": null,
   "id": "54d4c388",
   "metadata": {},
   "outputs": [],
   "source": [
    "binN=25\n",
    "x1,y,z=plt.hist(pc,range=(1,9),bins=binN,label='pc',alpha=.5,color='orange')\n",
    "x2,y,z=plt.hist(us,range=(1,9),bins=binN,label='us',alpha=.5,color='magenta')\n",
    "x3,y,z=plt.hist(ds,range=(1,9),bins=binN*2,label='ds',alpha=.5,color='blue')\n",
    "plt.legend(loc='upper right')\n",
    "plt.title('All Calibrations Uncorrected')\n",
    "plt.xlabel('Bins (Calibration Values)')"
   ]
  },
  {
   "cell_type": "code",
   "execution_count": null,
   "id": "8bc2e3d4",
   "metadata": {},
   "outputs": [],
   "source": []
  },
  {
   "cell_type": "code",
   "execution_count": null,
   "id": "c16a1c15",
   "metadata": {},
   "outputs": [],
   "source": []
  },
  {
   "cell_type": "code",
   "execution_count": null,
   "id": "5f413938",
   "metadata": {},
   "outputs": [],
   "source": []
  }
 ],
 "metadata": {
  "kernelspec": {
   "display_name": "Python 3 (ipykernel)",
   "language": "python",
   "name": "python3"
  },
  "language_info": {
   "codemirror_mode": {
    "name": "ipython",
    "version": 3
   },
   "file_extension": ".py",
   "mimetype": "text/x-python",
   "name": "python",
   "nbconvert_exporter": "python",
   "pygments_lexer": "ipython3",
   "version": "3.8.10"
  }
 },
 "nbformat": 4,
 "nbformat_minor": 5
}
