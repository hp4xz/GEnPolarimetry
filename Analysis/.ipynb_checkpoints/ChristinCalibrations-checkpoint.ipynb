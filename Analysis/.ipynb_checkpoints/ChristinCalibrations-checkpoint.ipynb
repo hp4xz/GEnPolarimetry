{
 "cells": [
  {
   "cell_type": "code",
   "execution_count": 3,
   "id": "9a88bfc7",
   "metadata": {},
   "outputs": [],
   "source": [
    "from functions import *\n",
    "import numpy as np\n",
    "import os\n",
    "import matplotlib.pyplot as plt\n",
    "from scipy.optimize import curve_fit\n",
    "from math import *"
   ]
  },
  {
   "cell_type": "code",
   "execution_count": 4,
   "id": "d2c0346a",
   "metadata": {},
   "outputs": [
    {
     "name": "stdout",
     "output_type": "stream",
     "text": [
      "Format: tc1,tc2,tc3,tc4,pc1,pc2,tt1,tt2\n"
     ]
    }
   ],
   "source": [
    "tempData=LoadEpics()\n",
    "tc1,tc2,tc3,tc4,pc1,pc2,tt1,tt2=tempData\n",
    "tempData=\"none\""
   ]
  },
  {
   "cell_type": "markdown",
   "id": "9b28fa26",
   "metadata": {},
   "source": [
    "# First Calibration \n"
   ]
  },
  {
   "cell_type": "code",
   "execution_count": 5,
   "id": "cf4d121c",
   "metadata": {},
   "outputs": [
    {
     "name": "stdout",
     "output_type": "stream",
     "text": [
      " Front shift is:  18.26 kHz \n",
      " Back shift is:  17.53 kHz\n",
      " Format of output is: EPR date, pc_const, us_const, ds_const\n"
     ]
    },
    {
     "name": "stderr",
     "output_type": "stream",
     "text": [
      "/home/research/.local/lib/python3.8/site-packages/numpy/lib/function_base.py:5071: VisibleDeprecationWarning: Creating an ndarray from ragged nested sequences (which is a list-or-tuple of lists-or-tuples-or ndarrays with different lengths or shapes) is deprecated. If you meant to do this, you must specify 'dtype=object' when creating the ndarray.\n",
      "  arr = asarray(arr)\n"
     ]
    },
    {
     "data": {
      "text/plain": [
       "(10111901, 1.6937, 5.6949, 0.9329, 0, 0)"
      ]
     },
     "execution_count": 5,
     "metadata": {},
     "output_type": "execute_result"
    }
   ],
   "source": [
    "#1 10111901.dat\n",
    "#NMR Before: 20231011190027\n",
    "#NMR After: 20231011190216\n",
    "christin_calibration1=Calibrate('EPRData/10111901.dat',20231011190027,20231011190216,.680,tempData)\n",
    "christin_calibration1"
   ]
  },
  {
   "cell_type": "code",
   "execution_count": 6,
   "id": "926ef33b",
   "metadata": {},
   "outputs": [
    {
     "data": {
      "text/plain": [
       "0.83961"
      ]
     },
     "execution_count": 6,
     "metadata": {},
     "output_type": "execute_result"
    }
   ],
   "source": [
    ".9329*.9\n"
   ]
  },
  {
   "cell_type": "code",
   "execution_count": 17,
   "id": "fa64e348",
   "metadata": {},
   "outputs": [
    {
     "data": {
      "text/plain": [
       "1.52433"
      ]
     },
     "execution_count": 17,
     "metadata": {},
     "output_type": "execute_result"
    }
   ],
   "source": [
    "1.6937*.9"
   ]
  },
  {
   "cell_type": "markdown",
   "id": "863a3741",
   "metadata": {},
   "source": [
    "# Second Calibration "
   ]
  },
  {
   "cell_type": "code",
   "execution_count": 7,
   "id": "fcbd4d07",
   "metadata": {},
   "outputs": [
    {
     "name": "stdout",
     "output_type": "stream",
     "text": [
      " Front shift is:  44.25 kHz \n",
      " Back shift is:  42.66 kHz\n",
      " Format of output is: EPR date, pc_const, us_const, ds_const\n"
     ]
    },
    {
     "data": {
      "text/plain": [
       "(10121025, 1.6638, 5.4256, 0.8667, 0, 0)"
      ]
     },
     "execution_count": 7,
     "metadata": {},
     "output_type": "execute_result"
    }
   ],
   "source": [
    "#2 10121025.dat\n",
    "#NMR Before: 20231012102413\n",
    "#NMR After: 20231012102725\n",
    "christin_calibration2=Calibrate('EPRData/10121025.dat',20231012102413,20231012102725,.680,tempData)\n",
    "christin_calibration2"
   ]
  },
  {
   "cell_type": "code",
   "execution_count": 9,
   "id": "b4aba582",
   "metadata": {},
   "outputs": [
    {
     "data": {
      "text/plain": [
       "0.78003"
      ]
     },
     "execution_count": 9,
     "metadata": {},
     "output_type": "execute_result"
    }
   ],
   "source": [
    ".8667*.9"
   ]
  },
  {
   "cell_type": "markdown",
   "id": "4cc932bc",
   "metadata": {},
   "source": [
    "# Third "
   ]
  },
  {
   "cell_type": "code",
   "execution_count": 10,
   "id": "c95272f5",
   "metadata": {},
   "outputs": [
    {
     "name": "stdout",
     "output_type": "stream",
     "text": [
      " Front shift is:  40.89 kHz \n",
      " Back shift is:  39.36 kHz\n",
      " Format of output is: EPR date, pc_const, us_const, ds_const\n"
     ]
    },
    {
     "data": {
      "text/plain": [
       "(10121044, 1.6472, 5.3949, 0.8901, 0, 0)"
      ]
     },
     "execution_count": 10,
     "metadata": {},
     "output_type": "execute_result"
    }
   ],
   "source": [
    "#3 10121044.dat\n",
    "#NMR Before: 20231012104144\n",
    "#NMR After: 20231012104536\n",
    "christin_calibration3=Calibrate('EPRData/10121044.dat',20231012104144,20231012104536,.680,tempData)\n",
    "christin_calibration3"
   ]
  },
  {
   "cell_type": "code",
   "execution_count": 11,
   "id": "c70a70c7",
   "metadata": {},
   "outputs": [
    {
     "data": {
      "text/plain": [
       "0.80109"
      ]
     },
     "execution_count": 11,
     "metadata": {},
     "output_type": "execute_result"
    }
   ],
   "source": [
    ".8901*.9"
   ]
  },
  {
   "cell_type": "code",
   "execution_count": 18,
   "id": "dd7e4f40",
   "metadata": {},
   "outputs": [],
   "source": [
    "a=christin_calibration1\n",
    "b=christin_calibration2\n",
    "c=christin_calibration3\n",
    "\n",
    "\n",
    "Cals=[a,b,c]\n",
    "\n",
    "ChristinCals=np.transpose(np.array(Cals))"
   ]
  },
  {
   "cell_type": "code",
   "execution_count": 19,
   "id": "eda17149",
   "metadata": {},
   "outputs": [
    {
     "data": {
      "text/plain": [
       "3.057233446143937"
      ]
     },
     "execution_count": 19,
     "metadata": {},
     "output_type": "execute_result"
    }
   ],
   "source": [
    "np.std([a[3],b[3],c[3]])/np.mean([a[3],b[3],c[3]])*100"
   ]
  },
  {
   "cell_type": "code",
   "execution_count": 20,
   "id": "2f29c63b",
   "metadata": {},
   "outputs": [],
   "source": [
    "np.save('EPRArray/ChristinCals.npy',ChristinCals)"
   ]
  },
  {
   "cell_type": "code",
   "execution_count": null,
   "id": "b4eee54d",
   "metadata": {},
   "outputs": [],
   "source": []
  }
 ],
 "metadata": {
  "kernelspec": {
   "display_name": "Python 3 (ipykernel)",
   "language": "python",
   "name": "python3"
  },
  "language_info": {
   "codemirror_mode": {
    "name": "ipython",
    "version": 3
   },
   "file_extension": ".py",
   "mimetype": "text/x-python",
   "name": "python",
   "nbconvert_exporter": "python",
   "pygments_lexer": "ipython3",
   "version": "3.8.10"
  }
 },
 "nbformat": 4,
 "nbformat_minor": 5
}
