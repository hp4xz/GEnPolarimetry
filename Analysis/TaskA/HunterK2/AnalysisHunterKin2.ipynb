{
 "cells": [
  {
   "cell_type": "code",
   "execution_count": 397,
   "id": "62cbc5da",
   "metadata": {},
   "outputs": [],
   "source": [
    "import sys\n",
    "import os\n",
    "sys.path.append(sys.path[0]+'/../../')\n",
    "sys.path.append(sys.path[0]+'/../../NMRData')\n",
    "from functions import *\n",
    "import numpy as np\n",
    "from datetime import datetime\n",
    "import matplotlib.pyplot as plt\n"
   ]
  },
  {
   "cell_type": "code",
   "execution_count": 398,
   "id": "a38eab70",
   "metadata": {},
   "outputs": [],
   "source": [
    "def GrabSettingsAtIndex(j):\n",
    "    import os\n",
    "    import numpy as np\n",
    "    import pandas as pd\n",
    "    import re\n",
    "\n",
    "    \n",
    "    NMRFolders=os.listdir(NMRData)\n",
    "    name=NMRData+'/'+NMRFolders[j]+'/Downstream Coil/Settings.dat'\n",
    "    with open(name, 'r') as f:\n",
    "        # read the contents of the file into a list\n",
    "        lines = f.readlines()\n",
    "\n",
    "    # remove newline characters from each element\n",
    "    lines = [line.strip() for line in lines]\n",
    "\n",
    "    # print the list\n",
    "\n",
    "    result=[]\n",
    "    for string in lines[4:11]:\n",
    "        # split the string into key and value\n",
    "        key, value = string.split(':')\n",
    "        # strip leading and trailing whitespace from key and value\n",
    "        key = key.strip()\n",
    "        value = value.strip()\n",
    "        # convert value to integer\n",
    "        value = float(value)\n",
    "        # add key and value to result list\n",
    "        result.append([key, value])\n",
    "    #print(lines[13])\n",
    "\n",
    "    return result\n",
    "\n",
    "nmrDates=np.load('nmrDates.npy')\n",
    "nmrIndices=np.load('nmrIndices.npy')"
   ]
  },
  {
   "cell_type": "code",
   "execution_count": 399,
   "id": "c7a4c298",
   "metadata": {},
   "outputs": [],
   "source": [
    "NMRData=sys.path[0]+'/../../NMRData'"
   ]
  },
  {
   "cell_type": "code",
   "execution_count": 400,
   "id": "9b737ac5",
   "metadata": {},
   "outputs": [],
   "source": [
    "NMRFolders=os.listdir(NMRData)\n",
    "#NMRData+'/'+NMRFolders[j]+'/Downstream Coil/Settings.dat'"
   ]
  },
  {
   "cell_type": "code",
   "execution_count": 401,
   "id": "a7bff540",
   "metadata": {},
   "outputs": [],
   "source": [
    "#os.listdir(sys.path[0]+'/../../')"
   ]
  },
  {
   "cell_type": "markdown",
   "id": "118fe38f",
   "metadata": {},
   "source": [
    "# Here, I bring in fits generated in the \"LoadNMR\" notebook"
   ]
  },
  {
   "cell_type": "code",
   "execution_count": 402,
   "id": "8fdf6d06",
   "metadata": {},
   "outputs": [],
   "source": [
    "hunterFitsK2=np.load(sys.path[0]+'/../../NMRDataFits/HunterKin2.npy')\n",
    "allFits=np.load(sys.path[0]+'/../../NMRDataFits/FitsInRange.npy')\n",
    "allIndices=np.load(sys.path[0]+'/../../NMRDataFits/indicesInRange.npy')\n",
    "allDates=np.load(sys.path[0]+'/../../NMRDataFits/datesInRange.npy')\n",
    "nmrDateStrings=hunterFitsK2[0].astype(int).astype(str)\n",
    "\n",
    "nmrDates=np.empty(0)\n",
    "for i in nmrDateStrings:\n",
    "    nmrDates=np.append(nmrDates,datetime.strptime(i,\"%Y%m%d%H%M%S\"))\n",
    "\n",
    "pcFits=hunterFitsK2[1]\n",
    "usFits=hunterFitsK2[2]\n",
    "dsFits=hunterFitsK2[3]"
   ]
  },
  {
   "cell_type": "code",
   "execution_count": 403,
   "id": "0504f357",
   "metadata": {},
   "outputs": [
    {
     "data": {
      "text/plain": [
       "197"
      ]
     },
     "execution_count": 403,
     "metadata": {},
     "output_type": "execute_result"
    }
   ],
   "source": [
    "len(nmrDates)"
   ]
  },
  {
   "cell_type": "code",
   "execution_count": 404,
   "id": "1969014a",
   "metadata": {},
   "outputs": [
    {
     "data": {
      "text/plain": [
       "array(['20221025_171530', '20221022_231115', '20221031_155140',\n",
       "       '20221103_035654', '20221030_171612', '20221024_014417',\n",
       "       '20221021_180326', '20221031_153259', '20221022_230831',\n",
       "       '20221022_222249', '20221029_075930', '20221102_230435',\n",
       "       '20221101_203142', '20221103_005750', '20221020_171935',\n",
       "       '20221024_134630', '20221020_233411', '20221101_134048',\n",
       "       '20221103_063954', '20221101_011358', '20221028_220103',\n",
       "       '20221027_045538', '20221021_192155', '20221025_041610',\n",
       "       '20221029_151208', '20221022_043508', '20221027_085405',\n",
       "       '20221102_190105', '20221021_062218', '20221102_024126',\n",
       "       '20221026_071359', '20221102_215536', '20221103_045440',\n",
       "       '20221030_194447', '20221019_210059', '20221101_223714',\n",
       "       '20221103_021127', '20221031_133110', '20221022_214544',\n",
       "       '20221101_063849', '20221019_223620', '20221026_045130',\n",
       "       '20221101_071938', '20221023_200557', '20221103_042858',\n",
       "       '20221108_100054', '20221020_102745', '20221021_184046',\n",
       "       '20221023_083526', '20221031_155002', '20221023_153153',\n",
       "       '20221031_024324', '20221031_061145', '20221101_182155',\n",
       "       '20221026_194653', '20221102_001144', '20221028_030916',\n",
       "       '20221023_152816', '20221021_011506', '20221020_112217',\n",
       "       '20221026_132834', '20221031_154820', '20221103_040050',\n",
       "       '20221021_114722', '20221029_110305', '20221022_124633',\n",
       "       '20221020_020235', '20221102_205737', '20221103_005507',\n",
       "       '20221020_140220', '20221102_034320', '20221031_154559',\n",
       "       '20221103_000233', '20221103_063812', '20221026_233500',\n",
       "       '20221101_001534', '20221022_230958', '20221101_011930',\n",
       "       '20221021_182655', '20221101_011312', '20221102_034042',\n",
       "       '20221030_230150', '20221028_140230', '20221101_005022',\n",
       "       '20221101_172949', '20221028_061035', '20221103_061145',\n",
       "       '20221029_000824', '20221101_224052', '20221022_214410',\n",
       "       '20221103_060541', '20221022_001428', '20221102_001453',\n",
       "       '20221101_080224', '20221028_223237', '20221030_133159',\n",
       "       '20221101_072819', '20221103_021346', '20221026_100640',\n",
       "       '20221021_150956', '20221101_063928', '20221030_012927',\n",
       "       '20221028_104342', '20221031_154905', '20221103_045752',\n",
       "       '20221022_223115', '20221025_110658', '20221103_072923',\n",
       "       '20221103_075216', '20221102_023752', '20221023_134816',\n",
       "       '20221020_190243', '20221021_193734', '20221021_192721',\n",
       "       '20221024_061141', '20221031_154516', '20221031_155245',\n",
       "       '20221102_005043', '20221101_173525', '20221101_203527',\n",
       "       '20221103_042631', '20221020_055242', '20221027_160453',\n",
       "       '20221025_012152', '20221031_153558', '20221025_195645',\n",
       "       '20221028_181757', '20221028_220839', '20221102_230052',\n",
       "       '20221020_184250', '20221023_155545', '20221021_183150',\n",
       "       '20221102_071626', '20221031_155337', '20221025_220621',\n",
       "       '20221101_063756', '20221022_230623', '20221028_222737',\n",
       "       '20221022_163605', '20221101_181717', '20221101_075144',\n",
       "       '20221023_155118', '20221020_191244', '20221103_072329',\n",
       "       '20221101_064657', '20221022_080817', '20221021_034740',\n",
       "       '20221101_125246', '20221027_134823', '20221101_065528',\n",
       "       '20221026_161155', '20221030_053216', '20221021_180501',\n",
       "       '20221031_224003', '20221102_031827', '20221030_092301',\n",
       "       '20221020_161649', '20221102_031532', '20221101_010202',\n",
       "       '20221103_000459', '20221022_231442', '20221023_134724',\n",
       "       '20221029_175356', '20221022_222909', '20221023_111027',\n",
       "       '20221103_031504', '20221029_214411', '20221022_231232',\n",
       "       '20221024_224050', '20221023_223838', '20221020_122604',\n",
       "       '20221027_192250', '20221023_123449', '20221027_231051',\n",
       "       '20221026_002155', '20221103_031640', '20221024_101400',\n",
       "       '20221101_012544', '20221101_063707', '20221029_000457',\n",
       "       '20221026_021547', '20221102_190422', '20221019_194915',\n",
       "       '20221024_164143', '20221020_151116', '20221101_133757',\n",
       "       '20221029_134126', '20221024_194306', '20221031_155050',\n",
       "       '20221021_091909', '20221031_133409', '20221025_073435',\n",
       "       '20221102_215732', '20221023_155327', '20221031_154729',\n",
       "       '20221021_183641', '20221103_061710'], dtype='<U32')"
      ]
     },
     "execution_count": 404,
     "metadata": {},
     "output_type": "execute_result"
    }
   ],
   "source": [
    "allDates"
   ]
  },
  {
   "cell_type": "code",
   "execution_count": 405,
   "id": "26d200bd",
   "metadata": {},
   "outputs": [],
   "source": [
    "#Organizing indices to split up 1.2G/s sweep and 5G/s sweep\n",
    "l=hunterFitsK2[0].astype(int).astype(str)\n",
    "m=np.empty(0)\n",
    "for i in range(0,len(l)):\n",
    "    m=np.append(m,l[i][:8]+'_'+l[i][8:])\n",
    "match=np.empty(0)\n",
    "for i in range(0,len(m)):\n",
    "    \n",
    "    match=np.append(match,int(np.where(allDates==m[i])[0]))\n",
    "    \n",
    "    \n",
    "matchingIndices=match.astype(int)\n",
    "hunterFitsK2Indices=allIndices[matchingIndices]"
   ]
  },
  {
   "cell_type": "markdown",
   "id": "a8ded7fb",
   "metadata": {},
   "source": [
    "\n",
    "# Here, I bring in EPR calibrations generated in the \"LoadEPR\" notebook"
   ]
  },
  {
   "cell_type": "code",
   "execution_count": 406,
   "id": "c3a6d507",
   "metadata": {},
   "outputs": [],
   "source": [
    "EPR=np.transpose(np.load(sys.path[0]+'/../../EPRArray/EPRCalibrationsV2.npy',allow_pickle=True))\n",
    "EPRdates=EPR[0][0:23]\n",
    "EPRpc=EPR[1][0:23]\n",
    "EPRds=EPR[3][0:23]\n",
    "\n",
    "eprDateStrings=EPR[0].astype(str)\n",
    "\n",
    "eprDates=np.empty(0)\n",
    "for i in eprDateStrings:\n",
    "    eprDates=np.append(eprDates,datetime.strptime(\"2022\"+i,\"%Y%m%d%H%M\"))\n",
    "\n",
    "pcCals=EPR[1]\n",
    "usCals=EPR[2]\n",
    "dsCals=EPR[3]"
   ]
  },
  {
   "cell_type": "code",
   "execution_count": 407,
   "id": "2e3a816e",
   "metadata": {},
   "outputs": [
    {
     "data": {
      "text/plain": [
       "23"
      ]
     },
     "execution_count": 407,
     "metadata": {},
     "output_type": "execute_result"
    }
   ],
   "source": [
    "len(EPRpc)"
   ]
  },
  {
   "cell_type": "code",
   "execution_count": 408,
   "id": "efbbfa6e",
   "metadata": {},
   "outputs": [
    {
     "data": {
      "text/plain": [
       "(array([ 0.,  0.,  0.,  0.,  0.,  0.,  0.,  1.,  0., 11.,  5.,  7.,  7.,\n",
       "         2.,  1.,  1.,  0.,  1.,  3.,  4.,  2.,  0.,  0.,  0.,  0.,  0.,\n",
       "         0.,  0.,  0.,  0.]),\n",
       " array([1.        , 1.06666667, 1.13333333, 1.2       , 1.26666667,\n",
       "        1.33333333, 1.4       , 1.46666667, 1.53333333, 1.6       ,\n",
       "        1.66666667, 1.73333333, 1.8       , 1.86666667, 1.93333333,\n",
       "        2.        , 2.06666667, 2.13333333, 2.2       , 2.26666667,\n",
       "        2.33333333, 2.4       , 2.46666667, 2.53333333, 2.6       ,\n",
       "        2.66666667, 2.73333333, 2.8       , 2.86666667, 2.93333333,\n",
       "        3.        ]),\n",
       " <BarContainer object of 30 artists>)"
      ]
     },
     "execution_count": 408,
     "metadata": {},
     "output_type": "execute_result"
    },
    {
     "data": {
      "image/png": "[encoded data removed]",
      "text/plain": [
       "<Figure size 640x480 with 1 Axes>"
      ]
     },
     "metadata": {},
     "output_type": "display_data"
    }
   ],
   "source": [
    "plt.hist(dsCals, bins=30, range=(1, 3))\n"
   ]
  },
  {
   "cell_type": "code",
   "execution_count": 409,
   "id": "4de4f7c2",
   "metadata": {},
   "outputs": [
    {
     "data": {
      "text/plain": [
       "49"
      ]
     },
     "execution_count": 409,
     "metadata": {},
     "output_type": "execute_result"
    }
   ],
   "source": [
    "len(eprDates)"
   ]
  },
  {
   "cell_type": "code",
   "execution_count": 410,
   "id": "2600d869",
   "metadata": {},
   "outputs": [],
   "source": [
    "Hdate2=hunterFitsK2[0].astype(int).astype(str)"
   ]
  },
  {
   "cell_type": "code",
   "execution_count": 411,
   "id": "21f215fb",
   "metadata": {},
   "outputs": [
    {
     "data": {
      "text/plain": [
       "array(['20221025171530', '20221022231115', '20221031155140',\n",
       "       '20221103035654', '20221030171612', '20221024014417',\n",
       "       '20221021180326', '20221031153259', '20221022230831',\n",
       "       '20221022222249', '20221029075930', '20221102230435',\n",
       "       '20221101203142', '20221103005750', '20221020171935',\n",
       "       '20221024134630', '20221020233411', '20221101134048',\n",
       "       '20221103063954', '20221101011358', '20221028220103',\n",
       "       '20221027045538', '20221021192155', '20221025041610',\n",
       "       '20221029151208', '20221022043508', '20221027085405',\n",
       "       '20221102190105', '20221021062218', '20221102024126',\n",
       "       '20221026071359', '20221102215536', '20221103045440',\n",
       "       '20221030194447', '20221019210059', '20221101223714',\n",
       "       '20221103021127', '20221031133110', '20221022214544',\n",
       "       '20221101063849', '20221019223620', '20221026045130',\n",
       "       '20221101071938', '20221023200557', '20221103042858',\n",
       "       '20221108100054', '20221020102745', '20221021184046',\n",
       "       '20221023083526', '20221031155002', '20221023153153',\n",
       "       '20221031024324', '20221031061145', '20221101182155',\n",
       "       '20221026194653', '20221102001144', '20221028030916',\n",
       "       '20221023152816', '20221021011506', '20221020112217',\n",
       "       '20221026132834', '20221031154820', '20221103040050',\n",
       "       '20221021114722', '20221029110305', '20221022124633',\n",
       "       '20221020020235', '20221102205737', '20221103005507',\n",
       "       '20221020140220', '20221102034320', '20221031154559',\n",
       "       '20221103000233', '20221103063812', '20221026233500',\n",
       "       '20221101001534', '20221022230958', '20221101011930',\n",
       "       '20221021182655', '20221101011312', '20221102034042',\n",
       "       '20221030230150', '20221028140230', '20221101005022',\n",
       "       '20221101172949', '20221028061035', '20221103061145',\n",
       "       '20221029000824', '20221101224052', '20221022214410',\n",
       "       '20221103060541', '20221022001428', '20221102001453',\n",
       "       '20221101080224', '20221028223237', '20221030133159',\n",
       "       '20221101072819', '20221103021346', '20221026100640',\n",
       "       '20221021150956', '20221101063928', '20221030012927',\n",
       "       '20221028104342', '20221031154905', '20221103045752',\n",
       "       '20221022223115', '20221025110658', '20221103072923',\n",
       "       '20221103075216', '20221102023752', '20221023134816',\n",
       "       '20221020190243', '20221021193734', '20221021192721',\n",
       "       '20221024061141', '20221031154516', '20221031155245',\n",
       "       '20221102005043', '20221101173525', '20221101203527',\n",
       "       '20221103042631', '20221020055242', '20221027160453',\n",
       "       '20221025012152', '20221031153558', '20221025195645',\n",
       "       '20221028181757', '20221028220839', '20221102230052',\n",
       "       '20221020184250', '20221023155545', '20221021183150',\n",
       "       '20221102071626', '20221031155337', '20221025220621',\n",
       "       '20221101063756', '20221022230623', '20221028222737',\n",
       "       '20221022163605', '20221101181717', '20221101075144',\n",
       "       '20221023155118', '20221020191244', '20221103072329',\n",
       "       '20221101064657', '20221022080817', '20221021034740',\n",
       "       '20221101125246', '20221027134823', '20221101065528',\n",
       "       '20221026161155', '20221030053216', '20221021180501',\n",
       "       '20221031224003', '20221102031827', '20221030092301',\n",
       "       '20221020161649', '20221102031532', '20221101010202',\n",
       "       '20221103000459', '20221022231442', '20221023134724',\n",
       "       '20221029175356', '20221022222909', '20221023111027',\n",
       "       '20221103031504', '20221029214411', '20221022231232',\n",
       "       '20221024224050', '20221023223838', '20221020122604',\n",
       "       '20221027192250', '20221023123449', '20221027231051',\n",
       "       '20221026002155', '20221103031640', '20221024101400',\n",
       "       '20221101012544', '20221101063707', '20221029000457',\n",
       "       '20221026021547', '20221102190422', '20221019194915',\n",
       "       '20221024164143', '20221020151116', '20221101133757',\n",
       "       '20221029134126', '20221024194306', '20221031155050',\n",
       "       '20221021091909', '20221031133409', '20221025073435',\n",
       "       '20221102215732', '20221023155327', '20221031154729',\n",
       "       '20221021183641', '20221103061710'], dtype='<U21')"
      ]
     },
     "execution_count": 411,
     "metadata": {},
     "output_type": "execute_result"
    }
   ],
   "source": [
    "Hdate2"
   ]
  },
  {
   "cell_type": "markdown",
   "id": "df6ac563",
   "metadata": {},
   "source": [
    "# Organizing NMRs "
   ]
  },
  {
   "cell_type": "code",
   "execution_count": 412,
   "id": "2ad2d642",
   "metadata": {},
   "outputs": [],
   "source": [
    "Hdate2=hunterFitsK2[0].astype(int).astype(str)\n",
    "\n",
    "Hdate2_objects=[datetime.strptime(date,\"%Y%m%d%H%M%S\") for date in Hdate2]\n",
    "Hdate2_array=np.array(Hdate2_objects)\n",
    "Hsorted_dates2=np.sort(Hdate2_array)\n",
    "Hindex_array2=[Hdate2_objects.index(date) for date in Hsorted_dates2]\n",
    "\n",
    "len(Hsorted_dates2)\n",
    "H2=hunterFitsK2[3][Hindex_array2]\n",
    "H2pc=hunterFitsK2[1][Hindex_array2]\n",
    "\n",
    "\n",
    "\n",
    "\n",
    "H2indices=hunterFitsK2Indices[Hindex_array2]\n",
    "checkerH2=np.where(H2<25)\n",
    "#checkerH2=np.where(H2<100)\n",
    "\n",
    "Hsorted_dates2=Hsorted_dates2[checkerH2][15:-1]\n",
    "H2=H2[checkerH2][15:-1]\n",
    "H2pc=H2pc[checkerH2][15:-1]\n",
    "H2indices=H2indices[checkerH2][15:-1]\n",
    "\n",
    "\n",
    "Hsorted_dates2=Hsorted_dates2[np.where(H2!=0)]\n",
    "H2=H2[np.where(H2!=0)]\n",
    "H2pc=H2pc[np.where(H2pc!=0)]\n",
    "H2indices=H2indices[np.where(H2!=0)]\n",
    "#plt.plot(Hsorted_dates2,H2)\n",
    "#plt.plot(Hsorted_dates2,H2pc)"
   ]
  },
  {
   "cell_type": "code",
   "execution_count": 413,
   "id": "b95db116",
   "metadata": {},
   "outputs": [
    {
     "data": {
      "text/plain": [
       "array([datetime.datetime(2022, 10, 20, 23, 34, 11),\n",
       "       datetime.datetime(2022, 10, 21, 1, 15, 6),\n",
       "       datetime.datetime(2022, 10, 21, 3, 47, 40),\n",
       "       datetime.datetime(2022, 10, 21, 6, 22, 18),\n",
       "       datetime.datetime(2022, 10, 21, 9, 19, 9),\n",
       "       datetime.datetime(2022, 10, 21, 11, 47, 22),\n",
       "       datetime.datetime(2022, 10, 21, 15, 9, 56),\n",
       "       datetime.datetime(2022, 10, 21, 18, 3, 26),\n",
       "       datetime.datetime(2022, 10, 21, 18, 5, 1),\n",
       "       datetime.datetime(2022, 10, 21, 18, 26, 55),\n",
       "       datetime.datetime(2022, 10, 21, 18, 31, 50),\n",
       "       datetime.datetime(2022, 10, 21, 18, 36, 41),\n",
       "       datetime.datetime(2022, 10, 21, 18, 40, 46),\n",
       "       datetime.datetime(2022, 10, 21, 19, 21, 55),\n",
       "       datetime.datetime(2022, 10, 21, 19, 27, 21),\n",
       "       datetime.datetime(2022, 10, 21, 19, 37, 34),\n",
       "       datetime.datetime(2022, 10, 22, 0, 14, 28),\n",
       "       datetime.datetime(2022, 10, 22, 4, 35, 8),\n",
       "       datetime.datetime(2022, 10, 22, 8, 8, 17),\n",
       "       datetime.datetime(2022, 10, 22, 12, 46, 33),\n",
       "       datetime.datetime(2022, 10, 22, 21, 44, 10),\n",
       "       datetime.datetime(2022, 10, 22, 21, 45, 44),\n",
       "       datetime.datetime(2022, 10, 23, 15, 31, 53),\n",
       "       datetime.datetime(2022, 10, 23, 15, 51, 18),\n",
       "       datetime.datetime(2022, 10, 23, 15, 53, 27),\n",
       "       datetime.datetime(2022, 10, 23, 15, 55, 45),\n",
       "       datetime.datetime(2022, 10, 23, 20, 5, 57),\n",
       "       datetime.datetime(2022, 10, 23, 22, 38, 38),\n",
       "       datetime.datetime(2022, 10, 24, 1, 44, 17),\n",
       "       datetime.datetime(2022, 10, 24, 6, 11, 41),\n",
       "       datetime.datetime(2022, 10, 24, 10, 14),\n",
       "       datetime.datetime(2022, 10, 24, 13, 46, 30),\n",
       "       datetime.datetime(2022, 10, 24, 16, 41, 43),\n",
       "       datetime.datetime(2022, 10, 24, 19, 43, 6),\n",
       "       datetime.datetime(2022, 10, 24, 22, 40, 50),\n",
       "       datetime.datetime(2022, 10, 25, 1, 21, 52),\n",
       "       datetime.datetime(2022, 10, 25, 4, 16, 10),\n",
       "       datetime.datetime(2022, 10, 25, 7, 34, 35),\n",
       "       datetime.datetime(2022, 10, 25, 11, 6, 58),\n",
       "       datetime.datetime(2022, 10, 25, 17, 15, 30),\n",
       "       datetime.datetime(2022, 10, 25, 19, 56, 45),\n",
       "       datetime.datetime(2022, 10, 25, 22, 6, 21),\n",
       "       datetime.datetime(2022, 10, 26, 0, 21, 55),\n",
       "       datetime.datetime(2022, 10, 26, 2, 15, 47),\n",
       "       datetime.datetime(2022, 10, 26, 4, 51, 30),\n",
       "       datetime.datetime(2022, 10, 26, 7, 13, 59),\n",
       "       datetime.datetime(2022, 10, 26, 10, 6, 40),\n",
       "       datetime.datetime(2022, 10, 26, 13, 28, 34),\n",
       "       datetime.datetime(2022, 10, 26, 16, 11, 55),\n",
       "       datetime.datetime(2022, 10, 26, 19, 46, 53),\n",
       "       datetime.datetime(2022, 10, 26, 23, 35),\n",
       "       datetime.datetime(2022, 10, 27, 4, 55, 38),\n",
       "       datetime.datetime(2022, 10, 27, 13, 48, 23),\n",
       "       datetime.datetime(2022, 10, 27, 16, 4, 53),\n",
       "       datetime.datetime(2022, 10, 27, 19, 22, 50),\n",
       "       datetime.datetime(2022, 10, 27, 23, 10, 51),\n",
       "       datetime.datetime(2022, 10, 28, 3, 9, 16),\n",
       "       datetime.datetime(2022, 10, 28, 6, 10, 35),\n",
       "       datetime.datetime(2022, 10, 28, 10, 43, 42),\n",
       "       datetime.datetime(2022, 10, 28, 14, 2, 30),\n",
       "       datetime.datetime(2022, 10, 28, 18, 17, 57),\n",
       "       datetime.datetime(2022, 10, 28, 22, 1, 3),\n",
       "       datetime.datetime(2022, 10, 28, 22, 8, 39),\n",
       "       datetime.datetime(2022, 10, 28, 22, 27, 37),\n",
       "       datetime.datetime(2022, 10, 28, 22, 32, 37),\n",
       "       datetime.datetime(2022, 10, 29, 0, 4, 57),\n",
       "       datetime.datetime(2022, 10, 29, 0, 8, 24),\n",
       "       datetime.datetime(2022, 10, 29, 7, 59, 30),\n",
       "       datetime.datetime(2022, 10, 29, 11, 3, 5),\n",
       "       datetime.datetime(2022, 10, 29, 13, 41, 26),\n",
       "       datetime.datetime(2022, 10, 29, 15, 12, 8),\n",
       "       datetime.datetime(2022, 10, 29, 17, 53, 56),\n",
       "       datetime.datetime(2022, 10, 29, 21, 44, 11),\n",
       "       datetime.datetime(2022, 10, 30, 1, 29, 27),\n",
       "       datetime.datetime(2022, 10, 30, 5, 32, 16),\n",
       "       datetime.datetime(2022, 10, 30, 9, 23, 1),\n",
       "       datetime.datetime(2022, 10, 30, 17, 16, 12),\n",
       "       datetime.datetime(2022, 10, 30, 19, 44, 47),\n",
       "       datetime.datetime(2022, 10, 30, 23, 1, 50),\n",
       "       datetime.datetime(2022, 10, 31, 13, 31, 10),\n",
       "       datetime.datetime(2022, 10, 31, 13, 34, 9),\n",
       "       datetime.datetime(2022, 10, 31, 15, 32, 59),\n",
       "       datetime.datetime(2022, 10, 31, 15, 35, 58),\n",
       "       datetime.datetime(2022, 10, 31, 15, 45, 16),\n",
       "       datetime.datetime(2022, 10, 31, 15, 45, 59),\n",
       "       datetime.datetime(2022, 10, 31, 15, 47, 29),\n",
       "       datetime.datetime(2022, 10, 31, 15, 48, 20),\n",
       "       datetime.datetime(2022, 10, 31, 15, 49, 5),\n",
       "       datetime.datetime(2022, 10, 31, 15, 50, 2),\n",
       "       datetime.datetime(2022, 10, 31, 15, 50, 50),\n",
       "       datetime.datetime(2022, 10, 31, 15, 51, 40),\n",
       "       datetime.datetime(2022, 10, 31, 15, 52, 45),\n",
       "       datetime.datetime(2022, 10, 31, 15, 53, 37),\n",
       "       datetime.datetime(2022, 10, 31, 22, 40, 3),\n",
       "       datetime.datetime(2022, 11, 1, 0, 15, 34),\n",
       "       datetime.datetime(2022, 11, 1, 0, 50, 22),\n",
       "       datetime.datetime(2022, 11, 1, 1, 2, 2),\n",
       "       datetime.datetime(2022, 11, 1, 1, 13, 12),\n",
       "       datetime.datetime(2022, 11, 1, 1, 13, 58),\n",
       "       datetime.datetime(2022, 11, 1, 1, 19, 30),\n",
       "       datetime.datetime(2022, 11, 1, 1, 25, 44),\n",
       "       datetime.datetime(2022, 11, 1, 6, 37, 7),\n",
       "       datetime.datetime(2022, 11, 1, 6, 37, 56),\n",
       "       datetime.datetime(2022, 11, 1, 6, 38, 49),\n",
       "       datetime.datetime(2022, 11, 1, 6, 39, 28),\n",
       "       datetime.datetime(2022, 11, 1, 6, 46, 57),\n",
       "       datetime.datetime(2022, 11, 1, 6, 55, 28),\n",
       "       datetime.datetime(2022, 11, 1, 7, 19, 38),\n",
       "       datetime.datetime(2022, 11, 1, 7, 28, 19),\n",
       "       datetime.datetime(2022, 11, 1, 7, 51, 44),\n",
       "       datetime.datetime(2022, 11, 1, 8, 2, 24),\n",
       "       datetime.datetime(2022, 11, 1, 12, 52, 46),\n",
       "       datetime.datetime(2022, 11, 1, 13, 37, 57),\n",
       "       datetime.datetime(2022, 11, 1, 13, 40, 48),\n",
       "       datetime.datetime(2022, 11, 1, 17, 29, 49),\n",
       "       datetime.datetime(2022, 11, 1, 17, 35, 25),\n",
       "       datetime.datetime(2022, 11, 1, 18, 17, 17),\n",
       "       datetime.datetime(2022, 11, 1, 18, 21, 55),\n",
       "       datetime.datetime(2022, 11, 1, 20, 31, 42),\n",
       "       datetime.datetime(2022, 11, 1, 20, 35, 27),\n",
       "       datetime.datetime(2022, 11, 1, 22, 37, 14),\n",
       "       datetime.datetime(2022, 11, 1, 22, 40, 52),\n",
       "       datetime.datetime(2022, 11, 2, 0, 11, 44),\n",
       "       datetime.datetime(2022, 11, 2, 0, 14, 53),\n",
       "       datetime.datetime(2022, 11, 2, 0, 50, 43),\n",
       "       datetime.datetime(2022, 11, 2, 2, 37, 52),\n",
       "       datetime.datetime(2022, 11, 2, 2, 41, 26),\n",
       "       datetime.datetime(2022, 11, 2, 3, 15, 32),\n",
       "       datetime.datetime(2022, 11, 2, 3, 18, 27),\n",
       "       datetime.datetime(2022, 11, 2, 3, 40, 42),\n",
       "       datetime.datetime(2022, 11, 2, 3, 43, 20),\n",
       "       datetime.datetime(2022, 11, 2, 7, 16, 26),\n",
       "       datetime.datetime(2022, 11, 2, 19, 4, 22),\n",
       "       datetime.datetime(2022, 11, 2, 20, 57, 37),\n",
       "       datetime.datetime(2022, 11, 2, 21, 55, 36),\n",
       "       datetime.datetime(2022, 11, 2, 21, 57, 32),\n",
       "       datetime.datetime(2022, 11, 2, 23, 0, 52),\n",
       "       datetime.datetime(2022, 11, 2, 23, 4, 35),\n",
       "       datetime.datetime(2022, 11, 3, 0, 2, 33),\n",
       "       datetime.datetime(2022, 11, 3, 0, 4, 59),\n",
       "       datetime.datetime(2022, 11, 3, 0, 55, 7),\n",
       "       datetime.datetime(2022, 11, 3, 0, 57, 50),\n",
       "       datetime.datetime(2022, 11, 3, 2, 11, 27),\n",
       "       datetime.datetime(2022, 11, 3, 2, 13, 46),\n",
       "       datetime.datetime(2022, 11, 3, 3, 15, 4),\n",
       "       datetime.datetime(2022, 11, 3, 3, 16, 40),\n",
       "       datetime.datetime(2022, 11, 3, 3, 56, 54),\n",
       "       datetime.datetime(2022, 11, 3, 4, 0, 50),\n",
       "       datetime.datetime(2022, 11, 3, 4, 26, 31),\n",
       "       datetime.datetime(2022, 11, 3, 4, 28, 58),\n",
       "       datetime.datetime(2022, 11, 3, 4, 54, 40),\n",
       "       datetime.datetime(2022, 11, 3, 4, 57, 52),\n",
       "       datetime.datetime(2022, 11, 3, 6, 5, 41),\n",
       "       datetime.datetime(2022, 11, 3, 6, 11, 45),\n",
       "       datetime.datetime(2022, 11, 3, 6, 17, 10),\n",
       "       datetime.datetime(2022, 11, 3, 6, 38, 12),\n",
       "       datetime.datetime(2022, 11, 3, 6, 39, 54),\n",
       "       datetime.datetime(2022, 11, 3, 7, 23, 29),\n",
       "       datetime.datetime(2022, 11, 3, 7, 29, 23),\n",
       "       datetime.datetime(2022, 11, 3, 7, 52, 16)], dtype=object)"
      ]
     },
     "execution_count": 413,
     "metadata": {},
     "output_type": "execute_result"
    }
   ],
   "source": [
    "Hsorted_dates2"
   ]
  },
  {
   "cell_type": "code",
   "execution_count": 414,
   "id": "077973f3",
   "metadata": {},
   "outputs": [
    {
     "data": {
      "text/plain": [
       "160"
      ]
     },
     "execution_count": 414,
     "metadata": {},
     "output_type": "execute_result"
    }
   ],
   "source": [
    "len(H2)"
   ]
  },
  {
   "cell_type": "code",
   "execution_count": 415,
   "id": "6183a500",
   "metadata": {},
   "outputs": [
    {
     "data": {
      "text/plain": [
       "160"
      ]
     },
     "execution_count": 415,
     "metadata": {},
     "output_type": "execute_result"
    }
   ],
   "source": [
    "len(H2pc)"
   ]
  },
  {
   "cell_type": "code",
   "execution_count": 416,
   "id": "0f0b1a28",
   "metadata": {},
   "outputs": [
    {
     "data": {
      "text/plain": [
       "array([ 111,  449, 1151,  238, 1512,  474,  751,   43, 1200,  605, 1023,\n",
       "       1540,  376,  179,  881,  877,  694,  195, 1136,  525,  679,  326,\n",
       "       1274,  389, 1104, 1531, 1017,  355, 1340,   40,  885, 1387,  110,\n",
       "       1445, 1489, 1330,  978,  193, 1518,  797,    2,  985, 1049, 1367,\n",
       "       1432,  333,  275,  734,  460, 1190,  433,  579,  166, 1164,  964,\n",
       "       1358, 1365,  440,  653,  769,  638,  989,  160,  991, 1060,  712,\n",
       "       1430,  664,   86,  522, 1481,  194, 1276, 1322,  767, 1191, 1230,\n",
       "         33,  292,  637,  320, 1513,   50,  982,  889,  563, 1532,  472,\n",
       "        775,  385, 1498,    6,  903, 1047, 1208,  584,  639, 1255,  620,\n",
       "        148,  604, 1411, 1415, 1051,  328,  758, 1133, 1183,  344,  729,\n",
       "       1077,  711, 1163, 1477,  116,  647,  947, 1076,  424,   97,  948,\n",
       "        308,  675,  437,  702,  906,  853,  239, 1251, 1214,  628,  561,\n",
       "       1034,  233, 1440,  539,  288, 1523, 1000,   92,  568, 1259,  552,\n",
       "        104,  314,  733, 1320, 1379,   31,  473,  951,  366,  289,  778,\n",
       "        684,  662, 1552,  578,  139, 1130])"
      ]
     },
     "execution_count": 416,
     "metadata": {},
     "output_type": "execute_result"
    }
   ],
   "source": [
    "H2indices"
   ]
  },
  {
   "cell_type": "code",
   "execution_count": 417,
   "id": "04b1c5a6",
   "metadata": {},
   "outputs": [
    {
     "name": "stdout",
     "output_type": "stream",
     "text": [
      "No settings file at  26\n"
     ]
    }
   ],
   "source": [
    "xvar=np.empty(0)\n",
    "H2indices1p2G=np.empty(0)\n",
    "H2indices5G=np.empty(0)\n",
    "\n",
    "H2refine1p2=np.empty(0)\n",
    "H2refine5=np.empty(0)\n",
    "\n",
    "for i in range(0,len(H2indices)):\n",
    "    try:\n",
    "        xvar=np.append(xvar,GrabSettingsAtIndex(H2indices[i])[4][1])\n",
    "        d=GrabSettingsAtIndex(H2indices[i])[4][1]\n",
    "       \n",
    "        if d==1.2:\n",
    "            H2indices1p2G=np.append(H2indices1p2G,H2indices[i])\n",
    "            H2refine1p2=np.append(H2refine1p2,i)\n",
    "        if d==5:\n",
    "            H2indices5G=np.append(H2indices5G,H2indices[i])\n",
    "            H2refine5=np.append(H2refine5,i)\n",
    "\n",
    "    except:\n",
    "        print(\"No settings file at \", i)"
   ]
  },
  {
   "cell_type": "code",
   "execution_count": 418,
   "id": "e86ad9de",
   "metadata": {},
   "outputs": [
    {
     "data": {
      "text/plain": [
       "153"
      ]
     },
     "execution_count": 418,
     "metadata": {},
     "output_type": "execute_result"
    }
   ],
   "source": [
    "len(H2refine5)+len(H2refine1p2)"
   ]
  },
  {
   "cell_type": "code",
   "execution_count": null,
   "id": "3023a7f2",
   "metadata": {},
   "outputs": [],
   "source": []
  },
  {
   "cell_type": "code",
   "execution_count": null,
   "id": "bd79c181",
   "metadata": {},
   "outputs": [],
   "source": []
  },
  {
   "cell_type": "code",
   "execution_count": 419,
   "id": "76713916",
   "metadata": {},
   "outputs": [
    {
     "data": {
      "text/plain": [
       "array([  0.,   1.,   2.,   3.,   4.,   5.,   6.,   7.,   8.,   9.,  10.,\n",
       "        11.,  12., 113., 114., 115., 116., 117., 118., 119., 120., 121.,\n",
       "       122., 123., 124., 125., 128., 129., 148., 149., 150., 151., 152.,\n",
       "       153.])"
      ]
     },
     "execution_count": 419,
     "metadata": {},
     "output_type": "execute_result"
    }
   ],
   "source": [
    "H2refine1p2"
   ]
  },
  {
   "cell_type": "code",
   "execution_count": 420,
   "id": "6d974bd5",
   "metadata": {},
   "outputs": [
    {
     "data": {
      "text/plain": [
       "array([ 111.,  449., 1151.,  238., 1512.,  474.,  751.,   43., 1200.,\n",
       "        605., 1023., 1540.,  376., 1477.,  116.,  647.,  947., 1076.,\n",
       "        424.,   97.,  948.,  308.,  675.,  437.,  702.,  906., 1251.,\n",
       "       1214.,   31.,  473.,  951.,  366.,  289.,  778.])"
      ]
     },
     "execution_count": 420,
     "metadata": {},
     "output_type": "execute_result"
    }
   ],
   "source": [
    "H2indices1p2G"
   ]
  },
  {
   "cell_type": "code",
   "execution_count": 421,
   "id": "64a63798",
   "metadata": {},
   "outputs": [
    {
     "data": {
      "text/plain": [
       "array([ 881.,  679.,  326., 1274.,  389., 1104., 1531.,  355., 1340.,\n",
       "         40.,  885., 1387.,  110., 1445., 1489., 1330.,  978.,  193.,\n",
       "       1518.,  797.,    2.,  985., 1049., 1367., 1432.,  333.,  275.,\n",
       "        734.,  460., 1190.,  433.,  579.,  166., 1164.,  964., 1358.,\n",
       "       1365.,  440.,  653.,  769.,  638.,  989.,  160.,  991., 1060.,\n",
       "        712., 1430.,  664.,   86.,  522., 1481.,  194., 1276., 1322.,\n",
       "        767., 1191., 1230.,   33.,  292.,  637.,  320., 1513.,   50.,\n",
       "        982.,  889.,  563., 1532.,  472.,  775.,  385., 1498.,    6.,\n",
       "        903., 1047., 1208.,  584.,  639., 1255.,  620.,  148.,  604.,\n",
       "       1411., 1415., 1051.,  328.,  758., 1133., 1183.,  344.,  729.,\n",
       "       1077.,  711., 1163.,  853.,  239.,  628.,  561., 1034.,  233.,\n",
       "       1440.,  539.,  288., 1523., 1000.,   92.,  568., 1259.,  552.,\n",
       "        104.,  314.,  733., 1320., 1379.,  684.,  662., 1552.,  578.,\n",
       "        139., 1130.])"
      ]
     },
     "execution_count": 421,
     "metadata": {},
     "output_type": "execute_result"
    }
   ],
   "source": [
    "H2indices5G"
   ]
  },
  {
   "cell_type": "code",
   "execution_count": 422,
   "id": "88d922ac",
   "metadata": {},
   "outputs": [
    {
     "name": "stdout",
     "output_type": "stream",
     "text": [
      "[1.2 1.2 1.2 1.2 1.2 1.2 1.2 1.2 1.2 1.2 1.2 1.2 1.2 2.4 5.  2.4 2.4 2.4\n",
      " 2.4 2.4 5.  5.  5.  5.  5.  5.  5.  5.  5.  5.  5.  5.  5.  5.  5.  5.\n",
      " 5.  5.  5.  5.  5.  5.  5.  5.  5.  5.  5.  5.  5.  5.  5.  5.  5.  5.\n",
      " 5.  5.  5.  5.  5.  5.  5.  5.  5.  5.  5.  5.  5.  5.  5.  5.  5.  5.\n",
      " 5.  5.  5.  5.  5.  5.  5.  5.  5.  5.  5.  5.  5.  5.  5.  5.  5.  5.\n",
      " 5.  5.  5.  5.  5.  5.  5.  5.  5.  5.  5.  5.  5.  5.  5.  5.  5.  5.\n",
      " 5.  5.  5.  5.  1.2 1.2 1.2 1.2 1.2 1.2 1.2 1.2 1.2 1.2 1.2 1.2 1.2 5.\n",
      " 5.  1.2 1.2 5.  5.  5.  5.  5.  5.  5.  5.  5.  5.  5.  5.  5.  5.  5.\n",
      " 5.  5.  5.  1.2 1.2 1.2 1.2 1.2 1.2 5.  5.  5.  5.  5.  5. ]\n"
     ]
    }
   ],
   "source": [
    "print(xvar)"
   ]
  },
  {
   "cell_type": "code",
   "execution_count": 423,
   "id": "a35d26ac",
   "metadata": {},
   "outputs": [],
   "source": [
    "H21p2=H2[H2refine1p2.astype(int)]\n",
    "H25=H2[H2refine5.astype(int)]\n",
    "\n",
    "\n",
    "H2pc1p2=H2pc[H2refine1p2.astype(int)]\n",
    "H2pc5=H2pc[H2refine5.astype(int)]\n",
    "\n",
    "H2dates1p2=Hsorted_dates2[H2refine1p2.astype(int)]\n",
    "H2dates5=Hsorted_dates2[H2refine5.astype(int)]"
   ]
  },
  {
   "cell_type": "code",
   "execution_count": 424,
   "id": "b48b7a3e",
   "metadata": {},
   "outputs": [
    {
     "data": {
      "text/plain": [
       "153"
      ]
     },
     "execution_count": 424,
     "metadata": {},
     "output_type": "execute_result"
    }
   ],
   "source": [
    "len(H21p2)+len(H25)"
   ]
  },
  {
   "cell_type": "code",
   "execution_count": 425,
   "id": "be7676da",
   "metadata": {},
   "outputs": [],
   "source": [
    "sweepRatios=H2pc/H2\n",
    "sweepRatios1p2=H2pc1p2/H21p2\n",
    "sweepRatios5=H2pc5/H25"
   ]
  },
  {
   "cell_type": "code",
   "execution_count": 426,
   "id": "dacfd62b",
   "metadata": {},
   "outputs": [
    {
     "data": {
      "text/plain": [
       "160"
      ]
     },
     "execution_count": 426,
     "metadata": {},
     "output_type": "execute_result"
    }
   ],
   "source": [
    "len(sweepRatios)"
   ]
  },
  {
   "cell_type": "code",
   "execution_count": 427,
   "id": "09af5d87",
   "metadata": {},
   "outputs": [
    {
     "data": {
      "text/plain": [
       "34"
      ]
     },
     "execution_count": 427,
     "metadata": {},
     "output_type": "execute_result"
    }
   ],
   "source": [
    "len(sweepRatios1p2)"
   ]
  },
  {
   "cell_type": "code",
   "execution_count": 428,
   "id": "259ddeac",
   "metadata": {},
   "outputs": [
    {
     "data": {
      "text/plain": [
       "119"
      ]
     },
     "execution_count": 428,
     "metadata": {},
     "output_type": "execute_result"
    }
   ],
   "source": [
    "len(sweepRatios5)"
   ]
  },
  {
   "cell_type": "markdown",
   "id": "a3d47d80",
   "metadata": {},
   "source": [
    "# Here I bring in EPR NMR before and after sweeps"
   ]
  },
  {
   "cell_type": "markdown",
   "id": "a13abab9",
   "metadata": {},
   "source": [
    "### This is all Calibrations"
   ]
  },
  {
   "cell_type": "code",
   "execution_count": 429,
   "id": "838c1571",
   "metadata": {},
   "outputs": [],
   "source": [
    "myFits=np.transpose(hunterFitsK2)\n",
    "dates=myFits[:,0].astype(int).astype(str)\n",
    "date_objects = [datetime.strptime(date, \"%Y%m%d%H%M%S\") for date in dates]\n",
    "dates_array = np.array(date_objects)\n",
    "sorted_dates = np.sort(dates_array)\n",
    "index_array = [date_objects.index(date) for date in sorted_dates]\n",
    "HunterKin2FitsOrdered = np.transpose(np.take(myFits, index_array, axis=0))\n",
    "\n",
    "\n",
    "dateList=np.empty(0)\n",
    "RatioB=np.empty(0)\n",
    "RatioA=np.empty(0)\n",
    "beforeEPRindices=np.empty(0)\n",
    "afterEPRindices=np.empty(0)\n",
    "for i in range(0,len(HunterKin2FitsOrdered[0])):\n",
    "    dateList=np.append(dateList,str(int(HunterKin2FitsOrdered[0][i]))[:8]+'_'+str(int(HunterKin2FitsOrdered[0][i]))[8:])\n",
    "for i in range(0,len(EPRdates)):\n",
    "    b,a=FindNMRsB4andAft('2022'+str(EPRdates[i]),dateList)\n",
    "    beforeEPRindices=np.append(beforeEPRindices,b)\n",
    "    afterEPRindices=np.append(afterEPRindices,a)\n",
    "    #print(i)\n",
    "    RatioB=np.append(RatioB,HunterKin2FitsOrdered[1][b]/HunterKin2FitsOrdered[3][b])\n",
    "    #print(HunterKin2FitsOrdered[1][b]/HunterKin2FitsOrdered[3][b])\n",
    "    RatioA=np.append(RatioA,HunterKin2FitsOrdered[1][a]/HunterKin2FitsOrdered[3][a])\n",
    "    #print(HunterKin2FitsOrdered[1][a]/HunterKin2FitsOrdered[3][a])"
   ]
  },
  {
   "cell_type": "code",
   "execution_count": null,
   "id": "e88166fb",
   "metadata": {},
   "outputs": [],
   "source": []
  },
  {
   "cell_type": "code",
   "execution_count": null,
   "id": "86915769",
   "metadata": {},
   "outputs": [],
   "source": []
  },
  {
   "cell_type": "code",
   "execution_count": 430,
   "id": "2a926aae",
   "metadata": {},
   "outputs": [],
   "source": [
    "#start to organize for 1.2G/s and 5G/s\n",
    "\n",
    "#nmrDates\n",
    "#Very inefficient coding on my part. The way my functions are setup, I have to unorder an ordered array to comply with\n",
    "#the GrabSettings function\n",
    "\n",
    "\n",
    "\n",
    "z=HunterKin2FitsOrdered[0].astype(int).astype(str)\n",
    "y=np.empty(0)\n",
    "for i in range(0,len(z)):\n",
    "    y=np.append(y,z[i][:8]+'_'+z[i][8:])\n",
    "    \n",
    "middleManB=y[beforeEPRindices.astype(int)]\n",
    "middleManA=y[afterEPRindices.astype(int)]\n",
    "np.where(allDates==middleManB[0])[0][0]\n",
    "bIndices=np.empty(0)\n",
    "aIndices=np.empty(0)\n",
    "for i in range(0,len(middleManB)):\n",
    "    bIndices=np.append(bIndices,np.where(allDates==middleManB[i])[0][0])\n",
    "    \n",
    "for i in range(0,len(middleManA)):\n",
    "    aIndices=np.append(aIndices,np.where(allDates==middleManA[i])[0][0])\n",
    "bIndices=bIndices.astype(int)\n",
    "aIndices=aIndices.astype(int)"
   ]
  },
  {
   "cell_type": "code",
   "execution_count": 431,
   "id": "3a76bfff",
   "metadata": {},
   "outputs": [],
   "source": [
    "#Using only calibrations with same settings\n",
    "refineEPR1p2G=np.empty(0)\n",
    "refineEPR5G=np.empty(0)\n",
    "for i in range(0,len(bIndices)):\n",
    "    x=GrabSettingsAtIndex(int(bIndices[i]))\n",
    "    if x[4][1]==5:\n",
    "        refineEPR5G=np.append(refineEPR5G,i)\n",
    "    if x[4][1]==1.2:\n",
    "        refineEPR1p2G=np.append(refineEPR1p2G,i)\n",
    "refineEPR1p2G=refineEPR1p2G.astype(int)\n",
    "refineEPR5G=refineEPR5G.astype(int)"
   ]
  },
  {
   "cell_type": "markdown",
   "id": "059a1019",
   "metadata": {},
   "source": [
    "### This is split for 1.2G/s and 5G/s"
   ]
  },
  {
   "cell_type": "code",
   "execution_count": 432,
   "id": "1b0cc38d",
   "metadata": {},
   "outputs": [],
   "source": [
    "EPRdates1p2=EPRdates[refineEPR1p2G]\n",
    "EPRdates5=EPRdates[refineEPR5G]"
   ]
  },
  {
   "cell_type": "code",
   "execution_count": 433,
   "id": "956b6675",
   "metadata": {},
   "outputs": [
    {
     "data": {
      "text/plain": [
       "array([10201910, 11020013, 11020316, 11020317, 11022156], dtype=object)"
      ]
     },
     "execution_count": 433,
     "metadata": {},
     "output_type": "execute_result"
    }
   ],
   "source": [
    "EPRdates1p2"
   ]
  },
  {
   "cell_type": "code",
   "execution_count": 434,
   "id": "9b0737f4",
   "metadata": {},
   "outputs": [
    {
     "data": {
      "text/plain": [
       "array([10211829, 10311332, 10311533, 11011817, 11011818], dtype=object)"
      ]
     },
     "execution_count": 434,
     "metadata": {},
     "output_type": "execute_result"
    }
   ],
   "source": [
    "EPRdates5"
   ]
  },
  {
   "cell_type": "code",
   "execution_count": 435,
   "id": "59664420",
   "metadata": {},
   "outputs": [],
   "source": [
    "myFits=np.transpose(hunterFitsK2)\n",
    "dates=myFits[:,0].astype(int).astype(str)\n",
    "date_objects = [datetime.strptime(date, \"%Y%m%d%H%M%S\") for date in dates]\n",
    "dates_array = np.array(date_objects)\n",
    "sorted_dates = np.sort(dates_array)\n",
    "index_array = [date_objects.index(date) for date in sorted_dates]\n",
    "HunterKin2FitsOrdered = np.transpose(np.take(myFits, index_array, axis=0))\n",
    "\n",
    "\n",
    "dateList1p2=np.empty(0)\n",
    "RatioB1p2=np.empty(0)\n",
    "RatioA1p2=np.empty(0)\n",
    "beforeEPRindices1p2=np.empty(0)\n",
    "afterEPRindices1p2=np.empty(0)\n",
    "\n",
    "dateList5=np.empty(0)\n",
    "RatioB5=np.empty(0)\n",
    "RatioA5=np.empty(0)\n",
    "beforeEPRindices5=np.empty(0)\n",
    "afterEPRindices5=np.empty(0)\n",
    "for i in range(0,len(HunterKin2FitsOrdered[0])):\n",
    "    dateList=np.append(dateList,str(int(HunterKin2FitsOrdered[0][i]))[:8]+'_'+str(int(HunterKin2FitsOrdered[0][i]))[8:])\n",
    "\n",
    "#1.2G/s    \n",
    "for i in range(0,len(EPRdates1p2)):\n",
    "    b,a=FindNMRsB4andAft('2022'+str(EPRdates1p2[i]),dateList)\n",
    "    beforeEPRindices1p2=np.append(beforeEPRindices1p2,b)\n",
    "    afterEPRindices1p2=np.append(afterEPRindices1p2,a)\n",
    "    #print(i)\n",
    "    RatioB1p2=np.append(RatioB1p2,HunterKin2FitsOrdered[1][b]/HunterKin2FitsOrdered[3][b])\n",
    "    #print(HunterKin2FitsOrdered[1][b]/HunterKin2FitsOrdered[3][b])\n",
    "    RatioA1p2=np.append(RatioA1p2,HunterKin2FitsOrdered[1][a]/HunterKin2FitsOrdered[3][a])\n",
    "    #print(HunterKin2FitsOrdered[1][a]/HunterKin2FitsOrdered[3][a])\n",
    "\n",
    "#5G/s    \n",
    "for i in range(0,len(EPRdates5)):\n",
    "    b,a=FindNMRsB4andAft('2022'+str(EPRdates5[i]),dateList)\n",
    "    beforeEPRindices5=np.append(beforeEPRindices5,b)\n",
    "    afterEPRindices=np.append(afterEPRindices5,a)\n",
    "    #print(i)\n",
    "    RatioB5=np.append(RatioB5,HunterKin2FitsOrdered[1][b]/HunterKin2FitsOrdered[3][b])\n",
    "    #print(HunterKin2FitsOrdered[1][b]/HunterKin2FitsOrdered[3][b])\n",
    "    RatioA5=np.append(RatioA5,HunterKin2FitsOrdered[1][a]/HunterKin2FitsOrdered[3][a])\n",
    "    #print(HunterKin2FitsOrdered[1][a]/HunterKin2FitsOrdered[3][a])"
   ]
  },
  {
   "cell_type": "code",
   "execution_count": 436,
   "id": "c4a29f9d",
   "metadata": {},
   "outputs": [
    {
     "data": {
      "text/plain": [
       "23"
      ]
     },
     "execution_count": 436,
     "metadata": {},
     "output_type": "execute_result"
    }
   ],
   "source": [
    "len(EPRdates)"
   ]
  },
  {
   "cell_type": "code",
   "execution_count": 437,
   "id": "2bfa1504",
   "metadata": {},
   "outputs": [
    {
     "data": {
      "text/plain": [
       "23"
      ]
     },
     "execution_count": 437,
     "metadata": {},
     "output_type": "execute_result"
    }
   ],
   "source": [
    "len(beforeEPRindices)"
   ]
  },
  {
   "cell_type": "markdown",
   "id": "6382f412",
   "metadata": {},
   "source": [
    "# EPR Density Corrections for 1.2G/s and 5G/s"
   ]
  },
  {
   "cell_type": "raw",
   "id": "91a1fb50",
   "metadata": {},
   "source": [
    "V_pc\t306.1659\t\tfill density: 7.38659\n",
    "V_tt\t44.8700\t\t  \n",
    "V_tc\t160.9000        fill pressure: 6285.2 torr"
   ]
  },
  {
   "cell_type": "code",
   "execution_count": 438,
   "id": "c45c2436",
   "metadata": {},
   "outputs": [
    {
     "data": {
      "text/plain": [
       "23"
      ]
     },
     "execution_count": 438,
     "metadata": {},
     "output_type": "execute_result"
    }
   ],
   "source": [
    "len(RatioB)"
   ]
  },
  {
   "cell_type": "code",
   "execution_count": 439,
   "id": "95092991",
   "metadata": {},
   "outputs": [
    {
     "data": {
      "text/plain": [
       "23"
      ]
     },
     "execution_count": 439,
     "metadata": {},
     "output_type": "execute_result"
    }
   ],
   "source": [
    "len(EPRds)"
   ]
  },
  {
   "cell_type": "markdown",
   "id": "1266a9dc",
   "metadata": {},
   "source": [
    "### 1.2G/s"
   ]
  },
  {
   "cell_type": "code",
   "execution_count": 440,
   "id": "e8437404",
   "metadata": {},
   "outputs": [],
   "source": [
    "EPRds1p2=EPRds[refineEPR1p2G]"
   ]
  },
  {
   "cell_type": "code",
   "execution_count": 441,
   "id": "9653afcd",
   "metadata": {},
   "outputs": [
    {
     "data": {
      "text/plain": [
       "array([0.25042517, 0.26364197, 0.25724633, 0.25724633, 0.23281334])"
      ]
     },
     "execution_count": 441,
     "metadata": {},
     "output_type": "execute_result"
    }
   ],
   "source": [
    "RatioB1p2"
   ]
  },
  {
   "cell_type": "code",
   "execution_count": 442,
   "id": "c4c533d5",
   "metadata": {
    "scrolled": false
   },
   "outputs": [
    {
     "name": "stdout",
     "output_type": "stream",
     "text": [
      "This better be 1.0 -->  1.0\n",
      "6.513525389796749   5.766833302423371\n"
     ]
    },
    {
     "data": {
      "image/png": "[encoded data removed]",
      "text/plain": [
       "<Figure size 640x480 with 1 Axes>"
      ]
     },
     "metadata": {},
     "output_type": "display_data"
    }
   ],
   "source": [
    "EPRdates1p2=EPRdates[refineEPR1p2G]\n",
    "EPRdates5=EPRdates[refineEPR5G]\n",
    "C2=306.1659 #V_PC\n",
    "C3=44.8700 #V_TT\n",
    "C4=160.9000 #V_TC\n",
    "C6=878.7170 #kHz/Gauss\n",
    "C7=4.8376 #cbar/(kHz/G)\n",
    "F2=7.38658534932298 #Fill Density\n",
    "F3=265 #ref. T_pc\n",
    "F4=31.5 #ref. T_tc\n",
    "F51p2=.23448744 #ref_ratio\n",
    "\n",
    "I2=C2*(F4+273.15)/(C2*(F4+273.15)+(C4+C3)*(F3+273.15)) #f_pc\n",
    "I3=(C4+C3)*(F3+273.15)/(C2*(F4+273.15)+(C4+C3)*(F3+273.15)) #f_tc\n",
    "print('This better be 1.0 --> ',I2+I3)\n",
    "\n",
    "#T_pc\n",
    "N=np.empty(0)\n",
    "O=np.empty(0)\n",
    "for i in range(0,len(RatioB1p2)):\n",
    "    N=np.append(N,(F51p2/RatioB1p2[i])*F3)\n",
    "    O=np.append(O,F4)\n",
    "\n",
    "#alpha\n",
    "R=np.empty(0)\n",
    "for i in range(0,len(RatioB1p2)):\n",
    "    R=np.append(R,1/((F51p2/RatioB1p2[i])*(1-I2)+I2))\n",
    "\n",
    "#beta\n",
    "S=np.empty(0)\n",
    "for i in range(0,len(RatioB1p2)):\n",
    "    S=np.append(S,(F51p2/RatioB1p2[i])/((F51p2/RatioB1p2[i])*I3+1-I3))\n",
    "\n",
    "#f_pc\n",
    "T=np.empty(0)\n",
    "for i in range(0,len(RatioB1p2)):\n",
    "    T=np.append(T,R[i]*I2)\n",
    "\n",
    "#f_tc\n",
    "U=np.empty(0)\n",
    "for i in range(0,len(RatioB1p2)):\n",
    "    U=np.append(U,S[i]*I3)\n",
    "\n",
    "adjDS1p2=EPRds1p2*S\n",
    "EPRdates1p2=EPRdates1p2[np.where(adjDS1p2!=0)]\n",
    "EPRds1p2=EPRds1p2[np.where(adjDS1p2!=0)]\n",
    "adjDS1p2=adjDS1p2[np.where(adjDS1p2!=0)]\n",
    "#adjPC=EPRpc*R\n",
    "#adjPC=adjPC[np.where(adjPC!=0)]\n",
    "dsBaseLine1p2=EPRds1p2[np.where(EPRds1p2!=0)]\n",
    "\n",
    "FinalEPRds1p2=np.mean(adjDS1p2)\n",
    "FinalEPRdsE1p2=np.std(adjDS1p2)\n",
    "dsNewHist=plt.hist(adjDS1p2)\n",
    "dsHist=plt.hist(dsBaseLine1p2)\n",
    "print(100*np.std(adjDS1p2)/np.mean(adjDS1p2),' ',100*np.std(dsBaseLine1p2)/np.mean(adjDS1p2))"
   ]
  },
  {
   "cell_type": "code",
   "execution_count": 443,
   "id": "199d9b0b",
   "metadata": {},
   "outputs": [
    {
     "name": "stdout",
     "output_type": "stream",
     "text": [
      "This better be 1.0 -->  1.0\n"
     ]
    }
   ],
   "source": [
    "\n",
    "#add on november 12 \n",
    "\n",
    "#EPRdates1p2=EPRdates[refineEPR1p2G]\n",
    "#EPRdates5=EPRdates[refineEPR5G]\n",
    "C2=306.1659 #V_PC\n",
    "C3=44.8700 #V_TT\n",
    "C4=160.9000 #V_TC\n",
    "C6=878.7170 #kHz/Gauss\n",
    "C7=4.8376 #cbar/(kHz/G)\n",
    "F2=7.38658534932298 #Fill Density\n",
    "F3=265 #ref. T_pc\n",
    "F4=31.5 #ref. T_tc\n",
    "F51p2=.23448744 #ref_ratio\n",
    "\n",
    "I2=C2*(F4+273.15)/(C2*(F4+273.15)+(C4+C3)*(F3+273.15)) #f_pc\n",
    "I3=(C4+C3)*(F3+273.15)/(C2*(F4+273.15)+(C4+C3)*(F3+273.15)) #f_tc\n",
    "print('This better be 1.0 --> ',I2+I3)\n",
    "\n",
    "#T_pc\n",
    "N=np.empty(0)\n",
    "O=np.empty(0)\n",
    "for i in range(0,len(sweepRatios1p2)):\n",
    "    N=np.append(N,(F51p2/sweepRatios1p2[i])*F3)\n",
    "    O=np.append(O,F4)\n",
    "\n",
    "#alpha\n",
    "R=np.empty(0)\n",
    "for i in range(0,len(sweepRatios1p2)):\n",
    "    R=np.append(R,1/((F51p2/sweepRatios1p2[i])*(1-I2)+I2))\n",
    "\n",
    "#beta\n",
    "S=np.empty(0)\n",
    "for i in range(0,len(sweepRatios1p2)):\n",
    "    S=np.append(S,(F51p2/sweepRatios1p2[i])/((F51p2/sweepRatios1p2[i])*I3+1-I3))\n",
    "\n",
    "#f_pc\n",
    "T=np.empty(0)\n",
    "for i in range(0,len(sweepRatios1p2)):\n",
    "    T=np.append(T,R[i]*I2)\n",
    "\n",
    "#f_tc\n",
    "U=np.empty(0)\n",
    "for i in range(0,len(sweepRatios1p2)):\n",
    "    U=np.append(U,S[i]*I3)\n",
    "    \n",
    "newEPRs1p2=FinalEPRds1p2/S"
   ]
  },
  {
   "cell_type": "code",
   "execution_count": 444,
   "id": "98b7ff98",
   "metadata": {},
   "outputs": [],
   "source": [
    "from math import *"
   ]
  },
  {
   "cell_type": "code",
   "execution_count": 445,
   "id": "63209704",
   "metadata": {},
   "outputs": [
    {
     "data": {
      "text/plain": [
       "0.03181392017010675"
      ]
     },
     "execution_count": 445,
     "metadata": {},
     "output_type": "execute_result"
    }
   ],
   "source": [
    "FinalEPRdsE1p2/sqrt(11)"
   ]
  },
  {
   "cell_type": "code",
   "execution_count": 446,
   "id": "eed4cd26",
   "metadata": {},
   "outputs": [
    {
     "data": {
      "text/plain": [
       "5"
      ]
     },
     "execution_count": 446,
     "metadata": {},
     "output_type": "execute_result"
    }
   ],
   "source": [
    "len(EPRds1p2)"
   ]
  },
  {
   "cell_type": "code",
   "execution_count": 447,
   "id": "7acd64c0",
   "metadata": {},
   "outputs": [
    {
     "data": {
      "image/png": "[encoded data removed]",
      "text/plain": [
       "<Figure size 640x480 with 1 Axes>"
      ]
     },
     "metadata": {},
     "output_type": "display_data"
    }
   ],
   "source": [
    "oldPerc=str(np.round(np.std(EPRds1p2)/np.mean(EPRds1p2)*100,2))\n",
    "newPerc=str(np.round(np.std(adjDS1p2)/np.mean(adjDS1p2)*100,2))\n",
    "EPRdatetime=np.empty(0)\n",
    "dateString=np.empty(0)\n",
    "for i in range(0,len(EPRdates1p2)):\n",
    "    EPRdatetime=np.append(EPRdatetime,datetime.strptime('2022'+str(EPRdates1p2[i]),'%Y%m%d%H%M'))\n",
    "    dateString=np.append(dateString,str(EPRdates1p2[i])[:2]+'/'+str(EPRdates1p2[i])[2:4]+' '+str(EPRdates1p2[i])[4:6]+':'+str(EPRdates1p2[i])[6:])\n",
    "\n",
    "#plt.plot(dateString,EPRds,label='Before',color='dodgerblue')\n",
    "#plt.plot(dateString,adjDS,label='After',color='red')\n",
    "plt.plot(dateString,EPRds1p2,label='Before: '+oldPerc+'%',color='dodgerblue')\n",
    "plt.plot(dateString,adjDS1p2,label='After: '+newPerc+'%',color='red')\n",
    "plt.legend(loc='lower right')\n",
    "x=plt.xticks(rotation=70)\n",
    "plt.title(\"Calibration Constant Before and After Correction\"+'\\n Hunter Kin2 1.2G/s',fontsize=15)\n",
    "plt.savefig('CalCorrectionHunterKin2.png')"
   ]
  },
  {
   "cell_type": "markdown",
   "id": "5d2d1065",
   "metadata": {},
   "source": [
    "### 5G/s"
   ]
  },
  {
   "cell_type": "code",
   "execution_count": 448,
   "id": "571a3a85",
   "metadata": {},
   "outputs": [],
   "source": [
    "EPRds5=EPRds[refineEPR5G]"
   ]
  },
  {
   "cell_type": "code",
   "execution_count": 449,
   "id": "6734e433",
   "metadata": {},
   "outputs": [
    {
     "data": {
      "text/plain": [
       "array([0.25042517, 0.23448744, 0.24677449, 0.22713653, 0.23385892,\n",
       "       0.23314655, 0.25982668, 0.26178191, 0.26178191, 0.25904397,\n",
       "       0.25904397, 0.26774771, 0.25875228, 0.26364197, 0.23302165,\n",
       "       0.25724633, 0.25724633, 0.23276758, 0.23281334, 0.23625347,\n",
       "       0.23085292, 0.23085292, 0.23388639])"
      ]
     },
     "execution_count": 449,
     "metadata": {},
     "output_type": "execute_result"
    }
   ],
   "source": [
    "RatioB"
   ]
  },
  {
   "cell_type": "code",
   "execution_count": 450,
   "id": "904b13e0",
   "metadata": {},
   "outputs": [
    {
     "name": "stdout",
     "output_type": "stream",
     "text": [
      "This better be 1.0 -->  1.0\n",
      "7.5312189974755315   6.245753678398843\n"
     ]
    },
    {
     "data": {
      "image/png": "[encoded data removed]",
      "text/plain": [
       "<Figure size 640x480 with 1 Axes>"
      ]
     },
     "metadata": {},
     "output_type": "display_data"
    }
   ],
   "source": [
    "\n",
    "C2=306.1659 #V_PC\n",
    "C3=44.8700 #V_TT\n",
    "C4=160.9000 #V_TC\n",
    "C6=878.7170 #kHz/Gauss\n",
    "C7=4.8376 #cbar/(kHz/G)\n",
    "F2=7.38658534932298 #Fill Density\n",
    "F3=265 #ref. T_pc\n",
    "F4=31.5 #ref. T_tc\n",
    "F5=.25042517 #ref_ratio\n",
    "\n",
    "I2=C2*(F4+273.15)/(C2*(F4+273.15)+(C4+C3)*(F3+273.15)) #f_pc\n",
    "I3=(C4+C3)*(F3+273.15)/(C2*(F4+273.15)+(C4+C3)*(F3+273.15)) #f_tc\n",
    "print('This better be 1.0 --> ',I2+I3)\n",
    "\n",
    "#T_pc\n",
    "N=np.empty(0)\n",
    "O=np.empty(0)\n",
    "for i in range(0,len(RatioB5)):\n",
    "    N=np.append(N,(F5/RatioB5[i])*F3)\n",
    "    O=np.append(O,F4)\n",
    "\n",
    "#alpha\n",
    "R=np.empty(0)\n",
    "for i in range(0,len(RatioB5)):\n",
    "    R=np.append(R,1/((F5/RatioB5[i])*(1-I2)+I2))\n",
    "\n",
    "#beta\n",
    "S=np.empty(0)\n",
    "for i in range(0,len(RatioB5)):\n",
    "    S=np.append(S,(F5/RatioB5[i])/((F5/RatioB5[i])*I3+1-I3))\n",
    "\n",
    "#f_pc\n",
    "T=np.empty(0)\n",
    "for i in range(0,len(RatioB5)):\n",
    "    T=np.append(T,R[i]*I2)\n",
    "\n",
    "#f_tc\n",
    "U=np.empty(0)\n",
    "for i in range(0,len(RatioB5)):\n",
    "    U=np.append(U,S[i]*I3)\n",
    "\n",
    "adjDS5=EPRds5*S\n",
    "EPRdates5=EPRdates5[np.where(adjDS5!=0)]\n",
    "EPRds5=EPRds5[np.where(adjDS5!=0)]\n",
    "adjDS5=adjDS5[np.where(adjDS5!=0)]\n",
    "#adjPC=EPRpc*R\n",
    "#adjPC=adjPC[np.where(adjPC!=0)]\n",
    "dsBaseLine5=EPRds5[np.where(EPRds5!=0)]\n",
    "\n",
    "FinalEPRds5=np.mean(adjDS5)\n",
    "FinalEPRdsE5=np.std(adjDS5)\n",
    "dsNewHist=plt.hist(adjDS5)\n",
    "dsHist=plt.hist(dsBaseLine5)\n",
    "print(100*np.std(adjDS5)/np.mean(adjDS5),' ',100*np.std(dsBaseLine5)/np.mean(adjDS5))"
   ]
  },
  {
   "cell_type": "code",
   "execution_count": 451,
   "id": "aa2a3857",
   "metadata": {},
   "outputs": [
    {
     "name": "stdout",
     "output_type": "stream",
     "text": [
      "This better be 1.0 -->  1.0\n"
     ]
    }
   ],
   "source": [
    "\n",
    "#add on november 12 \n",
    "\n",
    "#EPRdates1p2=EPRdates[refineEPR1p2G]\n",
    "#EPRdates5=EPRdates[refineEPR5G]\n",
    "C2=306.1659 #V_PC\n",
    "C3=44.8700 #V_TT\n",
    "C4=160.9000 #V_TC\n",
    "C6=878.7170 #kHz/Gauss\n",
    "C7=4.8376 #cbar/(kHz/G)\n",
    "F2=7.38658534932298 #Fill Density\n",
    "F3=265 #ref. T_pc\n",
    "F4=31.5 #ref. T_tc\n",
    "F51p2=.23448744 #ref_ratio\n",
    "\n",
    "I2=C2*(F4+273.15)/(C2*(F4+273.15)+(C4+C3)*(F3+273.15)) #f_pc\n",
    "I3=(C4+C3)*(F3+273.15)/(C2*(F4+273.15)+(C4+C3)*(F3+273.15)) #f_tc\n",
    "print('This better be 1.0 --> ',I2+I3)\n",
    "\n",
    "#T_pc\n",
    "N=np.empty(0)\n",
    "O=np.empty(0)\n",
    "for i in range(0,len(sweepRatios5)):\n",
    "    N=np.append(N,(F51p2/sweepRatios5[i])*F3)\n",
    "    O=np.append(O,F4)\n",
    "\n",
    "#alpha\n",
    "R=np.empty(0)\n",
    "for i in range(0,len(sweepRatios5)):\n",
    "    R=np.append(R,1/((F51p2/sweepRatios5[i])*(1-I2)+I2))\n",
    "\n",
    "#beta\n",
    "S=np.empty(0)\n",
    "for i in range(0,len(sweepRatios5)):\n",
    "    S=np.append(S,(F51p2/sweepRatios5[i])/((F51p2/sweepRatios5[i])*I3+1-I3))\n",
    "\n",
    "#f_pc\n",
    "T=np.empty(0)\n",
    "for i in range(0,len(sweepRatios5)):\n",
    "    T=np.append(T,R[i]*I2)\n",
    "\n",
    "#f_tc\n",
    "U=np.empty(0)\n",
    "for i in range(0,len(sweepRatios5)):\n",
    "    U=np.append(U,S[i]*I3)\n",
    "    \n",
    "newEPRs5=FinalEPRds5/S"
   ]
  },
  {
   "cell_type": "code",
   "execution_count": 452,
   "id": "901670f4",
   "metadata": {},
   "outputs": [
    {
     "data": {
      "text/plain": [
       "5"
      ]
     },
     "execution_count": 452,
     "metadata": {},
     "output_type": "execute_result"
    }
   ],
   "source": [
    "len(EPRds5)"
   ]
  },
  {
   "cell_type": "code",
   "execution_count": 453,
   "id": "8ecf0c99",
   "metadata": {},
   "outputs": [
    {
     "data": {
      "image/png": "[encoded data removed]",
      "text/plain": [
       "<Figure size 640x480 with 1 Axes>"
      ]
     },
     "metadata": {},
     "output_type": "display_data"
    }
   ],
   "source": [
    "oldPerc=str(np.round(np.std(EPRds5)/np.mean(EPRds5)*100,2))\n",
    "newPerc=str(np.round(np.std(adjDS5)/np.mean(adjDS5)*100,2))\n",
    "EPRdatetime=np.empty(0)\n",
    "dateString=np.empty(0)\n",
    "for i in range(0,len(EPRdates5)):\n",
    "    EPRdatetime=np.append(EPRdatetime,datetime.strptime('2022'+str(EPRdates5[i]),'%Y%m%d%H%M'))\n",
    "    dateString=np.append(dateString,str(EPRdates5[i])[:2]+'/'+str(EPRdates5[i])[2:4]+' '+str(EPRdates5[i])[4:6]+':'+str(EPRdates5[i])[6:])\n",
    "\n",
    "#plt.plot(dateString,EPRds,label='Before',color='dodgerblue')\n",
    "#plt.plot(dateString,adjDS,label='After',color='red')\n",
    "plt.plot(dateString,EPRds5,label='Before: '+oldPerc+'%',color='dodgerblue')\n",
    "plt.plot(dateString,adjDS5,label='After: '+newPerc+'%',color='red')\n",
    "plt.legend(loc='lower right')\n",
    "x=plt.xticks(rotation=70)\n",
    "plt.title(\"Calibration Constant Before and After Correction\"+'\\n Hunter Kin2 5G/s',fontsize=15)\n",
    "plt.savefig('CalCorrectionHunterKin2.png')"
   ]
  },
  {
   "cell_type": "markdown",
   "id": "2f152a71",
   "metadata": {},
   "source": [
    "# Take the Density Corrected EPR Calibration and apply it to all NMRs"
   ]
  },
  {
   "cell_type": "code",
   "execution_count": null,
   "id": "88673c7c",
   "metadata": {},
   "outputs": [],
   "source": []
  },
  {
   "cell_type": "code",
   "execution_count": 454,
   "id": "259279db",
   "metadata": {},
   "outputs": [],
   "source": [
    "#1.2G/s\n",
    "\n",
    "CorrectedRatio1p2=F51p2\n",
    "\n",
    "\n",
    "CorrectedNMRs1p2=np.empty(0)\n",
    "newEPRds1p2=np.empty(0)\n",
    "for i,j in enumerate(H21p2):\n",
    "    #CorrectedNMRs1p2=np.append(CorrectedNMRs1p2,j*FinalEPRds1p2*sweepRatios1p2[i]/CorrectedRatio1p2)\n",
    "    CorrectedNMRs1p2=np.append(CorrectedNMRs1p2,j*newEPRs1p2[i])\n",
    "\n",
    "    newEPRds1p2=np.append(newEPRds1p2,FinalEPRds1p2*CorrectedRatio1p2/sweepRatios1p2[i])"
   ]
  },
  {
   "cell_type": "code",
   "execution_count": 455,
   "id": "f4d47e94",
   "metadata": {},
   "outputs": [
    {
     "data": {
      "text/plain": [
       "34"
      ]
     },
     "execution_count": 455,
     "metadata": {},
     "output_type": "execute_result"
    }
   ],
   "source": [
    "len(CorrectedNMRs1p2)"
   ]
  },
  {
   "cell_type": "code",
   "execution_count": 456,
   "id": "a0bd9692",
   "metadata": {},
   "outputs": [],
   "source": [
    "CorrectedRatio5=F5\n",
    "\n",
    "\n",
    "CorrectedNMRs5=np.empty(0)\n",
    "newEPRds5=np.empty(0)\n",
    "for i,j in enumerate(H25):\n",
    "    #CorrectedNMRs5=np.append(CorrectedNMRs5,j*FinalEPRds5*sweepRatios5[i]/CorrectedRatio5)\n",
    "    CorrectedNMRs5=np.append(CorrectedNMRs5,j*newEPRs5[i])\n",
    "\n",
    "    newEPRds5=np.append(newEPRds5,FinalEPRds5*sweepRatios5[i]/CorrectedRatio5)"
   ]
  },
  {
   "cell_type": "code",
   "execution_count": 457,
   "id": "2fd281d1",
   "metadata": {},
   "outputs": [
    {
     "data": {
      "text/plain": [
       "119"
      ]
     },
     "execution_count": 457,
     "metadata": {},
     "output_type": "execute_result"
    }
   ],
   "source": [
    "len(CorrectedNMRs5)"
   ]
  },
  {
   "cell_type": "code",
   "execution_count": 458,
   "id": "0274ce06",
   "metadata": {},
   "outputs": [
    {
     "data": {
      "image/png": "[encoded data removed]",
      "text/plain": [
       "<Figure size 640x480 with 1 Axes>"
      ]
     },
     "metadata": {},
     "output_type": "display_data"
    }
   ],
   "source": [
    "plt.plot(H2dates1p2,CorrectedNMRs1p2,\".\",color=\"dodgerblue\",label=\"1.2G/s\")\n",
    "plt.plot(H2dates5[:-4],CorrectedNMRs5[:-4],'.',color=\"red\",label=\"5G/s\")\n",
    "plt.title(\"Density Corrected Polarization % with 1.2G/s and 5G/s analyzed separately\")\n",
    "plt.legend(loc=\"upper right\")\n",
    "x=plt.xticks(rotation=70)\n"
   ]
  },
  {
   "cell_type": "markdown",
   "id": "371df99a",
   "metadata": {},
   "source": [
    "### Create error arrays and variables for FinalEPRds, SweepRatios"
   ]
  },
  {
   "cell_type": "code",
   "execution_count": null,
   "id": "827a28d2",
   "metadata": {},
   "outputs": [],
   "source": []
  },
  {
   "cell_type": "code",
   "execution_count": 459,
   "id": "34b4373c",
   "metadata": {},
   "outputs": [],
   "source": [
    "np.save(\"uncorrected1p2.npy\",H21p2)\n",
    "np.savetxt(\"FinalEPRdsE1p2.txt\",[[FinalEPRdsE1p2]])\n",
    "np.savetxt(\"FinalEPRds1p2.txt\",[FinalEPRds1p2])\n",
    "np.savetxt(\"ReferenceRatio1p2.txt\",[[CorrectedRatio1p2]])\n",
    "np.save(\"newEPRds1p2.npy\",newEPRds1p2)\n",
    "np.save(\"sweepRatios1p2.npy\",sweepRatios1p2)\n",
    "\n",
    "np.save(\"uncorrected5.npy\",H25[:-4])\n",
    "np.savetxt(\"FinalEPRdsE5.txt\",[[FinalEPRdsE5]])\n",
    "np.savetxt(\"FinalEPRds5.txt\",[FinalEPRds5])\n",
    "np.savetxt(\"ReferenceRatio5.txt\",[[CorrectedRatio5]])\n",
    "np.save(\"newEPRds5.npy\",newEPRds5[:-4])\n",
    "np.save(\"sweepRatios5.npy\",sweepRatios5[:-4])"
   ]
  },
  {
   "cell_type": "code",
   "execution_count": 460,
   "id": "fdb9b7b3",
   "metadata": {},
   "outputs": [
    {
     "data": {
      "text/plain": [
       "156"
      ]
     },
     "execution_count": 460,
     "metadata": {},
     "output_type": "execute_result"
    }
   ],
   "source": [
    "len(sweepRatios[:-4])"
   ]
  },
  {
   "cell_type": "code",
   "execution_count": 461,
   "id": "b3da6db9",
   "metadata": {},
   "outputs": [],
   "source": [
    "H2SortedDatesCorrected1p2=H2dates1p2\n",
    "H2CorrectedDSNMR1p2=CorrectedNMRs1p2\n",
    "\n",
    "H2SortedDatesCorrected5=H2dates5[:-4]\n",
    "H2CorrectedDSNMR5=CorrectedNMRs5[:-4]\n",
    "\n",
    "\n",
    "#H2dates5[:-4],CorrectedNMRs5[:-4]"
   ]
  },
  {
   "cell_type": "code",
   "execution_count": 462,
   "id": "b66ca4d6",
   "metadata": {},
   "outputs": [],
   "source": [
    "np.save(sys.path[0]+'/../H2SortedDatesCorrected1p2.npy',H2SortedDatesCorrected1p2)\n",
    "np.save(sys.path[0]+'/../H2CorrectedDSNMR1p2.npy',H2CorrectedDSNMR1p2)\n",
    "\n",
    "np.save(sys.path[0]+'/../H2SortedDatesCorrected5.npy',H2SortedDatesCorrected5)\n",
    "np.save(sys.path[0]+'/../H2CorrectedDSNMR5.npy',H2CorrectedDSNMR5)\n",
    "\n"
   ]
  },
  {
   "cell_type": "code",
   "execution_count": 463,
   "id": "c821ad3f",
   "metadata": {},
   "outputs": [],
   "source": [
    "allNMRs=np.append(H2CorrectedDSNMR1p2,H2CorrectedDSNMR5)"
   ]
  },
  {
   "cell_type": "code",
   "execution_count": 464,
   "id": "40065913",
   "metadata": {},
   "outputs": [
    {
     "data": {
      "text/plain": [
       "32.842903946163446"
      ]
     },
     "execution_count": 464,
     "metadata": {},
     "output_type": "execute_result"
    },
    {
     "data": {
      "image/png": "[encoded data removed]",
      "text/plain": [
       "<Figure size 640x480 with 1 Axes>"
      ]
     },
     "metadata": {},
     "output_type": "display_data"
    }
   ],
   "source": [
    "plt.hist(allNMRs[np.where(allNMRs>20)])\n",
    "np.mean(allNMRs[np.where(allNMRs>20)])"
   ]
  },
  {
   "cell_type": "markdown",
   "id": "36b631a1",
   "metadata": {},
   "source": [
    "# Looking at Settings"
   ]
  },
  {
   "cell_type": "code",
   "execution_count": 465,
   "id": "cb67fdf9",
   "metadata": {},
   "outputs": [
    {
     "data": {
      "text/plain": [
       "array(['20221025_171530', '20221022_231115', '20221031_155140',\n",
       "       '20221103_035654', '20221030_171612', '20221024_014417',\n",
       "       '20221021_180326', '20221031_153259', '20221022_230831',\n",
       "       '20221022_222249', '20221029_075930', '20221102_230435',\n",
       "       '20221101_203142', '20221103_005750', '20221020_171935',\n",
       "       '20221024_134630', '20221020_233411', '20221101_134048',\n",
       "       '20221103_063954', '20221101_011358', '20221028_220103',\n",
       "       '20221027_045538', '20221021_192155', '20221025_041610',\n",
       "       '20221029_151208', '20221022_043508', '20221027_085405',\n",
       "       '20221102_190105', '20221021_062218', '20221102_024126',\n",
       "       '20221026_071359', '20221102_215536', '20221103_045440',\n",
       "       '20221030_194447', '20221019_210059', '20221101_223714',\n",
       "       '20221103_021127', '20221031_133110', '20221022_214544',\n",
       "       '20221101_063849', '20221019_223620', '20221026_045130',\n",
       "       '20221101_071938', '20221023_200557', '20221103_042858',\n",
       "       '20221108_100054', '20221020_102745', '20221021_184046',\n",
       "       '20221023_083526', '20221031_155002', '20221023_153153',\n",
       "       '20221031_024324', '20221031_061145', '20221101_182155',\n",
       "       '20221026_194653', '20221102_001144', '20221028_030916',\n",
       "       '20221023_152816', '20221021_011506', '20221020_112217',\n",
       "       '20221026_132834', '20221031_154820', '20221103_040050',\n",
       "       '20221021_114722', '20221029_110305', '20221022_124633',\n",
       "       '20221020_020235', '20221102_205737', '20221103_005507',\n",
       "       '20221020_140220', '20221102_034320', '20221031_154559',\n",
       "       '20221103_000233', '20221103_063812', '20221026_233500',\n",
       "       '20221101_001534', '20221022_230958', '20221101_011930',\n",
       "       '20221021_182655', '20221101_011312', '20221102_034042',\n",
       "       '20221030_230150', '20221028_140230', '20221101_005022',\n",
       "       '20221101_172949', '20221028_061035', '20221103_061145',\n",
       "       '20221029_000824', '20221101_224052', '20221022_214410',\n",
       "       '20221103_060541', '20221022_001428', '20221102_001453',\n",
       "       '20221101_080224', '20221028_223237', '20221030_133159',\n",
       "       '20221101_072819', '20221103_021346', '20221026_100640',\n",
       "       '20221021_150956', '20221101_063928', '20221030_012927',\n",
       "       '20221028_104342', '20221031_154905', '20221103_045752',\n",
       "       '20221022_223115', '20221025_110658', '20221103_072923',\n",
       "       '20221103_075216', '20221102_023752', '20221023_134816',\n",
       "       '20221020_190243', '20221021_193734', '20221021_192721',\n",
       "       '20221024_061141', '20221031_154516', '20221031_155245',\n",
       "       '20221102_005043', '20221101_173525', '20221101_203527',\n",
       "       '20221103_042631', '20221020_055242', '20221027_160453',\n",
       "       '20221025_012152', '20221031_153558', '20221025_195645',\n",
       "       '20221028_181757', '20221028_220839', '20221102_230052',\n",
       "       '20221020_184250', '20221023_155545', '20221021_183150',\n",
       "       '20221102_071626', '20221031_155337', '20221025_220621',\n",
       "       '20221101_063756', '20221022_230623', '20221028_222737',\n",
       "       '20221022_163605', '20221101_181717', '20221101_075144',\n",
       "       '20221023_155118', '20221020_191244', '20221103_072329',\n",
       "       '20221101_064657', '20221022_080817', '20221021_034740',\n",
       "       '20221101_125246', '20221027_134823', '20221101_065528',\n",
       "       '20221026_161155', '20221030_053216', '20221021_180501',\n",
       "       '20221031_224003', '20221102_031827', '20221030_092301',\n",
       "       '20221020_161649', '20221102_031532', '20221101_010202',\n",
       "       '20221103_000459', '20221022_231442', '20221023_134724',\n",
       "       '20221029_175356', '20221022_222909', '20221023_111027',\n",
       "       '20221103_031504', '20221029_214411', '20221022_231232',\n",
       "       '20221024_224050', '20221023_223838', '20221020_122604',\n",
       "       '20221027_192250', '20221023_123449', '20221027_231051',\n",
       "       '20221026_002155', '20221103_031640', '20221024_101400',\n",
       "       '20221101_012544', '20221101_063707', '20221029_000457',\n",
       "       '20221026_021547', '20221102_190422', '20221019_194915',\n",
       "       '20221024_164143', '20221020_151116', '20221101_133757',\n",
       "       '20221029_134126', '20221024_194306', '20221031_155050',\n",
       "       '20221021_091909', '20221031_133409', '20221025_073435',\n",
       "       '20221102_215732', '20221023_155327', '20221031_154729',\n",
       "       '20221021_183641', '20221103_061710'], dtype='<U32')"
      ]
     },
     "execution_count": 465,
     "metadata": {},
     "output_type": "execute_result"
    }
   ],
   "source": [
    "allFits\n",
    "allIndices\n",
    "allDates"
   ]
  },
  {
   "cell_type": "code",
   "execution_count": null,
   "id": "433cae90",
   "metadata": {},
   "outputs": [],
   "source": []
  },
  {
   "cell_type": "code",
   "execution_count": 466,
   "id": "7803c5ba",
   "metadata": {},
   "outputs": [],
   "source": [
    "def GrabSettingsAtIndex(j):\n",
    "    import os\n",
    "    import numpy as np\n",
    "    import pandas as pd\n",
    "    import re\n",
    "\n",
    "    \n",
    "    NMRFolders=os.listdir(NMRData)\n",
    "    name=NMRData+'/'+NMRFolders[j]+'/Downstream Coil/Settings.dat'\n",
    "    with open(name, 'r') as f:\n",
    "        # read the contents of the file into a list\n",
    "        lines = f.readlines()\n",
    "\n",
    "    # remove newline characters from each element\n",
    "    lines = [line.strip() for line in lines]\n",
    "\n",
    "    # print the list\n",
    "\n",
    "    result=[]\n",
    "    for string in lines[4:11]:\n",
    "        # split the string into key and value\n",
    "        key, value = string.split(':')\n",
    "        # strip leading and trailing whitespace from key and value\n",
    "        key = key.strip()\n",
    "        value = value.strip()\n",
    "        # convert value to integer\n",
    "        value = float(value)\n",
    "        # add key and value to result list\n",
    "        result.append([key, value])\n",
    "    print(lines[13])\n",
    "\n",
    "    return result\n",
    "\n",
    "nmrDates=np.load('nmrDates.npy')\n",
    "nmrIndices=np.load('nmrIndices.npy')"
   ]
  },
  {
   "cell_type": "code",
   "execution_count": null,
   "id": "0002f7d6",
   "metadata": {},
   "outputs": [],
   "source": []
  },
  {
   "cell_type": "code",
   "execution_count": 467,
   "id": "0696d579",
   "metadata": {},
   "outputs": [
    {
     "data": {
      "text/plain": [
       "array([152.])"
      ]
     },
     "execution_count": 467,
     "metadata": {},
     "output_type": "execute_result"
    }
   ],
   "source": [
    "beforeEPRindices\n",
    "afterEPRindices"
   ]
  },
  {
   "cell_type": "code",
   "execution_count": 468,
   "id": "23d5349c",
   "metadata": {},
   "outputs": [
    {
     "data": {
      "text/plain": [
       "array([111,  78, 195, 179,  37,   7, 185,  84,  84, 139, 139,  12,  35,\n",
       "        55, 109, 157, 157,  80,  31, 128,  72,  72,  68])"
      ]
     },
     "execution_count": 468,
     "metadata": {},
     "output_type": "execute_result"
    }
   ],
   "source": [
    "bIndices"
   ]
  },
  {
   "cell_type": "code",
   "execution_count": 469,
   "id": "cfe810f7",
   "metadata": {},
   "outputs": [
    {
     "data": {
      "text/plain": [
       "array([142, 131,  47,  87, 190, 124,  17, 118, 118,  53,  53, 119,  88,\n",
       "        92,  29, 154, 154,  70, 192,  11, 159, 159,  13])"
      ]
     },
     "execution_count": 469,
     "metadata": {},
     "output_type": "execute_result"
    }
   ],
   "source": [
    "aIndices"
   ]
  },
  {
   "cell_type": "code",
   "execution_count": 470,
   "id": "ca40f9e8",
   "metadata": {},
   "outputs": [
    {
     "name": "stdout",
     "output_type": "stream",
     "text": [
      "Start Time:\t2022/10/20 23:34:11\n",
      "Start Time:\t2023/01/16 22:30:34\n",
      "Start Time:\t2022/10/22 04:35:08\n",
      "Start Time:\t2022/10/21 19:21:55\n",
      "Start Time:\t2022/11/15 08:16:53\n",
      "Start Time:\t2023/01/12 18:21:47\n",
      "Start Time:\t2023/02/06 03:08:25\n",
      "Start Time:\t2023/01/23 22:33:11\n",
      "Start Time:\t2023/01/23 22:33:11\n",
      "Start Time:\t2022/11/03 06:39:54\n",
      "Start Time:\t2022/11/03 06:39:54\n",
      "Start Time:\t2023/10/06 00:24:59\n",
      "Start Time:\t2023/09/20 18:12:49\n",
      "Start Time:\t2022/10/06 14:06:37\n",
      "Start Time:\t2023/02/27 11:00:29\n",
      "Start Time:\t2022/10/15 11:48:11\n",
      "Start Time:\t2022/10/15 11:48:11\n",
      "Start Time:\t2023/09/21 16:06:58\n",
      "Start Time:\t2022/11/03 03:56:54\n",
      "Start Time:\t2023/09/13 23:56:11\n",
      "Start Time:\t2023/10/20 11:31:08\n",
      "Start Time:\t2023/10/20 11:31:08\n",
      "Start Time:\t2023/09/17 17:05:08\n"
     ]
    }
   ],
   "source": [
    "for i in range(0,len(bIndices)):\n",
    "    GrabSettingsAtIndex(bIndices[i])"
   ]
  },
  {
   "cell_type": "code",
   "execution_count": 471,
   "id": "afb61b59",
   "metadata": {},
   "outputs": [
    {
     "name": "stdout",
     "output_type": "stream",
     "text": [
      "Start Time:\t2023/10/12 16:57:27\n"
     ]
    },
    {
     "data": {
      "text/plain": [
       "[['Holding Field (G)', 20.958423],\n",
       " ['Theta (degree)', 90.0],\n",
       " ['Phi (degree)', 64.160487],\n",
       " ['High Field (G)', 28.0],\n",
       " ['Sweep Speed (G/s)', 4.0],\n",
       " ['Sit Time (s)', 0.0],\n",
       " ['RF Frequency (kHz)', 91.0]]"
      ]
     },
     "execution_count": 471,
     "metadata": {},
     "output_type": "execute_result"
    }
   ],
   "source": [
    "GrabSettingsAtIndex(845)"
   ]
  },
  {
   "cell_type": "code",
   "execution_count": 472,
   "id": "76861209",
   "metadata": {},
   "outputs": [
    {
     "ename": "NameError",
     "evalue": "name 'CorrectedNMRs' is not defined",
     "output_type": "error",
     "traceback": [
      "\u001b[0;31m---------------------------------------------------------------------------\u001b[0m",
      "\u001b[0;31mNameError\u001b[0m                                 Traceback (most recent call last)",
      "Cell \u001b[0;32mIn [472], line 2\u001b[0m\n\u001b[1;32m      1\u001b[0m vanillaDS\u001b[38;5;241m=\u001b[39mH2[:\u001b[38;5;241m-\u001b[39m\u001b[38;5;241m4\u001b[39m]\n\u001b[0;32m----> 2\u001b[0m densityCorrectedDS\u001b[38;5;241m=\u001b[39m\u001b[43mCorrectedNMRs\u001b[49m[:\u001b[38;5;241m-\u001b[39m\u001b[38;5;241m4\u001b[39m]\n\u001b[1;32m      3\u001b[0m dates\u001b[38;5;241m=\u001b[39mHsorted_dates2[:\u001b[38;5;241m-\u001b[39m\u001b[38;5;241m4\u001b[39m]\n",
      "\u001b[0;31mNameError\u001b[0m: name 'CorrectedNMRs' is not defined"
     ]
    }
   ],
   "source": [
    "vanillaDS=H2[:-4]\n",
    "densityCorrectedDS=CorrectedNMRs[:-4]\n",
    "dates=Hsorted_dates2[:-4]"
   ]
  },
  {
   "cell_type": "code",
   "execution_count": null,
   "id": "cb63619b",
   "metadata": {},
   "outputs": [],
   "source": [
    "plt.plot(dates,vanillaDS)\n",
    "plt.plot(dates,densityCorrectedDS)"
   ]
  },
  {
   "cell_type": "code",
   "execution_count": null,
   "id": "48737182",
   "metadata": {},
   "outputs": [],
   "source": [
    "GrabSettingsAtIndex(int(bIndices[0]))[4][1]"
   ]
  },
  {
   "cell_type": "code",
   "execution_count": null,
   "id": "d56e4d6c",
   "metadata": {},
   "outputs": [],
   "source": [
    "len(bIndices)"
   ]
  },
  {
   "cell_type": "code",
   "execution_count": null,
   "id": "3de8de40",
   "metadata": {},
   "outputs": [],
   "source": [
    "#Using only calibrations with same settings\n",
    "refineEPR1p2G=np.empty(0)\n",
    "refineEPR5G=np.empty(0)\n",
    "for i in range(0,len(bIndices)):\n",
    "    x=GrabSettingsAtIndex(int(bIndices[i]))\n",
    "    if x[4][1]==5:\n",
    "        refineEPR5G=np.append(refineEPR5G,i)\n",
    "    if x[4][1]==1.2:\n",
    "        refineEPR1p2G=np.append(refineEPR1p2G,i)\n",
    "refineEPR1p2G=refineEPR1p2G.astype(int)\n",
    "refineEPR5G=refineEPR5G.astype(int)"
   ]
  },
  {
   "cell_type": "code",
   "execution_count": null,
   "id": "0a89e449",
   "metadata": {},
   "outputs": [],
   "source": [
    "refineEPR1p2G"
   ]
  },
  {
   "cell_type": "code",
   "execution_count": null,
   "id": "ca17c546",
   "metadata": {},
   "outputs": [],
   "source": [
    "refineEPR5G"
   ]
  },
  {
   "cell_type": "code",
   "execution_count": null,
   "id": "1d5983e3",
   "metadata": {},
   "outputs": [],
   "source": [
    "len(EPRds)"
   ]
  },
  {
   "cell_type": "code",
   "execution_count": null,
   "id": "b6fe9af0",
   "metadata": {
    "scrolled": true
   },
   "outputs": [],
   "source": [
    "magFieldBeforeEPR=np.empty(0)\n",
    "magFieldAfterEPR=np.empty(0)\n",
    "for i in bIndices:\n",
    "    magFieldBeforeEPR=np.append(magFieldBeforeEPR,GrabSettingsAtIndex(int(i))[0][1])\n",
    "for i in aIndices:\n",
    "    magFieldAfterEPR=np.append(magFieldAfterEPR,GrabSettingsAtIndex(int(i))[0][1])"
   ]
  },
  {
   "cell_type": "code",
   "execution_count": null,
   "id": "1f1c7323",
   "metadata": {},
   "outputs": [],
   "source": [
    "magFieldBeforeEPR"
   ]
  },
  {
   "cell_type": "code",
   "execution_count": null,
   "id": "261080ee",
   "metadata": {},
   "outputs": [],
   "source": [
    "x=plt.hist(magFieldAfterEPR,20)"
   ]
  },
  {
   "cell_type": "code",
   "execution_count": null,
   "id": "69758685",
   "metadata": {},
   "outputs": [],
   "source": [
    "len(EPRds)"
   ]
  },
  {
   "cell_type": "code",
   "execution_count": null,
   "id": "e8b95aa1",
   "metadata": {},
   "outputs": [],
   "source": [
    "len(magFieldBeforeEPR)"
   ]
  },
  {
   "cell_type": "code",
   "execution_count": null,
   "id": "416f9b33",
   "metadata": {},
   "outputs": [],
   "source": [
    "ref=magFieldAfterEPR[8]"
   ]
  },
  {
   "cell_type": "code",
   "execution_count": null,
   "id": "52b58fd7",
   "metadata": {},
   "outputs": [],
   "source": [
    "magCorEPR=np.empty(0)\n",
    "for i in range(0,len(EPRds)):\n",
    "    if magFieldAfterEPR[i]>10:\n",
    "        magCorEPR=np.append(magCorEPR,EPRds[i]*(ref/magFieldAfterEPR[i]))"
   ]
  },
  {
   "cell_type": "code",
   "execution_count": null,
   "id": "8e82f4e8",
   "metadata": {},
   "outputs": [],
   "source": [
    "len(refineEPR)"
   ]
  },
  {
   "cell_type": "code",
   "execution_count": null,
   "id": "ae6cd490",
   "metadata": {},
   "outputs": [],
   "source": [
    "len(EPRds)"
   ]
  },
  {
   "cell_type": "code",
   "execution_count": null,
   "id": "659755b7",
   "metadata": {},
   "outputs": [],
   "source": [
    "EPRds[refineEPR]"
   ]
  },
  {
   "cell_type": "code",
   "execution_count": null,
   "id": "8ae7f7c0",
   "metadata": {},
   "outputs": [],
   "source": [
    "100*np.std(EPRds[refineEPR])/np.mean(EPRds[refineEPR])"
   ]
  },
  {
   "cell_type": "code",
   "execution_count": null,
   "id": "04e57589",
   "metadata": {},
   "outputs": [],
   "source": [
    "100*np.std(EPRds)/np.mean(EPRds)"
   ]
  },
  {
   "cell_type": "code",
   "execution_count": null,
   "id": "5107091d",
   "metadata": {},
   "outputs": [],
   "source": [
    "magCorEPR"
   ]
  },
  {
   "cell_type": "code",
   "execution_count": null,
   "id": "7781f34d",
   "metadata": {},
   "outputs": [],
   "source": [
    "np.std(magCorEPR[refineEPR])/np.mean(magCorEPR[refineEPR])"
   ]
  },
  {
   "cell_type": "code",
   "execution_count": null,
   "id": "8f6b3c1e",
   "metadata": {},
   "outputs": [],
   "source": [
    "plt.title(\"Magnetic Field and EPR Hunter Kin 2\")\n",
    "plt.plot(11*EPRds[refineEPR],'.',label='EPR DS Scaled')\n",
    "plt.plot(magFieldBeforeEPR,'.',label='Magnetic Field in NMR Measurement Before EPR')\n",
    "plt.legend(loc='lower right')\n",
    "plt.xlabel(\"Arbitrary\")\n",
    "plt.ylabel(\"Arbitrary\")\n",
    "plt.plot(11*magCorEPR,'.')\n",
    "#plt.ylim((16,27))"
   ]
  },
  {
   "cell_type": "code",
   "execution_count": null,
   "id": "951139f8",
   "metadata": {},
   "outputs": [],
   "source": [
    "#next step is to redo corrections with 5g/s"
   ]
  },
  {
   "cell_type": "code",
   "execution_count": null,
   "id": "394cd380",
   "metadata": {},
   "outputs": [],
   "source": []
  },
  {
   "cell_type": "code",
   "execution_count": null,
   "id": "4e35b242",
   "metadata": {},
   "outputs": [],
   "source": []
  },
  {
   "cell_type": "code",
   "execution_count": null,
   "id": "eda9bcad",
   "metadata": {},
   "outputs": [],
   "source": []
  },
  {
   "cell_type": "code",
   "execution_count": null,
   "id": "8528b9dd",
   "metadata": {},
   "outputs": [],
   "source": []
  },
  {
   "cell_type": "code",
   "execution_count": null,
   "id": "2daf39d3",
   "metadata": {},
   "outputs": [],
   "source": []
  }
 ],
 "metadata": {
  "kernelspec": {
   "display_name": "Python 3 (ipykernel)",
   "language": "python",
   "name": "python3"
  },
  "language_info": {
   "codemirror_mode": {
    "name": "ipython",
    "version": 3
   },
   "file_extension": ".py",
   "mimetype": "text/x-python",
   "name": "python",
   "nbconvert_exporter": "python",
   "pygments_lexer": "ipython3",
   "version": "3.8.10"
  }
 },
 "nbformat": 4,
 "nbformat_minor": 5
}
