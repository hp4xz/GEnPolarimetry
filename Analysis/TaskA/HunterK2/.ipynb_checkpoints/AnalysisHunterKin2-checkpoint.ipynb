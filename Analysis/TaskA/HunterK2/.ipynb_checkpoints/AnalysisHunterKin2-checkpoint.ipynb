{
 "cells": [
  {
   "cell_type": "code",
   "execution_count": 194,
   "id": "62cbc5da",
   "metadata": {},
   "outputs": [],
   "source": [
    "import sys\n",
    "import os\n",
    "sys.path.append(sys.path[0]+'/../../')\n",
    "sys.path.append(sys.path[0]+'/../../NMRData')\n",
    "from functions import *\n",
    "import numpy as np\n",
    "from datetime import datetime\n",
    "import matplotlib.pyplot as plt\n"
   ]
  },
  {
   "cell_type": "code",
   "execution_count": 195,
   "id": "a38eab70",
   "metadata": {},
   "outputs": [],
   "source": [
    "def GrabSettingsAtIndex(j):\n",
    "    import os\n",
    "    import numpy as np\n",
    "    import pandas as pd\n",
    "    import re\n",
    "\n",
    "    \n",
    "    NMRFolders=os.listdir(NMRData)\n",
    "    name=NMRData+'/'+NMRFolders[j]+'/Downstream Coil/Settings.dat'\n",
    "    with open(name, 'r') as f:\n",
    "        # read the contents of the file into a list\n",
    "        lines = f.readlines()\n",
    "\n",
    "    # remove newline characters from each element\n",
    "    lines = [line.strip() for line in lines]\n",
    "\n",
    "    # print the list\n",
    "\n",
    "    result=[]\n",
    "    for string in lines[4:11]:\n",
    "        # split the string into key and value\n",
    "        key, value = string.split(':')\n",
    "        # strip leading and trailing whitespace from key and value\n",
    "        key = key.strip()\n",
    "        value = value.strip()\n",
    "        # convert value to integer\n",
    "        value = float(value)\n",
    "        # add key and value to result list\n",
    "        result.append([key, value])\n",
    "    #print(lines[13])\n",
    "\n",
    "    return result\n",
    "\n",
    "nmrDates=np.load('nmrDates.npy')\n",
    "nmrIndices=np.load('nmrIndices.npy')"
   ]
  },
  {
   "cell_type": "code",
   "execution_count": 196,
   "id": "c7a4c298",
   "metadata": {},
   "outputs": [],
   "source": [
    "NMRData=sys.path[0]+'/../../NMRData'"
   ]
  },
  {
   "cell_type": "code",
   "execution_count": 197,
   "id": "9b737ac5",
   "metadata": {},
   "outputs": [],
   "source": [
    "NMRFolders=os.listdir(NMRData)\n",
    "#NMRData+'/'+NMRFolders[j]+'/Downstream Coil/Settings.dat'"
   ]
  },
  {
   "cell_type": "code",
   "execution_count": 198,
   "id": "a7bff540",
   "metadata": {},
   "outputs": [],
   "source": [
    "#os.listdir(sys.path[0]+'/../../')"
   ]
  },
  {
   "cell_type": "markdown",
   "id": "118fe38f",
   "metadata": {},
   "source": [
    "# Here, I bring in fits generated in the \"LoadNMR\" notebook"
   ]
  },
  {
   "cell_type": "code",
   "execution_count": 199,
   "id": "8fdf6d06",
   "metadata": {},
   "outputs": [],
   "source": [
    "hunterFitsK2=np.load(sys.path[0]+'/../../NMRDataFits/HunterKin2.npy')\n",
    "allFits=np.load(sys.path[0]+'/../../NMRDataFits/FitsInRange.npy')\n",
    "allIndices=np.load(sys.path[0]+'/../../NMRDataFits/indicesInRange.npy')\n",
    "allDates=np.load(sys.path[0]+'/../../NMRDataFits/datesInRange.npy')\n",
    "nmrDateStrings=hunterFitsK2[0].astype(int).astype(str)\n",
    "\n",
    "nmrDates=np.empty(0)\n",
    "for i in nmrDateStrings:\n",
    "    nmrDates=np.append(nmrDates,datetime.strptime(i,\"%Y%m%d%H%M%S\"))\n",
    "\n",
    "pcFits=hunterFitsK2[1]\n",
    "usFits=hunterFitsK2[2]\n",
    "dsFits=hunterFitsK2[3]"
   ]
  },
  {
   "cell_type": "code",
   "execution_count": 200,
   "id": "1969014a",
   "metadata": {},
   "outputs": [
    {
     "data": {
      "text/plain": [
       "array(['20230215_022554', '20221111_212019', '20221025_171530', ...,\n",
       "       '20221103_061710', '20221015_114608', '20220901_115838'],\n",
       "      dtype='<U32')"
      ]
     },
     "execution_count": 200,
     "metadata": {},
     "output_type": "execute_result"
    }
   ],
   "source": [
    "allDates"
   ]
  },
  {
   "cell_type": "code",
   "execution_count": 201,
   "id": "26d200bd",
   "metadata": {},
   "outputs": [],
   "source": [
    "#Organizing indices to split up 1.2G/s sweep and 5G/s sweep\n",
    "l=hunterFitsK2[0].astype(int).astype(str)\n",
    "m=np.empty(0)\n",
    "for i in range(0,len(l)):\n",
    "    m=np.append(m,l[i][:8]+'_'+l[i][8:])\n",
    "match=np.empty(0)\n",
    "for i in range(0,len(m)):\n",
    "    \n",
    "    match=np.append(match,int(np.where(allDates==m[i])[0]))\n",
    "    \n",
    "    \n",
    "matchingIndices=match.astype(int)\n",
    "hunterFitsK2Indices=allIndices[matchingIndices]"
   ]
  },
  {
   "cell_type": "markdown",
   "id": "a8ded7fb",
   "metadata": {},
   "source": [
    "\n",
    "# Here, I bring in EPR calibrations generated in the \"LoadEPR\" notebook"
   ]
  },
  {
   "cell_type": "code",
   "execution_count": 202,
   "id": "c3a6d507",
   "metadata": {},
   "outputs": [],
   "source": [
    "EPR=np.transpose(np.load(sys.path[0]+'/../../EPRArray/EPRCalibrationsV2.npy',allow_pickle=True))\n",
    "EPRdates=EPR[0][0:23]\n",
    "EPRpc=EPR[1][0:23]\n",
    "EPRds=EPR[3][0:23]\n",
    "\n",
    "eprDateStrings=EPR[0].astype(str)\n",
    "\n",
    "eprDates=np.empty(0)\n",
    "for i in eprDateStrings:\n",
    "    eprDates=np.append(eprDates,datetime.strptime(\"2022\"+i,\"%Y%m%d%H%M\"))\n",
    "\n",
    "pcCals=EPR[1]\n",
    "usCals=EPR[2]\n",
    "dsCals=EPR[3]"
   ]
  },
  {
   "cell_type": "code",
   "execution_count": 203,
   "id": "2e3a816e",
   "metadata": {},
   "outputs": [
    {
     "data": {
      "text/plain": [
       "23"
      ]
     },
     "execution_count": 203,
     "metadata": {},
     "output_type": "execute_result"
    }
   ],
   "source": [
    "len(EPRpc)"
   ]
  },
  {
   "cell_type": "code",
   "execution_count": 204,
   "id": "efbbfa6e",
   "metadata": {},
   "outputs": [
    {
     "data": {
      "text/plain": [
       "(array([ 0.,  0.,  0.,  0.,  0.,  0.,  0.,  1.,  0., 11.,  5.,  7.,  7.,\n",
       "         2.,  1.,  1.,  0.,  1.,  3.,  4.,  2.,  0.,  0.,  0.,  0.,  0.,\n",
       "         0.,  0.,  0.,  0.]),\n",
       " array([1.        , 1.06666667, 1.13333333, 1.2       , 1.26666667,\n",
       "        1.33333333, 1.4       , 1.46666667, 1.53333333, 1.6       ,\n",
       "        1.66666667, 1.73333333, 1.8       , 1.86666667, 1.93333333,\n",
       "        2.        , 2.06666667, 2.13333333, 2.2       , 2.26666667,\n",
       "        2.33333333, 2.4       , 2.46666667, 2.53333333, 2.6       ,\n",
       "        2.66666667, 2.73333333, 2.8       , 2.86666667, 2.93333333,\n",
       "        3.        ]),\n",
       " <BarContainer object of 30 artists>)"
      ]
     },
     "execution_count": 204,
     "metadata": {},
     "output_type": "execute_result"
    },
    {
     "data": {
      "image/png": "[encoded data removed]",
      "text/plain": [
       "<Figure size 640x480 with 1 Axes>"
      ]
     },
     "metadata": {},
     "output_type": "display_data"
    }
   ],
   "source": [
    "plt.hist(dsCals, bins=30, range=(1, 3))\n"
   ]
  },
  {
   "cell_type": "code",
   "execution_count": 205,
   "id": "4de4f7c2",
   "metadata": {},
   "outputs": [
    {
     "data": {
      "text/plain": [
       "49"
      ]
     },
     "execution_count": 205,
     "metadata": {},
     "output_type": "execute_result"
    }
   ],
   "source": [
    "len(eprDates)"
   ]
  },
  {
   "cell_type": "code",
   "execution_count": 206,
   "id": "2600d869",
   "metadata": {},
   "outputs": [],
   "source": [
    "# Start to organize for 1.2G/s and 5G/s"
   ]
  },
  {
   "cell_type": "code",
   "execution_count": null,
   "id": "1b486a08",
   "metadata": {},
   "outputs": [],
   "source": []
  },
  {
   "cell_type": "markdown",
   "id": "df6ac563",
   "metadata": {},
   "source": [
    "# Organizing NMRs "
   ]
  },
  {
   "cell_type": "code",
   "execution_count": 207,
   "id": "2ad2d642",
   "metadata": {},
   "outputs": [],
   "source": [
    "Hdate2=hunterFitsK2[0].astype(int).astype(str)\n",
    "\n",
    "Hdate2_objects=[datetime.strptime(date,\"%Y%m%d%H%M%S\") for date in Hdate2]\n",
    "Hdate2_array=np.array(Hdate2_objects)\n",
    "Hsorted_dates2=np.sort(Hdate2_array)\n",
    "Hindex_array2=[Hdate2_objects.index(date) for date in Hsorted_dates2]\n",
    "\n",
    "len(Hsorted_dates2)\n",
    "H2=hunterFitsK2[3][Hindex_array2]\n",
    "H2pc=hunterFitsK2[1][Hindex_array2]\n",
    "\n",
    "\n",
    "\n",
    "\n",
    "H2indices=hunterFitsK2Indices[Hindex_array2]\n",
    "checkerH2=np.where(H2<25)\n",
    "Hsorted_dates2=Hsorted_dates2[checkerH2][15:-1]\n",
    "H2=H2[checkerH2][15:-1]\n",
    "H2pc=H2pc[checkerH2][15:-1]\n",
    "H2indices=H2indices[checkerH2][15:-1]\n",
    "\n",
    "\n",
    "Hsorted_dates2=Hsorted_dates2[np.where(H2!=0)]\n",
    "H2=H2[np.where(H2!=0)]\n",
    "H2pc=H2pc[np.where(H2pc!=0)]\n",
    "H2indices=H2indices[np.where(H2!=0)]\n",
    "#plt.plot(Hsorted_dates2,H2)\n",
    "#plt.plot(Hsorted_dates2,H2pc)"
   ]
  },
  {
   "cell_type": "code",
   "execution_count": 208,
   "id": "077973f3",
   "metadata": {},
   "outputs": [
    {
     "data": {
      "text/plain": [
       "160"
      ]
     },
     "execution_count": 208,
     "metadata": {},
     "output_type": "execute_result"
    }
   ],
   "source": [
    "len(H2)"
   ]
  },
  {
   "cell_type": "code",
   "execution_count": 209,
   "id": "6183a500",
   "metadata": {},
   "outputs": [
    {
     "data": {
      "text/plain": [
       "160"
      ]
     },
     "execution_count": 209,
     "metadata": {},
     "output_type": "execute_result"
    }
   ],
   "source": [
    "len(H2pc)"
   ]
  },
  {
   "cell_type": "code",
   "execution_count": 210,
   "id": "0f0b1a28",
   "metadata": {},
   "outputs": [
    {
     "data": {
      "text/plain": [
       "array([ 111,  449, 1151,  238, 1512,  474,  751,   43, 1200,  605, 1023,\n",
       "       1540,  376,  179,  881,  877,  694,  195, 1136,  525,  679,  326,\n",
       "       1274,  389, 1104, 1531, 1017,  355, 1340,   40,  885, 1387,  110,\n",
       "       1445, 1489, 1330,  978,  193, 1518,  797,    2,  985, 1049, 1367,\n",
       "       1432,  333,  275,  734,  460, 1190,  433,  579,  166, 1164,  964,\n",
       "       1358, 1365,  440,  653,  769,  638,  989,  160,  991, 1060,  712,\n",
       "       1430,  664,   86,  522, 1481,  194, 1276, 1322,  767, 1191, 1230,\n",
       "         33,  292,  637,  320, 1513,   50,  982,  889,  563, 1532,  472,\n",
       "        775,  385, 1498,    6,  903, 1047, 1208,  584,  639, 1255,  620,\n",
       "        148,  604, 1411, 1415, 1051,  328,  758, 1133, 1183,  344,  729,\n",
       "       1077,  711, 1163, 1477,  116,  647,  947, 1076,  424,   97,  948,\n",
       "        308,  675,  437,  702,  906,  853,  239, 1251, 1214,  628,  561,\n",
       "       1034,  233, 1440,  539,  288, 1523, 1000,   92,  568, 1259,  552,\n",
       "        104,  314,  733, 1320, 1379,   31,  473,  951,  366,  289,  778,\n",
       "        684,  662, 1552,  578,  139, 1130])"
      ]
     },
     "execution_count": 210,
     "metadata": {},
     "output_type": "execute_result"
    }
   ],
   "source": [
    "H2indices"
   ]
  },
  {
   "cell_type": "code",
   "execution_count": 211,
   "id": "04b1c5a6",
   "metadata": {},
   "outputs": [
    {
     "name": "stdout",
     "output_type": "stream",
     "text": [
      "No settings file at  26\n"
     ]
    }
   ],
   "source": [
    "xvar=np.empty(0)\n",
    "H2indices1p2G=np.empty(0)\n",
    "H2indices5G=np.empty(0)\n",
    "\n",
    "H2refine1p2=np.empty(0)\n",
    "H2refine5=np.empty(0)\n",
    "\n",
    "for i in range(0,len(H2indices)):\n",
    "    try:\n",
    "        xvar=np.append(xvar,GrabSettingsAtIndex(H2indices[i])[4][1])\n",
    "        d=GrabSettingsAtIndex(H2indices[i])[4][1]\n",
    "       \n",
    "        if d==1.2:\n",
    "            H2indices1p2G=np.append(H2indices1p2G,H2indices[i])\n",
    "            H2refine1p2=np.append(H2refine1p2,i)\n",
    "        if d==5:\n",
    "            H2indices5G=np.append(H2indices5G,H2indices[i])\n",
    "            H2refine5=np.append(H2refine5,i)\n",
    "\n",
    "    except:\n",
    "        print(\"No settings file at \", i)"
   ]
  },
  {
   "cell_type": "code",
   "execution_count": 212,
   "id": "e86ad9de",
   "metadata": {},
   "outputs": [
    {
     "data": {
      "text/plain": [
       "153"
      ]
     },
     "execution_count": 212,
     "metadata": {},
     "output_type": "execute_result"
    }
   ],
   "source": [
    "len(H2refine5)+len(H2refine1p2)"
   ]
  },
  {
   "cell_type": "code",
   "execution_count": null,
   "id": "3023a7f2",
   "metadata": {},
   "outputs": [],
   "source": []
  },
  {
   "cell_type": "code",
   "execution_count": null,
   "id": "bd79c181",
   "metadata": {},
   "outputs": [],
   "source": []
  },
  {
   "cell_type": "code",
   "execution_count": 213,
   "id": "76713916",
   "metadata": {},
   "outputs": [
    {
     "data": {
      "text/plain": [
       "array([  0.,   1.,   2.,   3.,   4.,   5.,   6.,   7.,   8.,   9.,  10.,\n",
       "        11.,  12., 113., 114., 115., 116., 117., 118., 119., 120., 121.,\n",
       "       122., 123., 124., 125., 128., 129., 148., 149., 150., 151., 152.,\n",
       "       153.])"
      ]
     },
     "execution_count": 213,
     "metadata": {},
     "output_type": "execute_result"
    }
   ],
   "source": [
    "H2refine1p2"
   ]
  },
  {
   "cell_type": "code",
   "execution_count": 214,
   "id": "6d974bd5",
   "metadata": {},
   "outputs": [
    {
     "data": {
      "text/plain": [
       "array([ 111.,  449., 1151.,  238., 1512.,  474.,  751.,   43., 1200.,\n",
       "        605., 1023., 1540.,  376., 1477.,  116.,  647.,  947., 1076.,\n",
       "        424.,   97.,  948.,  308.,  675.,  437.,  702.,  906., 1251.,\n",
       "       1214.,   31.,  473.,  951.,  366.,  289.,  778.])"
      ]
     },
     "execution_count": 214,
     "metadata": {},
     "output_type": "execute_result"
    }
   ],
   "source": [
    "H2indices1p2G"
   ]
  },
  {
   "cell_type": "code",
   "execution_count": 215,
   "id": "64a63798",
   "metadata": {},
   "outputs": [
    {
     "data": {
      "text/plain": [
       "array([ 881.,  679.,  326., 1274.,  389., 1104., 1531.,  355., 1340.,\n",
       "         40.,  885., 1387.,  110., 1445., 1489., 1330.,  978.,  193.,\n",
       "       1518.,  797.,    2.,  985., 1049., 1367., 1432.,  333.,  275.,\n",
       "        734.,  460., 1190.,  433.,  579.,  166., 1164.,  964., 1358.,\n",
       "       1365.,  440.,  653.,  769.,  638.,  989.,  160.,  991., 1060.,\n",
       "        712., 1430.,  664.,   86.,  522., 1481.,  194., 1276., 1322.,\n",
       "        767., 1191., 1230.,   33.,  292.,  637.,  320., 1513.,   50.,\n",
       "        982.,  889.,  563., 1532.,  472.,  775.,  385., 1498.,    6.,\n",
       "        903., 1047., 1208.,  584.,  639., 1255.,  620.,  148.,  604.,\n",
       "       1411., 1415., 1051.,  328.,  758., 1133., 1183.,  344.,  729.,\n",
       "       1077.,  711., 1163.,  853.,  239.,  628.,  561., 1034.,  233.,\n",
       "       1440.,  539.,  288., 1523., 1000.,   92.,  568., 1259.,  552.,\n",
       "        104.,  314.,  733., 1320., 1379.,  684.,  662., 1552.,  578.,\n",
       "        139., 1130.])"
      ]
     },
     "execution_count": 215,
     "metadata": {},
     "output_type": "execute_result"
    }
   ],
   "source": [
    "H2indices5G"
   ]
  },
  {
   "cell_type": "code",
   "execution_count": 216,
   "id": "88d922ac",
   "metadata": {},
   "outputs": [
    {
     "name": "stdout",
     "output_type": "stream",
     "text": [
      "[1.2 1.2 1.2 1.2 1.2 1.2 1.2 1.2 1.2 1.2 1.2 1.2 1.2 2.4 5.  2.4 2.4 2.4\n",
      " 2.4 2.4 5.  5.  5.  5.  5.  5.  5.  5.  5.  5.  5.  5.  5.  5.  5.  5.\n",
      " 5.  5.  5.  5.  5.  5.  5.  5.  5.  5.  5.  5.  5.  5.  5.  5.  5.  5.\n",
      " 5.  5.  5.  5.  5.  5.  5.  5.  5.  5.  5.  5.  5.  5.  5.  5.  5.  5.\n",
      " 5.  5.  5.  5.  5.  5.  5.  5.  5.  5.  5.  5.  5.  5.  5.  5.  5.  5.\n",
      " 5.  5.  5.  5.  5.  5.  5.  5.  5.  5.  5.  5.  5.  5.  5.  5.  5.  5.\n",
      " 5.  5.  5.  5.  1.2 1.2 1.2 1.2 1.2 1.2 1.2 1.2 1.2 1.2 1.2 1.2 1.2 5.\n",
      " 5.  1.2 1.2 5.  5.  5.  5.  5.  5.  5.  5.  5.  5.  5.  5.  5.  5.  5.\n",
      " 5.  5.  5.  1.2 1.2 1.2 1.2 1.2 1.2 5.  5.  5.  5.  5.  5. ]\n"
     ]
    }
   ],
   "source": [
    "print(xvar)"
   ]
  },
  {
   "cell_type": "code",
   "execution_count": 217,
   "id": "a35d26ac",
   "metadata": {},
   "outputs": [],
   "source": [
    "H21p2=H2[H2refine1p2.astype(int)]\n",
    "H25=H2[H2refine5.astype(int)]\n",
    "\n",
    "\n",
    "H2pc1p2=H2pc[H2refine1p2.astype(int)]\n",
    "H2pc5=H2pc[H2refine5.astype(int)]\n",
    "\n",
    "H2dates1p2=Hsorted_dates2[H2refine1p2.astype(int)]\n",
    "H2dates5=Hsorted_dates2[H2refine5.astype(int)]"
   ]
  },
  {
   "cell_type": "code",
   "execution_count": 218,
   "id": "b48b7a3e",
   "metadata": {},
   "outputs": [
    {
     "data": {
      "text/plain": [
       "153"
      ]
     },
     "execution_count": 218,
     "metadata": {},
     "output_type": "execute_result"
    }
   ],
   "source": [
    "len(H21p2)+len(H25)"
   ]
  },
  {
   "cell_type": "code",
   "execution_count": 219,
   "id": "be7676da",
   "metadata": {},
   "outputs": [],
   "source": [
    "sweepRatios=H2pc/H2\n",
    "sweepRatios1p2=H2pc1p2/H21p2\n",
    "sweepRatios5=H2pc5/H25"
   ]
  },
  {
   "cell_type": "code",
   "execution_count": 220,
   "id": "dacfd62b",
   "metadata": {},
   "outputs": [
    {
     "data": {
      "text/plain": [
       "160"
      ]
     },
     "execution_count": 220,
     "metadata": {},
     "output_type": "execute_result"
    }
   ],
   "source": [
    "len(sweepRatios)"
   ]
  },
  {
   "cell_type": "code",
   "execution_count": 221,
   "id": "09af5d87",
   "metadata": {},
   "outputs": [
    {
     "data": {
      "text/plain": [
       "34"
      ]
     },
     "execution_count": 221,
     "metadata": {},
     "output_type": "execute_result"
    }
   ],
   "source": [
    "len(sweepRatios1p2)"
   ]
  },
  {
   "cell_type": "code",
   "execution_count": 222,
   "id": "259ddeac",
   "metadata": {},
   "outputs": [
    {
     "data": {
      "text/plain": [
       "119"
      ]
     },
     "execution_count": 222,
     "metadata": {},
     "output_type": "execute_result"
    }
   ],
   "source": [
    "len(sweepRatios5)"
   ]
  },
  {
   "cell_type": "markdown",
   "id": "a3d47d80",
   "metadata": {},
   "source": [
    "# Here I bring in EPR NMR before and after sweeps"
   ]
  },
  {
   "cell_type": "markdown",
   "id": "a13abab9",
   "metadata": {},
   "source": [
    "### This is all Calibrations"
   ]
  },
  {
   "cell_type": "code",
   "execution_count": 223,
   "id": "838c1571",
   "metadata": {},
   "outputs": [],
   "source": [
    "myFits=np.transpose(hunterFitsK2)\n",
    "dates=myFits[:,0].astype(int).astype(str)\n",
    "date_objects = [datetime.strptime(date, \"%Y%m%d%H%M%S\") for date in dates]\n",
    "dates_array = np.array(date_objects)\n",
    "sorted_dates = np.sort(dates_array)\n",
    "index_array = [date_objects.index(date) for date in sorted_dates]\n",
    "HunterKin2FitsOrdered = np.transpose(np.take(myFits, index_array, axis=0))\n",
    "\n",
    "\n",
    "dateList=np.empty(0)\n",
    "RatioB=np.empty(0)\n",
    "RatioA=np.empty(0)\n",
    "beforeEPRindices=np.empty(0)\n",
    "afterEPRindices=np.empty(0)\n",
    "for i in range(0,len(HunterKin2FitsOrdered[0])):\n",
    "    dateList=np.append(dateList,str(int(HunterKin2FitsOrdered[0][i]))[:8]+'_'+str(int(HunterKin2FitsOrdered[0][i]))[8:])\n",
    "for i in range(0,len(EPRdates)):\n",
    "    b,a=FindNMRsB4andAft('2022'+str(EPRdates[i]),dateList)\n",
    "    beforeEPRindices=np.append(beforeEPRindices,b)\n",
    "    afterEPRindices=np.append(afterEPRindices,a)\n",
    "    #print(i)\n",
    "    RatioB=np.append(RatioB,HunterKin2FitsOrdered[1][b]/HunterKin2FitsOrdered[3][b])\n",
    "    #print(HunterKin2FitsOrdered[1][b]/HunterKin2FitsOrdered[3][b])\n",
    "    RatioA=np.append(RatioA,HunterKin2FitsOrdered[1][a]/HunterKin2FitsOrdered[3][a])\n",
    "    #print(HunterKin2FitsOrdered[1][a]/HunterKin2FitsOrdered[3][a])"
   ]
  },
  {
   "cell_type": "code",
   "execution_count": null,
   "id": "e88166fb",
   "metadata": {},
   "outputs": [],
   "source": []
  },
  {
   "cell_type": "code",
   "execution_count": null,
   "id": "86915769",
   "metadata": {},
   "outputs": [],
   "source": []
  },
  {
   "cell_type": "code",
   "execution_count": 224,
   "id": "2a926aae",
   "metadata": {},
   "outputs": [],
   "source": [
    "#start to organize for 1.2G/s and 5G/s\n",
    "\n",
    "#nmrDates\n",
    "#Very inefficient coding on my part. The way my functions are setup, I have to unorder an ordered array to comply with\n",
    "#the GrabSettings function\n",
    "\n",
    "\n",
    "\n",
    "z=HunterKin2FitsOrdered[0].astype(int).astype(str)\n",
    "y=np.empty(0)\n",
    "for i in range(0,len(z)):\n",
    "    y=np.append(y,z[i][:8]+'_'+z[i][8:])\n",
    "    \n",
    "middleManB=y[beforeEPRindices.astype(int)]\n",
    "middleManA=y[afterEPRindices.astype(int)]\n",
    "np.where(allDates==middleManB[0])[0][0]\n",
    "bIndices=np.empty(0)\n",
    "aIndices=np.empty(0)\n",
    "for i in range(0,len(middleManB)):\n",
    "    bIndices=np.append(bIndices,np.where(allDates==middleManB[i])[0][0])\n",
    "    \n",
    "for i in range(0,len(middleManA)):\n",
    "    aIndices=np.append(aIndices,np.where(allDates==middleManA[i])[0][0])\n",
    "bIndices=bIndices.astype(int)\n",
    "aIndices=aIndices.astype(int)"
   ]
  },
  {
   "cell_type": "code",
   "execution_count": 225,
   "id": "3a76bfff",
   "metadata": {},
   "outputs": [],
   "source": [
    "#Using only calibrations with same settings\n",
    "refineEPR1p2G=np.empty(0)\n",
    "refineEPR5G=np.empty(0)\n",
    "for i in range(0,len(bIndices)):\n",
    "    x=GrabSettingsAtIndex(int(bIndices[i]))\n",
    "    if x[4][1]==5:\n",
    "        refineEPR5G=np.append(refineEPR5G,i)\n",
    "    if x[4][1]==1.2:\n",
    "        refineEPR1p2G=np.append(refineEPR1p2G,i)\n",
    "refineEPR1p2G=refineEPR1p2G.astype(int)\n",
    "refineEPR5G=refineEPR5G.astype(int)"
   ]
  },
  {
   "cell_type": "markdown",
   "id": "059a1019",
   "metadata": {},
   "source": [
    "### This is split for 1.2G/s and 5G/s"
   ]
  },
  {
   "cell_type": "code",
   "execution_count": 226,
   "id": "1b0cc38d",
   "metadata": {},
   "outputs": [],
   "source": [
    "EPRdates1p2=EPRdates[refineEPR1p2G]\n",
    "EPRdates5=EPRdates[refineEPR5G]"
   ]
  },
  {
   "cell_type": "code",
   "execution_count": 227,
   "id": "956b6675",
   "metadata": {},
   "outputs": [
    {
     "data": {
      "text/plain": [
       "array([10201910, 10211829, 10211838, 11011339, 11011729, 11011731,\n",
       "       11011817, 11011818, 11012033, 11012239, 11020013, 11020316,\n",
       "       11020317], dtype=object)"
      ]
     },
     "execution_count": 227,
     "metadata": {},
     "output_type": "execute_result"
    }
   ],
   "source": [
    "EPRdates1p2"
   ]
  },
  {
   "cell_type": "code",
   "execution_count": 228,
   "id": "9b0737f4",
   "metadata": {},
   "outputs": [
    {
     "data": {
      "text/plain": [
       "array([10290005, 10311332, 10311533, 11020239, 11020341, 11022156,\n",
       "       11022302, 11030002, 11030003, 11030055], dtype=object)"
      ]
     },
     "execution_count": 228,
     "metadata": {},
     "output_type": "execute_result"
    }
   ],
   "source": [
    "EPRdates5"
   ]
  },
  {
   "cell_type": "code",
   "execution_count": 229,
   "id": "59664420",
   "metadata": {},
   "outputs": [],
   "source": [
    "myFits=np.transpose(hunterFitsK2)\n",
    "dates=myFits[:,0].astype(int).astype(str)\n",
    "date_objects = [datetime.strptime(date, \"%Y%m%d%H%M%S\") for date in dates]\n",
    "dates_array = np.array(date_objects)\n",
    "sorted_dates = np.sort(dates_array)\n",
    "index_array = [date_objects.index(date) for date in sorted_dates]\n",
    "HunterKin2FitsOrdered = np.transpose(np.take(myFits, index_array, axis=0))\n",
    "\n",
    "\n",
    "dateList1p2=np.empty(0)\n",
    "RatioB1p2=np.empty(0)\n",
    "RatioA1p2=np.empty(0)\n",
    "beforeEPRindices1p2=np.empty(0)\n",
    "afterEPRindices1p2=np.empty(0)\n",
    "\n",
    "dateList5=np.empty(0)\n",
    "RatioB5=np.empty(0)\n",
    "RatioA5=np.empty(0)\n",
    "beforeEPRindices5=np.empty(0)\n",
    "afterEPRindices5=np.empty(0)\n",
    "for i in range(0,len(HunterKin2FitsOrdered[0])):\n",
    "    dateList=np.append(dateList,str(int(HunterKin2FitsOrdered[0][i]))[:8]+'_'+str(int(HunterKin2FitsOrdered[0][i]))[8:])\n",
    "\n",
    "#1.2G/s    \n",
    "for i in range(0,len(EPRdates1p2)):\n",
    "    b,a=FindNMRsB4andAft('2022'+str(EPRdates1p2[i]),dateList)\n",
    "    beforeEPRindices1p2=np.append(beforeEPRindices1p2,b)\n",
    "    afterEPRindices1p2=np.append(afterEPRindices1p2,a)\n",
    "    #print(i)\n",
    "    RatioB1p2=np.append(RatioB1p2,HunterKin2FitsOrdered[1][b]/HunterKin2FitsOrdered[3][b])\n",
    "    #print(HunterKin2FitsOrdered[1][b]/HunterKin2FitsOrdered[3][b])\n",
    "    RatioA1p2=np.append(RatioA1p2,HunterKin2FitsOrdered[1][a]/HunterKin2FitsOrdered[3][a])\n",
    "    #print(HunterKin2FitsOrdered[1][a]/HunterKin2FitsOrdered[3][a])\n",
    "\n",
    "#5G/s    \n",
    "for i in range(0,len(EPRdates5)):\n",
    "    b,a=FindNMRsB4andAft('2022'+str(EPRdates5[i]),dateList)\n",
    "    beforeEPRindices5=np.append(beforeEPRindices5,b)\n",
    "    afterEPRindices=np.append(afterEPRindices5,a)\n",
    "    #print(i)\n",
    "    RatioB5=np.append(RatioB5,HunterKin2FitsOrdered[1][b]/HunterKin2FitsOrdered[3][b])\n",
    "    #print(HunterKin2FitsOrdered[1][b]/HunterKin2FitsOrdered[3][b])\n",
    "    RatioA5=np.append(RatioA5,HunterKin2FitsOrdered[1][a]/HunterKin2FitsOrdered[3][a])\n",
    "    #print(HunterKin2FitsOrdered[1][a]/HunterKin2FitsOrdered[3][a])"
   ]
  },
  {
   "cell_type": "code",
   "execution_count": 230,
   "id": "c4a29f9d",
   "metadata": {},
   "outputs": [
    {
     "data": {
      "text/plain": [
       "23"
      ]
     },
     "execution_count": 230,
     "metadata": {},
     "output_type": "execute_result"
    }
   ],
   "source": [
    "len(EPRdates)"
   ]
  },
  {
   "cell_type": "code",
   "execution_count": 231,
   "id": "2bfa1504",
   "metadata": {},
   "outputs": [
    {
     "data": {
      "text/plain": [
       "23"
      ]
     },
     "execution_count": 231,
     "metadata": {},
     "output_type": "execute_result"
    }
   ],
   "source": [
    "len(beforeEPRindices)"
   ]
  },
  {
   "cell_type": "markdown",
   "id": "6382f412",
   "metadata": {},
   "source": [
    "# EPR Density Corrections for 1.2G/s and 5G/s"
   ]
  },
  {
   "cell_type": "raw",
   "id": "91a1fb50",
   "metadata": {},
   "source": [
    "V_pc\t306.1659\t\tfill density: 7.38659\n",
    "V_tt\t44.8700\t\t  \n",
    "V_tc\t160.9000        fill pressure: 6285.2 torr"
   ]
  },
  {
   "cell_type": "code",
   "execution_count": 232,
   "id": "c45c2436",
   "metadata": {},
   "outputs": [
    {
     "data": {
      "text/plain": [
       "23"
      ]
     },
     "execution_count": 232,
     "metadata": {},
     "output_type": "execute_result"
    }
   ],
   "source": [
    "len(RatioB)"
   ]
  },
  {
   "cell_type": "code",
   "execution_count": 233,
   "id": "95092991",
   "metadata": {},
   "outputs": [
    {
     "data": {
      "text/plain": [
       "23"
      ]
     },
     "execution_count": 233,
     "metadata": {},
     "output_type": "execute_result"
    }
   ],
   "source": [
    "len(EPRds)"
   ]
  },
  {
   "cell_type": "markdown",
   "id": "1266a9dc",
   "metadata": {},
   "source": [
    "### 1.2G/s"
   ]
  },
  {
   "cell_type": "code",
   "execution_count": 234,
   "id": "e8437404",
   "metadata": {},
   "outputs": [],
   "source": [
    "EPRds1p2=EPRds[refineEPR1p2G]"
   ]
  },
  {
   "cell_type": "code",
   "execution_count": 235,
   "id": "9653afcd",
   "metadata": {},
   "outputs": [
    {
     "data": {
      "text/plain": [
       "array([0.25042517, 0.23448744, 0.24677449, 0.25982668, 0.26178191,\n",
       "       0.26178191, 0.25904397, 0.25904397, 0.26774771, 0.25875228,\n",
       "       0.26364197, 0.25724633, 0.25724633])"
      ]
     },
     "execution_count": 235,
     "metadata": {},
     "output_type": "execute_result"
    }
   ],
   "source": [
    "RatioB1p2"
   ]
  },
  {
   "cell_type": "code",
   "execution_count": 236,
   "id": "c4c533d5",
   "metadata": {
    "scrolled": false
   },
   "outputs": [
    {
     "name": "stdout",
     "output_type": "stream",
     "text": [
      "This better be 1.0 -->  1.0\n",
      "6.391115928314086   7.0670893559467665\n"
     ]
    },
    {
     "data": {
      "image/png": "[encoded data removed]",
      "text/plain": [
       "<Figure size 640x480 with 1 Axes>"
      ]
     },
     "metadata": {},
     "output_type": "display_data"
    }
   ],
   "source": [
    "EPRdates1p2=EPRdates[refineEPR1p2G]\n",
    "EPRdates5=EPRdates[refineEPR5G]\n",
    "C2=306.1659 #V_PC\n",
    "C3=44.8700 #V_TT\n",
    "C4=160.9000 #V_TC\n",
    "C6=878.7170 #kHz/Gauss\n",
    "C7=4.8376 #cbar/(kHz/G)\n",
    "F2=7.38658534932298 #Fill Density\n",
    "F3=265 #ref. T_pc\n",
    "F4=31.5 #ref. T_tc\n",
    "F51p2=.23448744 #ref_ratio\n",
    "\n",
    "I2=C2*(F4+273.15)/(C2*(F4+273.15)+(C4+C3)*(F3+273.15)) #f_pc\n",
    "I3=(C4+C3)*(F3+273.15)/(C2*(F4+273.15)+(C4+C3)*(F3+273.15)) #f_tc\n",
    "print('This better be 1.0 --> ',I2+I3)\n",
    "\n",
    "#T_pc\n",
    "N=np.empty(0)\n",
    "O=np.empty(0)\n",
    "for i in range(0,len(RatioB1p2)):\n",
    "    N=np.append(N,(F51p2/RatioB1p2[i])*F3)\n",
    "    O=np.append(O,F4)\n",
    "\n",
    "#alpha\n",
    "R=np.empty(0)\n",
    "for i in range(0,len(RatioB1p2)):\n",
    "    R=np.append(R,1/((F51p2/RatioB1p2[i])*(1-I2)+I2))\n",
    "\n",
    "#beta\n",
    "S=np.empty(0)\n",
    "for i in range(0,len(RatioB1p2)):\n",
    "    S=np.append(S,(F51p2/RatioB1p2[i])/((F51p2/RatioB1p2[i])*I3+1-I3))\n",
    "\n",
    "#f_pc\n",
    "T=np.empty(0)\n",
    "for i in range(0,len(RatioB1p2)):\n",
    "    T=np.append(T,R[i]*I2)\n",
    "\n",
    "#f_tc\n",
    "U=np.empty(0)\n",
    "for i in range(0,len(RatioB1p2)):\n",
    "    U=np.append(U,S[i]*I3)\n",
    "\n",
    "adjDS1p2=EPRds1p2*S\n",
    "EPRdates1p2=EPRdates1p2[np.where(adjDS1p2!=0)]\n",
    "EPRds1p2=EPRds1p2[np.where(adjDS1p2!=0)]\n",
    "adjDS1p2=adjDS1p2[np.where(adjDS1p2!=0)]\n",
    "#adjPC=EPRpc*R\n",
    "#adjPC=adjPC[np.where(adjPC!=0)]\n",
    "dsBaseLine1p2=EPRds1p2[np.where(EPRds1p2!=0)]\n",
    "\n",
    "FinalEPRds1p2=np.mean(adjDS1p2)\n",
    "FinalEPRdsE1p2=np.std(adjDS1p2)\n",
    "dsNewHist=plt.hist(adjDS1p2)\n",
    "dsHist=plt.hist(dsBaseLine1p2)\n",
    "print(100*np.std(adjDS1p2)/np.mean(adjDS1p2),' ',100*np.std(dsBaseLine1p2)/np.mean(adjDS1p2))"
   ]
  },
  {
   "cell_type": "code",
   "execution_count": 237,
   "id": "199d9b0b",
   "metadata": {},
   "outputs": [
    {
     "name": "stdout",
     "output_type": "stream",
     "text": [
      "This better be 1.0 -->  1.0\n"
     ]
    }
   ],
   "source": [
    "\n",
    "#add on november 12 \n",
    "\n",
    "#EPRdates1p2=EPRdates[refineEPR1p2G]\n",
    "#EPRdates5=EPRdates[refineEPR5G]\n",
    "C2=306.1659 #V_PC\n",
    "C3=44.8700 #V_TT\n",
    "C4=160.9000 #V_TC\n",
    "C6=878.7170 #kHz/Gauss\n",
    "C7=4.8376 #cbar/(kHz/G)\n",
    "F2=7.38658534932298 #Fill Density\n",
    "F3=265 #ref. T_pc\n",
    "F4=31.5 #ref. T_tc\n",
    "F51p2=.23448744 #ref_ratio\n",
    "\n",
    "I2=C2*(F4+273.15)/(C2*(F4+273.15)+(C4+C3)*(F3+273.15)) #f_pc\n",
    "I3=(C4+C3)*(F3+273.15)/(C2*(F4+273.15)+(C4+C3)*(F3+273.15)) #f_tc\n",
    "print('This better be 1.0 --> ',I2+I3)\n",
    "\n",
    "#T_pc\n",
    "N=np.empty(0)\n",
    "O=np.empty(0)\n",
    "for i in range(0,len(sweepRatios1p2)):\n",
    "    N=np.append(N,(F51p2/sweepRatios1p2[i])*F3)\n",
    "    O=np.append(O,F4)\n",
    "\n",
    "#alpha\n",
    "R=np.empty(0)\n",
    "for i in range(0,len(sweepRatios1p2)):\n",
    "    R=np.append(R,1/((F51p2/sweepRatios1p2[i])*(1-I2)+I2))\n",
    "\n",
    "#beta\n",
    "S=np.empty(0)\n",
    "for i in range(0,len(sweepRatios1p2)):\n",
    "    S=np.append(S,(F51p2/sweepRatios1p2[i])/((F51p2/sweepRatios1p2[i])*I3+1-I3))\n",
    "\n",
    "#f_pc\n",
    "T=np.empty(0)\n",
    "for i in range(0,len(sweepRatios1p2)):\n",
    "    T=np.append(T,R[i]*I2)\n",
    "\n",
    "#f_tc\n",
    "U=np.empty(0)\n",
    "for i in range(0,len(sweepRatios1p2)):\n",
    "    U=np.append(U,S[i]*I3)\n",
    "    \n",
    "newEPRs1p2=FinalEPRds1p2/S"
   ]
  },
  {
   "cell_type": "code",
   "execution_count": 238,
   "id": "98b7ff98",
   "metadata": {},
   "outputs": [],
   "source": [
    "from math import *"
   ]
  },
  {
   "cell_type": "code",
   "execution_count": 239,
   "id": "63209704",
   "metadata": {},
   "outputs": [
    {
     "data": {
      "text/plain": [
       "0.03136266202318036"
      ]
     },
     "execution_count": 239,
     "metadata": {},
     "output_type": "execute_result"
    }
   ],
   "source": [
    "FinalEPRdsE1p2/sqrt(11)"
   ]
  },
  {
   "cell_type": "code",
   "execution_count": 240,
   "id": "eed4cd26",
   "metadata": {},
   "outputs": [
    {
     "data": {
      "text/plain": [
       "11"
      ]
     },
     "execution_count": 240,
     "metadata": {},
     "output_type": "execute_result"
    }
   ],
   "source": [
    "len(EPRds1p2)"
   ]
  },
  {
   "cell_type": "code",
   "execution_count": 241,
   "id": "7acd64c0",
   "metadata": {},
   "outputs": [
    {
     "data": {
      "image/png": "[encoded data removed]",
      "text/plain": [
       "<Figure size 640x480 with 1 Axes>"
      ]
     },
     "metadata": {},
     "output_type": "display_data"
    }
   ],
   "source": [
    "oldPerc=str(np.round(np.std(EPRds1p2)/np.mean(EPRds1p2)*100,2))\n",
    "newPerc=str(np.round(np.std(adjDS1p2)/np.mean(adjDS1p2)*100,2))\n",
    "EPRdatetime=np.empty(0)\n",
    "dateString=np.empty(0)\n",
    "for i in range(0,len(EPRdates1p2)):\n",
    "    EPRdatetime=np.append(EPRdatetime,datetime.strptime('2022'+str(EPRdates1p2[i]),'%Y%m%d%H%M'))\n",
    "    dateString=np.append(dateString,str(EPRdates1p2[i])[:2]+'/'+str(EPRdates1p2[i])[2:4]+' '+str(EPRdates1p2[i])[4:6]+':'+str(EPRdates1p2[i])[6:])\n",
    "\n",
    "#plt.plot(dateString,EPRds,label='Before',color='dodgerblue')\n",
    "#plt.plot(dateString,adjDS,label='After',color='red')\n",
    "plt.plot(dateString,EPRds1p2,label='Before: '+oldPerc+'%',color='dodgerblue')\n",
    "plt.plot(dateString,adjDS1p2,label='After: '+newPerc+'%',color='red')\n",
    "plt.legend(loc='lower right')\n",
    "x=plt.xticks(rotation=70)\n",
    "plt.title(\"Calibration Constant Before and After Correction\"+'\\n Hunter Kin2 1.2G/s',fontsize=15)\n",
    "plt.savefig('CalCorrectionHunterKin2.png')"
   ]
  },
  {
   "cell_type": "markdown",
   "id": "5d2d1065",
   "metadata": {},
   "source": [
    "### 5G/s"
   ]
  },
  {
   "cell_type": "code",
   "execution_count": 242,
   "id": "571a3a85",
   "metadata": {},
   "outputs": [],
   "source": [
    "EPRds5=EPRds[refineEPR5G]"
   ]
  },
  {
   "cell_type": "code",
   "execution_count": 243,
   "id": "6734e433",
   "metadata": {},
   "outputs": [
    {
     "data": {
      "text/plain": [
       "array([0.25042517, 0.23448744, 0.24677449, 0.22713653, 0.23385892,\n",
       "       0.23314655, 0.25982668, 0.26178191, 0.26178191, 0.25904397,\n",
       "       0.25904397, 0.26774771, 0.25875228, 0.26364197, 0.23302165,\n",
       "       0.25724633, 0.25724633, 0.23276758, 0.23281334, 0.23625347,\n",
       "       0.23085292, 0.23085292, 0.23388639])"
      ]
     },
     "execution_count": 243,
     "metadata": {},
     "output_type": "execute_result"
    }
   ],
   "source": [
    "RatioB"
   ]
  },
  {
   "cell_type": "code",
   "execution_count": 244,
   "id": "904b13e0",
   "metadata": {},
   "outputs": [
    {
     "name": "stdout",
     "output_type": "stream",
     "text": [
      "This better be 1.0 -->  1.0\n",
      "4.059694047664604   4.213967830076536\n"
     ]
    },
    {
     "data": {
      "image/png": "[encoded data removed]",
      "text/plain": [
       "<Figure size 640x480 with 1 Axes>"
      ]
     },
     "metadata": {},
     "output_type": "display_data"
    }
   ],
   "source": [
    "\n",
    "C2=306.1659 #V_PC\n",
    "C3=44.8700 #V_TT\n",
    "C4=160.9000 #V_TC\n",
    "C6=878.7170 #kHz/Gauss\n",
    "C7=4.8376 #cbar/(kHz/G)\n",
    "F2=7.38658534932298 #Fill Density\n",
    "F3=265 #ref. T_pc\n",
    "F4=31.5 #ref. T_tc\n",
    "F5=.25042517 #ref_ratio\n",
    "\n",
    "I2=C2*(F4+273.15)/(C2*(F4+273.15)+(C4+C3)*(F3+273.15)) #f_pc\n",
    "I3=(C4+C3)*(F3+273.15)/(C2*(F4+273.15)+(C4+C3)*(F3+273.15)) #f_tc\n",
    "print('This better be 1.0 --> ',I2+I3)\n",
    "\n",
    "#T_pc\n",
    "N=np.empty(0)\n",
    "O=np.empty(0)\n",
    "for i in range(0,len(RatioB5)):\n",
    "    N=np.append(N,(F5/RatioB5[i])*F3)\n",
    "    O=np.append(O,F4)\n",
    "\n",
    "#alpha\n",
    "R=np.empty(0)\n",
    "for i in range(0,len(RatioB5)):\n",
    "    R=np.append(R,1/((F5/RatioB5[i])*(1-I2)+I2))\n",
    "\n",
    "#beta\n",
    "S=np.empty(0)\n",
    "for i in range(0,len(RatioB5)):\n",
    "    S=np.append(S,(F5/RatioB5[i])/((F5/RatioB5[i])*I3+1-I3))\n",
    "\n",
    "#f_pc\n",
    "T=np.empty(0)\n",
    "for i in range(0,len(RatioB5)):\n",
    "    T=np.append(T,R[i]*I2)\n",
    "\n",
    "#f_tc\n",
    "U=np.empty(0)\n",
    "for i in range(0,len(RatioB5)):\n",
    "    U=np.append(U,S[i]*I3)\n",
    "\n",
    "adjDS5=EPRds5*S\n",
    "EPRdates5=EPRdates5[np.where(adjDS5!=0)]\n",
    "EPRds5=EPRds5[np.where(adjDS5!=0)]\n",
    "adjDS5=adjDS5[np.where(adjDS5!=0)]\n",
    "#adjPC=EPRpc*R\n",
    "#adjPC=adjPC[np.where(adjPC!=0)]\n",
    "dsBaseLine5=EPRds5[np.where(EPRds5!=0)]\n",
    "\n",
    "FinalEPRds5=np.mean(adjDS5)\n",
    "FinalEPRdsE5=np.std(adjDS5)\n",
    "dsNewHist=plt.hist(adjDS5)\n",
    "dsHist=plt.hist(dsBaseLine5)\n",
    "print(100*np.std(adjDS5)/np.mean(adjDS5),' ',100*np.std(dsBaseLine5)/np.mean(adjDS5))"
   ]
  },
  {
   "cell_type": "code",
   "execution_count": 245,
   "id": "aa2a3857",
   "metadata": {},
   "outputs": [
    {
     "name": "stdout",
     "output_type": "stream",
     "text": [
      "This better be 1.0 -->  1.0\n"
     ]
    }
   ],
   "source": [
    "\n",
    "#add on november 12 \n",
    "\n",
    "#EPRdates1p2=EPRdates[refineEPR1p2G]\n",
    "#EPRdates5=EPRdates[refineEPR5G]\n",
    "C2=306.1659 #V_PC\n",
    "C3=44.8700 #V_TT\n",
    "C4=160.9000 #V_TC\n",
    "C6=878.7170 #kHz/Gauss\n",
    "C7=4.8376 #cbar/(kHz/G)\n",
    "F2=7.38658534932298 #Fill Density\n",
    "F3=265 #ref. T_pc\n",
    "F4=31.5 #ref. T_tc\n",
    "F51p2=.23448744 #ref_ratio\n",
    "\n",
    "I2=C2*(F4+273.15)/(C2*(F4+273.15)+(C4+C3)*(F3+273.15)) #f_pc\n",
    "I3=(C4+C3)*(F3+273.15)/(C2*(F4+273.15)+(C4+C3)*(F3+273.15)) #f_tc\n",
    "print('This better be 1.0 --> ',I2+I3)\n",
    "\n",
    "#T_pc\n",
    "N=np.empty(0)\n",
    "O=np.empty(0)\n",
    "for i in range(0,len(sweepRatios5)):\n",
    "    N=np.append(N,(F51p2/sweepRatios5[i])*F3)\n",
    "    O=np.append(O,F4)\n",
    "\n",
    "#alpha\n",
    "R=np.empty(0)\n",
    "for i in range(0,len(sweepRatios5)):\n",
    "    R=np.append(R,1/((F51p2/sweepRatios5[i])*(1-I2)+I2))\n",
    "\n",
    "#beta\n",
    "S=np.empty(0)\n",
    "for i in range(0,len(sweepRatios5)):\n",
    "    S=np.append(S,(F51p2/sweepRatios5[i])/((F51p2/sweepRatios5[i])*I3+1-I3))\n",
    "\n",
    "#f_pc\n",
    "T=np.empty(0)\n",
    "for i in range(0,len(sweepRatios5)):\n",
    "    T=np.append(T,R[i]*I2)\n",
    "\n",
    "#f_tc\n",
    "U=np.empty(0)\n",
    "for i in range(0,len(sweepRatios5)):\n",
    "    U=np.append(U,S[i]*I3)\n",
    "    \n",
    "newEPRs5=FinalEPRds5/S"
   ]
  },
  {
   "cell_type": "code",
   "execution_count": 246,
   "id": "901670f4",
   "metadata": {},
   "outputs": [
    {
     "data": {
      "text/plain": [
       "8"
      ]
     },
     "execution_count": 246,
     "metadata": {},
     "output_type": "execute_result"
    }
   ],
   "source": [
    "len(EPRds5)"
   ]
  },
  {
   "cell_type": "code",
   "execution_count": 247,
   "id": "8ecf0c99",
   "metadata": {},
   "outputs": [
    {
     "data": {
      "image/png": "[encoded data removed]",
      "text/plain": [
       "<Figure size 640x480 with 1 Axes>"
      ]
     },
     "metadata": {},
     "output_type": "display_data"
    }
   ],
   "source": [
    "oldPerc=str(np.round(np.std(EPRds5)/np.mean(EPRds5)*100,2))\n",
    "newPerc=str(np.round(np.std(adjDS5)/np.mean(adjDS5)*100,2))\n",
    "EPRdatetime=np.empty(0)\n",
    "dateString=np.empty(0)\n",
    "for i in range(0,len(EPRdates5)):\n",
    "    EPRdatetime=np.append(EPRdatetime,datetime.strptime('2022'+str(EPRdates5[i]),'%Y%m%d%H%M'))\n",
    "    dateString=np.append(dateString,str(EPRdates1p2[i])[:2]+'/'+str(EPRdates5[i])[2:4]+' '+str(EPRdates5[i])[4:6]+':'+str(EPRdates5[i])[6:])\n",
    "\n",
    "#plt.plot(dateString,EPRds,label='Before',color='dodgerblue')\n",
    "#plt.plot(dateString,adjDS,label='After',color='red')\n",
    "plt.plot(dateString,EPRds5,label='Before: '+oldPerc+'%',color='dodgerblue')\n",
    "plt.plot(dateString,adjDS5,label='After: '+newPerc+'%',color='red')\n",
    "plt.legend(loc='lower right')\n",
    "x=plt.xticks(rotation=70)\n",
    "plt.title(\"Calibration Constant Before and After Correction\"+'\\n Hunter Kin2 5G/s',fontsize=15)\n",
    "plt.savefig('CalCorrectionHunterKin2.png')"
   ]
  },
  {
   "cell_type": "markdown",
   "id": "2f152a71",
   "metadata": {},
   "source": [
    "# Take the Density Corrected EPR Calibration and apply it to all NMRs"
   ]
  },
  {
   "cell_type": "code",
   "execution_count": null,
   "id": "88673c7c",
   "metadata": {},
   "outputs": [],
   "source": []
  },
  {
   "cell_type": "code",
   "execution_count": 248,
   "id": "259279db",
   "metadata": {},
   "outputs": [],
   "source": [
    "#1.2G/s\n",
    "\n",
    "CorrectedRatio1p2=F51p2\n",
    "\n",
    "\n",
    "CorrectedNMRs1p2=np.empty(0)\n",
    "newEPRds1p2=np.empty(0)\n",
    "for i,j in enumerate(H21p2):\n",
    "    #CorrectedNMRs1p2=np.append(CorrectedNMRs1p2,j*FinalEPRds1p2*sweepRatios1p2[i]/CorrectedRatio1p2)\n",
    "    CorrectedNMRs1p2=np.append(CorrectedNMRs1p2,j*newEPRs1p2[i])\n",
    "\n",
    "    newEPRds1p2=np.append(newEPRds1p2,FinalEPRds1p2*CorrectedRatio1p2/sweepRatios1p2[i])"
   ]
  },
  {
   "cell_type": "code",
   "execution_count": 249,
   "id": "f4d47e94",
   "metadata": {},
   "outputs": [
    {
     "data": {
      "text/plain": [
       "34"
      ]
     },
     "execution_count": 249,
     "metadata": {},
     "output_type": "execute_result"
    }
   ],
   "source": [
    "len(CorrectedNMRs1p2)"
   ]
  },
  {
   "cell_type": "code",
   "execution_count": 250,
   "id": "a0bd9692",
   "metadata": {},
   "outputs": [],
   "source": [
    "CorrectedRatio5=F5\n",
    "\n",
    "\n",
    "CorrectedNMRs5=np.empty(0)\n",
    "newEPRds5=np.empty(0)\n",
    "for i,j in enumerate(H25):\n",
    "    #CorrectedNMRs5=np.append(CorrectedNMRs5,j*FinalEPRds5*sweepRatios5[i]/CorrectedRatio5)\n",
    "    CorrectedNMRs5=np.append(CorrectedNMRs5,j*newEPRs5[i])\n",
    "\n",
    "    newEPRds5=np.append(newEPRds5,FinalEPRds5*sweepRatios5[i]/CorrectedRatio5)"
   ]
  },
  {
   "cell_type": "code",
   "execution_count": 251,
   "id": "2fd281d1",
   "metadata": {},
   "outputs": [
    {
     "data": {
      "text/plain": [
       "119"
      ]
     },
     "execution_count": 251,
     "metadata": {},
     "output_type": "execute_result"
    }
   ],
   "source": [
    "len(CorrectedNMRs5)"
   ]
  },
  {
   "cell_type": "code",
   "execution_count": 252,
   "id": "0274ce06",
   "metadata": {},
   "outputs": [
    {
     "data": {
      "image/png": "[encoded data removed]",
      "text/plain": [
       "<Figure size 640x480 with 1 Axes>"
      ]
     },
     "metadata": {},
     "output_type": "display_data"
    }
   ],
   "source": [
    "plt.plot(H2dates1p2,CorrectedNMRs1p2,\".\",color=\"dodgerblue\",label=\"1.2G/s\")\n",
    "plt.plot(H2dates5[:-4],CorrectedNMRs5[:-4],'.',color=\"red\",label=\"5G/s\")\n",
    "plt.title(\"Density Corrected Polarization % with 1.2G/s and 5G/s analyzed separately\")\n",
    "plt.legend(loc=\"upper right\")\n",
    "x=plt.xticks(rotation=70)\n"
   ]
  },
  {
   "cell_type": "markdown",
   "id": "371df99a",
   "metadata": {},
   "source": [
    "### Create error arrays and variables for FinalEPRds, SweepRatios"
   ]
  },
  {
   "cell_type": "code",
   "execution_count": null,
   "id": "827a28d2",
   "metadata": {},
   "outputs": [],
   "source": []
  },
  {
   "cell_type": "code",
   "execution_count": 253,
   "id": "34b4373c",
   "metadata": {},
   "outputs": [],
   "source": [
    "np.save(\"uncorrected1p2.npy\",H21p2)\n",
    "np.savetxt(\"FinalEPRdsE1p2.txt\",[[FinalEPRdsE1p2]])\n",
    "np.savetxt(\"FinalEPRds1p2.txt\",[FinalEPRds1p2])\n",
    "np.savetxt(\"ReferenceRatio1p2.txt\",[[CorrectedRatio1p2]])\n",
    "np.save(\"newEPRds1p2.npy\",newEPRds1p2)\n",
    "np.save(\"sweepRatios1p2.npy\",sweepRatios1p2)\n",
    "\n",
    "np.save(\"uncorrected5.npy\",H25[:-4])\n",
    "np.savetxt(\"FinalEPRdsE5.txt\",[[FinalEPRdsE5]])\n",
    "np.savetxt(\"FinalEPRds5.txt\",[FinalEPRds5])\n",
    "np.savetxt(\"ReferenceRatio5.txt\",[[CorrectedRatio5]])\n",
    "np.save(\"newEPRds5.npy\",newEPRds5[:-4])\n",
    "np.save(\"sweepRatios5.npy\",sweepRatios5[:-4])"
   ]
  },
  {
   "cell_type": "code",
   "execution_count": 254,
   "id": "fdb9b7b3",
   "metadata": {},
   "outputs": [
    {
     "data": {
      "text/plain": [
       "156"
      ]
     },
     "execution_count": 254,
     "metadata": {},
     "output_type": "execute_result"
    }
   ],
   "source": [
    "len(sweepRatios[:-4])"
   ]
  },
  {
   "cell_type": "code",
   "execution_count": 255,
   "id": "b3da6db9",
   "metadata": {},
   "outputs": [],
   "source": [
    "H2SortedDatesCorrected1p2=H2dates1p2\n",
    "H2CorrectedDSNMR1p2=CorrectedNMRs1p2\n",
    "\n",
    "H2SortedDatesCorrected5=H2dates5[:-4]\n",
    "H2CorrectedDSNMR5=CorrectedNMRs5[:-4]\n",
    "\n",
    "\n",
    "#H2dates5[:-4],CorrectedNMRs5[:-4]"
   ]
  },
  {
   "cell_type": "code",
   "execution_count": 256,
   "id": "b66ca4d6",
   "metadata": {},
   "outputs": [],
   "source": [
    "np.save(sys.path[0]+'/../H2SortedDatesCorrected1p2.npy',H2SortedDatesCorrected1p2)\n",
    "np.save(sys.path[0]+'/../H2CorrectedDSNMR1p2.npy',H2CorrectedDSNMR1p2)\n",
    "\n",
    "np.save(sys.path[0]+'/../H2SortedDatesCorrected5.npy',H2SortedDatesCorrected5)\n",
    "np.save(sys.path[0]+'/../H2CorrectedDSNMR5.npy',H2CorrectedDSNMR5)\n",
    "\n"
   ]
  },
  {
   "cell_type": "code",
   "execution_count": 257,
   "id": "c821ad3f",
   "metadata": {},
   "outputs": [],
   "source": [
    "allNMRs=np.append(H2CorrectedDSNMR1p2,H2CorrectedDSNMR5)"
   ]
  },
  {
   "cell_type": "code",
   "execution_count": 258,
   "id": "40065913",
   "metadata": {},
   "outputs": [
    {
     "data": {
      "text/plain": [
       "33.497329893928494"
      ]
     },
     "execution_count": 258,
     "metadata": {},
     "output_type": "execute_result"
    },
    {
     "data": {
      "image/png": "[encoded data removed]",
      "text/plain": [
       "<Figure size 640x480 with 1 Axes>"
      ]
     },
     "metadata": {},
     "output_type": "display_data"
    }
   ],
   "source": [
    "plt.hist(allNMRs[np.where(allNMRs>20)])\n",
    "np.mean(allNMRs[np.where(allNMRs>20)])"
   ]
  },
  {
   "cell_type": "markdown",
   "id": "36b631a1",
   "metadata": {},
   "source": [
    "# Looking at Settings"
   ]
  },
  {
   "cell_type": "code",
   "execution_count": 259,
   "id": "cb67fdf9",
   "metadata": {},
   "outputs": [
    {
     "data": {
      "text/plain": [
       "array(['20230215_022554', '20221111_212019', '20221025_171530', ...,\n",
       "       '20221103_061710', '20221015_114608', '20220901_115838'],\n",
       "      dtype='<U32')"
      ]
     },
     "execution_count": 259,
     "metadata": {},
     "output_type": "execute_result"
    }
   ],
   "source": [
    "allFits\n",
    "allIndices\n",
    "allDates"
   ]
  },
  {
   "cell_type": "code",
   "execution_count": null,
   "id": "433cae90",
   "metadata": {},
   "outputs": [],
   "source": []
  },
  {
   "cell_type": "code",
   "execution_count": 260,
   "id": "7803c5ba",
   "metadata": {},
   "outputs": [],
   "source": [
    "def GrabSettingsAtIndex(j):\n",
    "    import os\n",
    "    import numpy as np\n",
    "    import pandas as pd\n",
    "    import re\n",
    "\n",
    "    \n",
    "    NMRFolders=os.listdir(NMRData)\n",
    "    name=NMRData+'/'+NMRFolders[j]+'/Downstream Coil/Settings.dat'\n",
    "    with open(name, 'r') as f:\n",
    "        # read the contents of the file into a list\n",
    "        lines = f.readlines()\n",
    "\n",
    "    # remove newline characters from each element\n",
    "    lines = [line.strip() for line in lines]\n",
    "\n",
    "    # print the list\n",
    "\n",
    "    result=[]\n",
    "    for string in lines[4:11]:\n",
    "        # split the string into key and value\n",
    "        key, value = string.split(':')\n",
    "        # strip leading and trailing whitespace from key and value\n",
    "        key = key.strip()\n",
    "        value = value.strip()\n",
    "        # convert value to integer\n",
    "        value = float(value)\n",
    "        # add key and value to result list\n",
    "        result.append([key, value])\n",
    "    print(lines[13])\n",
    "\n",
    "    return result\n",
    "\n",
    "nmrDates=np.load('nmrDates.npy')\n",
    "nmrIndices=np.load('nmrIndices.npy')"
   ]
  },
  {
   "cell_type": "code",
   "execution_count": null,
   "id": "0002f7d6",
   "metadata": {},
   "outputs": [],
   "source": []
  },
  {
   "cell_type": "code",
   "execution_count": 261,
   "id": "0696d579",
   "metadata": {},
   "outputs": [
    {
     "data": {
      "text/plain": [
       "array([177.])"
      ]
     },
     "execution_count": 261,
     "metadata": {},
     "output_type": "execute_result"
    }
   ],
   "source": [
    "beforeEPRindices\n",
    "afterEPRindices"
   ]
  },
  {
   "cell_type": "code",
   "execution_count": 262,
   "id": "23d5349c",
   "metadata": {},
   "outputs": [
    {
     "data": {
      "text/plain": [
       "array([ 874,  605, 1540, 1430,  320,   50, 1477,  647,  647, 1076, 1076,\n",
       "         97,  308,  437,  853, 1251, 1251,  628,  288, 1000,  568,  568,\n",
       "        552])"
      ]
     },
     "execution_count": 262,
     "metadata": {},
     "output_type": "execute_result"
    }
   ],
   "source": [
    "bIndices"
   ]
  },
  {
   "cell_type": "code",
   "execution_count": 263,
   "id": "cfe810f7",
   "metadata": {},
   "outputs": [
    {
     "data": {
      "text/plain": [
       "array([1120, 1023,  376,  664, 1513,  982,  116,  947,  947,  424,  424,\n",
       "        948,  675,  702,  239, 1214, 1214,  561, 1523,   92, 1259, 1259,\n",
       "        104])"
      ]
     },
     "execution_count": 263,
     "metadata": {},
     "output_type": "execute_result"
    }
   ],
   "source": [
    "aIndices"
   ]
  },
  {
   "cell_type": "code",
   "execution_count": 264,
   "id": "ca40f9e8",
   "metadata": {},
   "outputs": [
    {
     "name": "stdout",
     "output_type": "stream",
     "text": [
      "Start Time:\t2022/10/20 19:02:43\n",
      "Start Time:\t2022/10/21 18:26:55\n",
      "Start Time:\t2022/10/21 18:36:41\n",
      "Start Time:\t2022/10/29 00:04:57\n",
      "Start Time:\t2022/10/31 13:31:10\n",
      "Start Time:\t2022/10/31 15:32:59\n",
      "Start Time:\t2022/11/01 13:37:57\n",
      "Start Time:\t2022/11/01 17:29:49\n",
      "Start Time:\t2022/11/01 17:29:49\n",
      "Start Time:\t2022/11/01 18:17:17\n",
      "Start Time:\t2022/11/01 18:17:17\n",
      "Start Time:\t2022/11/01 20:31:42\n",
      "Start Time:\t2022/11/01 22:37:14\n",
      "Start Time:\t2022/11/02 00:11:44\n",
      "Start Time:\t2022/11/02 02:37:52\n",
      "Start Time:\t2022/11/02 03:15:32\n",
      "Start Time:\t2022/11/02 03:15:32\n",
      "Start Time:\t2022/11/02 03:40:42\n",
      "Start Time:\t2022/11/02 21:55:36\n",
      "Start Time:\t2022/11/02 23:00:52\n",
      "Start Time:\t2022/11/03 00:02:33\n",
      "Start Time:\t2022/11/03 00:02:33\n",
      "Start Time:\t2022/11/03 00:55:07\n"
     ]
    }
   ],
   "source": [
    "for i in range(0,len(bIndices)):\n",
    "    GrabSettingsAtIndex(bIndices[i])"
   ]
  },
  {
   "cell_type": "code",
   "execution_count": 265,
   "id": "afb61b59",
   "metadata": {},
   "outputs": [
    {
     "name": "stdout",
     "output_type": "stream",
     "text": [
      "Start Time:\t2023/10/12 16:57:27\n"
     ]
    },
    {
     "data": {
      "text/plain": [
       "[['Holding Field (G)', 20.958423],\n",
       " ['Theta (degree)', 90.0],\n",
       " ['Phi (degree)', 64.160487],\n",
       " ['High Field (G)', 28.0],\n",
       " ['Sweep Speed (G/s)', 4.0],\n",
       " ['Sit Time (s)', 0.0],\n",
       " ['RF Frequency (kHz)', 91.0]]"
      ]
     },
     "execution_count": 265,
     "metadata": {},
     "output_type": "execute_result"
    }
   ],
   "source": [
    "GrabSettingsAtIndex(845)"
   ]
  },
  {
   "cell_type": "code",
   "execution_count": 266,
   "id": "76861209",
   "metadata": {},
   "outputs": [
    {
     "ename": "NameError",
     "evalue": "name 'CorrectedNMRs' is not defined",
     "output_type": "error",
     "traceback": [
      "\u001b[0;31m---------------------------------------------------------------------------\u001b[0m",
      "\u001b[0;31mNameError\u001b[0m                                 Traceback (most recent call last)",
      "Cell \u001b[0;32mIn [266], line 2\u001b[0m\n\u001b[1;32m      1\u001b[0m vanillaDS\u001b[38;5;241m=\u001b[39mH2[:\u001b[38;5;241m-\u001b[39m\u001b[38;5;241m4\u001b[39m]\n\u001b[0;32m----> 2\u001b[0m densityCorrectedDS\u001b[38;5;241m=\u001b[39m\u001b[43mCorrectedNMRs\u001b[49m[:\u001b[38;5;241m-\u001b[39m\u001b[38;5;241m4\u001b[39m]\n\u001b[1;32m      3\u001b[0m dates\u001b[38;5;241m=\u001b[39mHsorted_dates2[:\u001b[38;5;241m-\u001b[39m\u001b[38;5;241m4\u001b[39m]\n",
      "\u001b[0;31mNameError\u001b[0m: name 'CorrectedNMRs' is not defined"
     ]
    }
   ],
   "source": [
    "vanillaDS=H2[:-4]\n",
    "densityCorrectedDS=CorrectedNMRs[:-4]\n",
    "dates=Hsorted_dates2[:-4]"
   ]
  },
  {
   "cell_type": "code",
   "execution_count": null,
   "id": "cb63619b",
   "metadata": {},
   "outputs": [],
   "source": [
    "plt.plot(dates,vanillaDS)\n",
    "plt.plot(dates,densityCorrectedDS)"
   ]
  },
  {
   "cell_type": "code",
   "execution_count": null,
   "id": "48737182",
   "metadata": {},
   "outputs": [],
   "source": [
    "GrabSettingsAtIndex(int(bIndices[0]))[4][1]"
   ]
  },
  {
   "cell_type": "code",
   "execution_count": null,
   "id": "d56e4d6c",
   "metadata": {},
   "outputs": [],
   "source": [
    "len(bIndices)"
   ]
  },
  {
   "cell_type": "code",
   "execution_count": null,
   "id": "3de8de40",
   "metadata": {},
   "outputs": [],
   "source": [
    "#Using only calibrations with same settings\n",
    "refineEPR1p2G=np.empty(0)\n",
    "refineEPR5G=np.empty(0)\n",
    "for i in range(0,len(bIndices)):\n",
    "    x=GrabSettingsAtIndex(int(bIndices[i]))\n",
    "    if x[4][1]==5:\n",
    "        refineEPR5G=np.append(refineEPR5G,i)\n",
    "    if x[4][1]==1.2:\n",
    "        refineEPR1p2G=np.append(refineEPR1p2G,i)\n",
    "refineEPR1p2G=refineEPR1p2G.astype(int)\n",
    "refineEPR5G=refineEPR5G.astype(int)"
   ]
  },
  {
   "cell_type": "code",
   "execution_count": null,
   "id": "0a89e449",
   "metadata": {},
   "outputs": [],
   "source": [
    "refineEPR1p2G"
   ]
  },
  {
   "cell_type": "code",
   "execution_count": null,
   "id": "ca17c546",
   "metadata": {},
   "outputs": [],
   "source": [
    "refineEPR5G"
   ]
  },
  {
   "cell_type": "code",
   "execution_count": null,
   "id": "1d5983e3",
   "metadata": {},
   "outputs": [],
   "source": [
    "len(EPRds)"
   ]
  },
  {
   "cell_type": "code",
   "execution_count": null,
   "id": "b6fe9af0",
   "metadata": {
    "scrolled": true
   },
   "outputs": [],
   "source": [
    "magFieldBeforeEPR=np.empty(0)\n",
    "magFieldAfterEPR=np.empty(0)\n",
    "for i in bIndices:\n",
    "    magFieldBeforeEPR=np.append(magFieldBeforeEPR,GrabSettingsAtIndex(int(i))[0][1])\n",
    "for i in aIndices:\n",
    "    magFieldAfterEPR=np.append(magFieldAfterEPR,GrabSettingsAtIndex(int(i))[0][1])"
   ]
  },
  {
   "cell_type": "code",
   "execution_count": null,
   "id": "1f1c7323",
   "metadata": {},
   "outputs": [],
   "source": [
    "magFieldBeforeEPR"
   ]
  },
  {
   "cell_type": "code",
   "execution_count": null,
   "id": "261080ee",
   "metadata": {},
   "outputs": [],
   "source": [
    "x=plt.hist(magFieldAfterEPR,20)"
   ]
  },
  {
   "cell_type": "code",
   "execution_count": null,
   "id": "69758685",
   "metadata": {},
   "outputs": [],
   "source": [
    "len(EPRds)"
   ]
  },
  {
   "cell_type": "code",
   "execution_count": null,
   "id": "e8b95aa1",
   "metadata": {},
   "outputs": [],
   "source": [
    "len(magFieldBeforeEPR)"
   ]
  },
  {
   "cell_type": "code",
   "execution_count": null,
   "id": "416f9b33",
   "metadata": {},
   "outputs": [],
   "source": [
    "ref=magFieldAfterEPR[8]"
   ]
  },
  {
   "cell_type": "code",
   "execution_count": null,
   "id": "52b58fd7",
   "metadata": {},
   "outputs": [],
   "source": [
    "magCorEPR=np.empty(0)\n",
    "for i in range(0,len(EPRds)):\n",
    "    if magFieldAfterEPR[i]>10:\n",
    "        magCorEPR=np.append(magCorEPR,EPRds[i]*(ref/magFieldAfterEPR[i]))"
   ]
  },
  {
   "cell_type": "code",
   "execution_count": null,
   "id": "8e82f4e8",
   "metadata": {},
   "outputs": [],
   "source": [
    "len(refineEPR)"
   ]
  },
  {
   "cell_type": "code",
   "execution_count": null,
   "id": "ae6cd490",
   "metadata": {},
   "outputs": [],
   "source": [
    "len(EPRds)"
   ]
  },
  {
   "cell_type": "code",
   "execution_count": null,
   "id": "659755b7",
   "metadata": {},
   "outputs": [],
   "source": [
    "EPRds[refineEPR]"
   ]
  },
  {
   "cell_type": "code",
   "execution_count": null,
   "id": "8ae7f7c0",
   "metadata": {},
   "outputs": [],
   "source": [
    "100*np.std(EPRds[refineEPR])/np.mean(EPRds[refineEPR])"
   ]
  },
  {
   "cell_type": "code",
   "execution_count": null,
   "id": "04e57589",
   "metadata": {},
   "outputs": [],
   "source": [
    "100*np.std(EPRds)/np.mean(EPRds)"
   ]
  },
  {
   "cell_type": "code",
   "execution_count": null,
   "id": "5107091d",
   "metadata": {},
   "outputs": [],
   "source": [
    "magCorEPR"
   ]
  },
  {
   "cell_type": "code",
   "execution_count": null,
   "id": "7781f34d",
   "metadata": {},
   "outputs": [],
   "source": [
    "np.std(magCorEPR[refineEPR])/np.mean(magCorEPR[refineEPR])"
   ]
  },
  {
   "cell_type": "code",
   "execution_count": null,
   "id": "8f6b3c1e",
   "metadata": {},
   "outputs": [],
   "source": [
    "plt.title(\"Magnetic Field and EPR Hunter Kin 2\")\n",
    "plt.plot(11*EPRds[refineEPR],'.',label='EPR DS Scaled')\n",
    "plt.plot(magFieldBeforeEPR,'.',label='Magnetic Field in NMR Measurement Before EPR')\n",
    "plt.legend(loc='lower right')\n",
    "plt.xlabel(\"Arbitrary\")\n",
    "plt.ylabel(\"Arbitrary\")\n",
    "plt.plot(11*magCorEPR,'.')\n",
    "#plt.ylim((16,27))"
   ]
  },
  {
   "cell_type": "code",
   "execution_count": null,
   "id": "951139f8",
   "metadata": {},
   "outputs": [],
   "source": [
    "#next step is to redo corrections with 5g/s"
   ]
  },
  {
   "cell_type": "code",
   "execution_count": null,
   "id": "394cd380",
   "metadata": {},
   "outputs": [],
   "source": []
  },
  {
   "cell_type": "code",
   "execution_count": null,
   "id": "4e35b242",
   "metadata": {},
   "outputs": [],
   "source": []
  },
  {
   "cell_type": "code",
   "execution_count": null,
   "id": "eda9bcad",
   "metadata": {},
   "outputs": [],
   "source": []
  },
  {
   "cell_type": "code",
   "execution_count": null,
   "id": "8528b9dd",
   "metadata": {},
   "outputs": [],
   "source": []
  },
  {
   "cell_type": "code",
   "execution_count": null,
   "id": "2daf39d3",
   "metadata": {},
   "outputs": [],
   "source": []
  }
 ],
 "metadata": {
  "kernelspec": {
   "display_name": "Python 3 (ipykernel)",
   "language": "python",
   "name": "python3"
  },
  "language_info": {
   "codemirror_mode": {
    "name": "ipython",
    "version": 3
   },
   "file_extension": ".py",
   "mimetype": "text/x-python",
   "name": "python",
   "nbconvert_exporter": "python",
   "pygments_lexer": "ipython3",
   "version": "3.8.10"
  }
 },
 "nbformat": 4,
 "nbformat_minor": 5
}
