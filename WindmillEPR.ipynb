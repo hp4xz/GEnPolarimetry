{
 "cells": [
  {
   "cell_type": "code",
   "execution_count": 2,
   "id": "80346692",
   "metadata": {},
   "outputs": [],
   "source": [
    "from functions import MakeTime, MakeData\n",
    "import matplotlib.pyplot as plt\n",
    "import numpy as np\n",
    "from scipy.optimize import curve_fit\n",
    "from statistics import mean\n",
    "\n"
   ]
  },
  {
   "cell_type": "code",
   "execution_count": 3,
   "id": "fc73dee0",
   "metadata": {},
   "outputs": [],
   "source": [
    "EPR8V1data=np.loadtxt('EPR8V1.dat')\n",
    "EPR8V1data=np.transpose(EPR8V1data)\n",
    "\n",
    "EPR8V2data=np.loadtxt('EPR8V2.dat')\n",
    "EPR8V2data=np.transpose(EPR8V2data)\n",
    "\n",
    "EPR8V3data=np.loadtxt('EPR8V3.dat')\n",
    "EPR8V3data=np.transpose(EPR8V3data)\n",
    "\n",
    "EPR2V1data=np.loadtxt('EPR2V1.dat')\n",
    "EPR2V1data=np.transpose(EPR2V1data)\n",
    "\n",
    "EPR2V2data=np.loadtxt('EPR2V2.dat')\n",
    "EPR2V2data=np.transpose(EPR2V2data)\n",
    "\n",
    "EPR2V3data=np.loadtxt('EPR2V3.dat')\n",
    "EPR2V3data=np.transpose(EPR2V3data)"
   ]
  },
  {
   "cell_type": "code",
   "execution_count": 4,
   "id": "b333ba4e",
   "metadata": {},
   "outputs": [
    {
     "data": {
      "text/plain": [
       "[<matplotlib.lines.Line2D at 0x7fe13d01de20>]"
      ]
     },
     "execution_count": 4,
     "metadata": {},
     "output_type": "execute_result"
    },
    {
     "data": {
      "image/png": "[encoded data removed]",
      "text/plain": [
       "<Figure size 640x480 with 1 Axes>"
      ]
     },
     "metadata": {},
     "output_type": "display_data"
    }
   ],
   "source": [
    "xaxis=np.arange(0,len(EPR8V1data[2]))\n",
    "\n",
    "plt.plot(xaxis,EPR8V1data[1],'.')"
   ]
  },
  {
   "cell_type": "code",
   "execution_count": 5,
   "id": "4acb2917",
   "metadata": {},
   "outputs": [],
   "source": [
    "def ordered_cluster(data, max_diff):\n",
    "    current_group = ()\n",
    "    for item in data:\n",
    "        test_group = current_group + (item, )\n",
    "        test_group_mean = mean(test_group)\n",
    "        if all((abs(test_group_mean - test_item) < max_diff for test_item in test_group)):\n",
    "            current_group = test_group\n",
    "        else:\n",
    "            yield current_group\n",
    "            current_group = (item, )\n",
    "    if current_group:\n",
    "        yield current_group\n",
    "\n",
    "\n"
   ]
  },
  {
   "cell_type": "code",
   "execution_count": 6,
   "id": "a0b271a8",
   "metadata": {},
   "outputs": [],
   "source": [
    "def Refine(y):\n",
    "    index=np.empty(0)\n",
    "    x=np.empty(0)\n",
    "    minimum=20\n",
    "    for i in range(0,len(y)):\n",
    "        add=np.arange(0,len(y[i]),1)\n",
    "        if len(add)> minimum:\n",
    "            x=np.append(x,np.mean(y[i]))\n",
    "            \n",
    "        else:\n",
    "            index=np.append(index,i)\n",
    "     \n",
    "    index=index.astype(int)\n",
    "    ynew=np.delete(y,index)\n",
    "    \n",
    "    n=10\n",
    "    for i in range(0,len(ynew)):\n",
    "        ynew[i]=ynew[i][n:]\n",
    "        ynew[i]=ynew[i][:-n]\n",
    "    Front=np.mean(ynew[0][-5:])-np.mean(ynew[1][5:])\n",
    "    Back=np.mean(ynew[4][5:])-np.mean(ynew[3][-5:])\n",
    "    print(' Front shift is: ', np.round(Front,2), 'kHz \\n', 'Back shift is: ', np.round(Back,2), 'kHz')\n",
    "    return(ynew,Front,Back)\n",
    "\n",
    "\n"
   ]
  },
  {
   "cell_type": "code",
   "execution_count": 7,
   "id": "ac9f375f",
   "metadata": {},
   "outputs": [],
   "source": [
    "#Calculate shifts"
   ]
  },
  {
   "cell_type": "code",
   "execution_count": 8,
   "id": "de6d370a",
   "metadata": {},
   "outputs": [
    {
     "name": "stdout",
     "output_type": "stream",
     "text": [
      " Front shift is:  57.33 kHz \n",
      " Back shift is:  54.22 kHz\n",
      " Front shift is:  51.0 kHz \n",
      " Back shift is:  49.0 kHz\n",
      " Front shift is:  46.15 kHz \n",
      " Back shift is:  44.09 kHz\n",
      " Front shift is:  40.63 kHz \n",
      " Back shift is:  38.45 kHz\n",
      " Front shift is:  36.93 kHz \n",
      " Back shift is:  35.32 kHz\n",
      " Front shift is:  35.11 kHz \n",
      " Back shift is:  33.08 kHz\n"
     ]
    },
    {
     "name": "stderr",
     "output_type": "stream",
     "text": [
      "/home/research/.local/lib/python3.8/site-packages/numpy/lib/function_base.py:5071: VisibleDeprecationWarning: Creating an ndarray from ragged nested sequences (which is a list-or-tuple of lists-or-tuples-or ndarrays with different lengths or shapes) is deprecated. If you meant to do this, you must specify 'dtype=object' when creating the ndarray.\n",
      "  arr = asarray(arr)\n"
     ]
    }
   ],
   "source": [
    "EPR8V1=list(ordered_cluster(EPR8V1data[1], 10))\n",
    "EPR8V1Refine=Refine(EPR8V1)\n",
    "\n",
    "EPR8V2=list(ordered_cluster(EPR8V2data[1], 10))\n",
    "EPR8V2Refine=Refine(EPR8V2)\n",
    "\n",
    "EPR8V3=list(ordered_cluster(EPR8V3data[1], 10))\n",
    "EPR8V3Refine=Refine(EPR8V3)\n",
    "\n",
    "EPR2V1=list(ordered_cluster(EPR2V1data[1], 10))\n",
    "EPR2V1Refine=Refine(EPR2V1)\n",
    "\n",
    "EPR2V2=list(ordered_cluster(EPR2V2data[1], 10))\n",
    "EPR2V2Refine=Refine(EPR2V2)\n",
    "\n",
    "EPR2V3=list(ordered_cluster(EPR2V3data[1], 10))\n",
    "EPR2V3Refine=Refine(EPR2V3)"
   ]
  },
  {
   "cell_type": "markdown",
   "id": "74e949bb",
   "metadata": {},
   "source": [
    "# Polarization at each shift\n"
   ]
  },
  {
   "cell_type": "code",
   "execution_count": 9,
   "id": "162d7542",
   "metadata": {},
   "outputs": [],
   "source": [
    "const=.6604"
   ]
  },
  {
   "cell_type": "code",
   "execution_count": 10,
   "id": "ccb6f4ad",
   "metadata": {},
   "outputs": [],
   "source": [
    "fPol8V1=EPR8V1Refine[1]*const\n",
    "bPol8V1=EPR8V1Refine[2]*const\n",
    "\n",
    "fPol8V2=EPR8V2Refine[1]*const\n",
    "bPol8V2=EPR8V2Refine[2]*const\n",
    "\n",
    "fPol8V3=EPR8V3Refine[1]*const\n",
    "bPol8V3=EPR8V3Refine[2]*const\n",
    "\n",
    "fPol2V1=EPR2V1Refine[1]*const\n",
    "bPol2V1=EPR2V1Refine[2]*const\n",
    "\n",
    "fPol2V2=EPR2V2Refine[1]*const\n",
    "bPol2V2=EPR2V2Refine[2]*const\n",
    "\n",
    "fPol2V3=EPR2V3Refine[1]*const\n",
    "bPol2V3=EPR2V3Refine[2]*const"
   ]
  },
  {
   "cell_type": "markdown",
   "id": "7a053f96",
   "metadata": {},
   "source": [
    "### Enter NMR Average of Up and Down Sweep before and after EPR here"
   ]
  },
  {
   "cell_type": "code",
   "execution_count": 11,
   "id": "a1a06c2e",
   "metadata": {},
   "outputs": [],
   "source": [
    "NMR8V1b4=(23.6758+22.9548)/2\n",
    "NMR8V1aft=(21.4191+20.7832)/2\n",
    "\n",
    "NMR8V2b4=(21.0528+20.3946)/2\n",
    "NMR8V2aft=(19.3027+18.7212)/2\n",
    "\n",
    "NMR8V3b4=(18.9925+18.3543)/2\n",
    "NMR8V3aft=(17.3155+16.7988)/2\n",
    "\n",
    "NMR2V1b4=(16.649+16.1583)/2\n",
    "NMR2V1aft=(15.028+14.5342)/2\n",
    "\n",
    "NMR2V2b4=(15.2384+14.7053)/2\n",
    "NMR2V2aft=(13.9945+13.5684)/2\n",
    "\n",
    "NMR2V3b4=(14.2954+13.8497)/2\n",
    "NMR2V3aft=(13.2355+12.8817)/2"
   ]
  },
  {
   "cell_type": "markdown",
   "id": "f06eacfa",
   "metadata": {},
   "source": [
    "# Calibration Constants Individual"
   ]
  },
  {
   "cell_type": "code",
   "execution_count": 12,
   "id": "3ceb474a",
   "metadata": {},
   "outputs": [],
   "source": [
    "Cal8_1f=fPol8V1/NMR8V1b4\n",
    "Cal8_1b=bPol8V1/NMR8V1aft\n",
    "\n",
    "Cal8_2f=fPol8V2/NMR8V2b4\n",
    "Cal8_2b=bPol8V2/NMR8V2aft\n",
    "\n",
    "Cal8_3f=fPol8V3/NMR8V3b4\n",
    "Cal8_3b=bPol8V3/NMR8V3aft\n",
    "\n",
    "Cal2_1f=fPol2V1/NMR2V1b4\n",
    "Cal2_1b=bPol2V1/NMR2V1aft\n",
    "\n",
    "Cal2_2f=fPol2V2/NMR2V2b4\n",
    "Cal2_2b=bPol2V2/NMR2V2aft\n",
    "\n",
    "Cal2_3f=fPol2V3/NMR2V3b4\n",
    "Cal2_3b=bPol2V3/NMR2V3aft\n"
   ]
  },
  {
   "cell_type": "code",
   "execution_count": null,
   "id": "73543c73",
   "metadata": {},
   "outputs": [],
   "source": []
  },
  {
   "cell_type": "markdown",
   "id": "c56e18a7",
   "metadata": {},
   "source": [
    "# Calibration Constants Averaged"
   ]
  },
  {
   "cell_type": "code",
   "execution_count": 13,
   "id": "f648231d",
   "metadata": {},
   "outputs": [],
   "source": [
    "Cal8_1=(Cal8_1f+Cal8_1b)/2\n",
    "Cal8_2=(Cal8_2f+Cal8_2b)/2\n",
    "Cal8_3=(Cal8_3f+Cal8_3b)/2\n",
    "Cal2_1=(Cal2_1f+Cal2_1b)/2\n",
    "Cal2_2=(Cal2_2f+Cal2_2b)/2\n",
    "Cal2_3=(Cal2_3f+Cal2_3b)/2"
   ]
  },
  {
   "cell_type": "code",
   "execution_count": 14,
   "id": "21d76a32",
   "metadata": {},
   "outputs": [
    {
     "name": "stdout",
     "output_type": "stream",
     "text": [
      " 8V Calibration Constants:  1.6603   1.6636   1.6696 \n",
      "\n",
      ".2V Calibration Constants:  1.6768   1.6609   1.6603 \n",
      "\n"
     ]
    }
   ],
   "source": [
    "print(\" 8V Calibration Constants: \",np.round(Cal8_1,4),' ',np.round(Cal8_2,4),' ',np.round(Cal8_3,4),'\\n')\n",
    "print(\".2V Calibration Constants: \",np.round(Cal2_1,4),' ',np.round(Cal2_2,4),' ',np.round(Cal2_3,4),'\\n')"
   ]
  },
  {
   "cell_type": "code",
   "execution_count": null,
   "id": "b2e169a8",
   "metadata": {},
   "outputs": [],
   "source": []
  },
  {
   "cell_type": "markdown",
   "id": "3d8b6c0a",
   "metadata": {},
   "source": [
    "# Earlier Calibrations\n"
   ]
  },
  {
   "cell_type": "code",
   "execution_count": 15,
   "id": "eb502aad",
   "metadata": {},
   "outputs": [],
   "source": [
    "def LottaShifts(data,names):\n",
    "    for i in range(0,len(data)):\n",
    "        first=list(ordered_cluster(data[i][1], 10))\n",
    "        print(names[i]+'\\n')\n",
    "        second=Refine(first)\n",
    "        print('\\n')"
   ]
  },
  {
   "cell_type": "code",
   "execution_count": 16,
   "id": "81568780",
   "metadata": {},
   "outputs": [],
   "source": [
    "EPR_11150831=np.transpose(np.loadtxt('WindmillEPRdata/11150831.dat'))\n",
    "EPR_11150913=np.transpose(np.loadtxt('WindmillEPRdata/11150913.dat'))\n",
    "EPR_11150931=np.transpose(np.loadtxt('WindmillEPRdata/11150931.dat'))"
   ]
  },
  {
   "cell_type": "code",
   "execution_count": 17,
   "id": "26323d8b",
   "metadata": {},
   "outputs": [
    {
     "name": "stdout",
     "output_type": "stream",
     "text": [
      "EPR_11150831\n",
      "\n",
      " Front shift is:  45.93 kHz \n",
      " Back shift is:  43.92 kHz\n",
      "\n",
      "\n",
      "EPR_11150913\n",
      "\n",
      " Front shift is:  37.85 kHz \n",
      " Back shift is:  36.8 kHz\n",
      "\n",
      "\n",
      "EPR_11150931\n",
      "\n",
      " Front shift is:  34.51 kHz \n",
      " Back shift is:  33.34 kHz\n",
      "\n",
      "\n"
     ]
    }
   ],
   "source": [
    "dataList=[EPR_11150831,EPR_11150913,EPR_11150931]\n",
    "dataListNames=['EPR_11150831','EPR_11150913','EPR_11150931']\n",
    "LottaShifts(dataList,dataListNames)"
   ]
  },
  {
   "cell_type": "code",
   "execution_count": null,
   "id": "0fe957b3",
   "metadata": {},
   "outputs": [],
   "source": []
  }
 ],
 "metadata": {
  "kernelspec": {
   "display_name": "Python 3 (ipykernel)",
   "language": "python",
   "name": "python3"
  },
  "language_info": {
   "codemirror_mode": {
    "name": "ipython",
    "version": 3
   },
   "file_extension": ".py",
   "mimetype": "text/x-python",
   "name": "python",
   "nbconvert_exporter": "python",
   "pygments_lexer": "ipython3",
   "version": "3.8.10"
  }
 },
 "nbformat": 4,
 "nbformat_minor": 5
}
