{
 "cells": [
  {
   "cell_type": "code",
   "execution_count": 35,
   "id": "912f5834",
   "metadata": {},
   "outputs": [],
   "source": [
    "from functions import Refine, ordered_cluster\n",
    "import numpy as np\n",
    "import matplotlib.pyplot as plt"
   ]
  },
  {
   "cell_type": "code",
   "execution_count": 36,
   "id": "2cdadac7",
   "metadata": {
    "scrolled": true
   },
   "outputs": [],
   "source": [
    "V2=np.loadtxt('HunterEPRdata/EPR2V.dat')\n",
    "V2=np.transpose(V2)\n",
    "V4=np.loadtxt('HunterEPRdata/EPR4V.dat')\n",
    "V4=np.transpose(V4)\n",
    "\n",
    "V21=np.loadtxt('HunterEPRdata/EPR21V.dat')\n",
    "V21=np.transpose(V21)\n",
    "V22=np.loadtxt('HunterEPRdata/EPR22V.dat')\n",
    "V22=np.transpose(V22)\n",
    "V23=np.loadtxt('HunterEPRdata/EPR23V.dat')\n",
    "V23=np.transpose(V23)\n",
    "V24=np.loadtxt('HunterEPRdata/EPR24V.dat')\n",
    "V24=np.transpose(V24)\n",
    "#December 7\n",
    "V25=np.loadtxt('HunterEPRdata/EPR25V.dat')\n",
    "V25=np.transpose(V25)\n",
    "V26=np.loadtxt('HunterEPRdata/EPR26V.dat')\n",
    "V26=np.transpose(V26)\n",
    "V27=np.loadtxt('HunterEPRdata/EPR27V.dat')\n",
    "V27=np.transpose(V27)\n",
    "\n",
    "\n",
    "EPR_11011817=np.transpose(np.loadtxt('HunterEPRdata/11011817.dat'))\n",
    "EPR_11011729=np.transpose(np.loadtxt('HunterEPRdata/11011729.dat'))\n",
    "dummy =[0,EPR_11011729[1][600:],0]\n",
    "EPR_11020316=np.transpose(np.loadtxt('HunterEPRdata/11020316.dat'))\n",
    "EPR_11030356=np.transpose(np.loadtxt('HunterEPRdata/11030356.dat'))\n",
    "EPR_11030426=np.transpose(np.loadtxt('HunterEPRdata/11030426.dat'))\n",
    "EPR_11030454=np.transpose(np.loadtxt('HunterEPRdata/11030454.dat'))\n",
    "EPR_10290005=np.transpose(np.loadtxt('HunterEPRdata/10290005.dat'))\n",
    "EPR_10311533=np.transpose(np.loadtxt('HunterEPRdata/10311533.dat'))\n",
    "EPR_11020341=np.transpose(np.loadtxt('HunterEPRdata/11020341.dat'))\n",
    "dummy2=[0,EPR_11020341[1][150:],0]\n",
    "EPR_11030002=np.transpose(np.loadtxt('HunterEPRdata/11030002.dat'))\n",
    "EPR_11030055=np.transpose(np.loadtxt('HunterEPRdata/11030055.dat'))\n",
    "EPR_11030211=np.transpose(np.loadtxt('HunterEPRdata/11030211.dat'))\n",
    "EPR_11030315=np.transpose(np.loadtxt('HunterEPRdata/11030315.dat'))\n",
    "\n",
    "dataList=[EPR_11011817,dummy,EPR_11020316,EPR_11030356,EPR_11030426,EPR_11030454,EPR_10290005,EPR_10311533,dummy2,EPR_11030002,EPR_11030055,EPR_11030211,EPR_11030315]\n",
    "dataListNames=['EPR_11011817','EPR_11011729','EPR_11020316','EPR_11030356','EPR_11030426','EPR_11030454','EPR_10290005','EPR_10311533','EPR_11020341','EPR_11030002','EPR_11030055','EPR_11030211','EPR_11030315']\n"
   ]
  },
  {
   "cell_type": "code",
   "execution_count": null,
   "id": "62109a4a",
   "metadata": {},
   "outputs": [],
   "source": []
  },
  {
   "cell_type": "code",
   "execution_count": 37,
   "id": "0e4fef0a",
   "metadata": {},
   "outputs": [],
   "source": [
    "dummy =[0,EPR_11011729[1][600:],0]\n"
   ]
  },
  {
   "cell_type": "code",
   "execution_count": 38,
   "id": "bfe63249",
   "metadata": {},
   "outputs": [],
   "source": [
    "def LottaShifts(data,names):\n",
    "    for i in range(0,len(data)):\n",
    "        first=list(ordered_cluster(data[i][1], 10))\n",
    "        print(names[i]+'\\n')\n",
    "        second=Refine(first)\n",
    "        print('\\n')\n",
    "\n",
    "            "
   ]
  },
  {
   "cell_type": "code",
   "execution_count": 39,
   "id": "6059096f",
   "metadata": {},
   "outputs": [
    {
     "name": "stdout",
     "output_type": "stream",
     "text": [
      "EPR_11011817\n",
      "\n",
      " Front shift is:  18.41 kHz \n",
      " Back shift is:  17.45 kHz\n",
      "\n",
      "\n",
      "EPR_11011729\n",
      "\n",
      " Front shift is:  21.42 kHz \n",
      " Back shift is:  20.7 kHz\n",
      "\n",
      "\n",
      "EPR_11020316\n",
      "\n",
      " Front shift is:  29.82 kHz \n",
      " Back shift is:  28.12 kHz\n",
      "\n",
      "\n",
      "EPR_11030356\n",
      "\n",
      " Front shift is:  18.92 kHz \n",
      " Back shift is:  18.37 kHz\n",
      "\n",
      "\n",
      "EPR_11030426\n",
      "\n",
      " Front shift is:  16.3 kHz \n",
      " Back shift is:  15.59 kHz\n",
      "\n",
      "\n",
      "EPR_11030454\n",
      "\n",
      " Front shift is:  14.14 kHz \n",
      " Back shift is:  13.82 kHz\n",
      "\n",
      "\n",
      "EPR_10290005\n",
      "\n",
      " Front shift is:  31.47 kHz \n",
      " Back shift is:  29.3 kHz\n",
      "\n",
      "\n",
      "EPR_10311533\n",
      "\n",
      " Front shift is:  32.33 kHz \n",
      " Back shift is:  29.99 kHz\n",
      "\n",
      "\n",
      "EPR_11020341\n",
      "\n",
      " Front shift is:  24.97 kHz \n",
      " Back shift is:  23.74 kHz\n",
      "\n",
      "\n",
      "EPR_11030002\n",
      "\n",
      " Front shift is:  28.68 kHz \n",
      " Back shift is:  27.05 kHz\n",
      "\n",
      "\n",
      "EPR_11030055\n",
      "\n",
      " Front shift is:  25.3 kHz \n",
      " Back shift is:  23.26 kHz\n",
      "\n",
      "\n",
      "EPR_11030211\n",
      "\n",
      " Front shift is:  22.29 kHz \n",
      " Back shift is:  21.16 kHz\n",
      "\n",
      "\n",
      "EPR_11030315\n",
      "\n",
      " Front shift is:  21.6 kHz \n",
      " Back shift is:  20.14 kHz\n",
      "\n",
      "\n"
     ]
    }
   ],
   "source": [
    "LottaShifts(dataList,dataListNames)"
   ]
  },
  {
   "cell_type": "code",
   "execution_count": 40,
   "id": "ad6b7f19",
   "metadata": {},
   "outputs": [
    {
     "data": {
      "text/plain": [
       "[<matplotlib.lines.Line2D at 0x7f987dec9fa0>]"
      ]
     },
     "execution_count": 40,
     "metadata": {},
     "output_type": "execute_result"
    },
    {
     "data": {
      "image/png": "[encoded data removed]",
      "text/plain": [
       "<Figure size 640x480 with 1 Axes>"
      ]
     },
     "metadata": {},
     "output_type": "display_data"
    }
   ],
   "source": [
    "xaxis=np.arange(0,len(EPR_11020341[1]))\n",
    "\n",
    "plt.plot(xaxis,EPR_11020341[1],'.')"
   ]
  },
  {
   "cell_type": "markdown",
   "id": "7b4b876d",
   "metadata": {},
   "source": [
    "# Shift Calculation"
   ]
  },
  {
   "cell_type": "code",
   "execution_count": 41,
   "id": "a85f5029",
   "metadata": {},
   "outputs": [
    {
     "name": "stdout",
     "output_type": "stream",
     "text": [
      " Front shift is:  55.22 kHz \n",
      " Back shift is:  52.22 kHz\n",
      " Front shift is:  47.1 kHz \n",
      " Back shift is:  44.47 kHz\n"
     ]
    }
   ],
   "source": [
    "V2data=list(ordered_cluster(V2[1], 10))\n",
    "V2refine=Refine(V2data)\n",
    "V4data=list(ordered_cluster(V4[1], 10))\n",
    "V4refine=Refine(V4data)\n",
    "\n"
   ]
  },
  {
   "cell_type": "code",
   "execution_count": null,
   "id": "bceaa17a",
   "metadata": {},
   "outputs": [],
   "source": []
  },
  {
   "cell_type": "code",
   "execution_count": 131,
   "id": "552c7492",
   "metadata": {},
   "outputs": [
    {
     "name": "stdout",
     "output_type": "stream",
     "text": [
      " Front shift is:  58.67 kHz \n",
      " Back shift is:  55.16 kHz\n",
      " Front shift is:  49.5 kHz \n",
      " Back shift is:  46.98 kHz\n",
      " Front shift is:  41.58 kHz \n",
      " Back shift is:  39.91 kHz\n",
      " Front shift is:  36.37 kHz \n",
      " Back shift is:  34.15 kHz\n"
     ]
    }
   ],
   "source": [
    "V21data=list(ordered_cluster(V21[1], 10))\n",
    "V21refine=Refine(V21data)\n",
    "V22data=list(ordered_cluster(V22[1], 10))\n",
    "V22refine=Refine(V22data)\n",
    "V23data=list(ordered_cluster(V23[1], 10))\n",
    "V23refine=Refine(V23data)\n",
    "V24data=list(ordered_cluster(V24[1], 10))\n",
    "V24refine=Refine(V24data)\n"
   ]
  },
  {
   "cell_type": "code",
   "execution_count": 132,
   "id": "d7ec471f",
   "metadata": {},
   "outputs": [
    {
     "name": "stdout",
     "output_type": "stream",
     "text": [
      " Front shift is:  62.77 kHz \n",
      " Back shift is:  59.3 kHz\n",
      " Front shift is:  52.93 kHz \n",
      " Back shift is:  49.48 kHz\n",
      " Front shift is:  44.51 kHz \n",
      " Back shift is:  42.21 kHz\n"
     ]
    }
   ],
   "source": [
    "#December 7\n",
    "V25data=list(ordered_cluster(V25[1], 10))\n",
    "V25refine=Refine(V25data)\n",
    "V26data=list(ordered_cluster(V26[1], 10))\n",
    "V26refine=Refine(V26data)\n",
    "V27data=list(ordered_cluster(V27[1], 10))\n",
    "V27refine=Refine(V27data)"
   ]
  },
  {
   "cell_type": "code",
   "execution_count": 133,
   "id": "fefd8ccd",
   "metadata": {},
   "outputs": [],
   "source": [
    "const=.6401"
   ]
  },
  {
   "cell_type": "markdown",
   "id": "ac2c3436",
   "metadata": {},
   "source": [
    "# NMR Values"
   ]
  },
  {
   "cell_type": "code",
   "execution_count": 134,
   "id": "6a1b2b73",
   "metadata": {},
   "outputs": [],
   "source": [
    "NMR2Vb=(18.9805+18.5215)/2\n",
    "NMR2Va=(17.1489+16.7604)/2\n",
    "\n",
    "NMR4Vb=(15.4714+15.1303)/2\n",
    "NMR4Va=(14.098+13.7861)/2\n",
    "\n",
    "NMR21Vb=(20.1358+19.6604)/2\n",
    "NMR21Va=(18.0769+17.6815)/2\n",
    "\n",
    "NMR22Vb=(16.2142+15.7504)/2\n",
    "NMR22Va=(14.748+14.3995)/2\n",
    "\n",
    "NMR23Vb=(13.6279+13.2717)/2\n",
    "NMR23Va=(12.3908+12.13)/2\n",
    "\n",
    "NMR24Vb=(11.5849+11.2718)/2\n",
    "NMR24Va=(10.5946+10.2438)/2\n",
    "\n",
    "NMR25Vb=(22.3024+21.8624)/2\n",
    "NMR25Va=(20.143+19.7104)/2\n",
    "\n",
    "NMR26Vb=(17.2221+16.8487)/2\n",
    "NMR26Va=(15.4835+15.1974)/2\n",
    "\n",
    "NMR27Vb=(14.5303+14.2498)/2\n",
    "NMR27Va=(13.1688+12.9544)/2"
   ]
  },
  {
   "cell_type": "code",
   "execution_count": 135,
   "id": "a1db527c",
   "metadata": {},
   "outputs": [
    {
     "data": {
      "text/plain": [
       "1.1104889361133474"
      ]
     },
     "execution_count": 135,
     "metadata": {},
     "output_type": "execute_result"
    }
   ],
   "source": [
    "NMR26Vb/NMR26Va"
   ]
  },
  {
   "cell_type": "markdown",
   "id": "ca89a46d",
   "metadata": {},
   "source": [
    "# Calibration Constants"
   ]
  },
  {
   "cell_type": "code",
   "execution_count": 136,
   "id": "ef7f7771",
   "metadata": {},
   "outputs": [],
   "source": [
    "V2front=V2refine[1]*const/NMR2Vb\n",
    "V2back=V2refine[2]*const/NMR2Va\n",
    "\n",
    "V21front=V21refine[1]*const/NMR21Vb\n",
    "V21back=V21refine[2]*const/NMR21Va\n",
    "V22front=V22refine[1]*const/NMR22Vb\n",
    "V22back=V22refine[2]*const/NMR22Va\n",
    "V23front=V23refine[1]*const/NMR23Vb\n",
    "V23back=V23refine[2]*const/NMR23Va\n",
    "V24front=V24refine[1]*const/NMR24Vb\n",
    "V24back=V24refine[2]*const/NMR24Va\n",
    "\n",
    "#December 7\n",
    "V25front=V25refine[1]*const/NMR25Vb\n",
    "V25back=V25refine[2]*const/NMR25Va\n",
    "V26front=V26refine[1]*const/NMR26Vb\n",
    "V26back=V26refine[2]*const/NMR26Va\n",
    "V27front=V27refine[1]*const/NMR27Vb\n",
    "V27back=V27refine[2]*const/NMR27Va\n"
   ]
  },
  {
   "cell_type": "code",
   "execution_count": 137,
   "id": "3f4dfd77",
   "metadata": {},
   "outputs": [
    {
     "data": {
      "text/plain": [
       "1.9825812078360887"
      ]
     },
     "execution_count": 137,
     "metadata": {},
     "output_type": "execute_result"
    }
   ],
   "source": [
    "V22front"
   ]
  },
  {
   "cell_type": "code",
   "execution_count": 138,
   "id": "d26246ce",
   "metadata": {},
   "outputs": [
    {
     "data": {
      "text/plain": [
       "2.063634706639398"
      ]
     },
     "execution_count": 138,
     "metadata": {},
     "output_type": "execute_result"
    }
   ],
   "source": [
    "V22back"
   ]
  },
  {
   "cell_type": "code",
   "execution_count": 139,
   "id": "fb292142",
   "metadata": {},
   "outputs": [],
   "source": [
    "V4front=V4refine[1]*const/NMR4Vb\n",
    "V4back=V4refine[2]*const/NMR4Va"
   ]
  },
  {
   "cell_type": "code",
   "execution_count": 140,
   "id": "facc127c",
   "metadata": {},
   "outputs": [
    {
     "data": {
      "text/plain": [
       "1.9704870556284226"
      ]
     },
     "execution_count": 140,
     "metadata": {},
     "output_type": "execute_result"
    }
   ],
   "source": [
    "V4front"
   ]
  },
  {
   "cell_type": "code",
   "execution_count": 141,
   "id": "65e2823e",
   "metadata": {},
   "outputs": [
    {
     "data": {
      "text/plain": [
       "2.041827959643275"
      ]
     },
     "execution_count": 141,
     "metadata": {},
     "output_type": "execute_result"
    }
   ],
   "source": [
    "V4back"
   ]
  },
  {
   "cell_type": "code",
   "execution_count": 142,
   "id": "5cb85318",
   "metadata": {},
   "outputs": [
    {
     "data": {
      "text/plain": [
       "2.006157507635849"
      ]
     },
     "execution_count": 142,
     "metadata": {},
     "output_type": "execute_result"
    }
   ],
   "source": [
    "(V4front+V4back)/2"
   ]
  },
  {
   "cell_type": "code",
   "execution_count": 143,
   "id": "c48d1cb3",
   "metadata": {},
   "outputs": [],
   "source": [
    "Cal2V0=(V2front+V2back)/2\n",
    "\n",
    "Cal2V1=(V21front+V21back)/2\n",
    "\n",
    "Cal2V2=(V22front+V22back)/2\n",
    "\n",
    "Cal2V3=(V23front+V23back)/2\n",
    "\n",
    "Cal2V4=(V24front+V24back)/2"
   ]
  },
  {
   "cell_type": "code",
   "execution_count": 144,
   "id": "d7a56b09",
   "metadata": {},
   "outputs": [
    {
     "name": "stdout",
     "output_type": "stream",
     "text": [
      "Calibrations at .2VRms (%/mV):  1.928 1.931 2.023 2.031 2.068\n"
     ]
    }
   ],
   "source": [
    "print('Calibrations at .2VRms (%/mV): ',np.round(Cal2V0,3),np.round(Cal2V1,3),np.round(Cal2V2,3),np.round(Cal2V3,3),np.round(Cal2V4,3))"
   ]
  },
  {
   "cell_type": "code",
   "execution_count": 145,
   "id": "65e1f229",
   "metadata": {},
   "outputs": [],
   "source": [
    "Cal2V5=(V25front+V25back)/2\n",
    "Cal2V6=(V26front+V26back)/2\n",
    "Cal2V7=(V27front+V27back)/2"
   ]
  },
  {
   "cell_type": "code",
   "execution_count": 146,
   "id": "83caa4b0",
   "metadata": {},
   "outputs": [
    {
     "data": {
      "text/plain": [
       "1.8621824628300152"
      ]
     },
     "execution_count": 146,
     "metadata": {},
     "output_type": "execute_result"
    }
   ],
   "source": [
    "Cal2V5"
   ]
  },
  {
   "cell_type": "code",
   "execution_count": 147,
   "id": "0646f1a7",
   "metadata": {},
   "outputs": [
    {
     "data": {
      "text/plain": [
       "2.0268241775049605"
      ]
     },
     "execution_count": 147,
     "metadata": {},
     "output_type": "execute_result"
    }
   ],
   "source": [
    "Cal2V6"
   ]
  },
  {
   "cell_type": "code",
   "execution_count": 148,
   "id": "21f7b463",
   "metadata": {},
   "outputs": [
    {
     "data": {
      "text/plain": [
       "2.0242468168736814"
      ]
     },
     "execution_count": 148,
     "metadata": {},
     "output_type": "execute_result"
    }
   ],
   "source": [
    "Cal2V7"
   ]
  },
  {
   "cell_type": "code",
   "execution_count": 149,
   "id": "0050e73d",
   "metadata": {},
   "outputs": [
    {
     "name": "stdout",
     "output_type": "stream",
     "text": [
      "December 7th Calibrations at .2VRms (%/mV):  1.862 2.027 2.024\n"
     ]
    }
   ],
   "source": [
    "print('December 7th Calibrations at .2VRms (%/mV): ',np.round(Cal2V5,3),np.round(Cal2V6,3),np.round(Cal2V7,3))"
   ]
  }
 ],
 "metadata": {
  "kernelspec": {
   "display_name": "Python 3 (ipykernel)",
   "language": "python",
   "name": "python3"
  },
  "language_info": {
   "codemirror_mode": {
    "name": "ipython",
    "version": 3
   },
   "file_extension": ".py",
   "mimetype": "text/x-python",
   "name": "python",
   "nbconvert_exporter": "python",
   "pygments_lexer": "ipython3",
   "version": "3.8.10"
  }
 },
 "nbformat": 4,
 "nbformat_minor": 5
}
