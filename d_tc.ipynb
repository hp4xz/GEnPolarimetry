{
 "cells": [
  {
   "cell_type": "code",
   "execution_count": 14,
   "id": "59964b5d",
   "metadata": {},
   "outputs": [],
   "source": [
    "from functions import MakeTime, MakeData, Fit, Spinup\n",
    "\n",
    "import matplotlib.pyplot as plt\n",
    "import numpy as np\n",
    "from scipy.optimize import curve_fit\n",
    "\n",
    "data=np.loadtxt('data.txt')\n",
    "\n",
    "t=MakeTime(data)[0]\n",
    "pc=MakeData(data)[3]\n",
    "tc=MakeData(data)[1]"
   ]
  },
  {
   "cell_type": "code",
   "execution_count": 43,
   "id": "77c86a59",
   "metadata": {},
   "outputs": [],
   "source": [
    "time=np.arange(0,15,1)\n",
    "#time=np.arange(0,4,1)\n",
    "#time=np.arange(0,147,1)"
   ]
  },
  {
   "cell_type": "code",
   "execution_count": 44,
   "id": "f09a7c05",
   "metadata": {},
   "outputs": [
    {
     "data": {
      "text/plain": [
       "array([ 0,  1,  2,  3,  4,  5,  6,  7,  8,  9, 10, 11, 12, 13, 14])"
      ]
     },
     "execution_count": 44,
     "metadata": {},
     "output_type": "execute_result"
    }
   ],
   "source": [
    "#146\n",
    "time"
   ]
  },
  {
   "cell_type": "code",
   "execution_count": 45,
   "id": "516173e1",
   "metadata": {},
   "outputs": [
    {
     "data": {
      "text/plain": [
       "233"
      ]
     },
     "execution_count": 45,
     "metadata": {},
     "output_type": "execute_result"
    }
   ],
   "source": [
    "len(tc)"
   ]
  },
  {
   "cell_type": "code",
   "execution_count": 47,
   "id": "f76015b6",
   "metadata": {},
   "outputs": [
    {
     "data": {
      "text/plain": [
       "<matplotlib.legend.Legend at 0x7fea6806ca00>"
      ]
     },
     "execution_count": 47,
     "metadata": {},
     "output_type": "execute_result"
    },
    {
     "data": {
      "image/png": "[encoded data removed]",
      "text/plain": [
       "<Figure size 640x480 with 1 Axes>"
      ]
     },
     "metadata": {},
     "output_type": "display_data"
    }
   ],
   "source": [
    "plt.plot(time,tc[198:213],'.', color='blue',label='TC')\n",
    "plt.plot(time,pc[198:213]*5,'.',color='red',label='PC')\n",
    "plt.plot(time,tc[217:232],'.', color='blue',label='TC')\n",
    "#plt.plot(time,pc[213:233]*5,'.',color='red',label='PC')\n",
    "\n",
    "#plt.yscale('log')\n",
    "plt.title('Tracking Chunk of Depolarized 3He')\n",
    "plt.ylabel('Scaled Signal')\n",
    "plt.xlabel('Minutes')\n",
    "plt.legend(loc='upper right')"
   ]
  },
  {
   "cell_type": "code",
   "execution_count": 40,
   "id": "ccfa4d5d",
   "metadata": {},
   "outputs": [
    {
     "data": {
      "text/plain": [
       "array([ 0.      , -0.001816, -0.002056, -0.215783,  0.      ,  0.      ,\n",
       "        0.      ,  0.      ,  0.      ,  0.      ])"
      ]
     },
     "execution_count": 40,
     "metadata": {},
     "output_type": "execute_result"
    }
   ],
   "source": [
    "pc[-10:]"
   ]
  },
  {
   "cell_type": "code",
   "execution_count": 20,
   "id": "c326742b",
   "metadata": {},
   "outputs": [
    {
     "data": {
      "text/plain": [
       "0.16456708905732834"
      ]
     },
     "execution_count": 20,
     "metadata": {},
     "output_type": "execute_result"
    }
   ],
   "source": [
    "np.average(pc)/np.average(tc)"
   ]
  },
  {
   "cell_type": "code",
   "execution_count": 8,
   "id": "41f1ab6a",
   "metadata": {},
   "outputs": [],
   "source": [
    "#first crush 7:29 198:"
   ]
  },
  {
   "cell_type": "code",
   "execution_count": null,
   "id": "d3d2fd20",
   "metadata": {},
   "outputs": [],
   "source": [
    "#"
   ]
  }
 ],
 "metadata": {
  "kernelspec": {
   "display_name": "Python 3 (ipykernel)",
   "language": "python",
   "name": "python3"
  },
  "language_info": {
   "codemirror_mode": {
    "name": "ipython",
    "version": 3
   },
   "file_extension": ".py",
   "mimetype": "text/x-python",
   "name": "python",
   "nbconvert_exporter": "python",
   "pygments_lexer": "ipython3",
   "version": "3.8.10"
  }
 },
 "nbformat": 4,
 "nbformat_minor": 5
}
