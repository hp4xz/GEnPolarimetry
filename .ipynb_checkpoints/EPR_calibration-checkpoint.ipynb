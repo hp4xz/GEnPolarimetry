{
 "cells": [
  {
   "cell_type": "code",
   "execution_count": 2,
   "id": "719f355e",
   "metadata": {},
   "outputs": [],
   "source": [
    "from functions import MakeTime, MakeData, Fit, Spinup\n",
    "\n",
    "import matplotlib.pyplot as plt\n",
    "import numpy as np\n",
    "from scipy.optimize import curve_fit\n",
    "\n",
    "\n",
    "\n",
    "#t=MakeTime(data)[0]\n",
    "#pc=MakeData(data)[0]\n",
    "#tc=MakeData(data)[1]"
   ]
  },
  {
   "cell_type": "code",
   "execution_count": 4,
   "id": "d5acabf7",
   "metadata": {},
   "outputs": [],
   "source": [
    "data=np.loadtxt('Analysis/EPRData/01250837.dat')\n",
    "\n",
    "data=np.transpose(data)"
   ]
  },
  {
   "cell_type": "code",
   "execution_count": 5,
   "id": "bbd5f794",
   "metadata": {},
   "outputs": [
    {
     "data": {
      "text/plain": [
       "3"
      ]
     },
     "execution_count": 5,
     "metadata": {},
     "output_type": "execute_result"
    }
   ],
   "source": [
    "len(data)"
   ]
  },
  {
   "cell_type": "code",
   "execution_count": 6,
   "id": "2c440efb",
   "metadata": {},
   "outputs": [
    {
     "data": {
      "text/plain": [
       "[<matplotlib.lines.Line2D at 0x7fb2708cc7c0>]"
      ]
     },
     "execution_count": 6,
     "metadata": {},
     "output_type": "execute_result"
    },
    {
     "data": {
      "image/png": "[encoded data removed]",
      "text/plain": [
       "<Figure size 640x480 with 1 Axes>"
      ]
     },
     "metadata": {},
     "output_type": "display_data"
    }
   ],
   "source": [
    "xaxis=np.arange(0,len(data[2]))\n",
    "\n",
    "plt.plot(xaxis,data[1],'.')"
   ]
  },
  {
   "cell_type": "code",
   "execution_count": 7,
   "id": "1476a517",
   "metadata": {},
   "outputs": [],
   "source": [
    "from statistics import mean\n",
    "\n",
    "def ordered_cluster(data, max_diff):\n",
    "    current_group = ()\n",
    "    for item in data:\n",
    "        test_group = current_group + (item, )\n",
    "        test_group_mean = mean(test_group)\n",
    "        if all((abs(test_group_mean - test_item) < max_diff for test_item in test_group)):\n",
    "            current_group = test_group\n",
    "        else:\n",
    "            yield current_group\n",
    "            current_group = (item, )\n",
    "    if current_group:\n",
    "        yield current_group\n",
    "\n",
    "#data = [4.1, 4.05, 4.14, 4.01, 3.97, 4.52, 4.97, 5.02, 5.05, 5.2, 5.18, 3.66, 3.77, 3.59, 3.72]\n",
    "\n",
    "y=list(ordered_cluster(data[1], 10))"
   ]
  },
  {
   "cell_type": "code",
   "execution_count": 8,
   "id": "247d93a4",
   "metadata": {},
   "outputs": [
    {
     "data": {
      "text/plain": [
       "16"
      ]
     },
     "execution_count": 8,
     "metadata": {},
     "output_type": "execute_result"
    }
   ],
   "source": [
    "len(y)"
   ]
  },
  {
   "cell_type": "code",
   "execution_count": 11,
   "id": "bbb06231",
   "metadata": {},
   "outputs": [],
   "source": [
    "x=np.empty(0)\n",
    "minimum=30\n",
    "for i in range(0,len(y)):\n",
    "    add=np.arange(0,len(y[i]),1)\n",
    "    if len(add)> minimum:\n",
    "        x=np.append(x,np.mean(y[i]))\n",
    "     "
   ]
  },
  {
   "cell_type": "code",
   "execution_count": 12,
   "id": "75dfbdfd",
   "metadata": {},
   "outputs": [
    {
     "data": {
      "text/plain": [
       "array([19179.18167616, 19115.48182876, 19177.92595332, 19116.10243509,\n",
       "       19176.78137342])"
      ]
     },
     "execution_count": 12,
     "metadata": {},
     "output_type": "execute_result"
    }
   ],
   "source": [
    "x"
   ]
  },
  {
   "cell_type": "code",
   "execution_count": 120,
   "id": "f6a38934",
   "metadata": {},
   "outputs": [
    {
     "name": "stdout",
     "output_type": "stream",
     "text": [
      "Front-End Shift:  16.07387006058343 \n",
      "\n"
     ]
    }
   ],
   "source": [
    "print('Front-End Shift: ',x[0]-x[1], '\\n')"
   ]
  },
  {
   "cell_type": "code",
   "execution_count": 121,
   "id": "6d5bdf3a",
   "metadata": {},
   "outputs": [
    {
     "data": {
      "text/plain": [
       "array([19269.922363, 19302.05587 , 19286.693718, 19295.288339,\n",
       "       19290.231458, 19293.212951, 19291.585838, 19292.497612,\n",
       "       19292.093572, 19292.28891 , 19292.22028 , 19292.210957,\n",
       "       19292.200387, 19292.109378, 19292.09365 , 19292.01294 ,\n",
       "       19292.145593, 19292.095453, 19292.199634, 19292.316475,\n",
       "       19292.383651, 19292.404953, 19292.482352, 19292.449901,\n",
       "       19292.564193, 19292.511903, 19292.493727, 19292.4833  ,\n",
       "       19292.525813, 19292.548413, 19292.540007, 19292.537345,\n",
       "       19292.46616 , 19292.495924, 19292.498657, 19292.544126,\n",
       "       19292.60159 , 19292.596349, 19292.615862, 19292.605796,\n",
       "       19292.639217, 19292.505228, 19292.64857 , 19292.653632,\n",
       "       19292.669899, 19292.728048, 19292.661134, 19292.724826,\n",
       "       19292.737104, 19292.772119, 19292.664894, 19292.761036,\n",
       "       19292.70358 , 19292.758202, 19292.713624, 19292.786051,\n",
       "       19292.803452, 19292.759302, 19292.828486, 19292.720963,\n",
       "       19292.760354, 19292.783752, 19292.84664 , 19292.874004,\n",
       "       19292.885964, 19292.822638, 19292.806943, 19292.85785 ,\n",
       "       19292.836779, 19292.852717, 19292.986628, 19292.723215,\n",
       "       19292.790904, 19292.807494, 19292.731078, 19292.740065,\n",
       "       19277.441284, 19275.834619, 19277.571914, 19275.895388,\n",
       "       19277.282121, 19276.218296, 19276.564446, 19276.772233,\n",
       "       19276.630111, 19276.648592, 19276.555316, 19276.613353,\n",
       "       19276.516348, 19276.55269 , 19276.551615, 19276.545321,\n",
       "       19276.552058, 19276.473353, 19276.587246, 19276.580221,\n",
       "       19276.59237 , 19276.594679, 19276.577745, 19276.629285,\n",
       "       19276.496145, 19276.58949 , 19276.585375, 19276.537275,\n",
       "       19276.547328, 19276.506729, 19276.563399, 19276.535047,\n",
       "       19276.446624, 19276.475743, 19276.444177, 19276.470619,\n",
       "       19276.47965 , 19276.391617, 19276.440272, 19276.158082,\n",
       "       19276.717511, 19276.435415, 19276.528062, 19276.457018,\n",
       "       19276.434063, 19276.561382, 19290.788784, 19294.12591 ,\n",
       "       19291.164803, 19293.07607 , 19291.726264, 19292.882882,\n",
       "       19292.464033, 19292.277545, 19292.343562, 19292.375751,\n",
       "       19292.369108, 19292.20684 , 19292.327537, 19292.278054,\n",
       "       19292.214098, 19292.229654, 19292.163244, 19292.229601,\n",
       "       19292.202627, 19292.232249, 19292.157826, 19292.123623,\n",
       "       19292.11301 , 19292.084575, 19292.107058, 19292.068955,\n",
       "       19292.108157, 19292.061998, 19292.058188, 19292.134532,\n",
       "       19292.095848, 19292.140235, 19292.117535, 19292.094912,\n",
       "       19292.014125, 19292.062183, 19292.105264, 19292.025362,\n",
       "       19292.025837, 19291.952736, 19291.994254, 19291.920364,\n",
       "       19292.03901 , 19291.983582, 19291.951732, 19292.028437,\n",
       "       19291.951288, 19291.917229, 19291.937909, 19291.853933,\n",
       "       19292.039825, 19291.979546, 19291.991574, 19291.998302,\n",
       "       19291.995979, 19291.982153, 19292.127701, 19292.022332,\n",
       "       19292.149584, 19292.084144, 19292.061311, 19292.067125,\n",
       "       19292.116811, 19292.10664 , 19292.094219, 19292.140401,\n",
       "       19292.088475, 19292.093662, 19292.043617, 19292.047117,\n",
       "       19292.107093, 19292.064682, 19292.066881, 19292.085074,\n",
       "       19292.056087, 19292.029808, 19292.013175, 19292.060041,\n",
       "       19292.02    , 19292.029857, 19292.014217, 19291.868201,\n",
       "       19291.945636])"
      ]
     },
     "execution_count": 121,
     "metadata": {},
     "output_type": "execute_result"
    }
   ],
   "source": [
    "data[1]"
   ]
  },
  {
   "cell_type": "code",
   "execution_count": 122,
   "id": "5d436b22",
   "metadata": {},
   "outputs": [],
   "source": [
    "#find frequency shift higher than 50\n",
    "#record past 10 indices\n",
    "#jump ahead 10 indices\n",
    "#find next frequency shift higher than 50"
   ]
  },
  {
   "cell_type": "markdown",
   "id": "eeaf32b5",
   "metadata": {},
   "source": [
    "# EPR Shift Calculator"
   ]
  },
  {
   "cell_type": "code",
   "execution_count": 123,
   "id": "cc13b892",
   "metadata": {},
   "outputs": [],
   "source": [
    "b=np.empty(0)\n",
    "x=0\n",
    "dumb=0\n",
    "for i in range(0,len(data[2])):\n",
    "\n",
    "    if abs(data[2][i])>50:\n",
    "        for j in range(0,9):\n",
    "            x+=data[1][i-j]\n",
    "        x=x/10\n",
    "        b=np.append(b,x)\n",
    "      "
   ]
  },
  {
   "cell_type": "code",
   "execution_count": 124,
   "id": "410c099e",
   "metadata": {},
   "outputs": [
    {
     "data": {
      "text/plain": [
       "array([17361.592936  , 19097.2202839 , 19271.10584849, 19288.31555075,\n",
       "       19290.15483037, 19290.29592044, 19290.37297054, 19291.02831345,\n",
       "       19289.39363175, 19287.70208327, 19285.82380443, 19278.83443934,\n",
       "       19279.90406663, 19281.51170146])"
      ]
     },
     "execution_count": 124,
     "metadata": {},
     "output_type": "execute_result"
    }
   ],
   "source": [
    "b"
   ]
  },
  {
   "cell_type": "markdown",
   "id": "9c11084f",
   "metadata": {},
   "source": [
    "# EPR Logic in Labview"
   ]
  },
  {
   "cell_type": "code",
   "execution_count": 125,
   "id": "50573249",
   "metadata": {
    "scrolled": true
   },
   "outputs": [
    {
     "name": "stdout",
     "output_type": "stream",
     "text": [
      "0\n",
      "1\n",
      "2\n",
      "3\n",
      "4\n",
      "76\n",
      " Front Shift:  15.99 \n",
      " Tail Shift:  15.55 \n",
      "\n"
     ]
    }
   ],
   "source": [
    "#find frequency fluctuation higher than 300\n",
    "#take frequency values from that index to previous fluctuation higher than 300\n",
    "\n",
    "#if resulting array is at least 20 values, average them\n",
    "\n",
    "freq=data[1]\n",
    "fluck=data[2]\n",
    "indices=np.empty(0)\n",
    "previous=0\n",
    "avgFreq=np.empty\n",
    "for i in range(0,len(fluck)):\n",
    "    if abs(fluck[i])>300:\n",
    "        section=np.empty(0)\n",
    "        indices=np.append(indices,i)\n",
    "        section=data[1][previous:i]\n",
    "        print(previous)\n",
    "        #print(section)\n",
    "        if(len(section)>20):\n",
    "            avgFreq=np.append(avgFreq,np.mean(section))\n",
    "            #print(previous)\n",
    "        previous=i\n",
    "        \n",
    "tail=np.mean(data[1][previous:len(data[1])])\n",
    "avgFreq=np.append(avgFreq,tail)\n",
    "frontShift=avgFreq[1]-avgFreq[2]\n",
    "tailShift=avgFreq[-1]-avgFreq[-2]\n",
    "print(' Front Shift: ',np.round(frontShift,2),'\\n', 'Tail Shift: ',np.round(tailShift,2),'\\n')"
   ]
  },
  {
   "cell_type": "code",
   "execution_count": 126,
   "id": "9407d310",
   "metadata": {},
   "outputs": [
    {
     "data": {
      "text/plain": [
       "<function numpy.empty>"
      ]
     },
     "execution_count": 126,
     "metadata": {},
     "output_type": "execute_result"
    }
   ],
   "source": [
    "avgFreq[0]"
   ]
  },
  {
   "cell_type": "code",
   "execution_count": 127,
   "id": "3571aa3f",
   "metadata": {},
   "outputs": [
    {
     "data": {
      "text/plain": [
       "19292.544604194445"
      ]
     },
     "execution_count": 127,
     "metadata": {},
     "output_type": "execute_result"
    }
   ],
   "source": [
    "avgFreq[1]"
   ]
  },
  {
   "cell_type": "code",
   "execution_count": 128,
   "id": "d28e5142",
   "metadata": {},
   "outputs": [
    {
     "data": {
      "text/plain": [
       "19276.55612232609"
      ]
     },
     "execution_count": 128,
     "metadata": {},
     "output_type": "execute_result"
    }
   ],
   "source": [
    "avgFreq[2]"
   ]
  },
  {
   "cell_type": "code",
   "execution_count": 129,
   "id": "5f078235",
   "metadata": {},
   "outputs": [
    {
     "data": {
      "text/plain": [
       "19292.10240461446"
      ]
     },
     "execution_count": 129,
     "metadata": {},
     "output_type": "execute_result"
    }
   ],
   "source": [
    "avgFreq[3]"
   ]
  },
  {
   "cell_type": "code",
   "execution_count": null,
   "id": "9363706c",
   "metadata": {},
   "outputs": [],
   "source": []
  }
 ],
 "metadata": {
  "kernelspec": {
   "display_name": "Python 3 (ipykernel)",
   "language": "python",
   "name": "python3"
  },
  "language_info": {
   "codemirror_mode": {
    "name": "ipython",
    "version": 3
   },
   "file_extension": ".py",
   "mimetype": "text/x-python",
   "name": "python",
   "nbconvert_exporter": "python",
   "pygments_lexer": "ipython3",
   "version": "3.8.10"
  }
 },
 "nbformat": 4,
 "nbformat_minor": 5
}
