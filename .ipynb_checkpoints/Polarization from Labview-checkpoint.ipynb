{
 "cells": [
  {
   "cell_type": "code",
   "execution_count": 3,
   "id": "26a99cf1",
   "metadata": {},
   "outputs": [],
   "source": [
    "import numpy as np\n",
    "import matplotlib.pyplot as plt\n",
    "from scipy.optimize import curve_fit"
   ]
  },
  {
   "cell_type": "code",
   "execution_count": 4,
   "id": "cbcdc88d",
   "metadata": {},
   "outputs": [],
   "source": [
    "\n",
    "\n",
    "def threeParamSpinUp(t, P_0, P_inf, g_sc):\n",
    "    return ((P_0 - P_inf)*np.exp(-1.0*g_sc*t) + P_inf)\n",
    "\n",
    "def Fit(test,time):\n",
    "    timeFit=np.linspace(time[0],time[len(time)-1],len(time)*200)\n",
    "    init_vals = [test[0], test[ len(test)-1 ], 3.0] # [P_0, P_inf, g_sc]\n",
    "    best_vals, covar = curve_fit(threeParamSpinUp, time, test, p0=init_vals)\n",
    "    yFit = threeParamSpinUp(time, best_vals[0], best_vals[1], best_vals[2])\n",
    "    yFitLine = threeParamSpinUp(timeFit, best_vals[0], best_vals[1], best_vals[2])\n",
    "    P_0 = str(np.round(best_vals[0], 3)) + \" +/- \" + str(np.round(np.sqrt(abs(covar[0][0])), 3)) \n",
    "    P_inf = str(np.round(best_vals[1], 3)) + \" +/- \" + str(np.round(np.sqrt(abs(covar[1][1])), 3)) \n",
    "    T_sc = str(np.round(1.0/best_vals[2], 3)) + \" +/- \" + str(np.round(np.sqrt(abs(covar[2][2]))/( best_vals[2]*best_vals[2],3)) ) \n",
    "    print(\"P_0 = \", P_0, '\\n', \"P_inf = \", P_inf, '\\n',\"T_sc = \", T_sc)\n",
    "    return P_0,P_inf,T_sc,yFitLine,timeFit,time,test\n",
    "\n",
    "def MakeTime(data):\n",
    "    zeroYear=int(str(data[0][0])[:2])\n",
    "    zeroMonth=int(str(data[0][0])[2:4])\n",
    "    zeroDay=int(str(data[0][0])[4:6])\n",
    "    zeroHour=int(str(data[0][0])[6:8])\n",
    "    zeroMinute=int(str(data[0][0])[8:10])\n",
    "    relArray=np.empty(0)\n",
    "    for i in range(0,len(data)):\n",
    "        #print(i)\n",
    "        year=int(str(data[i][0])[:2])\n",
    "        month=int(str(data[i][0])[2:4])\n",
    "        day=int(str(data[i][0])[4:6])\n",
    "        hour=int(str(data[i][0])[6:8])\n",
    "        minute=int(str(data[i][0])[8:10])\n",
    "        relArray= np.append([relArray],(year-zeroYear)*24*365.2422+(month-zeroMonth)+(day-zeroDay)*24+hour-zeroHour+(minute-zeroMinute)/60)\n",
    "    return (relArray,int(str(data[0][0])[:10]))   \n",
    "\n",
    "def MakeData(data):\n",
    "    pcup=np.empty(0)\n",
    "    pcdown=np.empty(0)\n",
    "    tcup=np.empty(0)\n",
    "    tcdown=np.empty(0)\n",
    "    for i in range(0,len(data)):\n",
    "        pcup=np.append([pcup],data[i][1])\n",
    "        pcdown=np.append([pcdown],data[i][2])\n",
    "        tcup=np.append([tcup],data[i][3])\n",
    "        tcdown=np.append([tcdown],data[i][4])\n",
    "    TC=(tcup+tcdown)/2\n",
    "    PC=(pcup+pcdown)/2\n",
    "    return(PC,TC,pcup,pcdown,tcup,tcdown)"
   ]
  },
  {
   "cell_type": "code",
   "execution_count": null,
   "id": "b0b76a18",
   "metadata": {},
   "outputs": [],
   "source": []
  }
 ],
 "metadata": {
  "kernelspec": {
   "display_name": "Python 3 (ipykernel)",
   "language": "python",
   "name": "python3"
  },
  "language_info": {
   "codemirror_mode": {
    "name": "ipython",
    "version": 3
   },
   "file_extension": ".py",
   "mimetype": "text/x-python",
   "name": "python",
   "nbconvert_exporter": "python",
   "pygments_lexer": "ipython3",
   "version": "3.8.10"
  }
 },
 "nbformat": 4,
 "nbformat_minor": 5
}
