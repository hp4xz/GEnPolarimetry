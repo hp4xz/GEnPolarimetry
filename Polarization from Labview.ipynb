{
 "cells": [
  {
   "cell_type": "code",
   "execution_count": 1,
   "id": "26a99cf1",
   "metadata": {},
   "outputs": [],
   "source": [
    "import numpy as np\n",
    "import matplotlib.pyplot as plt\n",
    "from scipy.optimize import curve_fit"
   ]
  },
  {
   "cell_type": "code",
   "execution_count": 2,
   "id": "2ef24365",
   "metadata": {},
   "outputs": [],
   "source": [
    "data=np.loadtxt('data.txt')"
   ]
  },
  {
   "cell_type": "code",
   "execution_count": 28,
   "id": "464be27c",
   "metadata": {},
   "outputs": [
    {
     "data": {
      "text/plain": [
       "array([2.21024164e+09, 5.54706100e+00, 5.25627600e+00, 2.43049560e+01,\n",
       "       2.44011310e+01])"
      ]
     },
     "execution_count": 28,
     "metadata": {},
     "output_type": "execute_result"
    }
   ],
   "source": [
    "data[0]"
   ]
  },
  {
   "cell_type": "code",
   "execution_count": 37,
   "id": "cbcdc88d",
   "metadata": {},
   "outputs": [],
   "source": [
    "\n",
    "\n",
    "def threeParamSpinUp(t, P_0, P_inf, g_sc):\n",
    "    return ((P_0 - P_inf)*np.exp(-1.0*g_sc*t) + P_inf)\n",
    "\n",
    "def Fit(test,time):\n",
    "    timeFit=np.linspace(time[0],time[len(time)-1],len(time)*200)\n",
    "    init_vals = [test[0], test[ len(test)-1 ], 3.0] # [P_0, P_inf, g_sc]\n",
    "    best_vals, covar = curve_fit(threeParamSpinUp, time, test, p0=init_vals)\n",
    "    yFit = threeParamSpinUp(time, best_vals[0], best_vals[1], best_vals[2])\n",
    "    yFitLine = threeParamSpinUp(timeFit, best_vals[0], best_vals[1], best_vals[2])\n",
    "    P_0 = str(np.round(best_vals[0], 3)) + \" +/- \" + str(np.round(np.sqrt(abs(covar[0][0])), 3)) \n",
    "    P_inf = str(np.round(best_vals[1], 3)) + \" +/- \" + str(np.round(np.sqrt(abs(covar[1][1])), 3)) \n",
    "    T_sc = str(np.round(1.0/best_vals[2], 3)) + \" +/- \" + str(np.round(np.sqrt(abs(covar[2][2]))/( best_vals[2]*best_vals[2],3)) ) \n",
    "    print(\"P_0 = \", P_0, '\\n', \"P_inf = \", P_inf, '\\n',\"T_sc = \", T_sc)\n",
    "    return P_0,P_inf,T_sc,yFitLine,timeFit,time,test\n",
    "\n",
    "def MakeTime(data):\n",
    "    #print(data)\n",
    "    zeroYear=int(str(data[0][0])[:2])\n",
    "    zeroMonth=int(str(data[0][0])[2:4])\n",
    "    zeroDay=int(str(data[0][0])[4:6])\n",
    "    zeroHour=int(str(data[0][0])[6:8])\n",
    "    zeroMinute=int(str(data[0][0])[8:10])\n",
    "    relArray=np.empty(0)\n",
    "    for i in range(0,len(data)):\n",
    "        #print(i)\n",
    "        year=int(str(data[i][0])[:2])\n",
    "        month=int(str(data[i][0])[2:4])\n",
    "        day=int(str(data[i][0])[4:6])\n",
    "        hour=int(str(data[i][0])[6:8])\n",
    "        minute=int(str(data[i][0])[8:10])\n",
    "        if (month-zeroMonth)%2 == 0:\n",
    "            relArray= np.append([relArray],(year-zeroYear)*24*365.2422+(month-zeroMonth)*30.5*24+(day-zeroDay)*24+hour-zeroHour+(minute-zeroMinute)/60)\n",
    "        elif (month-zeroMonth)%2 != 0:\n",
    "            relArray= np.append([relArray],(year-zeroYear)*24*365.2422+((month-zeroMonth)*30.5+.5)*24+(day-zeroDay)*24+hour-zeroHour+(minute-zeroMinute)/60)\n",
    "\n",
    "    return (relArray,int(str(data[0][0])[:10]))   \n",
    "\n",
    "def MakeData(data):\n",
    "    pcup=np.empty(0)\n",
    "    pcdown=np.empty(0)\n",
    "    tcup=np.empty(0)\n",
    "    tcdown=np.empty(0)\n",
    "    for i in range(0,len(data)):\n",
    "        pcup=np.append([pcup],data[i][1])\n",
    "        pcdown=np.append([pcdown],data[i][2])\n",
    "        tcup=np.append([tcup],data[i][3])\n",
    "        tcdown=np.append([tcdown],data[i][4])\n",
    "    TC=(tcup+tcdown)/2\n",
    "    PC=(pcup+pcdown)/2\n",
    "    return(PC,TC,pcup,pcdown,tcup,tcdown)"
   ]
  },
  {
   "cell_type": "code",
   "execution_count": 38,
   "id": "b0b76a18",
   "metadata": {},
   "outputs": [],
   "source": [
    "t=MakeTime(data)\n",
    "pc=MakeData(data)[0]\n",
    "tc=MakeData(data)[1]"
   ]
  },
  {
   "cell_type": "code",
   "execution_count": 39,
   "id": "af3f1d36",
   "metadata": {},
   "outputs": [
    {
     "data": {
      "text/plain": [
       "(array([  0.        ,   3.03333333,   5.98333333,   8.66666667,\n",
       "         11.58333333,  14.88333333,  18.41666667,  24.56666667,\n",
       "         27.25      ,  29.41666667,  31.66666667,  33.56666667,\n",
       "         36.16666667,  38.53333333,  41.41666667,  44.78333333,\n",
       "         47.5       ,  51.08333333,  54.9       ,  60.23333333,\n",
       "         64.21666667,  69.11666667,  71.38333333,  74.68333333,\n",
       "         78.48333333,  82.46666667,  85.48333333,  90.03333333,\n",
       "         93.35      ,  97.6       , 101.33333333, 101.45      ,\n",
       "        101.76666667, 101.85      , 103.38333333, 103.45      ,\n",
       "        111.3       , 114.36666667, 117.        , 118.51666667,\n",
       "        121.2       , 125.05      , 128.8       , 132.85      ,\n",
       "        136.7       , 140.83333333, 144.58333333, 147.05      ,\n",
       "        150.33333333, 154.03333333, 157.5       , 164.83333333,\n",
       "        164.88333333, 166.85      , 166.9       , 167.06666667,\n",
       "        167.06666667, 167.1       , 167.11666667, 167.13333333,\n",
       "        167.15      , 167.15      , 167.16666667, 167.18333333,\n",
       "        167.2       , 173.98333333, 175.56666667, 175.56666667,\n",
       "        175.56666667, 176.15      , 176.15      , 176.15      ,\n",
       "        176.35      , 176.35      , 176.35      , 176.53333333,\n",
       "        176.53333333, 176.63333333, 176.73333333, 181.93333333,\n",
       "        181.93333333, 181.95      , 181.96666667, 182.08333333,\n",
       "        182.08333333, 182.23333333, 182.23333333, 182.23333333,\n",
       "        182.23333333, 182.23333333, 182.23333333, 182.23333333,\n",
       "        182.23333333, 182.23333333, 182.23333333, 182.63333333,\n",
       "        182.63333333, 182.63333333, 182.63333333, 182.63333333,\n",
       "        182.63333333, 182.78333333, 182.78333333, 182.78333333,\n",
       "        182.78333333, 182.78333333, 182.78333333, 182.78333333,\n",
       "        182.78333333, 182.78333333, 182.78333333, 182.78333333,\n",
       "        182.78333333, 182.78333333, 182.78333333, 182.78333333,\n",
       "        182.78333333, 182.78333333, 182.78333333, 182.78333333,\n",
       "        182.78333333, 182.78333333, 182.78333333, 182.78333333,\n",
       "        183.16666667, 183.35      , 183.35      , 183.35      ,\n",
       "        183.35      , 183.35      , 183.35      , 183.35      ,\n",
       "        183.35      , 183.35      , 183.35      , 183.35      ,\n",
       "        183.35      , 183.35      , 183.35      , 183.35      ,\n",
       "        183.35      , 183.35      , 183.35      , 183.35      ,\n",
       "        183.35      , 183.35      , 183.35      ]),\n",
       " 2210241641)"
      ]
     },
     "execution_count": 39,
     "metadata": {},
     "output_type": "execute_result"
    }
   ],
   "source": [
    "t"
   ]
  },
  {
   "cell_type": "code",
   "execution_count": 44,
   "id": "8fadb53c",
   "metadata": {},
   "outputs": [
    {
     "data": {
      "text/plain": [
       "(-1.0, 50.0)"
      ]
     },
     "execution_count": 44,
     "metadata": {},
     "output_type": "execute_result"
    },
    {
     "data": {
      "image/png": "[encoded data removed]",
      "text/plain": [
       "<Figure size 640x480 with 1 Axes>"
      ]
     },
     "metadata": {},
     "output_type": "display_data"
    }
   ],
   "source": [
    "plt.plot(t[0][-30:],tc[-30:], '.')\n",
    "plt.title(str(t[1]))\n",
    "plt.ylim(-1,50)\n",
    "#Fit(pc[-4:],t[0][-4:])"
   ]
  },
  {
   "cell_type": "code",
   "execution_count": null,
   "id": "25b6158d",
   "metadata": {},
   "outputs": [],
   "source": []
  }
 ],
 "metadata": {
  "kernelspec": {
   "display_name": "Python 3 (ipykernel)",
   "language": "python",
   "name": "python3"
  },
  "language_info": {
   "codemirror_mode": {
    "name": "ipython",
    "version": 3
   },
   "file_extension": ".py",
   "mimetype": "text/x-python",
   "name": "python",
   "nbconvert_exporter": "python",
   "pygments_lexer": "ipython3",
   "version": "3.8.10"
  }
 },
 "nbformat": 4,
 "nbformat_minor": 5
}
